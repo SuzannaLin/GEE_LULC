{
 "cells": [
  {
   "cell_type": "markdown",
   "id": "2c66cd25",
   "metadata": {},
   "source": [
    "# Data Collection"
   ]
  },
  {
   "cell_type": "markdown",
   "id": "a0f01968",
   "metadata": {},
   "source": [
    "## import libraries"
   ]
  },
  {
   "cell_type": "code",
   "execution_count": 11,
   "id": "a6a09938",
   "metadata": {},
   "outputs": [
    {
     "name": "stdout",
     "output_type": "stream",
     "text": [
      "/home/scuypers/GEE\r\n"
     ]
    }
   ],
   "source": [
    "!pwd"
   ]
  },
  {
   "cell_type": "code",
   "execution_count": 69,
   "id": "9b2c5fda",
   "metadata": {},
   "outputs": [],
   "source": [
    "import os\n",
    "import ee\n",
    "import geemap\n",
    "import math"
   ]
  },
  {
   "cell_type": "code",
   "execution_count": 18,
   "id": "b4a0fcec",
   "metadata": {},
   "outputs": [
    {
     "data": {
      "text/html": [
       "<p>To authorize access needed by Earth Engine, open the following\n",
       "        URL in a web browser and follow the instructions:</p>\n",
       "        <p><a href=https://code.earthengine.google.com/client-auth?scopes=https%3A//www.googleapis.com/auth/earthengine%20https%3A//www.googleapis.com/auth/devstorage.full_control&request_id=_SJEZlYbswNB6QV6yl0i5j2UCFQa-E5CLdvyDimgbFY&tc=YxmoTvK1ldKil0BTnvKizVV_mo4VOp_dLeJ7e-k8464&cc=lX_XHceWtl5HojpC5TuftLlBzvT9Euy0vLKgfUdAics>https://code.earthengine.google.com/client-auth?scopes=https%3A//www.googleapis.com/auth/earthengine%20https%3A//www.googleapis.com/auth/devstorage.full_control&request_id=_SJEZlYbswNB6QV6yl0i5j2UCFQa-E5CLdvyDimgbFY&tc=YxmoTvK1ldKil0BTnvKizVV_mo4VOp_dLeJ7e-k8464&cc=lX_XHceWtl5HojpC5TuftLlBzvT9Euy0vLKgfUdAics</a></p>\n",
       "        <p>The authorization workflow will generate a code, which you\n",
       "        should paste in the box below</p>\n",
       "        "
      ],
      "text/plain": [
       "<IPython.core.display.HTML object>"
      ]
     },
     "metadata": {},
     "output_type": "display_data"
    },
    {
     "name": "stdout",
     "output_type": "stream",
     "text": [
      "Enter verification code: 4/1AdQt8qglDOZt9OBX-1KrY-4SnRJGnptZnHi2f2yiVHebo_gLKxTCruQLjk4\n",
      "\n",
      "Successfully saved authorization token.\n"
     ]
    }
   ],
   "source": [
    "# run this if the token has been expired\n",
    "# ee.Authenticate()"
   ]
  },
  {
   "cell_type": "code",
   "execution_count": 19,
   "id": "ce72f1c4",
   "metadata": {},
   "outputs": [],
   "source": [
    "# ee.Initialize()"
   ]
  },
  {
   "cell_type": "code",
   "execution_count": null,
   "id": "21024aa6",
   "metadata": {},
   "outputs": [],
   "source": [
    "# to check own Assets\n",
    "# geemap.ee_search()\n",
    "# conversion of entire script"
   ]
  },
  {
   "cell_type": "markdown",
   "id": "b8cab61f",
   "metadata": {},
   "source": [
    "Ctrl + Shift + - to split cell"
   ]
  },
  {
   "cell_type": "code",
   "execution_count": null,
   "id": "45c3d6cf",
   "metadata": {},
   "outputs": [],
   "source": [
    "# geemap.show_youtube('RpIaalFk4H8')"
   ]
  },
  {
   "cell_type": "markdown",
   "id": "4c363c12",
   "metadata": {},
   "source": [
    "## Build the map"
   ]
  },
  {
   "cell_type": "code",
   "execution_count": 146,
   "id": "4764df69",
   "metadata": {},
   "outputs": [
    {
     "data": {
      "application/vnd.jupyter.widget-view+json": {
       "model_id": "05dc6d58fe88473481ec83aec6bba162",
       "version_major": 2,
       "version_minor": 0
      },
      "text/plain": [
       "Map(center=[20, 0], controls=(WidgetControl(options=['position', 'transparent_bg'], widget=HBox(children=(Togg…"
      ]
     },
     "metadata": {},
     "output_type": "display_data"
    },
    {
     "data": {
      "application/javascript": [
       "\n",
       "        var code = IPython.notebook.insert_cell_below('code');\n",
       "        code.set_text(atob(\"aW1wb3J0IGdlZW1hcAoKTWFwID0gZ2VlbWFwLk1hcCgpCgojU2VsZWN0aW5nIGRlc2lyZWQgYmFuZHMKYmFuZHM9IGRhdGFzZXQuYmFuZE5hbWVzKCkKIyBHZXQgdGhlIHByZWRpY3RvcnMgaW50byB0aGUgdGFibGUgYW5kIGNyZWF0ZSBhIHRyYWluaW5nIGRhdGFzZXQgYmFzZWQgb24gImIxIiBwcm9wZXJ0eQp0cmFpbmluZyA9IGRhdGFzZXQuc2VsZWN0KGJhbmRzKS5zYW1wbGVSZWdpb25zKHsKICAnY29sbGVjdGlvbic6IG5ld2ZjLAogICdwcm9wZXJ0aWVzJzogWydiMSddLAogICdzY2FsZSc6IHNjYWxlCn0pCiNUcmFpbmluZyBhIFJhbmRvbSBGb3Jlc3QgQ2xhc3NpZmllcgppZihjbGFzc2lmaWVyX2FsZz09IlJGIil7CiAgY2xhc3NpZmllciA9ICBlZS5DbGFzc2lmaWVyLnNtaWxlUmFuZG9tRm9yZXN0KDMwKS50cmFpbih7CiAgICAnZmVhdHVyZXMnOiB0cmFpbmluZywKICAgICdjbGFzc1Byb3BlcnR5JzogJ2IxJywKICAgICdpbnB1dFByb3BlcnRpZXMnOiBiYW5kcwogIH0pCgp9CmVsc2UgaWYgKGNsYXNzaWZpZXJfYWxnPT0iU1ZNIikgewpjbGFzc2lmaSA9IGVlLkNsYXNzaWZpZXIubGlic3ZtKHsKICAna2VybmVsVHlwZSc6ICdSQkYnLAogICdnYW1tYSc6IDE1LAogICdjb3N0JzogMjAKfSkKY2xhc3NpZmllciA9IGNsYXNzaWZpLnRyYWluKHRyYWluaW5nLCAnYjEnLCBiYW5kcykKCn0KZWxzZXsKICBwcmludCgiWW91IG5lZWQgdG8gc2V0IHlvdXIgY2xhc3NpZmllciBmb3IgdGhlIFBpeGVsIEJhc2VkIGFwcHJvYWNoIikKfQoKI0NsaXAgYW5kIGZpbHRlciB0aGUgcmVzdWx0IG9mIHBpeGVsJyBjbGFzc2lmaWNhdGlvbgpjbGFzc2lmaWVkID0gZGF0YXNldC5zZWxlY3QoYmFuZHMpLmNsYXNzaWZ5KGNsYXNzaWZpZXIpLmNsaXAocm9pKS5mb2NhbF9tb2RlKCkKI1Zpc3VhbGl6ZSB0aGUgcmVzdWx0Ck1hcC5hZGRMYXllcihjbGFzc2lmaWVkLCB7J21pbic6IDAsICdtYXgnOiAxMSwgJ3BhbGV0dGUnOiBwYWxldHRlfSwgJ0xVTEMgUElYRUwgQVBQUk9BQ0gnLCBGYWxzZSkKCiNDcmVhdGUgdGhlIGNvbmZ1c2lvbiBtYXRyaXggYW5kIGNhbGN1bGF0ZSB0aGUgb3ZlcmFsbCBhY2N1cmFjeSBvbiB0aGUgdHJhaW5pbmcgZGF0YQojcHJpbnQoJ1JGIGVycm9yIG1hdHJpeF90cmFpbmluZzogJywgY2xhc3NpZmllci5jb25mdXNpb25NYXRyaXgoKSkKI3ByaW50KCdSRiBhY2N1cmFjeV90cmFpbmluZzogJywgY2xhc3NpZmllci5jb25mdXNpb25NYXRyaXgoKS5hY2N1cmFjeSgpKQoKI1ZhbGlkYXRpb24gb2YgdGhlIHBpeGVsLWJhc2VkIGFwcHJvYWNoCmNsYXNzaWZpZXJUZXN0ID0gZGF0YXNldC5zZWxlY3QoYmFuZHMpLnNhbXBsZVJlZ2lvbnMoewogICdjb2xsZWN0aW9uJzogdmFscG50cywKICAncHJvcGVydGllcyc6IFsnYjEnXSwKICAnc2NhbGUnOiBzY2FsZQp9KQpjbGFzc2lmaWVkX3Rlc3RfUkYgPSBjbGFzc2lmaWVyVGVzdC5jbGFzc2lmeShjbGFzc2lmaWVyKQp0ZXN0QWNjdXJhY3kgPSBjbGFzc2lmaWVkX3Rlc3RfUkYuZXJyb3JNYXRyaXgoJ2IxJywgJ2NsYXNzaWZpY2F0aW9uJykKI3ByaW50KCdQaXhlbCBhcHByb2FjaF9UZXN0IGNvbmZ1c2lvbiBtYXRyaXg6ICcsIHRlc3RBY2N1cmFjeSkKcHJpbnQoJ1BJWEVMIEFQUFJPQUNIIDogT3ZlcmFsbCBBY2N1cmFjeSAnLCB0ZXN0QWNjdXJhY3kuYWNjdXJhY3koKSkKcHJpbnQodGVzdEFjY3VyYWN5KQoKI1ByaW50IHRoZSBudW1iZXIgb2YgcGl4ZWxzIGZvciBlYWNoIGNsYXNzCmFuYWx5c2lzX2ltYWdlID0gY2xhc3NpZmllZC5zZWxlY3QoImNsYXNzaWZpY2F0aW9uIikKCmNsYXNzXzEgPSAgYW5hbHlzaXNfaW1hZ2UudXBkYXRlTWFzayhhbmFseXNpc19pbWFnZS5lcSgxKSkKY2xhc3NfMiA9ICBhbmFseXNpc19pbWFnZS51cGRhdGVNYXNrKGFuYWx5c2lzX2ltYWdlLmVxKDIpKQpjbGFzc18zID0gIGFuYWx5c2lzX2ltYWdlLnVwZGF0ZU1hc2soYW5hbHlzaXNfaW1hZ2UuZXEoMykpCmNsYXNzXzQgPSAgYW5hbHlzaXNfaW1hZ2UudXBkYXRlTWFzayhhbmFseXNpc19pbWFnZS5lcSg0KSkKY2xhc3NfNSA9ICBhbmFseXNpc19pbWFnZS51cGRhdGVNYXNrKGFuYWx5c2lzX2ltYWdlLmVxKDUpKQpjbGFzc182ID0gIGFuYWx5c2lzX2ltYWdlLnVwZGF0ZU1hc2soYW5hbHlzaXNfaW1hZ2UuZXEoNikpCmNsYXNzXzcgPSAgYW5hbHlzaXNfaW1hZ2UudXBkYXRlTWFzayhhbmFseXNpc19pbWFnZS5lcSg3KSkKY2xhc3NfMTAgPSAgYW5hbHlzaXNfaW1hZ2UudXBkYXRlTWFzayhhbmFseXNpc19pbWFnZS5lcSg4KSkKY2xhc3NfMTEgPSAgYW5hbHlzaXNfaW1hZ2UudXBkYXRlTWFzayhhbmFseXNpc19pbWFnZS5lcSg5KSkKY2xhc3NfMTIgPSAgYW5hbHlzaXNfaW1hZ2UudXBkYXRlTWFzayhhbmFseXNpc19pbWFnZS5lcSgxMCkpCmNsYXNzXzEzID0gIGFuYWx5c2lzX2ltYWdlLnVwZGF0ZU1hc2soYW5hbHlzaXNfaW1hZ2UuZXEoMTEpKQpjbGFzc18xNCA9ICBhbmFseXNpc19pbWFnZS51cGRhdGVNYXNrKGFuYWx5c2lzX2ltYWdlLmVxKDApKQoKYWxsID0gY2xhc3NfMS5hZGRCYW5kcyhjbGFzc18yKS5hZGRCYW5kcyhjbGFzc18zKS5hZGRCYW5kcyhjbGFzc180KSBcCiAgICAgICAgICAuYWRkQmFuZHMoY2xhc3NfNSkuYWRkQmFuZHMoY2xhc3NfNikuYWRkQmFuZHMoY2xhc3NfNykuYWRkQmFuZHMoY2xhc3NfMTApIFwKICAgICAgICAgIC5hZGRCYW5kcyhjbGFzc18xMSkuYWRkQmFuZHMoY2xhc3NfMTIpLmFkZEJhbmRzKGNsYXNzXzEzKS5hZGRCYW5kcyhjbGFzc18xNCkKCmNvdW50X3BpeGVsc19vbmUgPSBhbGwucmVkdWNlUmVnaW9uKHsKICAncmVkdWNlcic6IGVlLlJlZHVjZXIuY291bnQoKSwKICAnZ2VvbWV0cnknOiByb2ksCiAgJ3NjYWxlJzogc2NhbGUsCiAgJ21heFBpeGVscyc6IDFlMTEsCgogIH0pCnByaW50KGNvdW50X3BpeGVsc19vbmUsICJQSVhFTCBBUFBST0FDSDogcGl4ZWxzIGZvciBlYWNoIGNsYXNzIikKCiNDb21wdXRlIFJGIHZhcmlhYmxlIGltcG9ydGFuY2UKZGljdCA9IGNsYXNzaWZpZXIuZXhwbGFpbigpCnByaW50KCJjbGFzc2lmaWVyIGluZm9ybWF0aW9uOiIsIGRpY3QpCnZhcmlhYmxlSW1wb3J0YW5jZSA9IGVlLkZlYXR1cmUoTm9uZSwgZWUuRGljdGlvbmFyeShkaWN0KS5nZXQoJ2ltcG9ydGFuY2UnKSkKCmNoYXJ0ID0gdWkuQ2hhcnQuZmVhdHVyZS5ieVByb3BlcnR5KHZhcmlhYmxlSW1wb3J0YW5jZSkuc2V0Q2hhcnRUeXBlKCdDb2x1bW5DaGFydCcpLnNldE9wdGlvbnMoewogICd0aXRsZSc6ICdSYW5kb20gRm9yZXN0IFZhcmlhYmxlIEltcG9ydGFuY2UnLAogICdsZWdlbmQnOiAne3Bvc2l0aW9uJzogJ25vbmUnfSwKICAnaEF4aXMnOiAne3RpdGxlJzogJ0JhbmRzJ30sCiAgJ3ZBeGlzJzogJ3t0aXRsZSc6ICdJbXBvcnRhbmNlJ30KfSkKcHJpbnQoY2hhcnQpCgpleHBvcnRDTSA9IGVlLkZlYXR1cmUoTm9uZSwgeydDTSc6IHRlc3RBY2N1cmFjeS5hcnJheSgpfSkKCiMgRXhwb3J0IHRoZSBGZWF0dXJlQ29sbGVjdGlvbi4KRXhwb3J0LnRhYmxlLnRvRHJpdmUoewogICdjb2xsZWN0aW9uJzogZWUuRmVhdHVyZUNvbGxlY3Rpb24oZXhwb3J0Q00pLAogICdkZXNjcmlwdGlvbic6ICdleHBvcnRDTV9OYW50ZXNfUEJfJywKICAnZmlsZUZvcm1hdCc6ICdDU1YnCn0pCiMKRXhwb3J0LmltYWdlLnRvRHJpdmUoewogICdpbWFnZSc6IGNsYXNzaWZpZWQsCiAgJ2Rlc2NyaXB0aW9uJzogJ2V4cG9ydENsYXNzaWZpZWRfTmFudGVzX1BCXycsCiAgJ3JlZ2lvbic6IHRhYmxlMiwKICAnc2NhbGUnOiAwLjUsCiAgJ2Nycyc6IEVQU0cyMTU0Cn0pCiMKTWFw\"));\n",
       "    "
      ],
      "text/plain": [
       "<IPython.core.display.Javascript object>"
      ]
     },
     "metadata": {},
     "output_type": "display_data"
    }
   ],
   "source": [
    "Map = geemap.Map()#center=(43.708, 7.228), zoom=10)\n",
    "\n",
    "Nice = ee.ImageCollection(\"users/andreanascetti/IEEE/Nice_Labels\")\n",
    "Map.centerObject(Nice)\n",
    "\n",
    "palette = [\n",
    "  '000000',\n",
    "  'FF5733', #(0)  Urban fabric\n",
    "  'F98A04', #(1)  Industrial, commercial, public, military, private and transport units\n",
    "  'FBDB10', #(2)  Mine, dump and construction sites\n",
    "  'B7E603', #(3)  Artificial non-agricultural vegetated areas\n",
    "  'B6FF45', #(4)  Arable land (annual crops)\n",
    "  '5FB331', #(5)  Permanent crops\n",
    "  '3FAF17', #(6)  Pastures\n",
    "  'FCE5CD', #()complex and mixed...\n",
    "  'C6ECB6', #()orchards at the fringe\n",
    "  '237605', #(7)  Forests\n",
    "  '43B680', #(8)  Herbaceous vegetation associations\n",
    "  '9B621A', #(9)  Open spaces with little or no vegetation\n",
    "  '0691C3', #(10)  Wetlands\n",
    "  '085CB8', #(11)  Water\n",
    "  '000000',\n",
    "]\n",
    "\n",
    "Map.addLayer(Nice.mosaic(),{'min':0, 'max':15, 'palette':palette},\"Labels_Nice\")\n",
    "\n",
    "Map"
   ]
  },
  {
   "cell_type": "code",
   "execution_count": null,
   "id": "e6be0951",
   "metadata": {},
   "outputs": [],
   "source": [
    "# Add legend\n",
    "\n",
    "legend_dict = {\n",
    "  'no data':'000000',\n",
    "  'Urban fabric':'FF5733', #(0)  \n",
    "  'Industrial, commercial, public, military, private and transport units':'F98A04', #(1)  \n",
    "  'Mine, dump and construction sites':'FBDB10', #(2)  \n",
    "  'Artificial non-agricultural vegetated areas':'B7E603', #(3)  \n",
    "  'Arable land (annual crops)':'B6FF45', #(4)  \n",
    "  'Permanent crops':'5FB331', #(5)  \n",
    "  'Pastures':'3FAF17', #(6)  \n",
    "  #'complex and mixed...':'FCE5CD', #()\n",
    "  #'orchards at the fringe':'C6ECB6', #()\n",
    "  'Forests':'237605', #(7)  \n",
    "  'Herbaceous vegetation associations':'43B680', #(8)  \n",
    "  'Open spaces with little or no vegetation':'9B621A', #(9)  \n",
    "  'Wetlands':'0691C3', #(10)  \n",
    "  'Water':'085CB8', #(11)  \n",
    "  #'Clouds & Shadow':'000000',\n",
    "}\n",
    "\n",
    "Map.add_legend(legend_title=\"Land cover classes\", legend_dict=legend_dict)"
   ]
  },
  {
   "cell_type": "code",
   "execution_count": null,
   "id": "2da781ea",
   "metadata": {},
   "outputs": [],
   "source": [
    "# Area_Nice = Map.user_roi # json format"
   ]
  },
  {
   "cell_type": "code",
   "execution_count": 42,
   "id": "70a98734",
   "metadata": {},
   "outputs": [],
   "source": [
    "# Map.user_rois.getInfo()\n",
    "Area_Nice = ee.Geometry.Polygon(\n",
    "        [\n",
    "            [\n",
    "                [6.560201, 43.526958],\n",
    "                [6.560201, 44.371294],\n",
    "                [7.51888, 44.371294],\n",
    "                [7.51888, 43.526958],\n",
    "                [6.560201, 43.526958],\n",
    "            ]\n",
    "        ]\n",
    "    )"
   ]
  },
  {
   "cell_type": "markdown",
   "id": "2e3f05c6",
   "metadata": {},
   "source": [
    "## Data Collection"
   ]
  },
  {
   "cell_type": "code",
   "execution_count": 43,
   "id": "365755c9",
   "metadata": {},
   "outputs": [],
   "source": [
    "image = Nice.mosaic()"
   ]
  },
  {
   "cell_type": "code",
   "execution_count": null,
   "id": "f1f3d08b",
   "metadata": {},
   "outputs": [],
   "source": [
    "# random sampling\n",
    "# NOT STRATIFIED\n",
    "# training = image.sample(\n",
    "#     **{\n",
    "#         'region': Area_Nice,\n",
    "#         'scale': 30,\n",
    "#         'numPixels': 5000,\n",
    "#         'seed': 0,\n",
    "#         'geometries': True,  # Set this to False to ignore geometries\n",
    "#     }\n",
    "# )"
   ]
  },
  {
   "cell_type": "code",
   "execution_count": null,
   "id": "7e7fafb7",
   "metadata": {
    "scrolled": true
   },
   "outputs": [],
   "source": [
    "# Map.addLayer(training, {}, 'training', True)\n",
    "# Map.centerObject(Area_Nice)\n",
    "# Map"
   ]
  },
  {
   "cell_type": "markdown",
   "id": "6195ad82",
   "metadata": {},
   "source": [
    "Stratified sampling: 500 points per class"
   ]
  },
  {
   "cell_type": "code",
   "execution_count": 44,
   "id": "87d8d042",
   "metadata": {},
   "outputs": [],
   "source": [
    "randompoints_Nice = image.stratifiedSample(\n",
    "    **{\n",
    "        'region': Area_Nice,\n",
    "        'classBand': 'b1',\n",
    "        'scale': 30,\n",
    "        'numPoints': 500,\n",
    "        'seed': 0,\n",
    "        'geometries': True,  # Set this to False to ignore geometries\n",
    "    }\n",
    ")"
   ]
  },
  {
   "cell_type": "code",
   "execution_count": 48,
   "id": "a17cdd22",
   "metadata": {},
   "outputs": [
    {
     "data": {
      "application/vnd.jupyter.widget-view+json": {
       "model_id": "8a8b50f248664b59942b94d59c4e7b98",
       "version_major": 2,
       "version_minor": 0
      },
      "text/plain": [
       "Map(bottom=3046666.0, center=[44.12018900152645, 7.402381896972657], controls=(WidgetControl(options=['positio…"
      ]
     },
     "metadata": {},
     "output_type": "display_data"
    }
   ],
   "source": [
    "# filter out points of class 0 and 15\n",
    "randompoints_Nice = randompoints_Nice.filterMetadata(\"b1\",\"not_equals\", 0).filterMetadata(\"b1\",\"not_equals\", 15);\n",
    "vis_params = {'color': 'f5e105ff'}\n",
    "# display points on map\n",
    "Map.addLayer(randompoints_Nice,vis_params,'randompoints_Nice')\n",
    "Map"
   ]
  },
  {
   "cell_type": "code",
   "execution_count": 49,
   "id": "cdbc122e",
   "metadata": {},
   "outputs": [],
   "source": [
    "# split samples in training/validation\n",
    "\n",
    "randompoints_Nice = randompoints_Nice.randomColumn();\n",
    "\n",
    "# split in a training (80%) and validation (20%)\n",
    "training = randompoints_Nice.filter(ee.Filter.gt('random',0.2)); # random value greater than\n",
    "validation = randompoints_Nice.filter(ee.Filter.lte('random',0.2)); # random value less or equal to"
   ]
  },
  {
   "cell_type": "markdown",
   "id": "85ef8b3d",
   "metadata": {},
   "source": [
    "## Saving Data"
   ]
  },
  {
   "cell_type": "markdown",
   "id": "1ce775f0",
   "metadata": {},
   "source": [
    "Saving as shapefile to server."
   ]
  },
  {
   "cell_type": "code",
   "execution_count": null,
   "id": "dd649005",
   "metadata": {},
   "outputs": [],
   "source": [
    "# saving training points as shapefile\n",
    "geemap.ee_to_shp(training, filename='/home/scuypers/GEE/outputs/training.shp')"
   ]
  },
  {
   "cell_type": "code",
   "execution_count": null,
   "id": "f034c375",
   "metadata": {},
   "outputs": [],
   "source": [
    "# saving validation points as shapefile\n",
    "geemap.ee_to_shp(validation, filename='/home/scuypers/GEE/outputs/validation.shp')"
   ]
  },
  {
   "cell_type": "markdown",
   "id": "7025fbdd",
   "metadata": {},
   "source": [
    "Saving as asset to GEE platform"
   ]
  },
  {
   "cell_type": "code",
   "execution_count": 50,
   "id": "cc111f8e",
   "metadata": {},
   "outputs": [],
   "source": [
    "task = ee.batch.Export.table.toAsset(\n",
    "    collection=training,\n",
    "    description='training data nice from jupyter notebook',\n",
    "    assetId='users/suzannacuypers/EARSeL/trainingData_Nice_new')\n",
    "\n",
    "task.start()"
   ]
  },
  {
   "cell_type": "code",
   "execution_count": 51,
   "id": "26032382",
   "metadata": {},
   "outputs": [],
   "source": [
    "task = ee.batch.Export.table.toAsset(\n",
    "    collection=validation,\n",
    "    description='validation data nice from jupyter notebook',\n",
    "    assetId='users/suzannacuypers/EARSeL/validationData_Nice_new')\n",
    "\n",
    "task.start()"
   ]
  },
  {
   "cell_type": "markdown",
   "id": "eba4d511",
   "metadata": {},
   "source": [
    "## Relaoding saved files"
   ]
  },
  {
   "cell_type": "markdown",
   "id": "4abc6327",
   "metadata": {},
   "source": [
    "Loading previously generated training/validation points from server (shapefiles)"
   ]
  },
  {
   "cell_type": "code",
   "execution_count": null,
   "id": "5fffcde6",
   "metadata": {},
   "outputs": [],
   "source": [
    "# import shapefiles\n",
    "training_shp = '/home/scuypers/GEE/outputs/training.shp'\n",
    "training = geemap.shp_to_ee(training_shp)\n",
    "\n",
    "validation_shp = '/home/scuypers/GEE/outputs/validation.shp'\n",
    "validation = geemap.shp_to_ee(validation_shp)"
   ]
  },
  {
   "cell_type": "markdown",
   "id": "72e5b0cd",
   "metadata": {},
   "source": [
    "Loading previously generated training/validation points from GEE Assets"
   ]
  },
  {
   "cell_type": "code",
   "execution_count": null,
   "id": "ec977755",
   "metadata": {},
   "outputs": [],
   "source": [
    "# import assets\n",
    "training = ee.Image('users/suzannacuypers/EARSeL/trainingData_Nice_new')\n",
    "validation = ee.Image('users/suzannacuypers/EARSeL/validationData_Nice_new')"
   ]
  },
  {
   "cell_type": "markdown",
   "id": "fe6d5a63",
   "metadata": {},
   "source": [
    "Visualize training points on map"
   ]
  },
  {
   "cell_type": "code",
   "execution_count": null,
   "id": "584513db",
   "metadata": {},
   "outputs": [],
   "source": [
    "vis_params = {\n",
    "    #'color':'006633' # white 'E5FFCC', # green\n",
    "    'pointSize':3\n",
    "}\n",
    "Map.addLayer(training,vis_params,'imported random points')\n",
    "Map"
   ]
  },
  {
   "cell_type": "markdown",
   "id": "20c9b4b6",
   "metadata": {},
   "source": [
    "# Composite"
   ]
  },
  {
   "cell_type": "code",
   "execution_count": null,
   "id": "304d4919",
   "metadata": {},
   "outputs": [],
   "source": [
    "period_of_interest = ee.Filter.date('2017-01-01', '2019-12-31')\n",
    "inBands = [\"B2\",\"B3\",\"B4\",\"B5\",\"B6\",\"B7\",\"B8\",\"B8A\",\"B11\",\"B12\"]\n",
    "outBands = inBands.copy() ### THIS IS THE REASON OF THE ERRORS\n",
    "newBands = [\"NDVI\",\"NDVI_STD\",\"BSI\"]\n",
    "print(inBands,outBands)\n",
    "outBands.extend(newBands)\n",
    "print(inBands,outBands)"
   ]
  },
  {
   "cell_type": "code",
   "execution_count": null,
   "id": "3f5970e8",
   "metadata": {},
   "outputs": [],
   "source": [
    "# This is the cloud masking function provided by GEE but adapted for use in Python.\n",
    "def maskS2clouds(image):\n",
    "    qa = image.select('QA60')\n",
    "\n",
    "    # Bits 10 and 11 are clouds and cirrus, respectively.\n",
    "    cloudBitMask = 1 << 10 # 1024\n",
    "    cirrusBitMask = 1 << 11 # 2048\n",
    "\n",
    "    # Both flags should be set to zero, indicating clear conditions.\n",
    "    mask = qa.bitwiseAnd(cloudBitMask).eq(0)\n",
    "    mask = mask.bitwiseAnd(cirrusBitMask).eq(0)\n",
    "    \n",
    "    helper = image.updateMask(mask).divide(10000)\n",
    "    helper = ee.Image(helper.copyProperties(image, properties=[\"system:time_start\"]))\n",
    "    #ee.Image(helper.copyProperties(image, properties=[\"CLOUD_COVERAGE_PERCENTAGE\"]))\n",
    "\n",
    "    return helper"
   ]
  },
  {
   "cell_type": "code",
   "execution_count": null,
   "id": "fcd3a6e4",
   "metadata": {},
   "outputs": [],
   "source": [
    "dataset = (\n",
    "    ee.ImageCollection('COPERNICUS/S2_SR') \n",
    "    .filterBounds(Area_Nice)\n",
    "    .filter(period_of_interest)\n",
    "    .filter(ee.Filter.lt('CLOUDY_PIXEL_PERCENTAGE',10)) \n",
    "    .map(maskS2clouds)\n",
    "    .select(inBands)#.select([\"B2\",\"B3\",\"B4\",\"B5\",\"B6\",\"B7\",\"B8\",\"B8A\",\"B11\",\"B12\"])#.select('B2')\n",
    ")\n",
    "print(dataset.first().propertyNames().getInfo())\n",
    "# median = dataset.select(['B5','B4', 'B3', 'B2']).median()\n",
    "\n",
    "# median = dataset.select([\"B2\",\"B3\",\"B4\",\"B5\",\"B6\",\"B7\",\"B8\",\"B8A\",\"B11\",\"B12\"]).median()\n",
    "\n",
    "median = dataset.median()\n",
    "\n",
    "visParams = {\n",
    "    'bands': ['B4', 'B3', 'B2'],#'B4', 'B3', 'B2'],\n",
    "    'min': 0,\n",
    "    'max': 0.3,\n",
    "}\n",
    "\n",
    "Map = geemap.Map()\n",
    "Map.centerObject(Area_Nice)\n",
    "Map.addLayer(median, visParams,'median')#{'bands':['B4', 'B3', 'B2']}, 'Median')\n",
    "Map"
   ]
  },
  {
   "cell_type": "code",
   "execution_count": null,
   "id": "a8ac971c",
   "metadata": {},
   "outputs": [],
   "source": [
    "print(dataset.propertyNames().getInfo())\n",
    "print(dataset.size().getInfo()) # number of images\n",
    "\n",
    "image = dataset.first()\n",
    "print(image.propertyNames().getInfo())\n",
    "print(image.get('CLOUDY_PIXEL_PERCENTAGE').getInfo())"
   ]
  },
  {
   "cell_type": "code",
   "execution_count": null,
   "id": "f576902b",
   "metadata": {},
   "outputs": [],
   "source": [
    "# number of images (size)\n",
    "print(dataset.size().getInfo()) # 355"
   ]
  },
  {
   "cell_type": "markdown",
   "id": "cda34c7b",
   "metadata": {},
   "source": [
    "## Vegetation indices"
   ]
  },
  {
   "cell_type": "code",
   "execution_count": null,
   "id": "8c876047",
   "metadata": {},
   "outputs": [],
   "source": [
    "#Add NDVI and BSI spectral indices\n",
    "def addNDVI(image):\n",
    "    ndvi = image.normalizedDifference(['B8', 'B4']) \\\n",
    "    .rename('NDVI') \\\n",
    "    .copyProperties(image,['system:time_start'])\n",
    "    return image.addBands(ndvi)\n",
    "\n",
    "def addBSI(image):\n",
    "    bsi = image.expression(\n",
    "    '((RED + SWIR) - (NIR + BLUE)) / ((RED + SWIR) + (NIR + BLUE)) ',\n",
    "    {\n",
    "    'RED': image.select('B4'),\n",
    "    'BLUE': image.select('B2'),\n",
    "    'NIR': image.select('B8'),\n",
    "    'SWIR': image.select('B11'),\n",
    "    }\n",
    "    ) \\\n",
    "    .rename('BSI') \\\n",
    "    .copyProperties(image,['system:time_start'])\n",
    "    return image.addBands(bsi)\n",
    "\n",
    "def addEVI(image):\n",
    "    evi = image.expression(\n",
    "    '(2.5 * (NIR - RED)) / (NIR + 6 * RED - 7.5 * BLUE + 1) ',\n",
    "    {\n",
    "    'RED': image.select('B4'),\n",
    "    'BLUE': image.select('B2'),\n",
    "    'NIR': image.select('B8'),\n",
    "    'G': 2.5,\n",
    "    'C1': 6,\n",
    "    'C2': 7.5,\n",
    "    'L': 1,\n",
    "    }\n",
    "    ) \\\n",
    "    .rename('EVI') \\\n",
    "    .copyProperties(image,['system:time_start'])\n",
    "    return image.addBands(evi)\n",
    "\n",
    "def addGRVI(image):\n",
    "    grvi = image.expression(\n",
    "    '(GREEN - RED) / (RED + GREEN) ',\n",
    "    {\n",
    "    'RED': image.select('B4'),\n",
    "    'GREEN': image.select('B3'),\n",
    "    }\n",
    "    ) \\\n",
    "    .rename('GRVI') \\\n",
    "    .copyProperties(image,['system:time_start'])\n",
    "    return image.addBands(grvi)\n",
    "\n",
    "def addMNDWI(image):\n",
    "    mndwi = image.expression(\n",
    "    '(GREEN - SWIR) / (GREEN + SWIR) ',\n",
    "    {\n",
    "    'GREEN': image.select('B3'),\n",
    "    'SWIR': image.select('B11'),\n",
    "    }\n",
    "    ) \\\n",
    "    .rename('MNDWI') \\\n",
    "    .copyProperties(image,['system:time_start'])\n",
    "    return image.addBands(mndwi)\n",
    "\n",
    "def addSMMI(image):\n",
    "    smmi = image.expression(\n",
    "    '(sqrt((NIR + SWIR) / 2)) ',\n",
    "    {\n",
    "    'NIR': image.select('B8'),\n",
    "    'SWIR': image.select('B11'),\n",
    "    }\n",
    "    ) \\\n",
    "    .rename('SMMI') \\\n",
    "    .copyProperties(image,['system:time_start'])\n",
    "    return image.addBands(smmi)\n",
    "\n",
    "def addNMDI(image):\n",
    "    nmdi = image.expression(\n",
    "    '(NIR - (SWIR11 - SWIR12)) / (NIR + (SWIR11 - SWIR12)) ',\n",
    "    {\n",
    "    'NIR': image.select('B8'),\n",
    "    'SWIR11': image.select('B11'),\n",
    "    'SWIR12': image.select('B12'),\n",
    "    }\n",
    "    ) \\\n",
    "    .rename('NMDI') \\\n",
    "    .copyProperties(image,['system:time_start'])\n",
    "    return image.addBands(nmdi)\n",
    "\n",
    "def addNDBI(image):\n",
    "    ndbi = image.expression(\n",
    "    '( SWIR - NIR ) / ( SWIR + NIR ) ',\n",
    "    {\n",
    "    'NIR': image.select('B8'),\n",
    "    'SWIR': image.select('B11'),\n",
    "    }\n",
    "    ) \\\n",
    "    .rename('NDBI') \\\n",
    "    .copyProperties(image,['system:time_start'])\n",
    "    return image.addBands(ndbi)"
   ]
  },
  {
   "cell_type": "code",
   "execution_count": null,
   "id": "9f4ba51a",
   "metadata": {},
   "outputs": [],
   "source": [
    "#Collection with all images also containing the NDVI and BSI indices\n",
    "collection = dataset.select(inBands).map(addNDVI).map(addBSI)\\\n",
    "     .map(addEVI).map(addGRVI).map(addMNDWI).map(addSMMI).map(addNMDI).map(addNDBI)\n",
    "print(collection.propertyNames().getInfo())\n",
    "# print('Collection with inBands and Statistic indices: \\n', collection)"
   ]
  },
  {
   "cell_type": "markdown",
   "id": "c105b94f",
   "metadata": {},
   "source": [
    "Show NDVI on the map."
   ]
  },
  {
   "cell_type": "code",
   "execution_count": null,
   "id": "a9acdad5",
   "metadata": {},
   "outputs": [],
   "source": [
    "### Map NDVI\n",
    "# Convert the image collection to an image.\n",
    "image = collection.select('NDVI').median()\n",
    "#print(image.bandNames()) # ee.List object\n",
    "\n",
    "NDVIpalette = ['FFFFFF', 'CE7E45', 'DF923D', 'F1B555', 'FCD163', '99B718', '74A901', '66A000', '529400', '3E8601', '207401', '056201', '004C00', '023B01', '012E01', '011D01', '011301']\n",
    "Map.addLayer(image, {'palette': NDVIpalette},'NDVI median')#{'bands':['B4', 'B3', 'B2']}, 'Median')\n",
    "Map"
   ]
  },
  {
   "cell_type": "markdown",
   "id": "72c08775",
   "metadata": {},
   "source": [
    "## Create median Image"
   ]
  },
  {
   "cell_type": "code",
   "execution_count": null,
   "id": "ed44735b",
   "metadata": {},
   "outputs": [],
   "source": [
    "# Define and calculate the median bands and the other index statistics\n",
    "print(inBands)\n",
    "band_median = collection.select(inBands).median() # one image"
   ]
  },
  {
   "cell_type": "code",
   "execution_count": null,
   "id": "de8f3622",
   "metadata": {},
   "outputs": [],
   "source": [
    "# one image each\n",
    "ndvimax = collection.select('NDVI').reduce(ee.Reducer.max()).rename(\"NDVI_MAX\")\n",
    "ndvimean = collection.select('NDVI').reduce(ee.Reducer.mean()).rename(\"NDVI\")\n",
    "ndvistd = collection.select('NDVI').reduce(ee.Reducer.stdDev()).float().rename(\"NDVI_STD\")\n",
    "\n",
    "nmdimax = collection.select('NMDI').reduce(ee.Reducer.max()).rename(\"NMDI_MAX\")\n",
    "nmdimean = collection.select('NMDI').reduce(ee.Reducer.mean()).rename(\"NMDI\")\n",
    "nmdistd = collection.select('NMDI').reduce(ee.Reducer.stdDev()).float().rename(\"NMDI_STD\")\n",
    "\n",
    "ndbimax = collection.select('NDBI').reduce(ee.Reducer.max()).rename(\"NDBI_MAX\")\n",
    "ndbimean = collection.select('NDBI').reduce(ee.Reducer.mean()).rename(\"NDBI\")\n",
    "ndbistd = collection.select('NDBI').reduce(ee.Reducer.stdDev()).float().rename(\"NDBI_STD\")\n",
    "\n",
    "bsimax = collection.select('BSI').reduce(ee.Reducer.max()).rename(\"BSI_MAX\")\n",
    "bsimean = collection.select('BSI').reduce(ee.Reducer.mean()).rename(\"BSI\")\n",
    "bsistd = collection.select('BSI').reduce(ee.Reducer.stdDev()).float().rename(\"BSI_STD\")\n",
    "\n",
    "evimax = collection.select('EVI').reduce(ee.Reducer.max()).rename(\"EVI_MAX\")\n",
    "evimean = collection.select('EVI').reduce(ee.Reducer.mean()).rename(\"EVI\")\n",
    "evistd = collection.select('EVI').reduce(ee.Reducer.stdDev()).float().rename(\"EVI_STD\")\n",
    "\n",
    "grvimax = collection.select('GRVI').reduce(ee.Reducer.max()).rename(\"GRVI_MAX\")\n",
    "grvimean = collection.select('GRVI').reduce(ee.Reducer.mean()).rename(\"GRVI\")\n",
    "grvistd = collection.select('GRVI').reduce(ee.Reducer.stdDev()).float().rename(\"GRVI_STD\")\n",
    "\n",
    "mndwimax = collection.select('MNDWI').reduce(ee.Reducer.max()).rename(\"MNDWI_MAX\")\n",
    "mndwimean = collection.select('MNDWI').reduce(ee.Reducer.mean()).rename(\"MNDWI\")\n",
    "mndwistd = collection.select('MNDWI').reduce(ee.Reducer.stdDev()).float().rename(\"MNDWI_STD\")\n",
    "\n",
    "smmimax = collection.select('SMMI').reduce(ee.Reducer.max()).rename(\"SMMI_MAX\")\n",
    "smmimean = collection.select('SMMI').reduce(ee.Reducer.mean()).rename(\"SMMI\")\n",
    "smmistd = collection.select('SMMI').reduce(ee.Reducer.stdDev()).float().rename(\"SMMI_STD\")"
   ]
  },
  {
   "cell_type": "code",
   "execution_count": null,
   "id": "7471000e",
   "metadata": {},
   "outputs": [],
   "source": [
    "#Add the index statistics to the median bands and clip the dataset with the ROI\n",
    "# one image adding bands\n",
    "compclip = band_median.addBands(ndvimax).addBands(ndvimean).addBands(ndvistd) \\\n",
    "    .addBands(nmdimax).addBands(nmdimean).addBands(nmdistd) \\\n",
    "    .addBands(ndbimax).addBands(ndbimean).addBands(ndbistd) \\\n",
    "    .addBands(bsimax).addBands(bsimean).addBands(bsistd) \\\n",
    "    .addBands(evimax).addBands(evimean).addBands(evistd) \\\n",
    "    .addBands(grvimax).addBands(grvimean).addBands(grvistd) \\\n",
    "    .addBands(mndwimax).addBands(mndwimean).addBands(mndwistd) \\\n",
    "    .addBands(smmimax).addBands(smmimean).addBands(smmistd) \\\n",
    "    .clip(Area_Nice)"
   ]
  },
  {
   "cell_type": "code",
   "execution_count": null,
   "id": "67b51b22",
   "metadata": {},
   "outputs": [],
   "source": [
    "OutBands  = [\"B2\",\"B3\",\"B4\",\"B5\",\"B6\",\"B7\",\"B8\",\"B8A\",\"B11\",\"B12\",\n",
    "             \"NDVI_MAX\",\"NDVI\",\"NDVI_STD\",\n",
    "             \"NMDI\",\"NMDI_MAX\",\"NMDI_STD\",\n",
    "             \"NDBI\",\"NDBI_MAX\",\"NDBI_STD\",\n",
    "             \"BSI\",\"BSI_MAX\",\"BSI_STD\",\n",
    "             \"EVI\",\"EVI_MAX\",\"EVI_STD\",\n",
    "             \"GRVI\",\"GRVI_MAX\",\"GRVI_STD\",\n",
    "             \"MNDWI\",\"MNDWI_MAX\",\"MNDWI_STD\",\n",
    "             \"SMMI\",\"SMMI_MAX\",\"SMMI_STD\"\n",
    "            ]"
   ]
  },
  {
   "cell_type": "markdown",
   "id": "b3184b51",
   "metadata": {},
   "source": [
    "## Temporal analysis"
   ]
  },
  {
   "cell_type": "markdown",
   "id": "02b90f11",
   "metadata": {},
   "source": [
    "For the temporal analysis we need the variables time and a constant added to each image."
   ]
  },
  {
   "cell_type": "code",
   "execution_count": null,
   "id": "37a3aa48",
   "metadata": {},
   "outputs": [],
   "source": [
    "# test is timefield is present (added in masks2cloud function)\n",
    "timeField = 'system:time_start'\n",
    "first = collection.first()\n",
    "print(first.propertyNames().getInfo())"
   ]
  },
  {
   "cell_type": "code",
   "execution_count": null,
   "id": "d2ea219b",
   "metadata": {},
   "outputs": [],
   "source": [
    "timeField = 'system:time_start'\n",
    "# Use this function to add variables for NDVI, time and a constant to Sentinel 2 imagery.\n",
    "def addVariables(image):\n",
    "    # Compute time in fractional years since the epoch.\n",
    "    date = ee.Date(image.get(timeField))\n",
    "    years = date.difference(ee.Date('2017-01-01'), 'year')\n",
    "    # Return the image with the added bands.\n",
    "    return image.addBands(ee.Image(years).rename('t')) \\\n",
    "                .float() \\\n",
    "                .addBands(ee.Image.constant(1))"
   ]
  },
  {
   "cell_type": "code",
   "execution_count": null,
   "id": "29d8aefe",
   "metadata": {},
   "outputs": [],
   "source": [
    "# add variables to the images in the collection\n",
    "collection = collection.map(addVariables)"
   ]
  },
  {
   "cell_type": "code",
   "execution_count": null,
   "id": "afef33e5",
   "metadata": {},
   "outputs": [],
   "source": [
    "# test if the new bands are added to the images\n",
    "first = collection.first()\n",
    "print(first.bandNames().getInfo())"
   ]
  },
  {
   "cell_type": "markdown",
   "id": "510a8aa2",
   "metadata": {},
   "source": [
    "### NDVI"
   ]
  },
  {
   "cell_type": "code",
   "execution_count": null,
   "id": "88c28a52",
   "metadata": {},
   "outputs": [],
   "source": [
    "# List of the independent variable names\n",
    "independents = ee.List(['constant', 't']) # constant + t * x\n",
    "\n",
    "# Name of the dependent variable.\n",
    "dependent = ee.String('NDVI') # NDVI = constant + t * x\n",
    "# Compute a linear trend.  This will have two bands: 'residuals' and\n",
    "# a 2x1 band called coefficients (columns are for dependent variables).\n",
    "\n",
    "# per pixel estimating a line to model the time variation\n",
    "\n",
    "trend = collection.select(independents.add(dependent)) \\\n",
    "  .reduce(ee.Reducer.linearRegression(independents.length(), 1)) # ee.Reducer.linearRegression(numX, numY) # numX\tInteger\tThe number of input dimensions.\n",
    "# result is 2 bands: ['coefficients', 'residuals']"
   ]
  },
  {
   "cell_type": "code",
   "execution_count": null,
   "id": "1bfbdabc",
   "metadata": {},
   "outputs": [],
   "source": [
    "print(trend.bandNames().getInfo())"
   ]
  },
  {
   "cell_type": "code",
   "execution_count": null,
   "id": "48191783",
   "metadata": {},
   "outputs": [],
   "source": [
    "# Flatten the coefficients into a 2-band image, named constant and t\n",
    "coefficients = trend.select('coefficients') \\\n",
    "    .arrayProject([0]) \\\n",
    "    .arrayFlatten([independents])\n",
    "# 2 coefficients = constant (b) and coefficient of time t (a*x)\n",
    "Map = geemap.Map()\n",
    "Map.centerObject(Area_Nice)\n",
    "### constant:\n",
    "# mean NDVI over time # white = strong vegetation\n",
    "# dark pixels = no vegetation\n",
    "vis_params_c = {'bands': ['constant'], 'min': 0, 'max': 1,'opacity': 1.0, 'gamma': 1.0} \n",
    "Map.addLayer(ee.Image(coefficients),vis_params_c,'constant')\n",
    "### t:\n",
    "# time: white = NDVI growing, black = NDVI going down\n",
    "vis_params_t = {'bands': ['t'], 'min': -0.05, 'max': 0.05,'opacity': 1.0, 'gamma': 1.0} \n",
    "Map.addLayer(ee.Image(coefficients),vis_params_t,'time coefficient')\n",
    "Map\n"
   ]
  },
  {
   "cell_type": "code",
   "execution_count": null,
   "id": "9958a0e5",
   "metadata": {},
   "outputs": [],
   "source": [
    "# Compute a detrended series.\n",
    "def func_qwf(image):\n",
    "    return image.select(dependent).subtract(\n",
    "                image.select(independents).multiply(coefficients).reduce('sum')) \\\n",
    "                .rename(dependent) \\\n",
    "                .copyProperties(image, ['system:time_start'])\n",
    "\n",
    "print(dependent.getInfo()) # NDVI\n",
    "\n",
    "detrended = collection.map(func_qwf) # NDVI = select dependent, subtract [sum(independent*coefficients)]\n",
    "\n",
    "first = detrended.first()\n",
    "print(first.propertyNames().getInfo())\n",
    "print(first.bandNames().getInfo()) # NDVI\n",
    "\n",
    "# Plot the detrended results.\n",
    "# ui = user interface of GEE\n",
    "# # # ui.Chart.image.series(imageCollection, region, reducer, scale, xProperty)\n",
    "# detrendedChart = ui.Chart.image.series(detrended, roi, None, 30) \\\n",
    "#   .setOptions({\n",
    "#     'title': 'Detrended Sentinel time series at ROI',\n",
    "#     'lineWidth': 1,\n",
    "#     'pointSize': 3,\n",
    "#   })\n",
    "# print(detrendedChart)"
   ]
  },
  {
   "cell_type": "code",
   "execution_count": null,
   "id": "8283db92",
   "metadata": {},
   "outputs": [],
   "source": [
    "print(type(detrended))"
   ]
  },
  {
   "cell_type": "code",
   "execution_count": null,
   "id": "e40a5504",
   "metadata": {},
   "outputs": [],
   "source": [
    "df = geemap.ee_to_pandas(detrended)\n",
    "df.head(5)"
   ]
  },
  {
   "cell_type": "code",
   "execution_count": null,
   "id": "e62fd734",
   "metadata": {},
   "outputs": [],
   "source": [
    "# Use these independent variables in the harmonic regression.\n",
    "harmonicIndependents = ee.List(['constant', 't', 'cos', 'sin'])"
   ]
  },
  {
   "cell_type": "code",
   "execution_count": null,
   "id": "245dfb81",
   "metadata": {},
   "outputs": [],
   "source": [
    "firsta = collection.first()\n",
    "print(firsta.bandNames().getInfo())"
   ]
  },
  {
   "cell_type": "code",
   "execution_count": null,
   "id": "d9dee23b",
   "metadata": {},
   "outputs": [],
   "source": [
    "# Add harmonic terms as new image bands.\n",
    "\n",
    "def func_cow(image):\n",
    "    timeRadians = image.select('t').multiply(2 * math.pi)\n",
    "    return image \\\n",
    "          .addBands(timeRadians.cos().rename('cos')) \\\n",
    "          .addBands(timeRadians.sin().rename('sin'))\n",
    "\n",
    "harmonicLandsat = collection.map(func_cow)\n",
    "\n",
    "harmonicTrend = harmonicLandsat.select(harmonicIndependents.add(dependent)) \\\n",
    "    .reduce(ee.Reducer.linearRegression(\n",
    "    **{\n",
    "    'numX': harmonicIndependents.length(),\n",
    "    'numY': 1\n",
    "    }))"
   ]
  },
  {
   "cell_type": "code",
   "execution_count": null,
   "id": "9abd4e13",
   "metadata": {},
   "outputs": [],
   "source": [
    "firstb = collection.first()\n",
    "print(firstb.bandNames().getInfo())"
   ]
  },
  {
   "cell_type": "code",
   "execution_count": null,
   "id": "3a4799ed",
   "metadata": {},
   "outputs": [],
   "source": [
    "# Turn the array image into a multi-band image of coefficients.\n",
    "harmonicTrendCoefficients = harmonicTrend.select('coefficients') \\\n",
    "    .arrayProject([0]) \\\n",
    "    .arrayFlatten([harmonicIndependents])\n",
    "\n",
    "# coefficient of time t (a*x), constant (b), c*cos(2*pi*t), d*sin(2*pi*t)\n",
    "Map = geemap.Map()\n",
    "Map.centerObject(Area_Nice)\n",
    "### constant:\n",
    "# mean NDVI over time # white = strong vegetation\n",
    "# dark pixels = no vegetation\n",
    "vis_params_c = {'bands': ['constant'], 'min': 0, 'max': 1,'opacity': 1.0, 'gamma': 1.0} \n",
    "Map.addLayer(ee.Image(harmonicTrendCoefficients),vis_params_c,'constant')\n",
    "### t:\n",
    "# time: white = NDVI growing, black = NDVI going down\n",
    "vis_params_t = {'bands': ['t'], 'min': -0.05, 'max': 0.05,'opacity': 1.0, 'gamma': 1.0} \n",
    "Map.addLayer(ee.Image(harmonicTrendCoefficients),vis_params_t,'time coefficient')\n",
    "Map"
   ]
  },
  {
   "cell_type": "code",
   "execution_count": null,
   "id": "9bc5e09b",
   "metadata": {},
   "outputs": [],
   "source": [
    "# Compute fitted values.\n",
    "\n",
    "def func_qam(image):\n",
    "    return image.addBands(\n",
    "          image.select(harmonicIndependents) \\\n",
    "            .multiply(harmonicTrendCoefficients) \\\n",
    "            .reduce('sum') \\\n",
    "            .rename('fitted'))\n",
    "\n",
    "fittedHarmonic = harmonicLandsat.map(func_qam)"
   ]
  },
  {
   "cell_type": "code",
   "execution_count": null,
   "id": "fb6f23c8",
   "metadata": {},
   "outputs": [],
   "source": [
    "# Plot the fitted model and the original data at the ROI.\n",
    "#print(ui.Chart.image.series(\n",
    "# fittedHarmonic.select(['fitted','NDVI']), roi, ee.Reducer.mean(), 30) \\\n",
    "#   .setSeriesNames(['NDVI', 'fitted']) \\\n",
    "#   .setOptions({\n",
    "#     'title': 'Harmonic model: original and fitted values',\n",
    "#     'lineWidth': 1,\n",
    "#     'pointSize': 3,\n",
    "# }))\n",
    "#"
   ]
  },
  {
   "cell_type": "code",
   "execution_count": null,
   "id": "8c04194a",
   "metadata": {},
   "outputs": [],
   "source": [
    "# Compute phase and amplitude.\n",
    "phase_ndvi = harmonicTrendCoefficients.select('sin') \\\n",
    "  .atan2(harmonicTrendCoefficients.select('cos')) \\\n",
    "  .unitScale(-math.pi, math.pi) \\\n",
    "  .rename(\"HUE_NDVI\")\n",
    "\n",
    "amplitude_ndvi = harmonicTrendCoefficients.select('sin') \\\n",
    "  .hypot(harmonicTrendCoefficients.select('cos')) \\\n",
    "  .multiply(5) \\\n",
    "  .rename(\"SAT_NDVI\")\n",
    "\n",
    "# Compute the mean NDVI.\n",
    "meanNdvi= collection.select('NDVI').mean().rename(\"VAL_NDVI\")\n",
    "\n",
    "# Use the HSV to RGB transform to display phase and amplitude.\n",
    "rgb = ee.Image.cat([\n",
    "    phase_ndvi,      # hue\n",
    "    amplitude_ndvi,  # saturation (difference from white)\n",
    "    meanNdvi    # value (difference from black)\n",
    "    ]).hsvToRgb()"
   ]
  },
  {
   "cell_type": "markdown",
   "id": "cf7fcb41",
   "metadata": {},
   "source": [
    "Add to map"
   ]
  },
  {
   "cell_type": "code",
   "execution_count": null,
   "id": "6f627d5f",
   "metadata": {},
   "outputs": [],
   "source": [
    "Map.addLayer(rgb, {}, 'phase_ndvi (hue), amplitude_ndvi (sat), ndvi (val')\n",
    "Map"
   ]
  },
  {
   "cell_type": "markdown",
   "id": "fde012fa",
   "metadata": {},
   "source": [
    "### NMDI"
   ]
  },
  {
   "cell_type": "code",
   "execution_count": null,
   "id": "be10fa2e",
   "metadata": {},
   "outputs": [],
   "source": [
    "# List of the independent variable names\n",
    "independents = ee.List(['constant', 't'])\n",
    "\n",
    "# Name of the dependent variable.\n",
    "dependent = ee.String('NMDI')\n",
    "\n",
    "# Compute a linear trend.  This will have two bands: 'residuals' and\n",
    "# a 2x1 band called coefficients (columns are for dependent variables).\n",
    "trend = collection.select(independents.add(dependent)) \\\n",
    "  .reduce(ee.Reducer.linearRegression(independents.length(), 1))\n",
    "# Map.addLayer(trend, {}, 'trend array image')\n",
    "\n",
    "# Flatten the coefficients into a 2-band image\n",
    "coefficients = trend.select('coefficients') \\\n",
    "    .arrayProject([0]) \\\n",
    "    .arrayFlatten([independents])"
   ]
  },
  {
   "cell_type": "code",
   "execution_count": null,
   "id": "ad0f8b4d",
   "metadata": {},
   "outputs": [],
   "source": [
    "# Compute a de-trended series.\n",
    "def func_dcf(image):\n",
    "    return image.select(dependent).subtract(\n",
    "                image.select(independents).multiply(coefficients).reduce('sum')) \\\n",
    "                .rename(dependent) \\\n",
    "                .copyProperties(image, ['system:time_start'])\n",
    "\n",
    "detrended = collection.map(func_dcf)\n",
    "\n",
    "# Plot the detrended results.\n",
    "# detrendedChart = ui.Chart.image.series(detrended, roi, None, 30) \\\n",
    "#   .setOptions({\n",
    "#     'title': 'Detrended Sentinel time series at ROI',\n",
    "#     'lineWidth': 1,\n",
    "#     'pointSize': 3,\n",
    "#   })\n",
    "#print(detrendedChart)\n",
    "\n",
    "# Use these independent variables in the harmonic regression.\n",
    "harmonicIndependents = ee.List(['constant', 't', 'cos', 'sin'])"
   ]
  },
  {
   "cell_type": "code",
   "execution_count": null,
   "id": "e1485356",
   "metadata": {},
   "outputs": [],
   "source": [
    "# Add harmonic terms as new image bands.\n",
    "\n",
    "def func_mwh(image):\n",
    "    timeRadians = image.select('t').multiply(2 * math.pi)\n",
    "    return image \\\n",
    "          .addBands(timeRadians.cos().rename('cos')) \\\n",
    "          .addBands(timeRadians.sin().rename('sin'))\n",
    "\n",
    "harmonicLandsat = collection.map(func_mwh)\n",
    "\n",
    "harmonicTrend = harmonicLandsat \\\n",
    ".select(harmonicIndependents.add(dependent)) \\\n",
    ".reduce(ee.Reducer.linearRegression(\n",
    "    **{\n",
    "        'numX': harmonicIndependents.length(),\n",
    "        'numY': 1\n",
    "    }))\n",
    "# Turn the array image into a multi-band image of coefficients.\n",
    "harmonicTrendCoefficients = harmonicTrend.select('coefficients') \\\n",
    ".arrayProject([0]) \\\n",
    ".arrayFlatten([harmonicIndependents])"
   ]
  },
  {
   "cell_type": "code",
   "execution_count": null,
   "id": "5a33ec80",
   "metadata": {},
   "outputs": [],
   "source": [
    "# Compute fitted values.\n",
    "\n",
    "def func_hoj(image):\n",
    "    return image.addBands(\n",
    "          image.select(harmonicIndependents) \\\n",
    "            .multiply(harmonicTrendCoefficients) \\\n",
    "            .reduce('sum') \\\n",
    "            .rename('fitted'))\n",
    "\n",
    "fittedHarmonic = harmonicLandsat.map(func_hoj)\n",
    "\n",
    "# Plot the fitted model and the original data at the ROI.\n",
    "#print(ui.Chart.image.series(\n",
    "# fittedHarmonic.select(['fitted','NMDI']), roi, ee.Reducer.mean(), 30) \\\n",
    "#   .setSeriesNames(['NMDI', 'fitted']) \\\n",
    "#   .setOptions({\n",
    "#     'title': 'Harmonic model: original and fitted values',\n",
    "#     'lineWidth': 1,\n",
    "#     'pointSize': 3,\n",
    "# }))"
   ]
  },
  {
   "cell_type": "code",
   "execution_count": null,
   "id": "637e2e12",
   "metadata": {},
   "outputs": [],
   "source": [
    "# Compute phase and amplitude.\n",
    "phase_nmdi = harmonicTrendCoefficients.select('sin') \\\n",
    "  .atan2(harmonicTrendCoefficients.select('cos')) \\\n",
    "  .unitScale(-math.pi, math.pi) \\\n",
    "  .rename(\"HUE_NMDI\")\n",
    "\n",
    "amplitude_nmdi = harmonicTrendCoefficients.select('sin') \\\n",
    "  .hypot(harmonicTrendCoefficients.select('cos')) \\\n",
    "  .multiply(5) \\\n",
    "  .rename(\"SAT_NMDI\")\n",
    "\n",
    "# Compute the mean NDVI.\n",
    "meanNmdi= collection.select('NMDI').mean().rename(\"VAL_NMDI\")\n",
    "\n",
    "# Use the HSV to RGB transform to display phase and amplitude.\n",
    "rgb = ee.Image.cat([\n",
    "    phase_nmdi,      # hue\n",
    "    amplitude_nmdi,  # saturation (difference from white)\n",
    "    meanNmdi    # value (difference from black)\n",
    "]).hsvToRgb()"
   ]
  },
  {
   "cell_type": "markdown",
   "id": "faf0c9ad",
   "metadata": {},
   "source": [
    "Add to map"
   ]
  },
  {
   "cell_type": "code",
   "execution_count": null,
   "id": "a3532fcc",
   "metadata": {},
   "outputs": [],
   "source": [
    "Map.addLayer(rgb, {}, 'phase_nmdi (hue), amplitude_nmdi (sat), nmdi (val')\n",
    "Map"
   ]
  },
  {
   "cell_type": "markdown",
   "id": "8a850fee",
   "metadata": {},
   "source": [
    "### NDBI"
   ]
  },
  {
   "cell_type": "code",
   "execution_count": null,
   "id": "103a3a37",
   "metadata": {},
   "outputs": [],
   "source": [
    "# List of the independent variable names\n",
    "independents = ee.List(['constant', 't'])\n",
    "\n",
    "# Name of the dependent variable.\n",
    "dependent = ee.String('NDBI')\n",
    "\n",
    "# Compute a linear trend.  This will have two bands: 'residuals' and\n",
    "# a 2x1 band called coefficients (columns are for dependent variables).\n",
    "trend = collection.select(independents.add(dependent)) \\\n",
    "  .reduce(ee.Reducer.linearRegression(independents.length(), 1))\n",
    "# Map.addLayer(trend, {}, 'trend array image')\n",
    "\n",
    "# Flatten the coefficients into a 2-band image\n",
    "coefficients = trend.select('coefficients') \\\n",
    "    .arrayProject([0]) \\\n",
    "    .arrayFlatten([independents])"
   ]
  },
  {
   "cell_type": "code",
   "execution_count": null,
   "id": "7cf034a8",
   "metadata": {},
   "outputs": [],
   "source": [
    "# Compute a de-trended series.\n",
    "\n",
    "def func_szc(image):\n",
    "    return image.select(dependent).subtract(\n",
    "                image.select(independents).multiply(coefficients).reduce('sum')) \\\n",
    "                .rename(dependent) \\\n",
    "                .copyProperties(image, ['system:time_start'])\n",
    "\n",
    "detrended = collection.map(func_szc)\n",
    "\n",
    "# Plot the detrended results.\n",
    "# detrendedChart = ui.Chart.image.series(detrended, roi, None, 30) \\\n",
    "#   .setOptions({\n",
    "#     'title': 'Detrended Sentinel time series at ROI',\n",
    "#     'lineWidth': 1,\n",
    "#     'pointSize': 3,\n",
    "#   })\n",
    "#print(detrendedChart)"
   ]
  },
  {
   "cell_type": "code",
   "execution_count": null,
   "id": "3c39034f",
   "metadata": {},
   "outputs": [],
   "source": [
    "# Use these independent variables in the harmonic regression.\n",
    "harmonicIndependents = ee.List(['constant', 't', 'cos', 'sin'])"
   ]
  },
  {
   "cell_type": "code",
   "execution_count": null,
   "id": "2b786ae7",
   "metadata": {},
   "outputs": [],
   "source": [
    "# Add harmonic terms as new image bands.\n",
    "\n",
    "def func_ynp(image):\n",
    "    timeRadians = image.select('t').multiply(2 * math.pi)\n",
    "    return image \\\n",
    "          .addBands(timeRadians.cos().rename('cos')) \\\n",
    "          .addBands(timeRadians.sin().rename('sin'))\n",
    "\n",
    "harmonicLandsat = collection.map(func_ynp)\n",
    "\n",
    "harmonicTrend = harmonicLandsat \\\n",
    ".select(harmonicIndependents.add(dependent)) \\\n",
    ".reduce(ee.Reducer.linearRegression(\n",
    "    **{\n",
    "        'numX': harmonicIndependents.length(),\n",
    "        'numY': 1\n",
    "    }))\n",
    "# Turn the array image into a multi-band image of coefficients.\n",
    "harmonicTrendCoefficients = harmonicTrend.select('coefficients') \\\n",
    ".arrayProject([0]) \\\n",
    ".arrayFlatten([harmonicIndependents])"
   ]
  },
  {
   "cell_type": "code",
   "execution_count": null,
   "id": "862278e4",
   "metadata": {},
   "outputs": [],
   "source": [
    "# Compute fitted values.\n",
    "\n",
    "def func_coj(image):\n",
    "    return image.addBands(\n",
    "          image.select(harmonicIndependents) \\\n",
    "            .multiply(harmonicTrendCoefficients) \\\n",
    "            .reduce('sum') \\\n",
    "            .rename('fitted'))\n",
    "\n",
    "fittedHarmonic = harmonicLandsat.map(func_coj)\n",
    "\n",
    "# Plot the fitted model and the original data at the ROI.\n",
    "#print(ui.Chart.image.series(\n",
    "# fittedHarmonic.select(['fitted','NDBI']), roi, ee.Reducer.mean(), 30) \\\n",
    "#   .setSeriesNames(['NDBI', 'fitted']) \\\n",
    "#   .setOptions({\n",
    "#     'title': 'Harmonic model: original and fitted values',\n",
    "#     'lineWidth': 1,\n",
    "#     'pointSize': 3,\n",
    "# }))"
   ]
  },
  {
   "cell_type": "code",
   "execution_count": null,
   "id": "31461247",
   "metadata": {},
   "outputs": [],
   "source": [
    "# Compute phase and amplitude.\n",
    "phase_ndbi = harmonicTrendCoefficients.select('sin') \\\n",
    "  .atan2(harmonicTrendCoefficients.select('cos')) \\\n",
    "  .unitScale(-math.pi, math.pi) \\\n",
    "  .rename(\"HUE_NDBI\")\n",
    "\n",
    "amplitude_ndbi = harmonicTrendCoefficients.select('sin') \\\n",
    "  .hypot(harmonicTrendCoefficients.select('cos')) \\\n",
    "  .multiply(5) \\\n",
    "  .rename(\"SAT_NDBI\")\n",
    "\n",
    "# Compute the mean NDVI.\n",
    "meanNdbi= collection.select('NDBI').mean().rename(\"VAL_NDBI\")\n",
    "\n",
    "# Use the HSV to RGB transform to display phase and amplitude.\n",
    "rgb = ee.Image.cat([\n",
    "        phase_ndbi,      # hue\n",
    "        amplitude_ndbi,  # saturation (difference from white)\n",
    "        meanNdbi    # value (difference from black)\n",
    "        ]).hsvToRgb()"
   ]
  },
  {
   "cell_type": "markdown",
   "id": "65186cac",
   "metadata": {},
   "source": [
    "Add to map"
   ]
  },
  {
   "cell_type": "markdown",
   "id": "9724c876",
   "metadata": {},
   "source": [
    "### BSI"
   ]
  },
  {
   "cell_type": "code",
   "execution_count": null,
   "id": "ee27e0fd",
   "metadata": {},
   "outputs": [],
   "source": [
    "# List of the independent variable names\n",
    "independents = ee.List(['constant', 't'])\n",
    "\n",
    "# Name of the dependent variable.\n",
    "dependent = ee.String('BSI')\n",
    "\n",
    "# Compute a linear trend.  This will have two bands: 'residuals' and\n",
    "# a 2x1 band called coefficients (columns are for dependent variables).\n",
    "trend = collection.select(independents.add(dependent)) \\\n",
    "  .reduce(ee.Reducer.linearRegression(independents.length(), 1))\n",
    "# Map.addLayer(trend, {}, 'trend array image')\n",
    "\n",
    "# Flatten the coefficients into a 2-band image\n",
    "coefficients = trend.select('coefficients') \\\n",
    "    .arrayProject([0]) \\\n",
    "    .arrayFlatten([independents])"
   ]
  },
  {
   "cell_type": "code",
   "execution_count": null,
   "id": "2fc098e5",
   "metadata": {},
   "outputs": [],
   "source": [
    "# Compute a de-trended series.\n",
    "\n",
    "def func_hzu(image):\n",
    "    return image.select(dependent).subtract(\n",
    "                image.select(independents).multiply(coefficients).reduce('sum')) \\\n",
    "                .rename(dependent) \\\n",
    "                .copyProperties(image, ['system:time_start'])\n",
    "\n",
    "detrended = collection.map(func_hzu)\n",
    "\n",
    "# Plot the detrended results.\n",
    "# detrendedChart = ui.Chart.image.series(detrended, roi, None, 30) \\\n",
    "#   .setOptions({\n",
    "#     'title': 'Detrended Sentinel time series at ROI',\n",
    "#     'lineWidth': 1,\n",
    "#     'pointSize': 3,\n",
    "#   })\n",
    "#print(detrendedChart)\n",
    "\n",
    "# Use these independent variables in the harmonic regression.\n",
    "harmonicIndependents = ee.List(['constant', 't', 'cos', 'sin'])"
   ]
  },
  {
   "cell_type": "code",
   "execution_count": null,
   "id": "5ee3e52c",
   "metadata": {},
   "outputs": [],
   "source": [
    "# Add harmonic terms as new image bands.\n",
    "\n",
    "def func_knr(image):\n",
    "    timeRadians = image.select('t').multiply(2 * math.pi)\n",
    "    return image \\\n",
    "          .addBands(timeRadians.cos().rename('cos')) \\\n",
    "          .addBands(timeRadians.sin().rename('sin'))\n",
    "\n",
    "harmonicLandsat = collection.map(func_knr)\n",
    "\n",
    "harmonicTrend = harmonicLandsat \\\n",
    ".select(harmonicIndependents.add(dependent)) \\\n",
    ".reduce(ee.Reducer.linearRegression(\n",
    "    **{\n",
    "        'numX': harmonicIndependents.length(),\n",
    "        'numY': 1\n",
    "    }))\n",
    "# Turn the array image into a multi-band image of coefficients.\n",
    "harmonicTrendCoefficients = harmonicTrend.select('coefficients') \\\n",
    ".arrayProject([0]) \\\n",
    ".arrayFlatten([harmonicIndependents])"
   ]
  },
  {
   "cell_type": "code",
   "execution_count": null,
   "id": "a39d0c5e",
   "metadata": {},
   "outputs": [],
   "source": [
    "# Compute fitted values.\n",
    "\n",
    "def func_fyi(image):\n",
    "        return image.addBands(\n",
    "          image.select(harmonicIndependents) \\\n",
    "            .multiply(harmonicTrendCoefficients) \\\n",
    "            .reduce('sum') \\\n",
    "            .rename('fitted'))\n",
    "\n",
    "fittedHarmonic = harmonicLandsat.map(func_fyi)\n",
    "\n",
    "# Plot the fitted model and the original data at the ROI.\n",
    "#print(ui.Chart.image.series(\n",
    "# fittedHarmonic.select(['fitted','BSI']), roi, ee.Reducer.mean(), 30) \\\n",
    "#   .setSeriesNames(['BSI', 'fitted']) \\\n",
    "#   .setOptions({\n",
    "#     'title': 'Harmonic model: original and fitted values',\n",
    "#     'lineWidth': 1,\n",
    "#     'pointSize': 3,\n",
    "# }))\n",
    "#"
   ]
  },
  {
   "cell_type": "code",
   "execution_count": null,
   "id": "5444e1f7",
   "metadata": {},
   "outputs": [],
   "source": [
    "# Compute phase and amplitude.\n",
    "phase_bsi = harmonicTrendCoefficients.select('sin') \\\n",
    "  .atan2(harmonicTrendCoefficients.select('cos')) \\\n",
    "  .unitScale(-math.pi, math.pi) \\\n",
    "  .rename(\"HUE_BSI\")\n",
    "\n",
    "amplitude_bsi = harmonicTrendCoefficients.select('sin') \\\n",
    "  .hypot(harmonicTrendCoefficients.select('cos')) \\\n",
    "  .multiply(5) \\\n",
    "  .rename(\"SAT_BSI\")\n",
    "\n",
    "# Compute the mean BSI.\n",
    "meanBsi= collection.select('BSI').mean().rename(\"VAL_BSI\")\n",
    "\n",
    "# Use the HSV to RGB transform to display phase and amplitude.\n",
    "rgb = ee.Image.cat([\n",
    "    phase_bsi,      # hue\n",
    "    amplitude_bsi,  # saturation (difference from white)\n",
    "    meanBsi    # value (difference from black)\n",
    "    ]).hsvToRgb()"
   ]
  },
  {
   "cell_type": "markdown",
   "id": "4ca66db4",
   "metadata": {},
   "source": [
    "Add to the map"
   ]
  },
  {
   "cell_type": "code",
   "execution_count": null,
   "id": "facc0c7d",
   "metadata": {},
   "outputs": [],
   "source": [
    "Map.addLayer(rgb, {}, 'phase_bsi (hue), amplitude_bsi (sat), bsi (val)')\n",
    "Map"
   ]
  },
  {
   "cell_type": "markdown",
   "id": "60b6d827",
   "metadata": {},
   "source": [
    "### GRVI"
   ]
  },
  {
   "cell_type": "code",
   "execution_count": null,
   "id": "2052c200",
   "metadata": {},
   "outputs": [],
   "source": [
    "# List of the independent variable names\n",
    "independents = ee.List(['constant', 't'])\n",
    "\n",
    "# Name of the dependent variable.\n",
    "dependent = ee.String('GRVI')\n",
    "\n",
    "# Compute a linear trend.  This will have two bands: 'residuals' and\n",
    "# a 2x1 band called coefficients (columns are for dependent variables).\n",
    "trend = collection.select(independents.add(dependent)) \\\n",
    "  .reduce(ee.Reducer.linearRegression(independents.length(), 1))\n",
    "# Map.addLayer(trend, {}, 'trend array image')\n",
    "\n",
    "# Flatten the coefficients into a 2-band image\n",
    "coefficients = trend.select('coefficients') \\\n",
    "    .arrayProject([0]) \\\n",
    "    .arrayFlatten([independents])"
   ]
  },
  {
   "cell_type": "code",
   "execution_count": null,
   "id": "583176b2",
   "metadata": {},
   "outputs": [],
   "source": [
    "# Compute a de-trended series.\n",
    "\n",
    "def func_rwe(image):\n",
    "    return image.select(dependent).subtract(\n",
    "                image.select(independents).multiply(coefficients).reduce('sum')) \\\n",
    "                .rename(dependent) \\\n",
    "                .copyProperties(image, ['system:time_start'])\n",
    "\n",
    "detrended = collection.map(func_rwe)\n",
    "\n",
    "# Plot the detrended results.\n",
    "# detrendedChart = ui.Chart.image.series(detrended, roi, None, 30) \\\n",
    "#   .setOptions({\n",
    "#     'title': 'Detrended Sentinel time series at ROI',\n",
    "#     'lineWidth': 1,\n",
    "#     'pointSize': 3,\n",
    "#   })\n",
    "#print(detrendedChart)\n",
    "\n",
    "# Use these independent variables in the harmonic regression.\n",
    "harmonicIndependents = ee.List(['constant', 't', 'cos', 'sin'])"
   ]
  },
  {
   "cell_type": "code",
   "execution_count": null,
   "id": "eb705948",
   "metadata": {},
   "outputs": [],
   "source": [
    "# Add harmonic terms as new image bands.\n",
    "\n",
    "def func_sze(image):\n",
    "    timeRadians = image.select('t').multiply(2 * math.pi)\n",
    "    return image \\\n",
    "          .addBands(timeRadians.cos().rename('cos')) \\\n",
    "          .addBands(timeRadians.sin().rename('sin'))\n",
    "\n",
    "harmonicLandsat = collection.map(func_sze)\n",
    "\n",
    "harmonicTrend = harmonicLandsat \\\n",
    ".select(harmonicIndependents.add(dependent)) \\\n",
    ".reduce(ee.Reducer.linearRegression(\n",
    "    **{\n",
    "        'numX': harmonicIndependents.length(),\n",
    "        'numY': 1\n",
    "    }))\n",
    "# Turn the array image into a multi-band image of coefficients.\n",
    "harmonicTrendCoefficients = harmonicTrend.select('coefficients') \\\n",
    ".arrayProject([0]) \\\n",
    ".arrayFlatten([harmonicIndependents])"
   ]
  },
  {
   "cell_type": "code",
   "execution_count": null,
   "id": "16b534e5",
   "metadata": {},
   "outputs": [],
   "source": [
    "# Compute fitted values.\n",
    "\n",
    "def func_kuj(image):\n",
    "    return image.addBands(\n",
    "          image.select(harmonicIndependents) \\\n",
    "            .multiply(harmonicTrendCoefficients) \\\n",
    "            .reduce('sum') \\\n",
    "            .rename('fitted'))\n",
    "\n",
    "fittedHarmonic = harmonicLandsat.map(func_kuj)\n",
    "\n",
    "# Plot the fitted model and the original data at the ROI.\n",
    "#print(ui.Chart.image.series(\n",
    "# fittedHarmonic.select(['fitted','GRVI']), roi, ee.Reducer.mean(), 30) \\\n",
    "#   .setSeriesNames(['GRVI', 'fitted']) \\\n",
    "#   .setOptions({\n",
    "#     'title': 'Harmonic model: original and fitted values',\n",
    "#     'lineWidth': 1,\n",
    "#     'pointSize': 3,\n",
    "# }))\n",
    "#\n",
    "\n",
    "# Compute phase and amplitude.\n",
    "phase_grvi = harmonicTrendCoefficients.select('sin') \\\n",
    "  .atan2(harmonicTrendCoefficients.select('cos')) \\\n",
    "  .unitScale(-math.pi, math.pi) \\\n",
    "  .rename(\"HUE_GRVI\")\n",
    "\n",
    "amplitude_grvi = harmonicTrendCoefficients.select('sin') \\\n",
    "  .hypot(harmonicTrendCoefficients.select('cos')) \\\n",
    "  .multiply(5) \\\n",
    "  .rename(\"SAT_GRVI\")\n",
    "\n",
    "# Compute the mean GRVI.\n",
    "meanGrvi= collection.select('GRVI').mean().rename(\"VAL_GRVI\")\n",
    "\n",
    "# Use the HSV to RGB transform to display phase and amplitude.\n",
    "rgb = ee.Image.cat([\n",
    "    phase_grvi,      # hue\n",
    "    amplitude_grvi,  # saturation (difference from white)\n",
    "    meanGrvi    # value (difference from black)\n",
    "    ]).hsvToRgb()"
   ]
  },
  {
   "cell_type": "markdown",
   "id": "ec9d0aae",
   "metadata": {},
   "source": [
    "Add layer to map"
   ]
  },
  {
   "cell_type": "code",
   "execution_count": null,
   "id": "e5606fbd",
   "metadata": {},
   "outputs": [],
   "source": [
    "Map.addLayer(rgb, {}, 'phase_grvi (hue), amplitude_grvi (sat), grvi (val)')\n",
    "Map"
   ]
  },
  {
   "cell_type": "markdown",
   "id": "59b50c21",
   "metadata": {},
   "source": [
    "## Lag function"
   ]
  },
  {
   "cell_type": "code",
   "execution_count": null,
   "id": "8cf75be0",
   "metadata": {},
   "outputs": [],
   "source": [
    "def lag(leftCollection, rightCollection, lagDays):\n",
    "    filter = ee.Filter.And(\n",
    "        ee.Filter.maxDifference({\n",
    "            'difference': 1000 * 60 * 60 * 24 * lagDays,\n",
    "            'leftField': 'system:time_start',\n",
    "            'rightField': 'system:time_start'\n",
    "        }),\n",
    "        ee.Filter.greaterThan({\n",
    "            'leftField': 'system:time_start',\n",
    "            'rightField': 'system:time_start'\n",
    "        }))\n",
    "    return ee.Join.saveAll({\n",
    "        'matchesKey': 'images',\n",
    "        'measureKey': 'delta_t',\n",
    "        'ordering': 'system:time_start',\n",
    "        'ascending': False, # Sort reverse chronologically\n",
    "    }).apply({\n",
    "        'primary': leftCollection,\n",
    "        'secondary': rightCollection,\n",
    "        'condition': filter\n",
    "    })"
   ]
  },
  {
   "cell_type": "markdown",
   "id": "2f679642",
   "metadata": {},
   "source": [
    "## Select and extract bands"
   ]
  },
  {
   "cell_type": "code",
   "execution_count": null,
   "id": "8d290a44",
   "metadata": {},
   "outputs": [],
   "source": [
    "print(OutBands)\n",
    "final_bands= compclip.select(OutBands)\n",
    "# print(final_bands.bandNames().getInfo())"
   ]
  },
  {
   "cell_type": "code",
   "execution_count": null,
   "id": "eafa529b",
   "metadata": {},
   "outputs": [],
   "source": [
    "#Visualization of the final dataset using RGB and CIR\n",
    "Map = geemap.Map()\n",
    "Map.centerObject(Area_Nice)\n",
    "Map.addLayer(final_bands, {'min': 0.0, 'max': 0.3, 'bands': ['B4', 'B3', 'B2'],}, 'RGB')\n",
    "Map.addLayer(final_bands, {'min': 0.0, 'max': 0.3, 'bands': ['B8', 'B4', 'B3'],}, 'CIR')\n",
    "Map"
   ]
  },
  {
   "cell_type": "code",
   "execution_count": null,
   "id": "c28f4293",
   "metadata": {},
   "outputs": [],
   "source": [
    "#Add the index statistics to the median bands and clip the dataset with the ROI\n",
    "compclip = band_median.addBands(ndvimax).addBands(ndvimean).addBands(ndvistd) \\\n",
    "    .addBands(nmdimax).addBands(nmdimean).addBands(nmdistd) \\\n",
    "    .addBands(ndbimax).addBands(ndbimean).addBands(ndbistd) \\\n",
    "    .addBands(phase_ndvi).addBands(amplitude_ndvi).addBands(meanNdvi) \\\n",
    "    .addBands(phase_nmdi).addBands(amplitude_nmdi).addBands(meanNmdi) \\\n",
    "    .addBands(phase_ndbi).addBands(amplitude_ndbi).addBands(meanNdbi) \\\n",
    "    .addBands(bsimax).addBands(bsimean).addBands(bsistd) \\\n",
    "    .addBands(evimax).addBands(evimean).addBands(evistd) \\\n",
    "    .addBands(grvimax).addBands(grvimean).addBands(grvistd) \\\n",
    "    .addBands(mndwimax).addBands(mndwimean).addBands(mndwistd) \\\n",
    "    .addBands(smmimax).addBands(smmimean).addBands(smmistd) \\\n",
    "    .addBands(phase_bsi).addBands(amplitude_bsi).addBands(meanBsi) \\\n",
    "    .addBands(phase_grvi).addBands(amplitude_grvi).addBands(meanGrvi) \\\n",
    "    .clip(Area_Nice)\n",
    "\n",
    "\n",
    "print(compclip.bandNames().getInfo())"
   ]
  },
  {
   "cell_type": "code",
   "execution_count": null,
   "id": "158167ae",
   "metadata": {},
   "outputs": [],
   "source": [
    "OutBands  = [\"B5\",\"B7\"#,\"B6\",\"B8A\",\"B4\",\"B11\"\n",
    "    ,\"B8\",\"B12\"\n",
    "    #,\"NDVI_MAX\",\"NDVI_STD\"\n",
    "    ,\"NDBI_MAX\",\"NDBI_STD\"#,\"HUE_NDVI\",\"SAT_NDVI\",\"NDVI\"#,\"VAL_NDVI\",\n",
    "    ,\"NDBI\",\"B2\"#,\"B3\"#,\"VAL_NDBI\",\"HUE_NDBI\",\"SAT_NDBI\"\n",
    "    #,\"NMDI\",\"NMDI_MAX\",\"NMDI_STD\",\"HUE_NMDI\",\"SAT_NMDI\",\"VAL_NMDI\"\n",
    "    #,\"BSI\",\"VAL_BSI\"\n",
    "    #,\"BSI_STD\",\"BSI_MAX\",\"HUE_BSI\",\"SAT_BSI\"\n",
    "    #,\"EVI\",\"EVI_MAX\",\"EVI_STD\"\n",
    "    #,\"GRVI\",\"GRVI_STD\",\"HUE_GRVI\",\"GRVI_MAX\",\"SAT_GRVI\"//,\"VAL_GRVI\"\n",
    "    #,\"MNDWI\",\"MNDWI_MAX\",\"MNDWI_STD\",\"SMMI\",\"SMMI_MAX\",\"SMMI_STD\"\n",
    "    ];"
   ]
  },
  {
   "cell_type": "markdown",
   "id": "ae2e5354",
   "metadata": {},
   "source": [
    "Export regions"
   ]
  },
  {
   "cell_type": "code",
   "execution_count": null,
   "id": "616aaa91",
   "metadata": {},
   "outputs": [],
   "source": [
    "# split area in 4 zones\n",
    "roi1 = ee.Geometry.Polygon(\n",
    "        [\n",
    "            [\n",
    "                [6.642465422021031,43.53595758052378],\n",
    "                [7.076425382958531,43.53595758052378],\n",
    "                [7.076425382958531,43.87844627034738],\n",
    "                [6.642465422021031,43.87844627034738],\n",
    "                [6.642465422021031,43.53595758052378],\n",
    "            ]\n",
    "        ]\n",
    "    )\n",
    "roi2  = ee.Geometry.Polygon(\n",
    "        [\n",
    "            [\n",
    "                [6.719025509208998,43.87688879625747],\n",
    "                [7.076081173271498,43.87688879625747],\n",
    "                [7.076081173271498,44.36389752233614],\n",
    "                [6.719025509208998,44.36389752233614],\n",
    "                [6.719025509208998,43.87688879625747],\n",
    "            ]\n",
    "        ]\n",
    "    )\n",
    "roi3  = ee.Geometry.Polygon(\n",
    "        [\n",
    "            [\n",
    "                [7.073694731019966,43.53711239202778],\n",
    "                [7.447229887269966,43.53711239202778],\n",
    "                [7.447229887269966,43.879099567521784],\n",
    "                [7.073694731019966,43.879099567521784],\n",
    "                [7.073694731019966,43.53711239202778],\n",
    "            ]\n",
    "        ]\n",
    "    )\n",
    "roi4 = ee.Geometry.Polygon(\n",
    "        [\n",
    "            [\n",
    "                [7.070427585392207,43.87615487031022],\n",
    "                [7.457695651798457,43.87615487031022],\n",
    "                [7.457695651798457,44.193072642068195],\n",
    "                [7.070427585392207,44.193072642068195],\n",
    "                [7.070427585392207,43.87615487031022],\n",
    "            ]\n",
    "        ]\n",
    "    )"
   ]
  },
  {
   "cell_type": "code",
   "execution_count": null,
   "id": "4070df99",
   "metadata": {},
   "outputs": [],
   "source": [
    "#Export the images to an Earth Engine asset\n",
    "\n",
    "# export compclip or final_bands?\n",
    "\n",
    "task1 = ee.batch.Export.image.toAsset(\n",
    "    image=compclip,\n",
    "    region = roi1,\n",
    "    scale=10,\n",
    "    description='05-23_DATASET_COMPOSITION_Nice_OO_9_T1',\n",
    "    assetId='users/suzannacuypers/EARSeL/05-23_DATASET_COMPOSITION_Nice_OO_9_T1_test')\n",
    "\n",
    "task1.start()\n",
    "\n",
    "task2 = ee.batch.Export.image.toAsset(\n",
    "    image=compclip,\n",
    "    region = roi2,\n",
    "    scale=10,\n",
    "    description='05-23_DATASET_COMPOSITION_Nice_OO_9_T2',\n",
    "    assetId='users/suzannacuypers/EARSeL/05-23_DATASET_COMPOSITION_Nice_OO_9_T2_test')\n",
    "\n",
    "task2.start()\n",
    "\n",
    "task3 = ee.batch.Export.image.toAsset(\n",
    "    image=compclip,\n",
    "    region = roi3,\n",
    "    scale=10,\n",
    "    description='05-23_DATASET_COMPOSITION_Nice_OO_9_T3',\n",
    "    assetId='users/suzannacuypers/EARSeL/05-23_DATASET_COMPOSITION_Nice_OO_9_T3_test')\n",
    "\n",
    "task3.start()\n",
    "\n",
    "task4 = ee.batch.Export.image.toAsset(\n",
    "    image=compclip,\n",
    "    region = roi4,\n",
    "    scale=10,\n",
    "    description='05-23_DATASET_COMPOSITION_Nice_OO_9_T4',\n",
    "    assetId='users/suzannacuypers/EARSeL/05-23_DATASET_COMPOSITION_Nice_OO_9_T4_test')\n",
    "\n",
    "task4.start()"
   ]
  },
  {
   "cell_type": "code",
   "execution_count": null,
   "id": "5f9a77a1",
   "metadata": {},
   "outputs": [],
   "source": [
    "Export.image.toAsset({\n",
    "  'image': final_bands,\n",
    "  'region': roi1,\n",
    "  'description': '05-23_DATASET_COMPOSITION_Nice_OO_9_T1',\n",
    "  'scale': 10\n",
    "})\n",
    "#Export the image to an Earth Engine asset\n",
    "Export.image.toAsset({\n",
    "  'image': final_bands,\n",
    "  'region': roi2,\n",
    "  'description': '05-23_DATASET_COMPOSITION_Nice_OO_9_T2',\n",
    "  'scale': 10\n",
    "})\n",
    "#Export the image to an Earth Engine asset\n",
    "Export.image.toAsset({\n",
    "  'image': final_bands,\n",
    "  'region': roi3,\n",
    "  'description': '05-23_DATASET_COMPOSITION_Nice_OO_9_T3',\n",
    "  'scale': 10\n",
    "})\n",
    "#Export the image to an Earth Engine asset\n",
    "Export.image.toAsset({\n",
    "  'image': final_bands,\n",
    "  'region': roi4,\n",
    "  'description': '05-23_DATASET_COMPOSITION_Nice_OO_9_T4',\n",
    "  'scale': 10\n",
    "})\n",
    "#print(OutBands)"
   ]
  },
  {
   "cell_type": "code",
   "execution_count": null,
   "id": "9f8a56c1",
   "metadata": {},
   "outputs": [],
   "source": [
    "# too large\n",
    "# export compclip or final_bands ?\n",
    "filename = '/home/scuypers/GEE/outputs/05-23_DATASET_COMPOSITION_Nice_OO_9_T1.tif'\n",
    "geemap.ee_export_image(\n",
    "    compclip, filename=filename, scale=10, region=roi1, file_per_band=False\n",
    ")"
   ]
  },
  {
   "cell_type": "markdown",
   "id": "9419d880",
   "metadata": {},
   "source": [
    "# Classification"
   ]
  },
  {
   "cell_type": "markdown",
   "id": "174f4dce",
   "metadata": {},
   "source": [
    "## Preparing data"
   ]
  },
  {
   "cell_type": "code",
   "execution_count": 70,
   "id": "52e7cb08",
   "metadata": {},
   "outputs": [],
   "source": [
    "# import assets\n",
    "training = ee.FeatureCollection('users/suzannacuypers/EARSeL/trainingData_Nice_new')\n",
    "validation = ee.FeatureCollection('users/suzannacuypers/EARSeL/validationData_Nice_new')"
   ]
  },
  {
   "cell_type": "code",
   "execution_count": 71,
   "id": "92f22b2b",
   "metadata": {},
   "outputs": [],
   "source": [
    "# loading data\n",
    "newfc = training\n",
    "valpnts = validation\n",
    "\n",
    "# remap labels\n",
    "newfc = newfc.remap([1,2,3,4,5,6,7,10,11,12,13,14], [0,0,0,1,2,3,4,5,6,7,8,9], 'b1');\n",
    "valpnts = valpnts.remap([1,2,3,4,5,6,7,10,11,12,13,14], [0,0,0,1,2,3,4,5,6,7,8,9], 'b1');\n",
    "\n",
    "scale = 20"
   ]
  },
  {
   "cell_type": "markdown",
   "id": "15e264d9",
   "metadata": {},
   "source": [
    "Loading HR data"
   ]
  },
  {
   "cell_type": "code",
   "execution_count": 139,
   "id": "c9d935f0",
   "metadata": {},
   "outputs": [
    {
     "name": "stdout",
     "output_type": "stream",
     "text": [
      "<class 'ee.image.Image'>\n",
      "<class 'ee.image.Image'>\n"
     ]
    }
   ],
   "source": [
    "HR_data = ee.ImageCollection(\"users/andreanascetti/IEEE/Nice_Ortho\").mosaic()\n",
    "print(type(HR_data))\n",
    "\n",
    "#nomalizing the HR data\n",
    "RGB_MIN = 0\n",
    "RGB_MAX = 255\n",
    "normalized = HR_data.select(['b1', 'b2', 'b3']).unitScale(RGB_MIN, RGB_MAX)\n",
    "print(type(normalized))"
   ]
  },
  {
   "cell_type": "markdown",
   "id": "6764c3c2",
   "metadata": {},
   "source": [
    "Loading Composite images"
   ]
  },
  {
   "cell_type": "code",
   "execution_count": 73,
   "id": "746f6e40",
   "metadata": {},
   "outputs": [
    {
     "name": "stdout",
     "output_type": "stream",
     "text": [
      "['B5', 'B7', 'B8', 'B12', 'NDBI_MAX', 'NDBI_STD', 'NDBI', 'B2']\n",
      "['b1', 'b2', 'b3', 'B5', 'B7', 'B8', 'B12', 'NDBI_MAX', 'NDBI_STD', 'NDBI', 'B2']\n"
     ]
    }
   ],
   "source": [
    "image1 = ee.Image('users/suzannacuypers/EARSeL/05-23_DATASET_COMPOSITION_Nice_OO_9_T1')\n",
    "image2 = ee.Image('users/suzannacuypers/EARSeL/05-23_DATASET_COMPOSITION_Nice_OO_9_T2')\n",
    "image3 = ee.Image('users/suzannacuypers/EARSeL/05-23_DATASET_COMPOSITION_Nice_OO_9_T3')\n",
    "image4 = ee.Image('users/suzannacuypers/EARSeL/05-23_DATASET_COMPOSITION_Nice_OO_9_T4')\n",
    "\n",
    "print(image1.bandNames().getInfo())\n",
    "\n",
    "table1 = ee.FeatureCollection('users/andreanascetti/IEEE/Nice_Tiles') # all tile shapes of GT data\n",
    "# table2 = Area_Nice # ??? # Table from users/andreanascetti/IEEE/Nice_Tiles\n",
    "\n",
    "S2_data = ee.ImageCollection([image1,image2,image3,image4]).mosaic().clip(table1)\n",
    "dataset = normalized.addBands(S2_data)\n",
    "print(dataset.bandNames().getInfo())"
   ]
  },
  {
   "cell_type": "code",
   "execution_count": 76,
   "id": "149ca640",
   "metadata": {},
   "outputs": [
    {
     "data": {
      "application/vnd.jupyter.widget-view+json": {
       "model_id": "97a9d6eb512c40acb78c18ee4ce302ea",
       "version_major": 2,
       "version_minor": 0
      },
      "text/plain": [
       "Map(center=[20, 0], controls=(WidgetControl(options=['position', 'transparent_bg'], widget=HBox(children=(Togg…"
      ]
     },
     "metadata": {},
     "output_type": "display_data"
    }
   ],
   "source": [
    "# add layers to map\n",
    "Map = geemap.Map()\n",
    "\n",
    "Map.centerObject(table1)\n",
    "\n",
    "Map.addLayer(image1,{},'image1')\n",
    "Map.addLayer(table1,{},'area polygons')\n",
    "Map.addLayer(dataset,{},'dataset')\n",
    "\n",
    "Map"
   ]
  },
  {
   "cell_type": "markdown",
   "id": "6216dcdd",
   "metadata": {},
   "source": [
    "Loading ground truth labels"
   ]
  },
  {
   "cell_type": "code",
   "execution_count": 77,
   "id": "cb796561",
   "metadata": {},
   "outputs": [],
   "source": [
    "groundTruth = ee.ImageCollection(\"users/andreanascetti/IEEE/Nice_Labels\")"
   ]
  },
  {
   "attachments": {
    "image.png": {
     "image/png": "[encoded data removed]"
    }
   },
   "cell_type": "markdown",
   "id": "2ae4f17b",
   "metadata": {},
   "source": [
    "Adding data to the map\n",
    "\n",
    "![image.png](attachment:image.png)"
   ]
  },
  {
   "cell_type": "code",
   "execution_count": 78,
   "id": "f0faf5e7",
   "metadata": {},
   "outputs": [],
   "source": [
    "palette = [\n",
    "  '000000',\n",
    "  'FF5733', #(0)  Urban fabric\n",
    "  'F98A04', #(1)  Industrial, commercial, public, military, private and transport units\n",
    "  'FBDB10', #(2)  Mine, dump and construction sites\n",
    "  'B7E603', #(3)  Artificial non-agricultural vegetated areas\n",
    "  'B6FF45', #(4)  Arable land (annual crops)\n",
    "  '5FB331', #(5)  Permanent crops\n",
    "  '3FAF17', #(6)  Pastures\n",
    "  'FCE5CD', #()complex and mixed...\n",
    "  'C6ECB6', #()orchards at the fringe\n",
    "  '237605', #(7)  Forests\n",
    "  '43B680', #(8)  Herbaceous vegetation associations\n",
    "  '9B621A', #(9)  Open spaces with little or no vegetation\n",
    "  '0691C3', #(10)  Wetlands\n",
    "  '085CB8', #(11)  Water\n",
    "  '000000',\n",
    "]\n",
    "\n",
    "# Map.addLayer(Nice.mosaic(),{'min':0, 'max':15, 'palette':palette},\"Labels_Nice\")"
   ]
  },
  {
   "cell_type": "code",
   "execution_count": 81,
   "id": "47ff64bb",
   "metadata": {},
   "outputs": [
    {
     "data": {
      "application/vnd.jupyter.widget-view+json": {
       "model_id": "2476dc44a3a5417a86ec91e821126fae",
       "version_major": 2,
       "version_minor": 0
      },
      "text/plain": [
       "Map(center=[20, 0], controls=(WidgetControl(options=['position', 'transparent_bg'], widget=HBox(children=(Togg…"
      ]
     },
     "metadata": {},
     "output_type": "display_data"
    }
   ],
   "source": [
    "Map = geemap.Map()#center=(43.708, 7.228), zoom=10)\n",
    "\n",
    "Map.centerObject(table1)\n",
    "\n",
    "vis_params = {'color': 'f5e105ff'}\n",
    "\n",
    "Map.addLayer(dataset, {'min': 0.0, 'max': 1.0, 'bands': ['b1', 'b2', 'b3'], }, 'RGB')\n",
    "Map.addLayer(groundTruth.mosaic(),{'min':0, 'max':15, 'palette':palette},\"Labels_Nice\")\n",
    "Map.addLayer(newfc,vis_params,'Training points')\n",
    "\n",
    "Map"
   ]
  },
  {
   "cell_type": "markdown",
   "id": "92922968",
   "metadata": {},
   "source": [
    "Add legend if desired"
   ]
  },
  {
   "cell_type": "code",
   "execution_count": 80,
   "id": "2545c1a0",
   "metadata": {},
   "outputs": [],
   "source": [
    "legend_dict = {\n",
    "  'no data':'000000',\n",
    "  'Urban fabric':'FF5733', #(0)  \n",
    "  'Industrial, commercial, public, military, private and transport units':'F98A04', #(1)  \n",
    "  'Mine, dump and construction sites':'FBDB10', #(2)  \n",
    "  'Artificial non-agricultural vegetated areas':'B7E603', #(3)  \n",
    "  'Arable land (annual crops)':'B6FF45', #(4)  \n",
    "  'Permanent crops':'5FB331', #(5)  \n",
    "  'Pastures':'3FAF17', #(6)  \n",
    "  #'complex and mixed...':'FCE5CD', #()\n",
    "  #'orchards at the fringe':'C6ECB6', #()\n",
    "  'Forests':'237605', #(7)  \n",
    "  'Herbaceous vegetation associations':'43B680', #(8)  \n",
    "  'Open spaces with little or no vegetation':'9B621A', #(9)  \n",
    "  'Wetlands':'0691C3', #(10)  \n",
    "  'Water':'085CB8', #(11)  \n",
    "  #'Clouds & Shadow':'000000',\n",
    "}\n",
    "Map.add_legend(legend_title=\"Land cover classes\", legend_dict=legend_dict)"
   ]
  },
  {
   "cell_type": "markdown",
   "id": "75578582",
   "metadata": {},
   "source": [
    "## Training data"
   ]
  },
  {
   "cell_type": "code",
   "execution_count": 58,
   "id": "0878a3c4",
   "metadata": {},
   "outputs": [],
   "source": [
    "#To improve the amount of supervised information, a buffer with a fixed radius (10 m) is created around each point.\n",
    "def buffer(feature):\n",
    "    return feature.buffer(10)\n",
    "\n",
    "newfc = newfc.map(buffer)"
   ]
  },
  {
   "cell_type": "markdown",
   "id": "695de553",
   "metadata": {},
   "source": [
    "## Define the classifier"
   ]
  },
  {
   "cell_type": "code",
   "execution_count": null,
   "id": "829996c8",
   "metadata": {},
   "outputs": [],
   "source": [
    "## original code \n",
    "\n",
    "'''\n",
    "//If you decided to use the SVM algorithm it's mandatory the normalization of the input bands\n",
    "if(classifier_alg ==\"SVM\"){\n",
    "  var image = ee.Image(dataset);\n",
    "  // calculate the min and max value of an image\n",
    "  var minMax = image.reduceRegion({\n",
    "    reducer: ee.Reducer.minMax(),\n",
    "    geometry: roi,\n",
    "    scale: scale,\n",
    "    maxPixels: 10e16,\n",
    "  }); \n",
    "// use unit scale to normalize the pixel values\n",
    "var dataset = ee.ImageCollection.fromImages(\n",
    "  image.bandNames().map(function(name){\n",
    "    name = ee.String(name);\n",
    "    var band = image.select(name);\n",
    "    return band.unitScale(ee.Number(minMax.get(name.cat('_min'))), ee.Number(minMax.get(name.cat('_max'))))\n",
    "})).toBands().rename(image.bandNames());\n",
    "}\n",
    "'''"
   ]
  },
  {
   "cell_type": "code",
   "execution_count": 59,
   "id": "4d0b7e6b",
   "metadata": {},
   "outputs": [],
   "source": [
    "#if you want use RandomForest (classifier_alg= \"RF\") else use SVM (classifier_alg= \"SVM\")\n",
    "classifier_alg = \"RF\"\n",
    "\n",
    "#If you decided to use the SVM algorithm it's mandatory to normalize the input bands\n",
    "\n",
    "def func_yvi(name):\n",
    "    name = ee.String(name)\n",
    "    band = image.select(name)\n",
    "    return band.unitScale(ee.Number(minMax.get(name.cat('_min'))), ee.Number(minMax.get(name.cat('_max'))))\n",
    "\n",
    "if classifier_alg == \"SVM\":\n",
    "    image = ee.Image(dataset)\n",
    "    # calculate the min and max value of an image\n",
    "    minMax = image.reduceRegion(\n",
    "        **{\n",
    "            'reducer': ee.Reducer.minMax(),\n",
    "            'geometry': roi,\n",
    "            'scale': scale,\n",
    "            'maxPixels': 10e16,\n",
    "        })\n",
    "    # use unit scale to normalize the pixel values\n",
    "    dataset = ee.ImageCollection.fromImages(\n",
    "        image.bandNames().map(func_yvi)).toBands().rename(image.bandNames())\n"
   ]
  },
  {
   "cell_type": "markdown",
   "id": "ff952f87",
   "metadata": {},
   "source": [
    "## Object Based Approach"
   ]
  },
  {
   "cell_type": "markdown",
   "id": "be47b57d",
   "metadata": {},
   "source": [
    "### SNIC"
   ]
  },
  {
   "cell_type": "code",
   "execution_count": 85,
   "id": "0634a94f",
   "metadata": {},
   "outputs": [
    {
     "name": "stdout",
     "output_type": "stream",
     "text": [
      "EPSG:4326\n"
     ]
    },
    {
     "data": {
      "application/vnd.jupyter.widget-view+json": {
       "model_id": "2476dc44a3a5417a86ec91e821126fae",
       "version_major": 2,
       "version_minor": 0
      },
      "text/plain": [
       "Map(bottom=556.0, center=[0.0, 0.0], controls=(WidgetControl(options=['position', 'transparent_bg'], widget=HB…"
      ]
     },
     "metadata": {},
     "output_type": "display_data"
    },
    {
     "data": {
      "application/javascript": [
       "\n",
       "        var code = IPython.notebook.insert_cell_below('code');\n",
       "        code.set_text(atob(\"aW1wb3J0IGdlZW1hcAoKTWFwID0gZ2VlbWFwLk1hcCgpCgojIFRoaXMgaGVscGVyIGZ1bmN0aW9uIHJldHVybnMgYSBsaXN0IG9mIG5ldyBiYW5kIG5hbWVzLgpkZWYgZ2V0TmV3QmFuZE5hbWVzKHByZWZpeCk6CiAgc2VxID0gZWUuTGlzdC5zZXF1ZW5jZSgxLCBiYW5kTmFtZXMubGVuZ3RoKCkpCgpkZWYgZnVuY19yenIoYik6CiAgICByZXR1cm4gZWUuU3RyaW5nKHByZWZpeCkuY2F0KGVlLk51bWJlcihiKS5pbnQoKSkKCiAgcmV0dXJuIHNlcS5tYXAoZnVuY19yenIpCgpNYXA=\"));\n",
       "    "
      ],
      "text/plain": [
       "<IPython.core.display.Javascript object>"
      ]
     },
     "metadata": {},
     "output_type": "display_data"
    },
    {
     "data": {
      "application/javascript": [
       "\n",
       "        var code = IPython.notebook.insert_cell_below('code');\n",
       "        code.set_text(atob(\"aW1wb3J0IGdlZW1hcAoKTWFwID0gZ2VlbWFwLk1hcCgpCgppZiAoY2xhc3NpZmllcl9hbGc9PSJTVk0iKXsKCm1pbk1heCA9IGZpbmFsX2JhbmRzLnJlZHVjZVJlZ2lvbih7CiAgJ3JlZHVjZXInOiBlZS5SZWR1Y2VyLm1pbk1heCgpLAogICdnZW9tZXRyeSc6IHJvaSwKICAnc2NhbGUnOiBzY2FsZSwKICAnbWF4UGl4ZWxzJzogMTBlMTYsCiAgJ3RpbGVTY2FsZSc6OAp9KQpmaW5hbF9iYW5kcyA9IGVlLkltYWdlQ29sbGVjdGlvbi5mcm9tSW1hZ2VzKAoKZGVmIGZ1bmNfbWdwKG5hbWUpOgogICAgbmFtZSA9IGVlLlN0cmluZyhuYW1lKQogICAgYmFuZCA9IGZpbmFsX2JhbmRzLnNlbGVjdChuYW1lKQogICAgcmV0dXJuIGJhbmQudW5pdFNjYWxlKGVlLk51bWJlcihtaW5NYXguZ2V0KG5hbWUuY2F0KCdfbWluJykpKSwgZWUuTnVtYmVyKG1pbk1heC5nZXQobmFtZS5jYXQoJ19tYXgnKSkpKQoKICBmaW5hbF9iYW5kcy5iYW5kTmFtZXMoKS5tYXAoZnVuY19tZ3AKKSkudG9CYW5kcygpLnJlbmFtZShmaW5hbF9iYW5kcy5iYW5kTmFtZXMoKSkKCikpLnRvQmFuZHMoKS5yZW5hbWUoZmluYWxfYmFuZHMuYmFuZE5hbWVzKCkpCn0KTWFwCk1hcA==\"));\n",
       "    "
      ],
      "text/plain": [
       "<IPython.core.display.Javascript object>"
      ]
     },
     "metadata": {},
     "output_type": "display_data"
    }
   ],
   "source": [
    "# Segmentation using a SNIC approach based on the dataset previosly generated\n",
    "size_segmentation = 10 # influences cluster size\n",
    "seeds = ee.Algorithms.Image.Segmentation.seedGrid(size_segmentation)\n",
    "\n",
    "# paper: compactness = 0, connectivity = 8, and neighborhood size = 256\n",
    "snic = ee.Algorithms.Image.Segmentation.SNIC(\n",
    "    **{\n",
    "        'image': dataset,#.select('b1','b2','b3'),\n",
    "        'compactness': 0, # influences the cluster shape (larger values produce more compact clusters)\n",
    "        'connectivity': 8, # (4 or 8) defines if consider a Rook’s or Queen’s contiguity to merge adjacent clusters\n",
    "        'neighborhoodSize': 256, # to avoid tile boundary artifacts\n",
    "        'seeds': seeds\n",
    "    })\n",
    "\n",
    "clusters_snic = snic.select(\"clusters\")\n",
    "crs = clusters_snic.projection().getInfo()['crs']\n",
    "print(crs) # EPSG:4326\n",
    "\n",
    "# SNIC outputs are variable depending on the visualization scale.\n",
    "# Thus it is necessary to fix a proper output scale of clusters through the “reproject” function (S2 = 10)\n",
    "scale = 10\n",
    "clusters_snic = clusters_snic.reproject (**{'crs': crs, 'scale': scale})\n",
    "\n",
    "Map.centerObject(newfc)\n",
    "Map.addLayer(clusters_snic.randomVisualizer(), {}, 'clusters')\n",
    "Map"
   ]
  },
  {
   "cell_type": "markdown",
   "id": "7747ae77",
   "metadata": {},
   "source": [
    "### GLCM"
   ]
  },
  {
   "cell_type": "code",
   "execution_count": 137,
   "id": "c98a125b",
   "metadata": {},
   "outputs": [
    {
     "name": "stdout",
     "output_type": "stream",
     "text": [
      "<class 'ee.image.Image'>\n",
      "<class 'ee.image.Image'>\n",
      "<class 'ee.image.Image'>\n",
      "['gray_asm', 'gray_contrast', 'gray_corr', 'gray_var', 'gray_idm', 'gray_savg', 'gray_svar', 'gray_sent', 'gray_ent', 'gray_dvar', 'gray_dent', 'gray_imcorr1', 'gray_imcorr2', 'gray_maxcorr', 'gray_diss', 'gray_inertia', 'gray_shade', 'gray_prom']\n"
     ]
    }
   ],
   "source": [
    "#Create and rescale a grayscale image for GLCM\n",
    "# paper: Gray = (0.3 × NIR) + (0.59 × RED) + (0.11 × GREEN)\n",
    "print(type(dataset))\n",
    "gray = dataset.expression(\n",
    "      '(0.11 * B) + (0.3 * R) + (0.59 * G)', {\n",
    "      'B': dataset.select('b3'),\n",
    "      'R': dataset.select('b1'),\n",
    "      'G': dataset.select('b2')\n",
    "}).rename('gray')\n",
    "print(type(gray))\n",
    "\n",
    "# the glcmTexture size (in pixel) can be adjusted considering the spatial resolution and the object textural characteristics\n",
    "\n",
    "glcm = gray.unitScale(0, 0.30).multiply(100).toInt().glcmTexture(**{'size': 2})\n",
    "print(type(glcm))\n",
    "print(glcm.bandNames().getInfo()) # ['gray_asm', 'gray_contrast', 'gray_corr', 'gray_var', 'gray_idm', 'gray_savg', 'gray_svar', 'gray_sent', 'gray_ent', 'gray_dvar', 'gray_dent', 'gray_imcorr1', 'gray_imcorr2', 'gray_maxcorr', 'gray_diss', 'gray_inertia', 'gray_shade', 'gray_prom']"
   ]
  },
  {
   "attachments": {
    "image.png": {
     "image/png": "[encoded data removed]"
    }
   },
   "cell_type": "markdown",
   "id": "79fae123",
   "metadata": {},
   "source": [
    "The selected GLCM metrics:\n",
    "\n",
    "![image.png](attachment:image.png)"
   ]
  },
  {
   "cell_type": "code",
   "execution_count": 134,
   "id": "440ac150",
   "metadata": {},
   "outputs": [
    {
     "name": "stdout",
     "output_type": "stream",
     "text": [
      "<class 'ee.image.Image'>\n",
      "<class 'ee.image.Image'>\n"
     ]
    }
   ],
   "source": [
    "# Define the GLCM indices used in input for the PCA\n",
    "glcm_bands= [\"gray_asm\",\"gray_contrast\",\"gray_corr\",\"gray_ent\",\"gray_var\",\"gray_idm\",\"gray_savg\"]\n",
    "\n",
    "#--- Before the PCA the glcm bands are scaled\n",
    "image = glcm.select(glcm_bands)\n",
    "print(type(image))\n",
    "# calculate the min and max value of an image\n",
    "minMax = image.reduceRegion(\n",
    "    **{\n",
    "        'reducer': ee.Reducer.minMax(),\n",
    "        'geometry': Area_Nice,\n",
    "        'scale': scale,\n",
    "        'maxPixels': 10e16,\n",
    "        'tileScale':8\n",
    "    })\n",
    "\n",
    "def func_ehv(name):\n",
    "    name = ee.String(name)\n",
    "    band = image.select(name)\n",
    "    return band.unitScale(ee.Number(minMax.get(name.cat('_min'))), ee.Number(minMax.get(name.cat('_max'))))\n",
    "\n",
    "glcm = ee.ImageCollection.fromImages(image.bandNames().map(func_ehv)).toBands().rename(image.bandNames())\n",
    "# glcm = image.bandNames().map(func_ehv).toBands().rename(image.bandNames())\n",
    "print(type(glcm))"
   ]
  },
  {
   "cell_type": "markdown",
   "id": "272bd033",
   "metadata": {},
   "source": [
    "### PCA"
   ]
  },
  {
   "cell_type": "code",
   "execution_count": 131,
   "id": "2189a770",
   "metadata": {},
   "outputs": [
    {
     "name": "stdout",
     "output_type": "stream",
     "text": [
      "Nominal Scale 20\n",
      "['gray_asm', 'gray_contrast', 'gray_corr', 'gray_ent', 'gray_var', 'gray_idm', 'gray_savg']\n",
      "<class 'ee.image.Image'>\n"
     ]
    }
   ],
   "source": [
    "# The code relating to the PCA was adapted from the GEE documentation  https:#developers.google.com/earth-engine/guides/arrays_eigen_analysis\n",
    "\n",
    "# Get some information about the input to be used later.\n",
    "scale = 20 #glcm.projection().nominalScale()\n",
    "print(\"Nominal Scale\", scale)\n",
    "bandNames = glcm.bandNames()\n",
    "print(bandNames.getInfo()) # ['gray_asm', 'gray_contrast', 'gray_corr', 'gray_ent', 'gray_var', 'gray_idm', 'gray_savg']\n",
    "\n",
    "# Mean center the data to enable a faster covariance reducer and an SD stretch of the principal components.\n",
    "meanDict = glcm.reduceRegion(\n",
    "    **{'reducer': ee.Reducer.mean(),\n",
    "       'geometry': Area_Nice,\n",
    "       'scale': scale,\n",
    "       'maxPixels': 10e16,\n",
    "       'tileScale':8\n",
    "      })\n",
    "means = ee.Image.constant(meanDict.values(bandNames))\n",
    "centered = glcm.subtract(means)\n",
    "print(type(centered))"
   ]
  },
  {
   "cell_type": "markdown",
   "id": "2db6e82c",
   "metadata": {},
   "source": [
    "PCA helper functions"
   ]
  },
  {
   "cell_type": "code",
   "execution_count": 108,
   "id": "1ee97257",
   "metadata": {},
   "outputs": [],
   "source": [
    "# This helper function returns a list of new band names.\n",
    "def getNewBandNames(prefix):\n",
    "    seq = ee.List.sequence(1, bandNames.length())\n",
    "    def func_rzr(b):\n",
    "        return ee.String(prefix).cat(ee.Number(b).int())\n",
    "    return seq.map(func_rzr)"
   ]
  },
  {
   "cell_type": "code",
   "execution_count": 109,
   "id": "a479ba01",
   "metadata": {},
   "outputs": [],
   "source": [
    "# This function accepts mean centered imagery, a scale and a region in which to perform the analysis.\n",
    "# It returns the Principal Components (PC) in the region as a new image.\n",
    "\n",
    "def getPrincipalComponents(centered, scale, region):\n",
    "    # Collapse the bands of the image into a 1D array per pixel.\n",
    "    arrays = centered.toArray()\n",
    "    # Compute the covariance of the bands within the region.\n",
    "    covar = arrays.reduceRegion(\n",
    "        **{'reducer': ee.Reducer.centeredCovariance(),\n",
    "           'geometry': region,\n",
    "           'scale': scale,\n",
    "           'maxPixels': 10e16,\n",
    "           'tileScale':8\n",
    "          })\n",
    "\n",
    "    # Get the 'array' covariance result and cast to an array.\n",
    "    # This represents the band-to-band covariance within the region.\n",
    "    covarArray = ee.Array(covar.get('array'))\n",
    "\n",
    "    # Perform an eigen analysis and slice apart the values and vectors.\n",
    "    eigens = covarArray.eigen()\n",
    "\n",
    "    # This is a P-length vector of Eigenvalues.\n",
    "    eigenValues = eigens.slice(1, 0, 1)\n",
    "    # This is a PxP matrix with eigenvectors in rows.\n",
    "    eigenVectors = eigens.slice(1, 1)\n",
    "\n",
    "    # Convert the array image to 2D arrays for matrix computations.\n",
    "    arrayImage = arrays.toArray(1)\n",
    "\n",
    "    # Left multiply the image array by the matrix of eigenvectors.\n",
    "    principalComponents = ee.Image(eigenVectors).matrixMultiply(arrayImage)\n",
    "\n",
    "    # Turn the square roots of the Eigenvalues into a P-band image.\n",
    "    sdImage = ee.Image(eigenValues.sqrt()) \\\n",
    "    .arrayProject([0]).arrayFlatten([getNewBandNames('sd')])\n",
    "\n",
    "    # Turn the PCs into a P-band image, normalized by SD.\n",
    "    return principalComponents \\\n",
    "        .arrayProject([0]) \\\n",
    "        .arrayFlatten([getNewBandNames('pc')]) \\\n",
    "        .divide(sdImage)"
   ]
  },
  {
   "cell_type": "code",
   "execution_count": 124,
   "id": "4a1afe69",
   "metadata": {},
   "outputs": [
    {
     "name": "stdout",
     "output_type": "stream",
     "text": [
      "<class 'ee.image.Image'>\n",
      "<class 'ee.image.Image'>\n"
     ]
    }
   ],
   "source": [
    "print(type(centered))\n",
    "pcImage = getPrincipalComponents(centered, scale, Area_Nice)\n",
    "print(type(pcImage))"
   ]
  },
  {
   "cell_type": "markdown",
   "id": "7fc5960b",
   "metadata": {},
   "source": [
    "### Adding the PC1 object-averaged band to those extracted from SNIC"
   ]
  },
  {
   "cell_type": "code",
   "execution_count": 144,
   "id": "32b92b96",
   "metadata": {},
   "outputs": [
    {
     "name": "stdout",
     "output_type": "stream",
     "text": [
      "<class 'ee.image.Image'>\n",
      "<class 'ee.ee_list.List'>\n"
     ]
    }
   ],
   "source": [
    "#Select the band \"clusters\" from the snic output fixed on its scale of 10 meters and add them to the PC1 taken from the PCA data.\n",
    "# Calculate the mean for each segment with respect to the pixels in that cluster\n",
    "\n",
    "new_feature = clusters_snic.addBands(pcImage.select(\"pc1\"))#.addBands(dataset.select('B12','B5','B8','B2','B7','NDBI','NDBI_MAX','NDBI_STD'))#,'NDVI','NDVI_MAX','NDVI_STD','SAT_NDVI','HUE_NDVI'))\n",
    "\n",
    "new_feature_mean = new_feature.reduceConnectedComponents(\n",
    "    **{\n",
    "      'reducer': ee.Reducer.mean(),\n",
    "      'labelBand': 'clusters'\n",
    "    })\n",
    "\n",
    "#Create a dataset with the new band used so far together with the band \"clusters\" and their new mean parameters\n",
    "final_bands = new_feature_mean.addBands(snic)\n",
    "print(type(final_bands))\n",
    "\n",
    "#Define the training bands removing just the \"clusters\" bands\n",
    "predictionBands  = final_bands.bandNames().remove(\"clusters\")\n",
    "print(type(predictionBands))"
   ]
  },
  {
   "cell_type": "markdown",
   "id": "2579e3fe",
   "metadata": {},
   "source": [
    "### Training the classifier"
   ]
  },
  {
   "cell_type": "code",
   "execution_count": null,
   "id": "578ed28e",
   "metadata": {},
   "outputs": [],
   "source": [
    "'''\n",
    "//---- Normalize all data if you decide to use the SVM classifier\n",
    "if (classifier_alg==\"SVM\"){\n",
    "  \n",
    "var minMax = final_bands.reduceRegion({\n",
    "  reducer: ee.Reducer.minMax(),\n",
    "  geometry: roi,\n",
    "  scale: scale,\n",
    "  maxPixels: 10e16,\n",
    "  tileScale:8\n",
    "});\n",
    "'''\n",
    "\n",
    "'''final_bands = ee.ImageCollection.fromImages(\n",
    "    final_bands.bandNames().map(function(name){\n",
    "        name = ee.String(name)\n",
    "        band = final_bands.select(name)\n",
    "    return band.unitScale(ee.Number(minMax.get(name.cat('_min'))), ee.Number(minMax.get(name.cat('_max'))))\n",
    "})).toBands().rename(final_bands.bandNames())'''\n",
    "\n",
    "def func_mgp(name):\n",
    "    name = ee.String(name)\n",
    "    band = final_bands.select(name)\n",
    "    return band.unitScale(ee.Number(minMax.get(name.cat('_min'))), ee.Number(minMax.get(name.cat('_max'))))\n",
    "\n",
    "\n",
    "final_bands = ee.ImageCollection.fromImages(final_bands.bandNames().map(func_mgp)).toBands().rename(final_bands.bandNames())"
   ]
  },
  {
   "cell_type": "code",
   "execution_count": 145,
   "id": "129b0bf1",
   "metadata": {},
   "outputs": [
    {
     "ename": "EEException",
     "evalue": "Unrecognized argument type to convert to a FeatureCollection: {'collection': <ee.featurecollection.FeatureCollection object at 0x7f98f88dabe0>, 'properties': ['b1'], 'scale': 20, 'tileScale': 8}",
     "output_type": "error",
     "traceback": [
      "\u001b[0;31m---------------------------------------------------------------------------\u001b[0m",
      "\u001b[0;31mEEException\u001b[0m                               Traceback (most recent call last)",
      "Input \u001b[0;32mIn [145]\u001b[0m, in \u001b[0;36m<cell line: 2>\u001b[0;34m()\u001b[0m\n\u001b[1;32m      1\u001b[0m \u001b[38;5;66;03m#Classification using the classifier with the training bands called predictionBands\u001b[39;00m\n\u001b[0;32m----> 2\u001b[0m training_geobia \u001b[38;5;241m=\u001b[39m \u001b[43mfinal_bands\u001b[49m\u001b[38;5;241;43m.\u001b[39;49m\u001b[43mselect\u001b[49m\u001b[43m(\u001b[49m\u001b[43mpredictionBands\u001b[49m\u001b[43m)\u001b[49m\u001b[38;5;241;43m.\u001b[39;49m\u001b[43msampleRegions\u001b[49m\u001b[43m(\u001b[49m\u001b[43m{\u001b[49m\n\u001b[1;32m      3\u001b[0m \u001b[43m  \u001b[49m\u001b[38;5;124;43m'\u001b[39;49m\u001b[38;5;124;43mcollection\u001b[39;49m\u001b[38;5;124;43m'\u001b[39;49m\u001b[43m:\u001b[49m\u001b[43m \u001b[49m\u001b[43mnewfc\u001b[49m\u001b[43m,\u001b[49m\n\u001b[1;32m      4\u001b[0m \u001b[43m  \u001b[49m\u001b[38;5;124;43m'\u001b[39;49m\u001b[38;5;124;43mproperties\u001b[39;49m\u001b[38;5;124;43m'\u001b[39;49m\u001b[43m:\u001b[49m\u001b[43m \u001b[49m\u001b[43m[\u001b[49m\u001b[38;5;124;43m'\u001b[39;49m\u001b[38;5;124;43mb1\u001b[39;49m\u001b[38;5;124;43m'\u001b[39;49m\u001b[43m]\u001b[49m\u001b[43m,\u001b[49m\n\u001b[1;32m      5\u001b[0m \u001b[43m  \u001b[49m\u001b[38;5;124;43m'\u001b[39;49m\u001b[38;5;124;43mscale\u001b[39;49m\u001b[38;5;124;43m'\u001b[39;49m\u001b[43m:\u001b[49m\u001b[43m \u001b[49m\u001b[43mscale\u001b[49m\u001b[43m,\u001b[49m\n\u001b[1;32m      6\u001b[0m \u001b[43m  \u001b[49m\u001b[38;5;124;43m'\u001b[39;49m\u001b[38;5;124;43mtileScale\u001b[39;49m\u001b[38;5;124;43m'\u001b[39;49m\u001b[43m:\u001b[49m\u001b[38;5;241;43m8\u001b[39;49m\n\u001b[1;32m      7\u001b[0m \u001b[43m}\u001b[49m\u001b[43m)\u001b[49m\n\u001b[1;32m      9\u001b[0m \u001b[38;5;66;03m#Training the classifier\u001b[39;00m\n\u001b[1;32m     10\u001b[0m \u001b[38;5;28;01mif\u001b[39;00m classifier_alg \u001b[38;5;241m==\u001b[39m \u001b[38;5;124m\"\u001b[39m\u001b[38;5;124mRF\u001b[39m\u001b[38;5;124m\"\u001b[39m:\n",
      "File \u001b[0;32m~/.conda/envs/gee/lib/python3.9/site-packages/ee/apifunction.py:205\u001b[0m, in \u001b[0;36mApiFunction.importApi.<locals>.MakeBoundFunction.<locals>.<lambda>\u001b[0;34m(*args, **kwargs)\u001b[0m\n\u001b[1;32m    203\u001b[0m \u001b[38;5;28;01mdef\u001b[39;00m \u001b[38;5;21mMakeBoundFunction\u001b[39m(func):\n\u001b[1;32m    204\u001b[0m   \u001b[38;5;66;03m# We need the lambda to capture \"func\" from the enclosing scope.\u001b[39;00m\n\u001b[0;32m--> 205\u001b[0m   \u001b[38;5;28;01mreturn\u001b[39;00m \u001b[38;5;28;01mlambda\u001b[39;00m \u001b[38;5;241m*\u001b[39margs, \u001b[38;5;241m*\u001b[39m\u001b[38;5;241m*\u001b[39mkwargs: \u001b[43mfunc\u001b[49m\u001b[38;5;241;43m.\u001b[39;49m\u001b[43mcall\u001b[49m\u001b[43m(\u001b[49m\u001b[38;5;241;43m*\u001b[39;49m\u001b[43margs\u001b[49m\u001b[43m,\u001b[49m\u001b[43m \u001b[49m\u001b[38;5;241;43m*\u001b[39;49m\u001b[38;5;241;43m*\u001b[39;49m\u001b[43mkwargs\u001b[49m\u001b[43m)\u001b[49m\n",
      "File \u001b[0;32m~/.conda/envs/gee/lib/python3.9/site-packages/ee/function.py:67\u001b[0m, in \u001b[0;36mFunction.call\u001b[0;34m(self, *args, **kwargs)\u001b[0m\n\u001b[1;32m     55\u001b[0m \u001b[38;5;28;01mdef\u001b[39;00m \u001b[38;5;21mcall\u001b[39m(\u001b[38;5;28mself\u001b[39m, \u001b[38;5;241m*\u001b[39margs, \u001b[38;5;241m*\u001b[39m\u001b[38;5;241m*\u001b[39mkwargs):\n\u001b[1;32m     56\u001b[0m   \u001b[38;5;124;03m\"\"\"Calls the function with the given positional and keyword arguments.\u001b[39;00m\n\u001b[1;32m     57\u001b[0m \n\u001b[1;32m     58\u001b[0m \u001b[38;5;124;03m  Args:\u001b[39;00m\n\u001b[0;32m   (...)\u001b[0m\n\u001b[1;32m     65\u001b[0m \u001b[38;5;124;03m    to that type.\u001b[39;00m\n\u001b[1;32m     66\u001b[0m \u001b[38;5;124;03m  \"\"\"\u001b[39;00m\n\u001b[0;32m---> 67\u001b[0m   \u001b[38;5;28;01mreturn\u001b[39;00m \u001b[38;5;28;43mself\u001b[39;49m\u001b[38;5;241;43m.\u001b[39;49m\u001b[43mapply\u001b[49m\u001b[43m(\u001b[49m\u001b[38;5;28;43mself\u001b[39;49m\u001b[38;5;241;43m.\u001b[39;49m\u001b[43mnameArgs\u001b[49m\u001b[43m(\u001b[49m\u001b[43margs\u001b[49m\u001b[43m,\u001b[49m\u001b[43m \u001b[49m\u001b[43mkwargs\u001b[49m\u001b[43m)\u001b[49m\u001b[43m)\u001b[49m\n",
      "File \u001b[0;32m~/.conda/envs/gee/lib/python3.9/site-packages/ee/function.py:80\u001b[0m, in \u001b[0;36mFunction.apply\u001b[0;34m(self, named_args)\u001b[0m\n\u001b[1;32m     69\u001b[0m \u001b[38;5;28;01mdef\u001b[39;00m \u001b[38;5;21mapply\u001b[39m(\u001b[38;5;28mself\u001b[39m, named_args):\n\u001b[1;32m     70\u001b[0m   \u001b[38;5;124;03m\"\"\"Calls the function with a dictionary of named arguments.\u001b[39;00m\n\u001b[1;32m     71\u001b[0m \n\u001b[1;32m     72\u001b[0m \u001b[38;5;124;03m  Args:\u001b[39;00m\n\u001b[0;32m   (...)\u001b[0m\n\u001b[1;32m     78\u001b[0m \u001b[38;5;124;03m    to that type.\u001b[39;00m\n\u001b[1;32m     79\u001b[0m \u001b[38;5;124;03m  \"\"\"\u001b[39;00m\n\u001b[0;32m---> 80\u001b[0m   result \u001b[38;5;241m=\u001b[39m computedobject\u001b[38;5;241m.\u001b[39mComputedObject(\u001b[38;5;28mself\u001b[39m, \u001b[38;5;28;43mself\u001b[39;49m\u001b[38;5;241;43m.\u001b[39;49m\u001b[43mpromoteArgs\u001b[49m\u001b[43m(\u001b[49m\u001b[43mnamed_args\u001b[49m\u001b[43m)\u001b[49m)\n\u001b[1;32m     81\u001b[0m   \u001b[38;5;28;01mreturn\u001b[39;00m Function\u001b[38;5;241m.\u001b[39m_promoter(result, \u001b[38;5;28mself\u001b[39m\u001b[38;5;241m.\u001b[39mgetReturnType())\n",
      "File \u001b[0;32m~/.conda/envs/gee/lib/python3.9/site-packages/ee/function.py:107\u001b[0m, in \u001b[0;36mFunction.promoteArgs\u001b[0;34m(self, args)\u001b[0m\n\u001b[1;32m    105\u001b[0m name \u001b[38;5;241m=\u001b[39m spec[\u001b[38;5;124m'\u001b[39m\u001b[38;5;124mname\u001b[39m\u001b[38;5;124m'\u001b[39m]\n\u001b[1;32m    106\u001b[0m \u001b[38;5;28;01mif\u001b[39;00m name \u001b[38;5;129;01min\u001b[39;00m args:\n\u001b[0;32m--> 107\u001b[0m   promoted_args[name] \u001b[38;5;241m=\u001b[39m \u001b[43mFunction\u001b[49m\u001b[38;5;241;43m.\u001b[39;49m\u001b[43m_promoter\u001b[49m\u001b[43m(\u001b[49m\u001b[43margs\u001b[49m\u001b[43m[\u001b[49m\u001b[43mname\u001b[49m\u001b[43m]\u001b[49m\u001b[43m,\u001b[49m\u001b[43m \u001b[49m\u001b[43mspec\u001b[49m\u001b[43m[\u001b[49m\u001b[38;5;124;43m'\u001b[39;49m\u001b[38;5;124;43mtype\u001b[39;49m\u001b[38;5;124;43m'\u001b[39;49m\u001b[43m]\u001b[49m\u001b[43m)\u001b[49m\n\u001b[1;32m    108\u001b[0m \u001b[38;5;28;01melif\u001b[39;00m \u001b[38;5;129;01mnot\u001b[39;00m spec\u001b[38;5;241m.\u001b[39mget(\u001b[38;5;124m'\u001b[39m\u001b[38;5;124moptional\u001b[39m\u001b[38;5;124m'\u001b[39m):\n\u001b[1;32m    109\u001b[0m   \u001b[38;5;28;01mraise\u001b[39;00m ee_exception\u001b[38;5;241m.\u001b[39mEEException(\n\u001b[1;32m    110\u001b[0m       \u001b[38;5;124m'\u001b[39m\u001b[38;5;124mRequired argument (\u001b[39m\u001b[38;5;132;01m%s\u001b[39;00m\u001b[38;5;124m) missing to function: \u001b[39m\u001b[38;5;132;01m%s\u001b[39;00m\u001b[38;5;124m'\u001b[39m\n\u001b[1;32m    111\u001b[0m       \u001b[38;5;241m%\u001b[39m (name, \u001b[38;5;28mself\u001b[39m\u001b[38;5;241m.\u001b[39mname))\n",
      "File \u001b[0;32m~/.conda/envs/gee/lib/python3.9/site-packages/ee/__init__.py:242\u001b[0m, in \u001b[0;36m_Promote\u001b[0;34m(arg, klass)\u001b[0m\n\u001b[1;32m    240\u001b[0m     \u001b[38;5;28;01mreturn\u001b[39;00m arg\n\u001b[1;32m    241\u001b[0m   \u001b[38;5;28;01melse\u001b[39;00m:\n\u001b[0;32m--> 242\u001b[0m     \u001b[38;5;28;01mreturn\u001b[39;00m \u001b[43mFeatureCollection\u001b[49m\u001b[43m(\u001b[49m\u001b[43marg\u001b[49m\u001b[43m)\u001b[49m\n\u001b[1;32m    243\u001b[0m \u001b[38;5;28;01melif\u001b[39;00m klass \u001b[38;5;241m==\u001b[39m \u001b[38;5;124m'\u001b[39m\u001b[38;5;124mImageCollection\u001b[39m\u001b[38;5;124m'\u001b[39m:\n\u001b[1;32m    244\u001b[0m   \u001b[38;5;28;01mreturn\u001b[39;00m ImageCollection(arg)\n",
      "File \u001b[0;32m~/.conda/envs/gee/lib/python3.9/site-packages/ee/computedobject.py:32\u001b[0m, in \u001b[0;36mComputedObjectMetaclass.__call__\u001b[0;34m(cls, *args, **kwargs)\u001b[0m\n\u001b[1;32m     30\u001b[0m   \u001b[38;5;28;01mreturn\u001b[39;00m args[\u001b[38;5;241m0\u001b[39m]\n\u001b[1;32m     31\u001b[0m \u001b[38;5;28;01melse\u001b[39;00m:\n\u001b[0;32m---> 32\u001b[0m   \u001b[38;5;28;01mreturn\u001b[39;00m \u001b[38;5;28;43mtype\u001b[39;49m\u001b[38;5;241;43m.\u001b[39;49m\u001b[38;5;21;43m__call__\u001b[39;49m\u001b[43m(\u001b[49m\u001b[38;5;28;43mcls\u001b[39;49m\u001b[43m,\u001b[49m\u001b[43m \u001b[49m\u001b[38;5;241;43m*\u001b[39;49m\u001b[43margs\u001b[49m\u001b[43m,\u001b[49m\u001b[43m \u001b[49m\u001b[38;5;241;43m*\u001b[39;49m\u001b[38;5;241;43m*\u001b[39;49m\u001b[43mkwargs\u001b[49m\u001b[43m)\u001b[49m\n",
      "File \u001b[0;32m~/.conda/envs/gee/lib/python3.9/site-packages/ee/featurecollection.py:83\u001b[0m, in \u001b[0;36mFeatureCollection.__init__\u001b[0;34m(self, args, opt_column)\u001b[0m\n\u001b[1;32m     80\u001b[0m   \u001b[38;5;28msuper\u001b[39m(FeatureCollection, \u001b[38;5;28mself\u001b[39m)\u001b[38;5;241m.\u001b[39m\u001b[38;5;21m__init__\u001b[39m(\n\u001b[1;32m     81\u001b[0m       args\u001b[38;5;241m.\u001b[39mfunc, args\u001b[38;5;241m.\u001b[39margs, args\u001b[38;5;241m.\u001b[39mvarName)\n\u001b[1;32m     82\u001b[0m \u001b[38;5;28;01melse\u001b[39;00m:\n\u001b[0;32m---> 83\u001b[0m   \u001b[38;5;28;01mraise\u001b[39;00m ee_exception\u001b[38;5;241m.\u001b[39mEEException(\n\u001b[1;32m     84\u001b[0m       \u001b[38;5;124m'\u001b[39m\u001b[38;5;124mUnrecognized argument type to convert to a FeatureCollection: \u001b[39m\u001b[38;5;132;01m%s\u001b[39;00m\u001b[38;5;124m'\u001b[39m \u001b[38;5;241m%\u001b[39m\n\u001b[1;32m     85\u001b[0m       args)\n",
      "\u001b[0;31mEEException\u001b[0m: Unrecognized argument type to convert to a FeatureCollection: {'collection': <ee.featurecollection.FeatureCollection object at 0x7f98f88dabe0>, 'properties': ['b1'], 'scale': 20, 'tileScale': 8}"
     ]
    }
   ],
   "source": [
    "#Classification using the classifier with the training bands called predictionBands\n",
    "training_geobia = final_bands.select(predictionBands).sampleRegions({\n",
    "  'collection': newfc,\n",
    "  'properties': ['b1'],\n",
    "  'scale': scale,\n",
    "  'tileScale':8\n",
    "})\n",
    "\n",
    "#Training the classifier\n",
    "if classifier_alg == \"RF\":\n",
    "    classifier = ee.Classifier.smileRandomForest(50).train({\n",
    "        'features':training_geobia,\n",
    "        'classProperty':'b1',\n",
    "        'inputProperties': predictionBands\n",
    "    })\n",
    "\n",
    "elif classifier_alg == \"SVM\":\n",
    "    classifie = ee.Classifier.libsvm({\n",
    "        'kernelType': 'RBF',\n",
    "        'gamma': 15,'cost': 10\n",
    "    })\n",
    "    classifier = classifie.train(training_geobia, 'b1', predictionBands)\n",
    "\n",
    "else:\n",
    "    print(\"You need to set your classifier for the Object based approach\")\n",
    "\n",
    "print(\"Training finished\")"
   ]
  },
  {
   "cell_type": "markdown",
   "id": "19fe1998",
   "metadata": {},
   "source": [
    "### Classifying"
   ]
  },
  {
   "cell_type": "code",
   "execution_count": null,
   "id": "0bbb7827",
   "metadata": {},
   "outputs": [],
   "source": [
    "classy_RF = final_bands.select(predictionBands).classify(classifier)"
   ]
  },
  {
   "cell_type": "markdown",
   "id": "479bbbb3",
   "metadata": {},
   "source": [
    "Add classification layer to the map"
   ]
  },
  {
   "cell_type": "code",
   "execution_count": null,
   "id": "440731ac",
   "metadata": {},
   "outputs": [],
   "source": [
    "classy_RF = classy_RF.reproject ({'crs': classy_RF.projection (), 'scale': scale})\n",
    "Map.addLayer(classy_RF, {'min': 0, 'max': 9, 'palette': palette}, 'LULC GEOBIA APPROACH', True)"
   ]
  },
  {
   "cell_type": "markdown",
   "id": "035d7462",
   "metadata": {},
   "source": [
    "### Validation of Object-Oriented Approach"
   ]
  },
  {
   "cell_type": "code",
   "execution_count": null,
   "id": "0093c0de",
   "metadata": {},
   "outputs": [],
   "source": [
    "#Validation of the object-oriented approach\n",
    "classifier_geobia = final_bands.select(predictionBands).sampleRegions({\n",
    "    'collection': valpnts,\n",
    "    'properties': ['b1'],\n",
    "    'scale': scale,\n",
    "    'tileScale':8\n",
    "})\n",
    "\n",
    "classificazione = classifier_geobia.classify(classifier)\n",
    "\n",
    "testAccuracy = classificazione.errorMatrix('b1', 'classification')\n",
    "\n",
    "#print('GEOBIA approach_Test confusion matrix: ', testAccuracy)\n",
    "print('GEOBIA APPROACH: Overall accuracy ', testAccuracy.accuracy())\n",
    "print(testAccuracy)\n",
    "\n",
    "#Print the number of pixels for each class\n",
    "analysis_image_sl = classy_RF.select(\"classification\")"
   ]
  },
  {
   "cell_type": "code",
   "execution_count": null,
   "id": "e39a49eb",
   "metadata": {},
   "outputs": [],
   "source": [
    "class1 =  analysis_image_sl.updateMask(analysis_image_sl.eq(1))\n",
    "class2 =  analysis_image_sl.updateMask(analysis_image_sl.eq(2))\n",
    "class3 =  analysis_image_sl.updateMask(analysis_image_sl.eq(3))\n",
    "class4 =  analysis_image_sl.updateMask(analysis_image_sl.eq(4))\n",
    "class5 =  analysis_image_sl.updateMask(analysis_image_sl.eq(5))\n",
    "class6 =  analysis_image_sl.updateMask(analysis_image_sl.eq(6))\n",
    "class7 =  analysis_image_sl.updateMask(analysis_image_sl.eq(7))\n",
    "class10 =  analysis_image_sl.updateMask(analysis_image_sl.eq(10))\n",
    "class11 =  analysis_image_sl.updateMask(analysis_image_sl.eq(11))\n",
    "class12 =  analysis_image_sl.updateMask(analysis_image_sl.eq(12))\n",
    "class13 =  analysis_image_sl.updateMask(analysis_image_sl.eq(13))\n",
    "class14 =  analysis_image_sl.updateMask(analysis_image_sl.eq(14))\n",
    "\n",
    "all_classes = class1.addBands(class2).addBands(class3).addBands(class4) \\\n",
    "          .addBands(class5).addBands(class6).addBands(class7).addBands(class10) \\\n",
    "          .addBands(class11).addBands(class12).addBands(class13).addBands(class14)\n",
    "\n",
    "count_pixels = all_classes.reduceRegion(\n",
    "    **{\n",
    "        'reducer': ee.Reducer.count(),\n",
    "        'geometry': roi,\n",
    "        'scale':scale,\n",
    "        'maxPixels': 1e16,\n",
    "        'tileScale':8\n",
    "    })"
   ]
  },
  {
   "cell_type": "code",
   "execution_count": null,
   "id": "6005fe40",
   "metadata": {},
   "outputs": [],
   "source": [
    "print(count_pixels, \"GEOBIA APPROACH: pixels for each class\")\n",
    "#\n",
    "exportCM = ee.Feature(None, {'CM': testAccuracy.array()})"
   ]
  },
  {
   "cell_type": "markdown",
   "id": "81aee893",
   "metadata": {},
   "source": [
    "Relative importance histogram"
   ]
  },
  {
   "cell_type": "code",
   "execution_count": null,
   "id": "d0ad8321",
   "metadata": {},
   "outputs": [],
   "source": [
    "#Compute RF variable importance\n",
    "dict = classifier.explain()\n",
    "print(\"classifier information:\", dict)\n",
    "variableImportance = ee.Feature(None, ee.Dictionary(dict).get('importance'))\n",
    "\n",
    "chart = ui.Chart.feature.byProperty(variableImportance).setChartType('ColumnChart').setOptions({\n",
    "  'title': 'Random Forest Variable Importance',\n",
    "  'legend': '{position': 'none'},\n",
    "  'hAxis': '{title': 'Bands'},\n",
    "  'vAxis': '{title': 'Importance'}\n",
    "})\n",
    "print(chart)"
   ]
  },
  {
   "cell_type": "code",
   "execution_count": null,
   "id": "e14d63a9",
   "metadata": {},
   "outputs": [],
   "source": [
    "# Export the FeatureCollection.\n",
    "Export.table.toDrive({\n",
    "  'collection': ee.FeatureCollection(exportCM),\n",
    "  'description': '05-09_exportCM_Nice_OO_',\n",
    "  'fileFormat': 'CSV'\n",
    "})"
   ]
  },
  {
   "cell_type": "code",
   "execution_count": null,
   "id": "edf95c3d",
   "metadata": {},
   "outputs": [],
   "source": [
    "Map.addLayer(rgb, {}, 'phase_ndbi (hue), amplitude_ndbi (sat), ndbi (val)')\n",
    "Map"
   ]
  },
  {
   "cell_type": "code",
   "execution_count": null,
   "id": "f330fba7",
   "metadata": {},
   "outputs": [],
   "source": [
    "Map = geemap.Map()#center=(43.708, 7.228), zoom=10)\n",
    "\n",
    "Nice = ee.ImageCollection(\"users/andreanascetti/IEEE/Nice_Labels\")\n",
    "Map.centerObject(Nice)\n",
    "\n",
    "palette = [\n",
    "  '000000',\n",
    "  'FF5733', #(0)  Urban fabric\n",
    "  'F98A04', #(1)  Industrial, commercial, public, military, private and transport units\n",
    "  'FBDB10', #(2)  Mine, dump and construction sites\n",
    "  'B7E603', #(3)  Artificial non-agricultural vegetated areas\n",
    "  'B6FF45', #(4)  Arable land (annual crops)\n",
    "  '5FB331', #(5)  Permanent crops\n",
    "  '3FAF17', #(6)  Pastures\n",
    "  'FCE5CD', #()complex and mixed...\n",
    "  'C6ECB6', #()orchards at the fringe\n",
    "  '237605', #(7)  Forests\n",
    "  '43B680', #(8)  Herbaceous vegetation associations\n",
    "  '9B621A', #(9)  Open spaces with little or no vegetation\n",
    "  '0691C3', #(10)  Wetlands\n",
    "  '085CB8', #(11)  Water\n",
    "  '000000',\n",
    "]\n",
    "\n",
    "Map.addLayer(Nice.mosaic(),{'min':0, 'max':15, 'palette':palette},\"Labels_Nice\")\n",
    "\n",
    "Map"
   ]
  },
  {
   "cell_type": "markdown",
   "id": "322684d9",
   "metadata": {},
   "source": [
    "## Pixel-Based Approach"
   ]
  },
  {
   "cell_type": "code",
   "execution_count": 149,
   "id": "294ebbe2",
   "metadata": {},
   "outputs": [
    {
     "name": "stdout",
     "output_type": "stream",
     "text": [
      "['b1', 'b2', 'b3', 'B5', 'B7', 'B8', 'B12', 'NDBI_MAX', 'NDBI_STD', 'NDBI', 'B2']\n",
      "<class 'ee.image.Image'>\n"
     ]
    },
    {
     "ename": "EEException",
     "evalue": "Unrecognized argument type to convert to a FeatureCollection: {'collection': <ee.featurecollection.FeatureCollection object at 0x7f98f88dabe0>, 'properties': ['b1'], 'scale': 20}",
     "output_type": "error",
     "traceback": [
      "\u001b[0;31m---------------------------------------------------------------------------\u001b[0m",
      "\u001b[0;31mEEException\u001b[0m                               Traceback (most recent call last)",
      "Input \u001b[0;32mIn [149]\u001b[0m, in \u001b[0;36m<cell line: 6>\u001b[0;34m()\u001b[0m\n\u001b[1;32m      4\u001b[0m \u001b[38;5;66;03m# Get the predictors into the table and create a training dataset based on \"b1\" property\u001b[39;00m\n\u001b[1;32m      5\u001b[0m \u001b[38;5;28mprint\u001b[39m(\u001b[38;5;28mtype\u001b[39m(dataset))\n\u001b[0;32m----> 6\u001b[0m training \u001b[38;5;241m=\u001b[39m \u001b[43mdataset\u001b[49m\u001b[38;5;241;43m.\u001b[39;49m\u001b[43mselect\u001b[49m\u001b[43m(\u001b[49m\u001b[43mbands\u001b[49m\u001b[43m)\u001b[49m\u001b[38;5;241;43m.\u001b[39;49m\u001b[43msampleRegions\u001b[49m\u001b[43m(\u001b[49m\u001b[43m{\u001b[49m\n\u001b[1;32m      7\u001b[0m \u001b[43m  \u001b[49m\u001b[38;5;124;43m'\u001b[39;49m\u001b[38;5;124;43mcollection\u001b[39;49m\u001b[38;5;124;43m'\u001b[39;49m\u001b[43m:\u001b[49m\u001b[43m \u001b[49m\u001b[43mnewfc\u001b[49m\u001b[43m,\u001b[49m\n\u001b[1;32m      8\u001b[0m \u001b[43m  \u001b[49m\u001b[38;5;124;43m'\u001b[39;49m\u001b[38;5;124;43mproperties\u001b[39;49m\u001b[38;5;124;43m'\u001b[39;49m\u001b[43m:\u001b[49m\u001b[43m \u001b[49m\u001b[43m[\u001b[49m\u001b[38;5;124;43m'\u001b[39;49m\u001b[38;5;124;43mb1\u001b[39;49m\u001b[38;5;124;43m'\u001b[39;49m\u001b[43m]\u001b[49m\u001b[43m,\u001b[49m\n\u001b[1;32m      9\u001b[0m \u001b[43m  \u001b[49m\u001b[38;5;124;43m'\u001b[39;49m\u001b[38;5;124;43mscale\u001b[39;49m\u001b[38;5;124;43m'\u001b[39;49m\u001b[43m:\u001b[49m\u001b[43m \u001b[49m\u001b[43mscale\u001b[49m\n\u001b[1;32m     10\u001b[0m \u001b[43m}\u001b[49m\u001b[43m)\u001b[49m\n",
      "File \u001b[0;32m~/.conda/envs/gee/lib/python3.9/site-packages/ee/apifunction.py:205\u001b[0m, in \u001b[0;36mApiFunction.importApi.<locals>.MakeBoundFunction.<locals>.<lambda>\u001b[0;34m(*args, **kwargs)\u001b[0m\n\u001b[1;32m    203\u001b[0m \u001b[38;5;28;01mdef\u001b[39;00m \u001b[38;5;21mMakeBoundFunction\u001b[39m(func):\n\u001b[1;32m    204\u001b[0m   \u001b[38;5;66;03m# We need the lambda to capture \"func\" from the enclosing scope.\u001b[39;00m\n\u001b[0;32m--> 205\u001b[0m   \u001b[38;5;28;01mreturn\u001b[39;00m \u001b[38;5;28;01mlambda\u001b[39;00m \u001b[38;5;241m*\u001b[39margs, \u001b[38;5;241m*\u001b[39m\u001b[38;5;241m*\u001b[39mkwargs: \u001b[43mfunc\u001b[49m\u001b[38;5;241;43m.\u001b[39;49m\u001b[43mcall\u001b[49m\u001b[43m(\u001b[49m\u001b[38;5;241;43m*\u001b[39;49m\u001b[43margs\u001b[49m\u001b[43m,\u001b[49m\u001b[43m \u001b[49m\u001b[38;5;241;43m*\u001b[39;49m\u001b[38;5;241;43m*\u001b[39;49m\u001b[43mkwargs\u001b[49m\u001b[43m)\u001b[49m\n",
      "File \u001b[0;32m~/.conda/envs/gee/lib/python3.9/site-packages/ee/function.py:67\u001b[0m, in \u001b[0;36mFunction.call\u001b[0;34m(self, *args, **kwargs)\u001b[0m\n\u001b[1;32m     55\u001b[0m \u001b[38;5;28;01mdef\u001b[39;00m \u001b[38;5;21mcall\u001b[39m(\u001b[38;5;28mself\u001b[39m, \u001b[38;5;241m*\u001b[39margs, \u001b[38;5;241m*\u001b[39m\u001b[38;5;241m*\u001b[39mkwargs):\n\u001b[1;32m     56\u001b[0m   \u001b[38;5;124;03m\"\"\"Calls the function with the given positional and keyword arguments.\u001b[39;00m\n\u001b[1;32m     57\u001b[0m \n\u001b[1;32m     58\u001b[0m \u001b[38;5;124;03m  Args:\u001b[39;00m\n\u001b[0;32m   (...)\u001b[0m\n\u001b[1;32m     65\u001b[0m \u001b[38;5;124;03m    to that type.\u001b[39;00m\n\u001b[1;32m     66\u001b[0m \u001b[38;5;124;03m  \"\"\"\u001b[39;00m\n\u001b[0;32m---> 67\u001b[0m   \u001b[38;5;28;01mreturn\u001b[39;00m \u001b[38;5;28;43mself\u001b[39;49m\u001b[38;5;241;43m.\u001b[39;49m\u001b[43mapply\u001b[49m\u001b[43m(\u001b[49m\u001b[38;5;28;43mself\u001b[39;49m\u001b[38;5;241;43m.\u001b[39;49m\u001b[43mnameArgs\u001b[49m\u001b[43m(\u001b[49m\u001b[43margs\u001b[49m\u001b[43m,\u001b[49m\u001b[43m \u001b[49m\u001b[43mkwargs\u001b[49m\u001b[43m)\u001b[49m\u001b[43m)\u001b[49m\n",
      "File \u001b[0;32m~/.conda/envs/gee/lib/python3.9/site-packages/ee/function.py:80\u001b[0m, in \u001b[0;36mFunction.apply\u001b[0;34m(self, named_args)\u001b[0m\n\u001b[1;32m     69\u001b[0m \u001b[38;5;28;01mdef\u001b[39;00m \u001b[38;5;21mapply\u001b[39m(\u001b[38;5;28mself\u001b[39m, named_args):\n\u001b[1;32m     70\u001b[0m   \u001b[38;5;124;03m\"\"\"Calls the function with a dictionary of named arguments.\u001b[39;00m\n\u001b[1;32m     71\u001b[0m \n\u001b[1;32m     72\u001b[0m \u001b[38;5;124;03m  Args:\u001b[39;00m\n\u001b[0;32m   (...)\u001b[0m\n\u001b[1;32m     78\u001b[0m \u001b[38;5;124;03m    to that type.\u001b[39;00m\n\u001b[1;32m     79\u001b[0m \u001b[38;5;124;03m  \"\"\"\u001b[39;00m\n\u001b[0;32m---> 80\u001b[0m   result \u001b[38;5;241m=\u001b[39m computedobject\u001b[38;5;241m.\u001b[39mComputedObject(\u001b[38;5;28mself\u001b[39m, \u001b[38;5;28;43mself\u001b[39;49m\u001b[38;5;241;43m.\u001b[39;49m\u001b[43mpromoteArgs\u001b[49m\u001b[43m(\u001b[49m\u001b[43mnamed_args\u001b[49m\u001b[43m)\u001b[49m)\n\u001b[1;32m     81\u001b[0m   \u001b[38;5;28;01mreturn\u001b[39;00m Function\u001b[38;5;241m.\u001b[39m_promoter(result, \u001b[38;5;28mself\u001b[39m\u001b[38;5;241m.\u001b[39mgetReturnType())\n",
      "File \u001b[0;32m~/.conda/envs/gee/lib/python3.9/site-packages/ee/function.py:107\u001b[0m, in \u001b[0;36mFunction.promoteArgs\u001b[0;34m(self, args)\u001b[0m\n\u001b[1;32m    105\u001b[0m name \u001b[38;5;241m=\u001b[39m spec[\u001b[38;5;124m'\u001b[39m\u001b[38;5;124mname\u001b[39m\u001b[38;5;124m'\u001b[39m]\n\u001b[1;32m    106\u001b[0m \u001b[38;5;28;01mif\u001b[39;00m name \u001b[38;5;129;01min\u001b[39;00m args:\n\u001b[0;32m--> 107\u001b[0m   promoted_args[name] \u001b[38;5;241m=\u001b[39m \u001b[43mFunction\u001b[49m\u001b[38;5;241;43m.\u001b[39;49m\u001b[43m_promoter\u001b[49m\u001b[43m(\u001b[49m\u001b[43margs\u001b[49m\u001b[43m[\u001b[49m\u001b[43mname\u001b[49m\u001b[43m]\u001b[49m\u001b[43m,\u001b[49m\u001b[43m \u001b[49m\u001b[43mspec\u001b[49m\u001b[43m[\u001b[49m\u001b[38;5;124;43m'\u001b[39;49m\u001b[38;5;124;43mtype\u001b[39;49m\u001b[38;5;124;43m'\u001b[39;49m\u001b[43m]\u001b[49m\u001b[43m)\u001b[49m\n\u001b[1;32m    108\u001b[0m \u001b[38;5;28;01melif\u001b[39;00m \u001b[38;5;129;01mnot\u001b[39;00m spec\u001b[38;5;241m.\u001b[39mget(\u001b[38;5;124m'\u001b[39m\u001b[38;5;124moptional\u001b[39m\u001b[38;5;124m'\u001b[39m):\n\u001b[1;32m    109\u001b[0m   \u001b[38;5;28;01mraise\u001b[39;00m ee_exception\u001b[38;5;241m.\u001b[39mEEException(\n\u001b[1;32m    110\u001b[0m       \u001b[38;5;124m'\u001b[39m\u001b[38;5;124mRequired argument (\u001b[39m\u001b[38;5;132;01m%s\u001b[39;00m\u001b[38;5;124m) missing to function: \u001b[39m\u001b[38;5;132;01m%s\u001b[39;00m\u001b[38;5;124m'\u001b[39m\n\u001b[1;32m    111\u001b[0m       \u001b[38;5;241m%\u001b[39m (name, \u001b[38;5;28mself\u001b[39m\u001b[38;5;241m.\u001b[39mname))\n",
      "File \u001b[0;32m~/.conda/envs/gee/lib/python3.9/site-packages/ee/__init__.py:242\u001b[0m, in \u001b[0;36m_Promote\u001b[0;34m(arg, klass)\u001b[0m\n\u001b[1;32m    240\u001b[0m     \u001b[38;5;28;01mreturn\u001b[39;00m arg\n\u001b[1;32m    241\u001b[0m   \u001b[38;5;28;01melse\u001b[39;00m:\n\u001b[0;32m--> 242\u001b[0m     \u001b[38;5;28;01mreturn\u001b[39;00m \u001b[43mFeatureCollection\u001b[49m\u001b[43m(\u001b[49m\u001b[43marg\u001b[49m\u001b[43m)\u001b[49m\n\u001b[1;32m    243\u001b[0m \u001b[38;5;28;01melif\u001b[39;00m klass \u001b[38;5;241m==\u001b[39m \u001b[38;5;124m'\u001b[39m\u001b[38;5;124mImageCollection\u001b[39m\u001b[38;5;124m'\u001b[39m:\n\u001b[1;32m    244\u001b[0m   \u001b[38;5;28;01mreturn\u001b[39;00m ImageCollection(arg)\n",
      "File \u001b[0;32m~/.conda/envs/gee/lib/python3.9/site-packages/ee/computedobject.py:32\u001b[0m, in \u001b[0;36mComputedObjectMetaclass.__call__\u001b[0;34m(cls, *args, **kwargs)\u001b[0m\n\u001b[1;32m     30\u001b[0m   \u001b[38;5;28;01mreturn\u001b[39;00m args[\u001b[38;5;241m0\u001b[39m]\n\u001b[1;32m     31\u001b[0m \u001b[38;5;28;01melse\u001b[39;00m:\n\u001b[0;32m---> 32\u001b[0m   \u001b[38;5;28;01mreturn\u001b[39;00m \u001b[38;5;28;43mtype\u001b[39;49m\u001b[38;5;241;43m.\u001b[39;49m\u001b[38;5;21;43m__call__\u001b[39;49m\u001b[43m(\u001b[49m\u001b[38;5;28;43mcls\u001b[39;49m\u001b[43m,\u001b[49m\u001b[43m \u001b[49m\u001b[38;5;241;43m*\u001b[39;49m\u001b[43margs\u001b[49m\u001b[43m,\u001b[49m\u001b[43m \u001b[49m\u001b[38;5;241;43m*\u001b[39;49m\u001b[38;5;241;43m*\u001b[39;49m\u001b[43mkwargs\u001b[49m\u001b[43m)\u001b[49m\n",
      "File \u001b[0;32m~/.conda/envs/gee/lib/python3.9/site-packages/ee/featurecollection.py:83\u001b[0m, in \u001b[0;36mFeatureCollection.__init__\u001b[0;34m(self, args, opt_column)\u001b[0m\n\u001b[1;32m     80\u001b[0m   \u001b[38;5;28msuper\u001b[39m(FeatureCollection, \u001b[38;5;28mself\u001b[39m)\u001b[38;5;241m.\u001b[39m\u001b[38;5;21m__init__\u001b[39m(\n\u001b[1;32m     81\u001b[0m       args\u001b[38;5;241m.\u001b[39mfunc, args\u001b[38;5;241m.\u001b[39margs, args\u001b[38;5;241m.\u001b[39mvarName)\n\u001b[1;32m     82\u001b[0m \u001b[38;5;28;01melse\u001b[39;00m:\n\u001b[0;32m---> 83\u001b[0m   \u001b[38;5;28;01mraise\u001b[39;00m ee_exception\u001b[38;5;241m.\u001b[39mEEException(\n\u001b[1;32m     84\u001b[0m       \u001b[38;5;124m'\u001b[39m\u001b[38;5;124mUnrecognized argument type to convert to a FeatureCollection: \u001b[39m\u001b[38;5;132;01m%s\u001b[39;00m\u001b[38;5;124m'\u001b[39m \u001b[38;5;241m%\u001b[39m\n\u001b[1;32m     85\u001b[0m       args)\n",
      "\u001b[0;31mEEException\u001b[0m: Unrecognized argument type to convert to a FeatureCollection: {'collection': <ee.featurecollection.FeatureCollection object at 0x7f98f88dabe0>, 'properties': ['b1'], 'scale': 20}"
     ]
    }
   ],
   "source": [
    "#Selecting desired bands\n",
    "bands= dataset.bandNames()\n",
    "print(bands.getInfo())\n",
    "# Get the predictors into the table and create a training dataset based on \"b1\" property\n",
    "print(type(dataset))\n",
    "training = dataset.select(bands).sampleRegions({\n",
    "  'collection': newfc,\n",
    "  'properties': ['b1'],\n",
    "  'scale': scale\n",
    "})"
   ]
  },
  {
   "cell_type": "code",
   "execution_count": null,
   "id": "d2274354",
   "metadata": {},
   "outputs": [],
   "source": [
    "'''\n",
    "//If you decided to use the SVM algorithm it's mandatory the normalization of the input bands\n",
    "if(classifier_alg ==\"SVM\"){\n",
    "var image = ee.Image(dataset);\n",
    "// calculate the min and max value of an image\n",
    "var minMax = image.reduceRegion({\n",
    "  reducer: ee.Reducer.minMax(),\n",
    "  geometry: roi,\n",
    "  scale: scale,\n",
    "  maxPixels: 10e16,\n",
    "}); \n",
    "// use unit scale to normalize the pixel values\n",
    "var dataset = ee.ImageCollection.fromImages(\n",
    "  image.bandNames().map(function(name){\n",
    "    name = ee.String(name);\n",
    "    var band = image.select(name);\n",
    "    return band.unitScale(ee.Number(minMax.get(name.cat('_min'))), ee.Number(minMax.get(name.cat('_max'))))\n",
    "})).toBands().rename(image.bandNames());\n",
    "}\n",
    "'''"
   ]
  },
  {
   "cell_type": "markdown",
   "id": "f2da8f2e",
   "metadata": {},
   "source": [
    "### Training the Classifier"
   ]
  },
  {
   "cell_type": "markdown",
   "id": "b4e11c42",
   "metadata": {},
   "source": [
    "In the PB classification stage, the image is quickly classified by a preliminary definition of the RF\n",
    "classifier, or the SVM classifier, and the subsequent training phase. As generally performed, a band normalization of the input dataset was applied before applying the SVM classification. For the RF classifier, the number of trees was set to 50, while for the SVM a radial basis function kernel (RBF) was applied (with gamma = 1 and cost = 10). To clean up all the output and reduce the “salt and pepper” effect, a final morphological operation (based on a focal mode) is performed on the output classification"
   ]
  },
  {
   "cell_type": "code",
   "execution_count": null,
   "id": "7f268e15",
   "metadata": {},
   "outputs": [],
   "source": [
    "#if you want use RandomForest (classifier_alg= \"RF\") else use SVM (classifier_alg= \"SVM\")\n",
    "classifier_alg = \"RF\""
   ]
  },
  {
   "cell_type": "code",
   "execution_count": null,
   "id": "3866ea92",
   "metadata": {},
   "outputs": [],
   "source": [
    "#Training a Random Forest Classifier\n",
    "if(classifier_alg==\"RF\"){\n",
    "  classifier =  ee.Classifier.smileRandomForest(30).train({\n",
    "    'features': training,\n",
    "    'classProperty': 'b1',\n",
    "    'inputProperties': bands\n",
    "  })\n",
    "\n",
    "}\n",
    "else if (classifier_alg==\"SVM\") {\n",
    "classifi = ee.Classifier.libsvm({\n",
    "  'kernelType': 'RBF',\n",
    "  'gamma': 15,\n",
    "  'cost': 20\n",
    "})\n",
    "classifier = classifi.train(training, 'b1', bands)\n",
    "\n",
    "}\n",
    "else{\n",
    "  print(\"You need to set your classifier for the Pixel Based approach\")\n",
    "}"
   ]
  },
  {
   "cell_type": "markdown",
   "id": "71b227cf",
   "metadata": {},
   "source": [
    "### Classifying"
   ]
  },
  {
   "cell_type": "code",
   "execution_count": null,
   "id": "895c247c",
   "metadata": {},
   "outputs": [],
   "source": [
    "#Clip and filter the result of pixel' classification\n",
    "classified = dataset.select(bands).classify(classifier).clip(roi).focal_mode()\n",
    "#Visualize the result\n",
    "Map.addLayer(classified, {'min': 0, 'max': 11, 'palette': palette}, 'LULC PIXEL APPROACH', False)\n",
    "Map"
   ]
  },
  {
   "cell_type": "code",
   "execution_count": null,
   "id": "f4accba7",
   "metadata": {},
   "outputs": [],
   "source": [
    "#Create the confusion matrix and calculate the overall accuracy on the training data\n",
    "#print('RF error matrix_training: ', classifier.confusionMatrix())\n",
    "#print('RF accuracy_training: ', classifier.confusionMatrix().accuracy())"
   ]
  },
  {
   "cell_type": "markdown",
   "id": "b8d62a0f",
   "metadata": {},
   "source": [
    "### Validation of Pixel-Based Approach"
   ]
  },
  {
   "cell_type": "code",
   "execution_count": null,
   "id": "488f048f",
   "metadata": {},
   "outputs": [],
   "source": [
    "#Validation of the pixel-based approach\n",
    "classifierTest = dataset.select(bands).sampleRegions({\n",
    "  'collection': valpnts,\n",
    "  'properties': ['b1'],\n",
    "  'scale': scale\n",
    "})\n",
    "classified_test_RF = classifierTest.classify(classifier)\n",
    "testAccuracy = classified_test_RF.errorMatrix('b1', 'classification')\n",
    "#print('Pixel approach_Test confusion matrix: ', testAccuracy)\n",
    "print('PIXEL APPROACH : Overall Accuracy ', testAccuracy.accuracy())\n",
    "print(testAccuracy)\n",
    "\n",
    "#Print the number of pixels for each class\n",
    "analysis_image = classified.select(\"classification\")\n",
    "\n",
    "class_1 =  analysis_image.updateMask(analysis_image.eq(1))\n",
    "class_2 =  analysis_image.updateMask(analysis_image.eq(2))\n",
    "class_3 =  analysis_image.updateMask(analysis_image.eq(3))\n",
    "class_4 =  analysis_image.updateMask(analysis_image.eq(4))\n",
    "class_5 =  analysis_image.updateMask(analysis_image.eq(5))\n",
    "class_6 =  analysis_image.updateMask(analysis_image.eq(6))\n",
    "class_7 =  analysis_image.updateMask(analysis_image.eq(7))\n",
    "class_10 =  analysis_image.updateMask(analysis_image.eq(8))\n",
    "class_11 =  analysis_image.updateMask(analysis_image.eq(9))\n",
    "class_12 =  analysis_image.updateMask(analysis_image.eq(10))\n",
    "class_13 =  analysis_image.updateMask(analysis_image.eq(11))\n",
    "class_14 =  analysis_image.updateMask(analysis_image.eq(0))\n",
    "\n",
    "all = class_1.addBands(class_2).addBands(class_3).addBands(class_4) \\\n",
    "          .addBands(class_5).addBands(class_6).addBands(class_7).addBands(class_10) \\\n",
    "          .addBands(class_11).addBands(class_12).addBands(class_13).addBands(class_14)\n",
    "\n",
    "count_pixels_one = all.reduceRegion({\n",
    "  'reducer': ee.Reducer.count(),\n",
    "  'geometry': roi,\n",
    "  'scale': scale,\n",
    "  'maxPixels': 1e11,\n",
    "\n",
    "  })\n",
    "print(count_pixels_one, \"PIXEL APPROACH: pixels for each class\")\n",
    "\n",
    "#Compute RF variable importance\n",
    "dict = classifier.explain()\n",
    "print(\"classifier information:\", dict)\n",
    "variableImportance = ee.Feature(None, ee.Dictionary(dict).get('importance'))\n",
    "\n",
    "chart = ui.Chart.feature.byProperty(variableImportance).setChartType('ColumnChart').setOptions({\n",
    "  'title': 'Random Forest Variable Importance',\n",
    "  'legend': '{position': 'none'},\n",
    "  'hAxis': '{title': 'Bands'},\n",
    "  'vAxis': '{title': 'Importance'}\n",
    "})\n",
    "print(chart)\n",
    "\n",
    "exportCM = ee.Feature(None, {'CM': testAccuracy.array()})\n",
    "\n",
    "# Export the FeatureCollection.\n",
    "Export.table.toDrive({\n",
    "  'collection': ee.FeatureCollection(exportCM),\n",
    "  'description': 'exportCM_Nantes_PB_',\n",
    "  'fileFormat': 'CSV'\n",
    "})\n",
    "#\n",
    "Export.image.toDrive({\n",
    "  'image': classified,\n",
    "  'description': 'exportClassified_Nantes_PB_',\n",
    "  'region': table2,\n",
    "  'scale': 0.5,\n",
    "  'crs': EPSG2154\n",
    "})"
   ]
  },
  {
   "cell_type": "code",
   "execution_count": null,
   "id": "c56551e1",
   "metadata": {},
   "outputs": [],
   "source": []
  }
 ],
 "metadata": {
  "hide_input": false,
  "kernelspec": {
   "display_name": "gee",
   "language": "python",
   "name": "gee"
  },
  "language_info": {
   "codemirror_mode": {
    "name": "ipython",
    "version": 3
   },
   "file_extension": ".py",
   "mimetype": "text/x-python",
   "name": "python",
   "nbconvert_exporter": "python",
   "pygments_lexer": "ipython3",
   "version": "3.9.13"
  },
  "toc": {
   "base_numbering": 1,
   "nav_menu": {},
   "number_sections": true,
   "sideBar": true,
   "skip_h1_title": false,
   "title_cell": "Table of Contents",
   "title_sidebar": "Contents",
   "toc_cell": false,
   "toc_position": {
    "height": "calc(100% - 180px)",
    "left": "10px",
    "top": "150px",
    "width": "242px"
   },
   "toc_section_display": true,
   "toc_window_display": true
  }
 },
 "nbformat": 4,
 "nbformat_minor": 5
}
