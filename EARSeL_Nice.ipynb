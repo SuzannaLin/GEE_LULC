{
 "cells": [
  {
   "cell_type": "markdown",
   "id": "2c66cd25",
   "metadata": {},
   "source": [
    "# Data Collection"
   ]
  },
  {
   "cell_type": "markdown",
   "id": "a0f01968",
   "metadata": {},
   "source": [
    "## import libraries"
   ]
  },
  {
   "cell_type": "code",
   "execution_count": 7,
   "id": "a6a09938",
   "metadata": {},
   "outputs": [
    {
     "name": "stdout",
     "output_type": "stream",
     "text": [
      "/home/scuypers/GEE\r\n"
     ]
    }
   ],
   "source": [
    "!pwd"
   ]
  },
  {
   "cell_type": "code",
   "execution_count": 46,
   "id": "ce72f1c4",
   "metadata": {},
   "outputs": [],
   "source": [
    "import os\n",
    "import ee\n",
    "import geemap\n",
    "import math"
   ]
  },
  {
   "cell_type": "code",
   "execution_count": null,
   "id": "21024aa6",
   "metadata": {},
   "outputs": [],
   "source": [
    "# to check own Assets\n",
    "# geemap.ee_search()\n",
    "# conversion of entire script"
   ]
  },
  {
   "cell_type": "code",
   "execution_count": 64,
   "id": "45c3d6cf",
   "metadata": {},
   "outputs": [],
   "source": [
    "# geemap.show_youtube('RpIaalFk4H8')"
   ]
  },
  {
   "cell_type": "markdown",
   "id": "4c363c12",
   "metadata": {},
   "source": [
    "## Build the map"
   ]
  },
  {
   "cell_type": "code",
   "execution_count": 30,
   "id": "f330fba7",
   "metadata": {},
   "outputs": [
    {
     "data": {
      "application/vnd.jupyter.widget-view+json": {
       "model_id": "144f8a99551345c1b616ab28e37f4a68",
       "version_major": 2,
       "version_minor": 0
      },
      "text/plain": [
       "Map(center=[20, 0], controls=(WidgetControl(options=['position', 'transparent_bg'], widget=HBox(children=(Togg…"
      ]
     },
     "metadata": {},
     "output_type": "display_data"
    },
    {
     "data": {
      "application/javascript": [
       "\n",
       "        var code = IPython.notebook.insert_cell_below('code');\n",
       "        code.set_text(atob(\"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\"));\n",
       "    "
      ],
      "text/plain": [
       "<IPython.core.display.Javascript object>"
      ]
     },
     "metadata": {},
     "output_type": "display_data"
    },
    {
     "data": {
      "application/javascript": [
       "\n",
       "        var code = IPython.notebook.insert_cell_below('code');\n",
       "        code.set_text(atob(\"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\"));\n",
       "    "
      ],
      "text/plain": [
       "<IPython.core.display.Javascript object>"
      ]
     },
     "metadata": {},
     "output_type": "display_data"
    },
    {
     "data": {
      "application/javascript": [
       "\n",
       "        var code = IPython.notebook.insert_cell_below('code');\n",
       "        code.set_text(atob(\"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\"));\n",
       "    "
      ],
      "text/plain": [
       "<IPython.core.display.Javascript object>"
      ]
     },
     "metadata": {},
     "output_type": "display_data"
    },
    {
     "data": {
      "application/javascript": [
       "\n",
       "        var code = IPython.notebook.insert_cell_below('code');\n",
       "        code.set_text(atob(\"aW1wb3J0IGdlZW1hcAoKTWFwID0gZ2VlbWFwLk1hcCgpCgpkZWYgbGFnKGxlZnRDb2xsZWN0aW9uLCByaWdodENvbGxlY3Rpb24sIGxhZ0RheXMpOgogIGZpbHRlciA9IGVlLkZpbHRlci5BbmQoCiAgICBlZS5GaWx0ZXIubWF4RGlmZmVyZW5jZSh7CiAgICAgICdkaWZmZXJlbmNlJzogMTAwMCAqIDYwICogNjAgKiAyNCAqIGxhZ0RheXMsCiAgICAgICdsZWZ0RmllbGQnOiAnc3lzdGVtOnRpbWVfc3RhcnQnLAogICAgICAncmlnaHRGaWVsZCc6ICdzeXN0ZW06dGltZV9zdGFydCcKICAgIH0pLAogICAgZWUuRmlsdGVyLmdyZWF0ZXJUaGFuKHsKICAgICAgJ2xlZnRGaWVsZCc6ICdzeXN0ZW06dGltZV9zdGFydCcsCiAgICAgICdyaWdodEZpZWxkJzogJ3N5c3RlbTp0aW1lX3N0YXJ0JwogIH0pKQoKICByZXR1cm4gZWUuSm9pbi5zYXZlQWxsKHsKICAgICdtYXRjaGVzS2V5JzogJ2ltYWdlcycsCiAgICAnbWVhc3VyZUtleSc6ICdkZWx0YV90JywKICAgICdvcmRlcmluZyc6ICdzeXN0ZW06dGltZV9zdGFydCcsCiAgICAnYXNjZW5kaW5nJzogRmFsc2UsICMgU29ydCByZXZlcnNlIGNocm9ub2xvZ2ljYWxseQogIH0pLmFwcGx5KHsKICAgICdwcmltYXJ5JzogbGVmdENvbGxlY3Rpb24sCiAgICAnc2Vjb25kYXJ5JzogcmlnaHRDb2xsZWN0aW9uLAogICAgJ2NvbmRpdGlvbic6IGZpbHRlcgogIH0pCgpNYXA=\"));\n",
       "    "
      ],
      "text/plain": [
       "<IPython.core.display.Javascript object>"
      ]
     },
     "metadata": {},
     "output_type": "display_data"
    },
    {
     "data": {
      "application/javascript": [
       "\n",
       "        var code = IPython.notebook.insert_cell_below('code');\n",
       "        code.set_text(atob(\"aW1wb3J0IGdlZW1hcAoKTWFwID0gZ2VlbWFwLk1hcCgpCgpmaW5hbF9iYW5kcz0gY29tcGNsaXAuc2VsZWN0KE91dEJhbmRzKQpwcmludCgiQmFuZHMgb2YgdGhlIGZpbmFsIGltYWdlIiwgZmluYWxfYmFuZHMpCk1hcA==\"));\n",
       "    "
      ],
      "text/plain": [
       "<IPython.core.display.Javascript object>"
      ]
     },
     "metadata": {},
     "output_type": "display_data"
    },
    {
     "data": {
      "application/javascript": [
       "\n",
       "        var code = IPython.notebook.insert_cell_below('code');\n",
       "        code.set_text(atob(\"aW1wb3J0IGdlZW1hcAoKTWFwID0gZ2VlbWFwLk1hcCgpCgojVmlzdWFsaXphdGlvbiBvZiB0aGUgZmluYWwgZGF0YXNldCB1c2luZyBSR0IgYW5kIENJUgpNYXAuYWRkTGF5ZXIoZmluYWxfYmFuZHMsIHsgICdtaW4nOiAwLjAsICdtYXgnOiAwLjMsICdiYW5kcyc6IFsnQjQnLCAnQjMnLCAnQjInXSx9LCAnUkdCJykKTWFwLmFkZExheWVyKGZpbmFsX2JhbmRzLCB7ICAnbWluJzogMC4wLCAnbWF4JzogMC4zLCAnYmFuZHMnOiBbJ0I4JywgJ0I0JywgJ0IzJ10sfSwgJ0NJUicpCk1hcA==\"));\n",
       "    "
      ],
      "text/plain": [
       "<IPython.core.display.Javascript object>"
      ]
     },
     "metadata": {},
     "output_type": "display_data"
    },
    {
     "data": {
      "application/javascript": [
       "\n",
       "        var code = IPython.notebook.insert_cell_below('code');\n",
       "        code.set_text(atob(\"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\"));\n",
       "    "
      ],
      "text/plain": [
       "<IPython.core.display.Javascript object>"
      ]
     },
     "metadata": {},
     "output_type": "display_data"
    },
    {
     "data": {
      "application/javascript": [
       "\n",
       "        var code = IPython.notebook.insert_cell_below('code');\n",
       "        code.set_text(atob(\"aW1wb3J0IGdlZW1hcAoKTWFwID0gZ2VlbWFwLk1hcCgpCgpFeHBvcnQuaW1hZ2UudG9Bc3NldCh7CiAgJ2ltYWdlJzogZmluYWxfYmFuZHMsCiAgJ3JlZ2lvbic6IHJvaTEsCiAgJ2Rlc2NyaXB0aW9uJzogJzA1LTIzX0RBVEFTRVRfQ09NUE9TSVRJT05fTmljZV9PT185X1QxJywKICAnc2NhbGUnOiAxMAp9KQpNYXA=\"));\n",
       "    "
      ],
      "text/plain": [
       "<IPython.core.display.Javascript object>"
      ]
     },
     "metadata": {},
     "output_type": "display_data"
    },
    {
     "data": {
      "application/javascript": [
       "\n",
       "        var code = IPython.notebook.insert_cell_below('code');\n",
       "        code.set_text(atob(\"aW1wb3J0IGdlZW1hcAoKTWFwID0gZ2VlbWFwLk1hcCgpCgojbm9tYWxpemluZyB0aGUgSFIgZGF0YQpSR0JfTUlOID0gMApSR0JfTUFYID0gMjU1Cm5vcm1hbGl6ZWQgPSBIUl9kYXRhLnNlbGVjdChbJ2IxJywgJ2IyJywgJ2IzJ10pLnVuaXRTY2FsZShSR0JfTUlOLCBSR0JfTUFYKQoKUzJfZGF0YSA9IGVlLkltYWdlQ29sbGVjdGlvbihbaW1hZ2UxLGltYWdlMixpbWFnZTMsaW1hZ2U0XSkubW9zYWljKCkuY2xpcCh0YWJsZTIpCmRhdGFzZXQgPSBub3JtYWxpemVkLmFkZEJhbmRzKFMyX2RhdGEpCk1hcA==\"));\n",
       "    "
      ],
      "text/plain": [
       "<IPython.core.display.Javascript object>"
      ]
     },
     "metadata": {},
     "output_type": "display_data"
    },
    {
     "data": {
      "application/javascript": [
       "\n",
       "        var code = IPython.notebook.insert_cell_below('code');\n",
       "        code.set_text(atob(\"aW1wb3J0IGdlZW1hcAoKTWFwID0gZ2VlbWFwLk1hcCgpCgpNYXAuYWRkTGF5ZXIoZGF0YXNldCwgeydtaW4nOiAwLjAsICdtYXgnOiAxLjAsICdiYW5kcyc6IFsnYjEnLCAnYjInLCAnYjMnXSwgfSwgJ1JHQicpCk1hcC5hZGRMYXllcihncm91bmRUcnV0aC5tb3NhaWMoKSx7J21pbic6MCwgJ21heCc6MTUsICdwYWxldHRlJzpwYWxldHRlXzE1fSwiTGFiZWxzX05pY2UiKQpNYXA=\"));\n",
       "    "
      ],
      "text/plain": [
       "<IPython.core.display.Javascript object>"
      ]
     },
     "metadata": {},
     "output_type": "display_data"
    }
   ],
   "source": [
    "Map = geemap.Map()#center=(43.708, 7.228), zoom=10)\n",
    "\n",
    "Nice = ee.ImageCollection(\"users/andreanascetti/IEEE/Nice_Labels\")\n",
    "Map.centerObject(Nice)\n",
    "\n",
    "palette = [\n",
    "  '000000',\n",
    "  'FF5733', #(0)  Urban fabric\n",
    "  'F98A04', #(1)  Industrial, commercial, public, military, private and transport units\n",
    "  'FBDB10', #(2)  Mine, dump and construction sites\n",
    "  'B7E603', #(3)  Artificial non-agricultural vegetated areas\n",
    "  'B6FF45', #(4)  Arable land (annual crops)\n",
    "  '5FB331', #(5)  Permanent crops\n",
    "  '3FAF17', #(6)  Pastures\n",
    "  'FCE5CD', #()complex and mixed...\n",
    "  'C6ECB6', #()orchards at the fringe\n",
    "  '237605', #(7)  Forests\n",
    "  '43B680', #(8)  Herbaceous vegetation associations\n",
    "  '9B621A', #(9)  Open spaces with little or no vegetation\n",
    "  '0691C3', #(10)  Wetlands\n",
    "  '085CB8', #(11)  Water\n",
    "  '000000',\n",
    "]\n",
    "\n",
    "Map.addLayer(Nice.mosaic(),{'min':0, 'max':15, 'palette':palette},\"Labels_Nice\")\n",
    "\n",
    "Map"
   ]
  },
  {
   "cell_type": "code",
   "execution_count": 11,
   "id": "e6be0951",
   "metadata": {},
   "outputs": [],
   "source": [
    "# Add legend\n",
    "\n",
    "legend_dict = {\n",
    "  'no data':'000000',\n",
    "  'Urban fabric':'FF5733', #(0)  \n",
    "  'Industrial, commercial, public, military, private and transport units':'F98A04', #(1)  \n",
    "  'Mine, dump and construction sites':'FBDB10', #(2)  \n",
    "  'Artificial non-agricultural vegetated areas':'B7E603', #(3)  \n",
    "  'Arable land (annual crops)':'B6FF45', #(4)  \n",
    "  'Permanent crops':'5FB331', #(5)  \n",
    "  'Pastures':'3FAF17', #(6)  \n",
    "  #'complex and mixed...':'FCE5CD', #()\n",
    "  #'orchards at the fringe':'C6ECB6', #()\n",
    "  'Forests':'237605', #(7)  \n",
    "  'Herbaceous vegetation associations':'43B680', #(8)  \n",
    "  'Open spaces with little or no vegetation':'9B621A', #(9)  \n",
    "  'Wetlands':'0691C3', #(10)  \n",
    "  'Water':'085CB8', #(11)  \n",
    "  #'Clouds & Shadow':'000000',\n",
    "}\n",
    "\n",
    "Map.add_legend(legend_title=\"Land cover classes\", legend_dict=legend_dict)"
   ]
  },
  {
   "cell_type": "code",
   "execution_count": 80,
   "id": "2da781ea",
   "metadata": {},
   "outputs": [
    {
     "ename": "Exception",
     "evalue": "ee_object must be an instance of one of ee.Geometry, ee.FeatureCollection, ee.Image, or ee.ImageCollection.",
     "output_type": "error",
     "traceback": [
      "\u001b[0;31m---------------------------------------------------------------------------\u001b[0m",
      "\u001b[0;31mAttributeError\u001b[0m                            Traceback (most recent call last)",
      "File \u001b[0;32m~/.conda/envs/gee/lib/python3.9/site-packages/geemap/geemap.py:1562\u001b[0m, in \u001b[0;36mMap.center_object\u001b[0;34m(self, ee_object, zoom)\u001b[0m\n\u001b[1;32m   1561\u001b[0m \u001b[38;5;28;01mtry\u001b[39;00m:\n\u001b[0;32m-> 1562\u001b[0m     geometry \u001b[38;5;241m=\u001b[39m \u001b[43mee_object\u001b[49m\u001b[38;5;241;43m.\u001b[39;49m\u001b[43mgeometry\u001b[49m(maxError\u001b[38;5;241m=\u001b[39mmaxError)\u001b[38;5;241m.\u001b[39mtransform(\n\u001b[1;32m   1563\u001b[0m         maxError\u001b[38;5;241m=\u001b[39mmaxError\n\u001b[1;32m   1564\u001b[0m     )\n\u001b[1;32m   1565\u001b[0m \u001b[38;5;28;01mexcept\u001b[39;00m \u001b[38;5;167;01mException\u001b[39;00m:\n",
      "\u001b[0;31mAttributeError\u001b[0m: 'NoneType' object has no attribute 'geometry'",
      "\nDuring handling of the above exception, another exception occurred:\n",
      "\u001b[0;31mException\u001b[0m                                 Traceback (most recent call last)",
      "Input \u001b[0;32mIn [80]\u001b[0m, in \u001b[0;36m<cell line: 2>\u001b[0;34m()\u001b[0m\n\u001b[1;32m      1\u001b[0m Area_Nice \u001b[38;5;241m=\u001b[39m Map\u001b[38;5;241m.\u001b[39muser_roi \u001b[38;5;66;03m# json format\u001b[39;00m\n\u001b[0;32m----> 2\u001b[0m \u001b[43mMap\u001b[49m\u001b[38;5;241;43m.\u001b[39;49m\u001b[43mcenterObject\u001b[49m\u001b[43m(\u001b[49m\u001b[43mArea_Nice\u001b[49m\u001b[43m)\u001b[49m\n",
      "File \u001b[0;32m~/.conda/envs/gee/lib/python3.9/site-packages/geemap/geemap.py:1566\u001b[0m, in \u001b[0;36mMap.center_object\u001b[0;34m(self, ee_object, zoom)\u001b[0m\n\u001b[1;32m   1562\u001b[0m         geometry \u001b[38;5;241m=\u001b[39m ee_object\u001b[38;5;241m.\u001b[39mgeometry(maxError\u001b[38;5;241m=\u001b[39mmaxError)\u001b[38;5;241m.\u001b[39mtransform(\n\u001b[1;32m   1563\u001b[0m             maxError\u001b[38;5;241m=\u001b[39mmaxError\n\u001b[1;32m   1564\u001b[0m         )\n\u001b[1;32m   1565\u001b[0m     \u001b[38;5;28;01mexcept\u001b[39;00m \u001b[38;5;167;01mException\u001b[39;00m:\n\u001b[0;32m-> 1566\u001b[0m         \u001b[38;5;28;01mraise\u001b[39;00m \u001b[38;5;167;01mException\u001b[39;00m(\n\u001b[1;32m   1567\u001b[0m             \u001b[38;5;124m\"\u001b[39m\u001b[38;5;124mee_object must be an instance of one of ee.Geometry, ee.FeatureCollection, ee.Image, or ee.ImageCollection.\u001b[39m\u001b[38;5;124m\"\u001b[39m\n\u001b[1;32m   1568\u001b[0m         )\n\u001b[1;32m   1570\u001b[0m \u001b[38;5;28;01mif\u001b[39;00m zoom \u001b[38;5;129;01mis\u001b[39;00m \u001b[38;5;129;01mnot\u001b[39;00m \u001b[38;5;28;01mNone\u001b[39;00m:\n\u001b[1;32m   1571\u001b[0m     \u001b[38;5;28;01mif\u001b[39;00m \u001b[38;5;129;01mnot\u001b[39;00m \u001b[38;5;28misinstance\u001b[39m(zoom, \u001b[38;5;28mint\u001b[39m):\n",
      "\u001b[0;31mException\u001b[0m: ee_object must be an instance of one of ee.Geometry, ee.FeatureCollection, ee.Image, or ee.ImageCollection."
     ]
    }
   ],
   "source": [
    "# Area_Nice = Map.user_roi # json format"
   ]
  },
  {
   "cell_type": "code",
   "execution_count": 12,
   "id": "70a98734",
   "metadata": {},
   "outputs": [],
   "source": [
    "# Map.user_rois.getInfo()\n",
    "Area_Nice = ee.Geometry.Polygon(\n",
    "        [\n",
    "            [\n",
    "                [6.560201, 43.526958],\n",
    "                [6.560201, 44.371294],\n",
    "                [7.51888, 44.371294],\n",
    "                [7.51888, 43.526958],\n",
    "                [6.560201, 43.526958],\n",
    "            ]\n",
    "        ]\n",
    "    )"
   ]
  },
  {
   "cell_type": "markdown",
   "id": "2e3f05c6",
   "metadata": {},
   "source": [
    "## Data Collection"
   ]
  },
  {
   "cell_type": "code",
   "execution_count": 13,
   "id": "365755c9",
   "metadata": {},
   "outputs": [],
   "source": [
    "image = Nice.mosaic()"
   ]
  },
  {
   "cell_type": "code",
   "execution_count": 14,
   "id": "f1f3d08b",
   "metadata": {},
   "outputs": [],
   "source": [
    "# random sampling\n",
    "# NOT STRATIFIED\n",
    "training = image.sample(\n",
    "    **{\n",
    "        'region': Area_Nice,\n",
    "        'scale': 30,\n",
    "        'numPixels': 5000,\n",
    "        'seed': 0,\n",
    "        'geometries': True,  # Set this to False to ignore geometries\n",
    "    }\n",
    ")"
   ]
  },
  {
   "cell_type": "code",
   "execution_count": 83,
   "id": "7e7fafb7",
   "metadata": {
    "scrolled": true
   },
   "outputs": [
    {
     "data": {
      "application/vnd.jupyter.widget-view+json": {
       "model_id": "3f5f260d1a1548fa93ee02087f2e2922",
       "version_major": 2,
       "version_minor": 0
      },
      "text/plain": [
       "Map(bottom=48031.0, center=[43.86027718467949, 10.247497558593752], controls=(WidgetControl(options=['position…"
      ]
     },
     "metadata": {},
     "output_type": "display_data"
    }
   ],
   "source": [
    "Map.addLayer(training, {}, 'training', True)\n",
    "Map.centerObject(Area_Nice)\n",
    "Map"
   ]
  },
  {
   "cell_type": "markdown",
   "id": "6195ad82",
   "metadata": {},
   "source": [
    "Stratified sampling: 500 points per class"
   ]
  },
  {
   "cell_type": "code",
   "execution_count": 72,
   "id": "87d8d042",
   "metadata": {},
   "outputs": [],
   "source": [
    "randompoints_Nice = image.stratifiedSample(\n",
    "    **{\n",
    "        'region': Area_Nice,\n",
    "        'classBand': 'b1',\n",
    "        'scale': 30,\n",
    "        'numPoints': 500,\n",
    "        'seed': 0,\n",
    "        'geometries': True,  # Set this to False to ignore geometries\n",
    "    }\n",
    ")"
   ]
  },
  {
   "cell_type": "code",
   "execution_count": 73,
   "id": "a17cdd22",
   "metadata": {},
   "outputs": [
    {
     "data": {
      "application/vnd.jupyter.widget-view+json": {
       "model_id": "3f5f260d1a1548fa93ee02087f2e2922",
       "version_major": 2,
       "version_minor": 0
      },
      "text/plain": [
       "Map(bottom=95916.0, center=[43.708, 7.228], controls=(WidgetControl(options=['position', 'transparent_bg'], wi…"
      ]
     },
     "metadata": {},
     "output_type": "display_data"
    }
   ],
   "source": [
    "# filter out points\n",
    "randompoints_Nice = randompoints_Nice.filterMetadata(\"b1\",\"not_equals\", 0).filterMetadata(\"b1\",\"not_equals\", 15);\n",
    "\n",
    "# display points on map\n",
    "Map.addLayer(randompoints_Nice,{},'randompoints_Nice')\n",
    "Map"
   ]
  },
  {
   "cell_type": "code",
   "execution_count": 74,
   "id": "cdbc122e",
   "metadata": {},
   "outputs": [],
   "source": [
    "# split samples in training/validation\n",
    "\n",
    "randompoints_Nice = randompoints_Nice.randomColumn();\n",
    "\n",
    "# split in a training (80%) and validation (20%)\n",
    "training = randompoints_Nice.filter(ee.Filter.gt('random',0.2)); # random value greater than\n",
    "validation = randompoints_Nice.filter(ee.Filter.lte('random',0.2)); # random value less or equal to"
   ]
  },
  {
   "cell_type": "markdown",
   "id": "85ef8b3d",
   "metadata": {},
   "source": [
    "## Saving Data"
   ]
  },
  {
   "cell_type": "code",
   "execution_count": 75,
   "id": "dd649005",
   "metadata": {},
   "outputs": [
    {
     "name": "stdout",
     "output_type": "stream",
     "text": [
      "Generating URL ...\n",
      "Downloading data from https://earthengine.googleapis.com/v1alpha/projects/earthengine-legacy/tables/ae18e5e4e843097503e6ad5212d4d1ec-13513f9ffd7105a51ef4b79fc55bc1b6:getFeatures\n",
      "Please wait ...\n",
      "Data downloaded to /home/scuypers/GEE/outputs/training.shp\n"
     ]
    }
   ],
   "source": [
    "# saving training points as shapefile\n",
    "geemap.ee_to_shp(training, filename='/home/scuypers/GEE/outputs/training.shp')"
   ]
  },
  {
   "cell_type": "code",
   "execution_count": 86,
   "id": "f034c375",
   "metadata": {},
   "outputs": [
    {
     "name": "stdout",
     "output_type": "stream",
     "text": [
      "Generating URL ...\n",
      "Downloading data from https://earthengine.googleapis.com/v1alpha/projects/earthengine-legacy/tables/0316b1628d414fb46854701046728e1e-ba50b4ec16cc2bdfc9943f7c2218e74a:getFeatures\n",
      "Please wait ...\n",
      "Data downloaded to /home/scuypers/GEE/outputs/validation.shp\n"
     ]
    }
   ],
   "source": [
    "# saving validation points as shapefile\n",
    "geemap.ee_to_shp(validation, filename='/home/scuypers/GEE/outputs/validation.shp')"
   ]
  },
  {
   "cell_type": "markdown",
   "id": "eba4d511",
   "metadata": {},
   "source": [
    "## Relaoding saved files"
   ]
  },
  {
   "cell_type": "code",
   "execution_count": 16,
   "id": "5fffcde6",
   "metadata": {},
   "outputs": [],
   "source": [
    "# import geopandas\n",
    "training_shp = '/home/scuypers/GEE/outputs/training.shp'\n",
    "training = geemap.shp_to_ee(training_shp)\n",
    "\n",
    "validation_shp = '/home/scuypers/GEE/outputs/validation.shp'\n",
    "validation = geemap.shp_to_ee(validation_shp)"
   ]
  },
  {
   "cell_type": "code",
   "execution_count": 17,
   "id": "584513db",
   "metadata": {},
   "outputs": [
    {
     "data": {
      "application/vnd.jupyter.widget-view+json": {
       "model_id": "06d504dbf8534ab18902c894398f191f",
       "version_major": 2,
       "version_minor": 0
      },
      "text/plain": [
       "Map(center=[20, 0], controls=(WidgetControl(options=['position', 'transparent_bg'], widget=HBox(children=(Togg…"
      ]
     },
     "metadata": {},
     "output_type": "display_data"
    },
    {
     "data": {
      "application/javascript": [
       "\n",
       "        var code = IPython.notebook.insert_cell_below('code');\n",
       "        code.set_text(atob(\"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\"));\n",
       "    "
      ],
      "text/plain": [
       "<IPython.core.display.Javascript object>"
      ]
     },
     "metadata": {},
     "output_type": "display_data"
    },
    {
     "data": {
      "application/javascript": [
       "\n",
       "        var code = IPython.notebook.insert_cell_below('code');\n",
       "        code.set_text(atob(\"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\"));\n",
       "    "
      ],
      "text/plain": [
       "<IPython.core.display.Javascript object>"
      ]
     },
     "metadata": {},
     "output_type": "display_data"
    },
    {
     "data": {
      "application/javascript": [
       "\n",
       "        var code = IPython.notebook.insert_cell_below('code');\n",
       "        code.set_text(atob(\"aW1wb3J0IGdlZW1hcAoKTWFwID0gZ2VlbWFwLk1hcCgpCgojQWRkIHRoZSBpbmRleCBzdGF0aXN0aWNzIHRvIHRoZSBtZWRpYW4gYmFuZHMgYW5kIGNsaXAgdGhlIGRhdGFzZXQgd2l0aCB0aGUgUk9JCmNvbXBjbGlwID0gYmFuZF9tZWRpYW4uYWRkQmFuZHMobmR2aW1heCkuYWRkQmFuZHMobmR2aW1lYW4pLmFkZEJhbmRzKG5kdmlzdGQpIFwKLmFkZEJhbmRzKG5tZGltYXgpLmFkZEJhbmRzKG5tZGltZWFuKS5hZGRCYW5kcyhubWRpc3RkKSBcCi5hZGRCYW5kcyhuZGJpbWF4KS5hZGRCYW5kcyhuZGJpbWVhbikuYWRkQmFuZHMobmRiaXN0ZCkgXAouYWRkQmFuZHMoYnNpbWF4KS5hZGRCYW5kcyhic2ltZWFuKS5hZGRCYW5kcyhic2lzdGQpIFwKLmFkZEJhbmRzKGV2aW1heCkuYWRkQmFuZHMoZXZpbWVhbikuYWRkQmFuZHMoZXZpc3RkKSBcCi5hZGRCYW5kcyhncnZpbWF4KS5hZGRCYW5kcyhncnZpbWVhbikuYWRkQmFuZHMoZ3J2aXN0ZCkgXAouYWRkQmFuZHMobW5kd2ltYXgpLmFkZEJhbmRzKG1uZHdpbWVhbikuYWRkQmFuZHMobW5kd2lzdGQpIFwKLmFkZEJhbmRzKHNtbWltYXgpLmFkZEJhbmRzKHNtbWltZWFuKS5hZGRCYW5kcyhzbW1pc3RkKSBcCi5jbGlwKHJvaSkKCnByaW50KCJDb21wb3NpdGlvbiIsIGNvbXBjbGlwKQoKT3V0QmFuZHMgID0gWyJCMiIsIkIzIiwiQjQiLCJCNSIsIkI2IiwiQjciLCJCOCIsIkI4QSIsIkIxMSIsIkIxMiIsIk5EVklfTUFYIiwiTkRWSSIsIk5EVklfU1REIgosIk5NREkiLCJOTURJX01BWCIsIk5NRElfU1REIiwiTkRCSSIsIk5EQklfTUFYIiwiTkRCSV9TVEQiCiwiQlNJIiwiQlNJX01BWCIsIkJTSV9TVEQiLCJFVkkiLCJFVklfTUFYIiwiRVZJX1NURCIsIkdSVkkiLCJHUlZJX01BWCIsIkdSVklfU1REIgosIk1ORFdJIiwiTU5EV0lfTUFYIiwiTU5EV0lfU1REIiwiU01NSSIsIlNNTUlfTUFYIiwiU01NSV9TVEQiCl0KdGltZUZpZWxkID0gJ3N5c3RlbTp0aW1lX3N0YXJ0JwpNYXA=\"));\n",
       "    "
      ],
      "text/plain": [
       "<IPython.core.display.Javascript object>"
      ]
     },
     "metadata": {},
     "output_type": "display_data"
    },
    {
     "data": {
      "application/javascript": [
       "\n",
       "        var code = IPython.notebook.insert_cell_below('code');\n",
       "        code.set_text(atob(\"aW1wb3J0IGdlZW1hcAoKTWFwID0gZ2VlbWFwLk1hcCgpCgojIFVzZSB0aGlzIGZ1bmN0aW9uIHRvIGFkZCB2YXJpYWJsZXMgZm9yIE5EVkksIHRpbWUgYW5kIGEgY29uc3RhbnQKIyB0byBTZW50aW5lbCAyIGltYWdlcnkuCmRlZiBhZGRWYXJpYWJsZXMoaW1hZ2UpOgogICMgQ29tcHV0ZSB0aW1lIGluIGZyYWN0aW9uYWwgeWVhcnMgc2luY2UgdGhlIGVwb2NoLgogIGRhdGUgPSBlZS5EYXRlKGltYWdlLmdldCh0aW1lRmllbGQpKQogIHllYXJzID0gZGF0ZS5kaWZmZXJlbmNlKGVlLkRhdGUoJzIwMTctMDEtMDEnKSwgJ3llYXInKQogICMgUmV0dXJuIHRoZSBpbWFnZSB3aXRoIHRoZSBhZGRlZCBiYW5kcy4KICByZXR1cm4gaW1hZ2UgXAogICAgLmFkZEJhbmRzKGVlLkltYWdlKHllYXJzKS5yZW5hbWUoJ3QnKSkgXAogICAgLmZsb2F0KCkgXAogICAgLmFkZEJhbmRzKGVlLkltYWdlLmNvbnN0YW50KDEpKQoKTWFw\"));\n",
       "    "
      ],
      "text/plain": [
       "<IPython.core.display.Javascript object>"
      ]
     },
     "metadata": {},
     "output_type": "display_data"
    },
    {
     "data": {
      "application/javascript": [
       "\n",
       "        var code = IPython.notebook.insert_cell_below('code');\n",
       "        code.set_text(atob(\"aW1wb3J0IGdlZW1hcAoKTWFwID0gZ2VlbWFwLk1hcCgpCgojIEFkZCB2YXJpYWJsZXMuCgpjb2xsZWN0aW9uID0gY29sbGVjdGlvbi5tYXAoYWRkVmFyaWFibGVzKQpNYXA=\"));\n",
       "    "
      ],
      "text/plain": [
       "<IPython.core.display.Javascript object>"
      ]
     },
     "metadata": {},
     "output_type": "display_data"
    },
    {
     "data": {
      "application/javascript": [
       "\n",
       "        var code = IPython.notebook.insert_cell_below('code');\n",
       "        code.set_text(atob(\"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\"));\n",
       "    "
      ],
      "text/plain": [
       "<IPython.core.display.Javascript object>"
      ]
     },
     "metadata": {},
     "output_type": "display_data"
    }
   ],
   "source": [
    "vis_params = {\n",
    "    #'color':'006633' # white 'E5FFCC', # green\n",
    "    'pointSize':3\n",
    "}\n",
    "Map.addLayer(training,vis_params,'imported random points')\n",
    "Map"
   ]
  },
  {
   "cell_type": "code",
   "execution_count": null,
   "id": "7a477cdf",
   "metadata": {},
   "outputs": [],
   "source": []
  },
  {
   "cell_type": "markdown",
   "id": "20c9b4b6",
   "metadata": {},
   "source": [
    "# Composite"
   ]
  },
  {
   "cell_type": "code",
   "execution_count": 18,
   "id": "304d4919",
   "metadata": {},
   "outputs": [],
   "source": [
    "period_of_interest = ee.Filter.date('2017-01-01', '2019-12-31')\n",
    "inBands = [\"B2\",\"B3\",\"B4\",\"B5\",\"B6\",\"B7\",\"B8\",\"B8A\",\"B11\",\"B12\"]\n",
    "outBands = inBands.append([\"NDVI\",\"NDVI_STD\",\"BSI\"])"
   ]
  },
  {
   "cell_type": "code",
   "execution_count": 21,
   "id": "49edb353",
   "metadata": {},
   "outputs": [],
   "source": [
    "# function to mask the clouds in Sentinel-2\n",
    "def maskS2clouds(image):\n",
    "    qa = image.select('QA60')\n",
    "    # Bits 10 and 11 are clouds and cirrus, respectively.\n",
    "    cloudBitMask = 1 << 10\n",
    "    cirrusBitMask = 1 << 11\n",
    "    # Both flags should be set to zero, indicating clear conditions.\n",
    "    mask = qa.bitwiseAnd(cloudBitMask).eq(0).And(qa.bitwiseAnd(cirrusBitMask).eq(0))\n",
    "    return image.updateMask(mask).divide(10000).copyProperties(image,['system:time_start'])"
   ]
  },
  {
   "cell_type": "code",
   "execution_count": 22,
   "id": "fcd3a6e4",
   "metadata": {},
   "outputs": [],
   "source": [
    "dataset = ee.ImageCollection('COPERNICUS/S2_SR') \\\n",
    "                  .filter(period_of_interest) \\\n",
    "                  .filterBounds(Area_Nice) \\\n",
    "                  .filter(ee.Filter.lt('CLOUDY_PIXEL_PERCENTAGE',10)) \\\n",
    "                  .map(maskS2clouds)"
   ]
  },
  {
   "cell_type": "markdown",
   "id": "cda34c7b",
   "metadata": {},
   "source": [
    "## Vegetation indices"
   ]
  },
  {
   "cell_type": "code",
   "execution_count": 25,
   "id": "8c876047",
   "metadata": {},
   "outputs": [],
   "source": [
    "#Add NDVI and BSI spectral indices\n",
    "def addNDVI(image):\n",
    "    ndvi = image.normalizedDifference(['B8', 'B4']) \\\n",
    "    .rename('NDVI') \\\n",
    "    .copyProperties(image,['system:time_start'])\n",
    "    return image.addBands(ndvi)\n",
    "\n",
    "def addBSI(image):\n",
    "    bsi = image.expression(\n",
    "    '((RED + SWIR) - (NIR + BLUE)) / ((RED + SWIR) + (NIR + BLUE)) ',\n",
    "    {\n",
    "    'RED': image.select('B4'),\n",
    "    'BLUE': image.select('B2'),\n",
    "    'NIR': image.select('B8'),\n",
    "    'SWIR': image.select('B11'),\n",
    "    }\n",
    "    ) \\\n",
    "    .rename('BSI') \\\n",
    "    .copyProperties(image,['system:time_start'])\n",
    "    return image.addBands(bsi)\n",
    "\n",
    "def addEVI(image):\n",
    "    evi = image.expression(\n",
    "    '(2.5 * (NIR - RED)) / (NIR + 6 * RED - 7.5 * BLUE + 1) ',\n",
    "    {\n",
    "    'RED': image.select('B4'),\n",
    "    'BLUE': image.select('B2'),\n",
    "    'NIR': image.select('B8'),\n",
    "    'G': 2.5,\n",
    "    'C1': 6,\n",
    "    'C2': 7.5,\n",
    "    'L': 1,\n",
    "    }\n",
    "    ) \\\n",
    "    .rename('EVI') \\\n",
    "    .copyProperties(image,['system:time_start'])\n",
    "    return image.addBands(evi)\n",
    "\n",
    "def addGRVI(image):\n",
    "    grvi = image.expression(\n",
    "    '(GREEN - RED) / (RED + GREEN) ',\n",
    "    {\n",
    "    'RED': image.select('B4'),\n",
    "    'GREEN': image.select('B3'),\n",
    "    }\n",
    "    ) \\\n",
    "    .rename('GRVI') \\\n",
    "    .copyProperties(image,['system:time_start'])\n",
    "    return image.addBands(grvi)\n",
    "\n",
    "def addMNDWI(image):\n",
    "    mndwi = image.expression(\n",
    "    '(GREEN - SWIR) / (GREEN + SWIR) ',\n",
    "    {\n",
    "    'GREEN': image.select('B3'),\n",
    "    'SWIR': image.select('B11'),\n",
    "    }\n",
    "    ) \\\n",
    "    .rename('MNDWI') \\\n",
    "    .copyProperties(image,['system:time_start'])\n",
    "    return image.addBands(mndwi)\n",
    "\n",
    "def addSMMI(image):\n",
    "    smmi = image.expression(\n",
    "    '(sqrt((NIR + SWIR) / 2)) ',\n",
    "    {\n",
    "    'NIR': image.select('B8'),\n",
    "    'SWIR': image.select('B11'),\n",
    "    }\n",
    "    ) \\\n",
    "    .rename('SMMI') \\\n",
    "    .copyProperties(image,['system:time_start'])\n",
    "    return image.addBands(smmi)\n",
    "\n",
    "def addNMDI(image):\n",
    "    nmdi = image.expression(\n",
    "    '(NIR - (SWIR11 - SWIR12)) / (NIR + (SWIR11 - SWIR12)) ',\n",
    "    {\n",
    "    'NIR': image.select('B8'),\n",
    "    'SWIR11': image.select('B11'),\n",
    "    'SWIR12': image.select('B12'),\n",
    "    }\n",
    "    ) \\\n",
    "    .rename('NMDI') \\\n",
    "    .copyProperties(image,['system:time_start'])\n",
    "    return image.addBands(nmdi)\n",
    "\n",
    "def addNDBI(image):\n",
    "    ndbi = image.expression(\n",
    "    '( SWIR - NIR ) / ( SWIR + NIR ) ',\n",
    "    {\n",
    "    'NIR': image.select('B8'),\n",
    "    'SWIR': image.select('B11'),\n",
    "    }\n",
    "    ) \\\n",
    "    .rename('NDBI') \\\n",
    "    .copyProperties(image,['system:time_start'])\n",
    "    return image.addBands(ndbi)"
   ]
  },
  {
   "cell_type": "code",
   "execution_count": 32,
   "id": "9f4ba51a",
   "metadata": {},
   "outputs": [
    {
     "name": "stdout",
     "output_type": "stream",
     "text": [
      "Collection with inBands and Statistic indices: \n",
      " ee.ImageCollection({\n",
      "  \"functionInvocationValue\": {\n",
      "    \"functionName\": \"Collection.map\",\n",
      "    \"arguments\": {\n",
      "      \"baseAlgorithm\": {\n",
      "        \"functionDefinitionValue\": {\n",
      "          \"argumentNames\": [\n",
      "            \"_MAPPING_VAR_0_0\"\n",
      "          ],\n",
      "          \"body\": {\n",
      "            \"functionInvocationValue\": {\n",
      "              \"functionName\": \"Image.addBands\",\n",
      "              \"arguments\": {\n",
      "                \"dstImg\": {\n",
      "                  \"argumentReference\": \"_MAPPING_VAR_0_0\"\n",
      "                },\n",
      "                \"srcImg\": {\n",
      "                  \"functionInvocationValue\": {\n",
      "                    \"functionName\": \"Image.copyProperties\",\n",
      "                    \"arguments\": {\n",
      "                      \"destination\": {\n",
      "                        \"functionInvocationValue\": {\n",
      "                          \"functionName\": \"Image.rename\",\n",
      "                          \"arguments\": {\n",
      "                            \"input\": {\n",
      "                              \"functionInvocationValue\": {\n",
      "                                \"functionReference\": {\n",
      "                                  \"functionInvocationValue\": {\n",
      "                                    \"functionName\": \"Image.parseExpression\",\n",
      "                                    \"arguments\": {\n",
      "                                      \"argName\": {\n",
      "                                        \"constantValue\": \"DEFAULT_EXPRESSION_IMAGE\"\n",
      "                                      },\n",
      "                                      \"expression\": {\n",
      "                                        \"constantValue\": \"( SWIR - NIR ) / ( SWIR + NIR ) \"\n",
      "                                      },\n",
      "                                      \"vars\": {\n",
      "                                        \"constantValue\": [\n",
      "                                          \"DEFAULT_EXPRESSION_IMAGE\",\n",
      "                                          \"NIR\",\n",
      "                                          \"SWIR\"\n",
      "                                        ]\n",
      "                                      }\n",
      "                                    }\n",
      "                                  }\n",
      "                                },\n",
      "                                \"arguments\": {\n",
      "                                  \"DEFAULT_EXPRESSION_IMAGE\": {\n",
      "                                    \"argumentReference\": \"_MAPPING_VAR_0_0\"\n",
      "                                  },\n",
      "                                  \"NIR\": {\n",
      "                                    \"functionInvocationValue\": {\n",
      "                                      \"functionName\": \"Image.select\",\n",
      "                                      \"arguments\": {\n",
      "                                        \"bandSelectors\": {\n",
      "                                          \"constantValue\": [\n",
      "                                            \"B8\"\n",
      "                                          ]\n",
      "                                        },\n",
      "                                        \"input\": {\n",
      "                                          \"argumentReference\": \"_MAPPING_VAR_0_0\"\n",
      "                                        }\n",
      "                                      }\n",
      "                                    }\n",
      "                                  },\n",
      "                                  \"SWIR\": {\n",
      "                                    \"functionInvocationValue\": {\n",
      "                                      \"functionName\": \"Image.select\",\n",
      "                                      \"arguments\": {\n",
      "                                        \"bandSelectors\": {\n",
      "                                          \"constantValue\": [\n",
      "                                            \"B11\"\n",
      "                                          ]\n",
      "                                        },\n",
      "                                        \"input\": {\n",
      "                                          \"argumentReference\": \"_MAPPING_VAR_0_0\"\n",
      "                                        }\n",
      "                                      }\n",
      "                                    }\n",
      "                                  }\n",
      "                                }\n",
      "                              }\n",
      "                            },\n",
      "                            \"names\": {\n",
      "                              \"constantValue\": [\n",
      "                                \"NDBI\"\n",
      "                              ]\n",
      "                            }\n",
      "                          }\n",
      "                        }\n",
      "                      },\n",
      "                      \"properties\": {\n",
      "                        \"constantValue\": [\n",
      "                          \"system:time_start\"\n",
      "                        ]\n",
      "                      },\n",
      "                      \"source\": {\n",
      "                        \"argumentReference\": \"_MAPPING_VAR_0_0\"\n",
      "                      }\n",
      "                    }\n",
      "                  }\n",
      "                }\n",
      "              }\n",
      "            }\n",
      "          }\n",
      "        }\n",
      "      },\n",
      "      \"collection\": {\n",
      "        \"functionInvocationValue\": {\n",
      "          \"functionName\": \"Collection.map\",\n",
      "          \"arguments\": {\n",
      "            \"baseAlgorithm\": {\n",
      "              \"functionDefinitionValue\": {\n",
      "                \"argumentNames\": [\n",
      "                  \"_MAPPING_VAR_0_0\"\n",
      "                ],\n",
      "                \"body\": {\n",
      "                  \"functionInvocationValue\": {\n",
      "                    \"functionName\": \"Image.addBands\",\n",
      "                    \"arguments\": {\n",
      "                      \"dstImg\": {\n",
      "                        \"argumentReference\": \"_MAPPING_VAR_0_0\"\n",
      "                      },\n",
      "                      \"srcImg\": {\n",
      "                        \"functionInvocationValue\": {\n",
      "                          \"functionName\": \"Image.copyProperties\",\n",
      "                          \"arguments\": {\n",
      "                            \"destination\": {\n",
      "                              \"functionInvocationValue\": {\n",
      "                                \"functionName\": \"Image.rename\",\n",
      "                                \"arguments\": {\n",
      "                                  \"input\": {\n",
      "                                    \"functionInvocationValue\": {\n",
      "                                      \"functionReference\": {\n",
      "                                        \"functionInvocationValue\": {\n",
      "                                          \"functionName\": \"Image.parseExpression\",\n",
      "                                          \"arguments\": {\n",
      "                                            \"argName\": {\n",
      "                                              \"constantValue\": \"DEFAULT_EXPRESSION_IMAGE\"\n",
      "                                            },\n",
      "                                            \"expression\": {\n",
      "                                              \"constantValue\": \"(NIR - (SWIR11 - SWIR12)) / (NIR + (SWIR11 - SWIR12)) \"\n",
      "                                            },\n",
      "                                            \"vars\": {\n",
      "                                              \"constantValue\": [\n",
      "                                                \"DEFAULT_EXPRESSION_IMAGE\",\n",
      "                                                \"NIR\",\n",
      "                                                \"SWIR11\",\n",
      "                                                \"SWIR12\"\n",
      "                                              ]\n",
      "                                            }\n",
      "                                          }\n",
      "                                        }\n",
      "                                      },\n",
      "                                      \"arguments\": {\n",
      "                                        \"DEFAULT_EXPRESSION_IMAGE\": {\n",
      "                                          \"argumentReference\": \"_MAPPING_VAR_0_0\"\n",
      "                                        },\n",
      "                                        \"NIR\": {\n",
      "                                          \"functionInvocationValue\": {\n",
      "                                            \"functionName\": \"Image.select\",\n",
      "                                            \"arguments\": {\n",
      "                                              \"bandSelectors\": {\n",
      "                                                \"constantValue\": [\n",
      "                                                  \"B8\"\n",
      "                                                ]\n",
      "                                              },\n",
      "                                              \"input\": {\n",
      "                                                \"argumentReference\": \"_MAPPING_VAR_0_0\"\n",
      "                                              }\n",
      "                                            }\n",
      "                                          }\n",
      "                                        },\n",
      "                                        \"SWIR11\": {\n",
      "                                          \"functionInvocationValue\": {\n",
      "                                            \"functionName\": \"Image.select\",\n",
      "                                            \"arguments\": {\n",
      "                                              \"bandSelectors\": {\n",
      "                                                \"constantValue\": [\n",
      "                                                  \"B11\"\n",
      "                                                ]\n",
      "                                              },\n",
      "                                              \"input\": {\n",
      "                                                \"argumentReference\": \"_MAPPING_VAR_0_0\"\n",
      "                                              }\n",
      "                                            }\n",
      "                                          }\n",
      "                                        },\n",
      "                                        \"SWIR12\": {\n",
      "                                          \"functionInvocationValue\": {\n",
      "                                            \"functionName\": \"Image.select\",\n",
      "                                            \"arguments\": {\n",
      "                                              \"bandSelectors\": {\n",
      "                                                \"constantValue\": [\n",
      "                                                  \"B12\"\n",
      "                                                ]\n",
      "                                              },\n",
      "                                              \"input\": {\n",
      "                                                \"argumentReference\": \"_MAPPING_VAR_0_0\"\n",
      "                                              }\n",
      "                                            }\n",
      "                                          }\n",
      "                                        }\n",
      "                                      }\n",
      "                                    }\n",
      "                                  },\n",
      "                                  \"names\": {\n",
      "                                    \"constantValue\": [\n",
      "                                      \"NMDI\"\n",
      "                                    ]\n",
      "                                  }\n",
      "                                }\n",
      "                              }\n",
      "                            },\n",
      "                            \"properties\": {\n",
      "                              \"constantValue\": [\n",
      "                                \"system:time_start\"\n",
      "                              ]\n",
      "                            },\n",
      "                            \"source\": {\n",
      "                              \"argumentReference\": \"_MAPPING_VAR_0_0\"\n",
      "                            }\n",
      "                          }\n",
      "                        }\n",
      "                      }\n",
      "                    }\n",
      "                  }\n",
      "                }\n",
      "              }\n",
      "            },\n",
      "            \"collection\": {\n",
      "              \"functionInvocationValue\": {\n",
      "                \"functionName\": \"Collection.map\",\n",
      "                \"arguments\": {\n",
      "                  \"baseAlgorithm\": {\n",
      "                    \"functionDefinitionValue\": {\n",
      "                      \"argumentNames\": [\n",
      "                        \"_MAPPING_VAR_0_0\"\n",
      "                      ],\n",
      "                      \"body\": {\n",
      "                        \"functionInvocationValue\": {\n",
      "                          \"functionName\": \"Image.addBands\",\n",
      "                          \"arguments\": {\n",
      "                            \"dstImg\": {\n",
      "                              \"argumentReference\": \"_MAPPING_VAR_0_0\"\n",
      "                            },\n",
      "                            \"srcImg\": {\n",
      "                              \"functionInvocationValue\": {\n",
      "                                \"functionName\": \"Image.copyProperties\",\n",
      "                                \"arguments\": {\n",
      "                                  \"destination\": {\n",
      "                                    \"functionInvocationValue\": {\n",
      "                                      \"functionName\": \"Image.rename\",\n",
      "                                      \"arguments\": {\n",
      "                                        \"input\": {\n",
      "                                          \"functionInvocationValue\": {\n",
      "                                            \"functionReference\": {\n",
      "                                              \"functionInvocationValue\": {\n",
      "                                                \"functionName\": \"Image.parseExpression\",\n",
      "                                                \"arguments\": {\n",
      "                                                  \"argName\": {\n",
      "                                                    \"constantValue\": \"DEFAULT_EXPRESSION_IMAGE\"\n",
      "                                                  },\n",
      "                                                  \"expression\": {\n",
      "                                                    \"constantValue\": \"(sqrt((NIR + SWIR) / 2)) \"\n",
      "                                                  },\n",
      "                                                  \"vars\": {\n",
      "                                                    \"constantValue\": [\n",
      "                                                      \"DEFAULT_EXPRESSION_IMAGE\",\n",
      "                                                      \"NIR\",\n",
      "                                                      \"SWIR\"\n",
      "                                                    ]\n",
      "                                                  }\n",
      "                                                }\n",
      "                                              }\n",
      "                                            },\n",
      "                                            \"arguments\": {\n",
      "                                              \"DEFAULT_EXPRESSION_IMAGE\": {\n",
      "                                                \"argumentReference\": \"_MAPPING_VAR_0_0\"\n",
      "                                              },\n",
      "                                              \"NIR\": {\n",
      "                                                \"functionInvocationValue\": {\n",
      "                                                  \"functionName\": \"Image.select\",\n",
      "                                                  \"arguments\": {\n",
      "                                                    \"bandSelectors\": {\n",
      "                                                      \"constantValue\": [\n",
      "                                                        \"B8\"\n",
      "                                                      ]\n",
      "                                                    },\n",
      "                                                    \"input\": {\n",
      "                                                      \"argumentReference\": \"_MAPPING_VAR_0_0\"\n",
      "                                                    }\n",
      "                                                  }\n",
      "                                                }\n",
      "                                              },\n",
      "                                              \"SWIR\": {\n",
      "                                                \"functionInvocationValue\": {\n",
      "                                                  \"functionName\": \"Image.select\",\n",
      "                                                  \"arguments\": {\n",
      "                                                    \"bandSelectors\": {\n",
      "                                                      \"constantValue\": [\n",
      "                                                        \"B11\"\n",
      "                                                      ]\n",
      "                                                    },\n",
      "                                                    \"input\": {\n",
      "                                                      \"argumentReference\": \"_MAPPING_VAR_0_0\"\n",
      "                                                    }\n",
      "                                                  }\n",
      "                                                }\n",
      "                                              }\n",
      "                                            }\n",
      "                                          }\n",
      "                                        },\n",
      "                                        \"names\": {\n",
      "                                          \"constantValue\": [\n",
      "                                            \"SMMI\"\n",
      "                                          ]\n",
      "                                        }\n",
      "                                      }\n",
      "                                    }\n",
      "                                  },\n",
      "                                  \"properties\": {\n",
      "                                    \"constantValue\": [\n",
      "                                      \"system:time_start\"\n",
      "                                    ]\n",
      "                                  },\n",
      "                                  \"source\": {\n",
      "                                    \"argumentReference\": \"_MAPPING_VAR_0_0\"\n",
      "                                  }\n",
      "                                }\n",
      "                              }\n",
      "                            }\n",
      "                          }\n",
      "                        }\n",
      "                      }\n",
      "                    }\n",
      "                  },\n",
      "                  \"collection\": {\n",
      "                    \"functionInvocationValue\": {\n",
      "                      \"functionName\": \"Collection.map\",\n",
      "                      \"arguments\": {\n",
      "                        \"baseAlgorithm\": {\n",
      "                          \"functionDefinitionValue\": {\n",
      "                            \"argumentNames\": [\n",
      "                              \"_MAPPING_VAR_0_0\"\n",
      "                            ],\n",
      "                            \"body\": {\n",
      "                              \"functionInvocationValue\": {\n",
      "                                \"functionName\": \"Image.addBands\",\n",
      "                                \"arguments\": {\n",
      "                                  \"dstImg\": {\n",
      "                                    \"argumentReference\": \"_MAPPING_VAR_0_0\"\n",
      "                                  },\n",
      "                                  \"srcImg\": {\n",
      "                                    \"functionInvocationValue\": {\n",
      "                                      \"functionName\": \"Image.copyProperties\",\n",
      "                                      \"arguments\": {\n",
      "                                        \"destination\": {\n",
      "                                          \"functionInvocationValue\": {\n",
      "                                            \"functionName\": \"Image.rename\",\n",
      "                                            \"arguments\": {\n",
      "                                              \"input\": {\n",
      "                                                \"functionInvocationValue\": {\n",
      "                                                  \"functionReference\": {\n",
      "                                                    \"functionInvocationValue\": {\n",
      "                                                      \"functionName\": \"Image.parseExpression\",\n",
      "                                                      \"arguments\": {\n",
      "                                                        \"argName\": {\n",
      "                                                          \"constantValue\": \"DEFAULT_EXPRESSION_IMAGE\"\n",
      "                                                        },\n",
      "                                                        \"expression\": {\n",
      "                                                          \"constantValue\": \"(GREEN - SWIR) / (GREEN + SWIR) \"\n",
      "                                                        },\n",
      "                                                        \"vars\": {\n",
      "                                                          \"constantValue\": [\n",
      "                                                            \"DEFAULT_EXPRESSION_IMAGE\",\n",
      "                                                            \"GREEN\",\n",
      "                                                            \"SWIR\"\n",
      "                                                          ]\n",
      "                                                        }\n",
      "                                                      }\n",
      "                                                    }\n",
      "                                                  },\n",
      "                                                  \"arguments\": {\n",
      "                                                    \"DEFAULT_EXPRESSION_IMAGE\": {\n",
      "                                                      \"argumentReference\": \"_MAPPING_VAR_0_0\"\n",
      "                                                    },\n",
      "                                                    \"GREEN\": {\n",
      "                                                      \"functionInvocationValue\": {\n",
      "                                                        \"functionName\": \"Image.select\",\n",
      "                                                        \"arguments\": {\n",
      "                                                          \"bandSelectors\": {\n",
      "                                                            \"constantValue\": [\n",
      "                                                              \"B3\"\n",
      "                                                            ]\n",
      "                                                          },\n",
      "                                                          \"input\": {\n",
      "                                                            \"argumentReference\": \"_MAPPING_VAR_0_0\"\n",
      "                                                          }\n",
      "                                                        }\n",
      "                                                      }\n",
      "                                                    },\n",
      "                                                    \"SWIR\": {\n",
      "                                                      \"functionInvocationValue\": {\n",
      "                                                        \"functionName\": \"Image.select\",\n",
      "                                                        \"arguments\": {\n",
      "                                                          \"bandSelectors\": {\n",
      "                                                            \"constantValue\": [\n",
      "                                                              \"B11\"\n",
      "                                                            ]\n",
      "                                                          },\n",
      "                                                          \"input\": {\n",
      "                                                            \"argumentReference\": \"_MAPPING_VAR_0_0\"\n",
      "                                                          }\n",
      "                                                        }\n",
      "                                                      }\n",
      "                                                    }\n",
      "                                                  }\n",
      "                                                }\n",
      "                                              },\n",
      "                                              \"names\": {\n",
      "                                                \"constantValue\": [\n",
      "                                                  \"MNDWI\"\n",
      "                                                ]\n",
      "                                              }\n",
      "                                            }\n",
      "                                          }\n",
      "                                        },\n",
      "                                        \"properties\": {\n",
      "                                          \"constantValue\": [\n",
      "                                            \"system:time_start\"\n",
      "                                          ]\n",
      "                                        },\n",
      "                                        \"source\": {\n",
      "                                          \"argumentReference\": \"_MAPPING_VAR_0_0\"\n",
      "                                        }\n",
      "                                      }\n",
      "                                    }\n",
      "                                  }\n",
      "                                }\n",
      "                              }\n",
      "                            }\n",
      "                          }\n",
      "                        },\n",
      "                        \"collection\": {\n",
      "                          \"functionInvocationValue\": {\n",
      "                            \"functionName\": \"Collection.map\",\n",
      "                            \"arguments\": {\n",
      "                              \"baseAlgorithm\": {\n",
      "                                \"functionDefinitionValue\": {\n",
      "                                  \"argumentNames\": [\n",
      "                                    \"_MAPPING_VAR_0_0\"\n",
      "                                  ],\n",
      "                                  \"body\": {\n",
      "                                    \"functionInvocationValue\": {\n",
      "                                      \"functionName\": \"Image.addBands\",\n",
      "                                      \"arguments\": {\n",
      "                                        \"dstImg\": {\n",
      "                                          \"argumentReference\": \"_MAPPING_VAR_0_0\"\n",
      "                                        },\n",
      "                                        \"srcImg\": {\n",
      "                                          \"functionInvocationValue\": {\n",
      "                                            \"functionName\": \"Image.copyProperties\",\n",
      "                                            \"arguments\": {\n",
      "                                              \"destination\": {\n",
      "                                                \"functionInvocationValue\": {\n",
      "                                                  \"functionName\": \"Image.rename\",\n",
      "                                                  \"arguments\": {\n",
      "                                                    \"input\": {\n",
      "                                                      \"functionInvocationValue\": {\n",
      "                                                        \"functionReference\": {\n",
      "                                                          \"functionInvocationValue\": {\n",
      "                                                            \"functionName\": \"Image.parseExpression\",\n",
      "                                                            \"arguments\": {\n",
      "                                                              \"argName\": {\n",
      "                                                                \"constantValue\": \"DEFAULT_EXPRESSION_IMAGE\"\n",
      "                                                              },\n",
      "                                                              \"expression\": {\n",
      "                                                                \"constantValue\": \"(GREEN - RED) / (RED + GREEN) \"\n",
      "                                                              },\n",
      "                                                              \"vars\": {\n",
      "                                                                \"constantValue\": [\n",
      "                                                                  \"DEFAULT_EXPRESSION_IMAGE\",\n",
      "                                                                  \"RED\",\n",
      "                                                                  \"GREEN\"\n",
      "                                                                ]\n",
      "                                                              }\n",
      "                                                            }\n",
      "                                                          }\n",
      "                                                        },\n",
      "                                                        \"arguments\": {\n",
      "                                                          \"DEFAULT_EXPRESSION_IMAGE\": {\n",
      "                                                            \"argumentReference\": \"_MAPPING_VAR_0_0\"\n",
      "                                                          },\n",
      "                                                          \"GREEN\": {\n",
      "                                                            \"functionInvocationValue\": {\n",
      "                                                              \"functionName\": \"Image.select\",\n",
      "                                                              \"arguments\": {\n",
      "                                                                \"bandSelectors\": {\n",
      "                                                                  \"constantValue\": [\n",
      "                                                                    \"B3\"\n",
      "                                                                  ]\n",
      "                                                                },\n",
      "                                                                \"input\": {\n",
      "                                                                  \"argumentReference\": \"_MAPPING_VAR_0_0\"\n",
      "                                                                }\n",
      "                                                              }\n",
      "                                                            }\n",
      "                                                          },\n",
      "                                                          \"RED\": {\n",
      "                                                            \"functionInvocationValue\": {\n",
      "                                                              \"functionName\": \"Image.select\",\n",
      "                                                              \"arguments\": {\n",
      "                                                                \"bandSelectors\": {\n",
      "                                                                  \"constantValue\": [\n",
      "                                                                    \"B4\"\n",
      "                                                                  ]\n",
      "                                                                },\n",
      "                                                                \"input\": {\n",
      "                                                                  \"argumentReference\": \"_MAPPING_VAR_0_0\"\n",
      "                                                                }\n",
      "                                                              }\n",
      "                                                            }\n",
      "                                                          }\n",
      "                                                        }\n",
      "                                                      }\n",
      "                                                    },\n",
      "                                                    \"names\": {\n",
      "                                                      \"constantValue\": [\n",
      "                                                        \"GRVI\"\n",
      "                                                      ]\n",
      "                                                    }\n",
      "                                                  }\n",
      "                                                }\n",
      "                                              },\n",
      "                                              \"properties\": {\n",
      "                                                \"constantValue\": [\n",
      "                                                  \"system:time_start\"\n",
      "                                                ]\n",
      "                                              },\n",
      "                                              \"source\": {\n",
      "                                                \"argumentReference\": \"_MAPPING_VAR_0_0\"\n",
      "                                              }\n",
      "                                            }\n",
      "                                          }\n",
      "                                        }\n",
      "                                      }\n",
      "                                    }\n",
      "                                  }\n",
      "                                }\n",
      "                              },\n",
      "                              \"collection\": {\n",
      "                                \"functionInvocationValue\": {\n",
      "                                  \"functionName\": \"Collection.map\",\n",
      "                                  \"arguments\": {\n",
      "                                    \"baseAlgorithm\": {\n",
      "                                      \"functionDefinitionValue\": {\n",
      "                                        \"argumentNames\": [\n",
      "                                          \"_MAPPING_VAR_0_0\"\n",
      "                                        ],\n",
      "                                        \"body\": {\n",
      "                                          \"functionInvocationValue\": {\n",
      "                                            \"functionName\": \"Image.addBands\",\n",
      "                                            \"arguments\": {\n",
      "                                              \"dstImg\": {\n",
      "                                                \"argumentReference\": \"_MAPPING_VAR_0_0\"\n",
      "                                              },\n",
      "                                              \"srcImg\": {\n",
      "                                                \"functionInvocationValue\": {\n",
      "                                                  \"functionName\": \"Image.copyProperties\",\n",
      "                                                  \"arguments\": {\n",
      "                                                    \"destination\": {\n",
      "                                                      \"functionInvocationValue\": {\n",
      "                                                        \"functionName\": \"Image.rename\",\n",
      "                                                        \"arguments\": {\n",
      "                                                          \"input\": {\n",
      "                                                            \"functionInvocationValue\": {\n",
      "                                                              \"functionReference\": {\n",
      "                                                                \"functionInvocationValue\": {\n",
      "                                                                  \"functionName\": \"Image.parseExpression\",\n",
      "                                                                  \"arguments\": {\n",
      "                                                                    \"argName\": {\n",
      "                                                                      \"constantValue\": \"DEFAULT_EXPRESSION_IMAGE\"\n",
      "                                                                    },\n",
      "                                                                    \"expression\": {\n",
      "                                                                      \"constantValue\": \"(2.5 * (NIR - RED)) / (NIR + 6 * RED - 7.5 * BLUE + 1) \"\n",
      "                                                                    },\n",
      "                                                                    \"vars\": {\n",
      "                                                                      \"constantValue\": [\n",
      "                                                                        \"DEFAULT_EXPRESSION_IMAGE\",\n",
      "                                                                        \"RED\",\n",
      "                                                                        \"BLUE\",\n",
      "                                                                        \"NIR\",\n",
      "                                                                        \"G\",\n",
      "                                                                        \"C1\",\n",
      "                                                                        \"C2\",\n",
      "                                                                        \"L\"\n",
      "                                                                      ]\n",
      "                                                                    }\n",
      "                                                                  }\n",
      "                                                                }\n",
      "                                                              },\n",
      "                                                              \"arguments\": {\n",
      "                                                                \"BLUE\": {\n",
      "                                                                  \"functionInvocationValue\": {\n",
      "                                                                    \"functionName\": \"Image.select\",\n",
      "                                                                    \"arguments\": {\n",
      "                                                                      \"bandSelectors\": {\n",
      "                                                                        \"constantValue\": [\n",
      "                                                                          \"B2\"\n",
      "                                                                        ]\n",
      "                                                                      },\n",
      "                                                                      \"input\": {\n",
      "                                                                        \"argumentReference\": \"_MAPPING_VAR_0_0\"\n",
      "                                                                      }\n",
      "                                                                    }\n",
      "                                                                  }\n",
      "                                                                },\n",
      "                                                                \"C1\": {\n",
      "                                                                  \"functionInvocationValue\": {\n",
      "                                                                    \"functionName\": \"Image.constant\",\n",
      "                                                                    \"arguments\": {\n",
      "                                                                      \"value\": {\n",
      "                                                                        \"constantValue\": 6\n",
      "                                                                      }\n",
      "                                                                    }\n",
      "                                                                  }\n",
      "                                                                },\n",
      "                                                                \"C2\": {\n",
      "                                                                  \"functionInvocationValue\": {\n",
      "                                                                    \"functionName\": \"Image.constant\",\n",
      "                                                                    \"arguments\": {\n",
      "                                                                      \"value\": {\n",
      "                                                                        \"constantValue\": 7.5\n",
      "                                                                      }\n",
      "                                                                    }\n",
      "                                                                  }\n",
      "                                                                },\n",
      "                                                                \"DEFAULT_EXPRESSION_IMAGE\": {\n",
      "                                                                  \"argumentReference\": \"_MAPPING_VAR_0_0\"\n",
      "                                                                },\n",
      "                                                                \"G\": {\n",
      "                                                                  \"functionInvocationValue\": {\n",
      "                                                                    \"functionName\": \"Image.constant\",\n",
      "                                                                    \"arguments\": {\n",
      "                                                                      \"value\": {\n",
      "                                                                        \"constantValue\": 2.5\n",
      "                                                                      }\n",
      "                                                                    }\n",
      "                                                                  }\n",
      "                                                                },\n",
      "                                                                \"L\": {\n",
      "                                                                  \"functionInvocationValue\": {\n",
      "                                                                    \"functionName\": \"Image.constant\",\n",
      "                                                                    \"arguments\": {\n",
      "                                                                      \"value\": {\n",
      "                                                                        \"constantValue\": 1\n",
      "                                                                      }\n",
      "                                                                    }\n",
      "                                                                  }\n",
      "                                                                },\n",
      "                                                                \"NIR\": {\n",
      "                                                                  \"functionInvocationValue\": {\n",
      "                                                                    \"functionName\": \"Image.select\",\n",
      "                                                                    \"arguments\": {\n",
      "                                                                      \"bandSelectors\": {\n",
      "                                                                        \"constantValue\": [\n",
      "                                                                          \"B8\"\n",
      "                                                                        ]\n",
      "                                                                      },\n",
      "                                                                      \"input\": {\n",
      "                                                                        \"argumentReference\": \"_MAPPING_VAR_0_0\"\n",
      "                                                                      }\n",
      "                                                                    }\n",
      "                                                                  }\n",
      "                                                                },\n",
      "                                                                \"RED\": {\n",
      "                                                                  \"functionInvocationValue\": {\n",
      "                                                                    \"functionName\": \"Image.select\",\n",
      "                                                                    \"arguments\": {\n",
      "                                                                      \"bandSelectors\": {\n",
      "                                                                        \"constantValue\": [\n",
      "                                                                          \"B4\"\n",
      "                                                                        ]\n",
      "                                                                      },\n",
      "                                                                      \"input\": {\n",
      "                                                                        \"argumentReference\": \"_MAPPING_VAR_0_0\"\n",
      "                                                                      }\n",
      "                                                                    }\n",
      "                                                                  }\n",
      "                                                                }\n",
      "                                                              }\n",
      "                                                            }\n",
      "                                                          },\n",
      "                                                          \"names\": {\n",
      "                                                            \"constantValue\": [\n",
      "                                                              \"EVI\"\n",
      "                                                            ]\n",
      "                                                          }\n",
      "                                                        }\n",
      "                                                      }\n",
      "                                                    },\n",
      "                                                    \"properties\": {\n",
      "                                                      \"constantValue\": [\n",
      "                                                        \"system:time_start\"\n",
      "                                                      ]\n",
      "                                                    },\n",
      "                                                    \"source\": {\n",
      "                                                      \"argumentReference\": \"_MAPPING_VAR_0_0\"\n",
      "                                                    }\n",
      "                                                  }\n",
      "                                                }\n",
      "                                              }\n",
      "                                            }\n",
      "                                          }\n",
      "                                        }\n",
      "                                      }\n",
      "                                    },\n",
      "                                    \"collection\": {\n",
      "                                      \"functionInvocationValue\": {\n",
      "                                        \"functionName\": \"Collection.map\",\n",
      "                                        \"arguments\": {\n",
      "                                          \"baseAlgorithm\": {\n",
      "                                            \"functionDefinitionValue\": {\n",
      "                                              \"argumentNames\": [\n",
      "                                                \"_MAPPING_VAR_0_0\"\n",
      "                                              ],\n",
      "                                              \"body\": {\n",
      "                                                \"functionInvocationValue\": {\n",
      "                                                  \"functionName\": \"Image.addBands\",\n",
      "                                                  \"arguments\": {\n",
      "                                                    \"dstImg\": {\n",
      "                                                      \"argumentReference\": \"_MAPPING_VAR_0_0\"\n",
      "                                                    },\n",
      "                                                    \"srcImg\": {\n",
      "                                                      \"functionInvocationValue\": {\n",
      "                                                        \"functionName\": \"Image.copyProperties\",\n",
      "                                                        \"arguments\": {\n",
      "                                                          \"destination\": {\n",
      "                                                            \"functionInvocationValue\": {\n",
      "                                                              \"functionName\": \"Image.rename\",\n",
      "                                                              \"arguments\": {\n",
      "                                                                \"input\": {\n",
      "                                                                  \"functionInvocationValue\": {\n",
      "                                                                    \"functionReference\": {\n",
      "                                                                      \"functionInvocationValue\": {\n",
      "                                                                        \"functionName\": \"Image.parseExpression\",\n",
      "                                                                        \"arguments\": {\n",
      "                                                                          \"argName\": {\n",
      "                                                                            \"constantValue\": \"DEFAULT_EXPRESSION_IMAGE\"\n",
      "                                                                          },\n",
      "                                                                          \"expression\": {\n",
      "                                                                            \"constantValue\": \"((RED + SWIR) - (NIR + BLUE)) / ((RED + SWIR) + (NIR + BLUE)) \"\n",
      "                                                                          },\n",
      "                                                                          \"vars\": {\n",
      "                                                                            \"constantValue\": [\n",
      "                                                                              \"DEFAULT_EXPRESSION_IMAGE\",\n",
      "                                                                              \"RED\",\n",
      "                                                                              \"BLUE\",\n",
      "                                                                              \"NIR\",\n",
      "                                                                              \"SWIR\"\n",
      "                                                                            ]\n",
      "                                                                          }\n",
      "                                                                        }\n",
      "                                                                      }\n",
      "                                                                    },\n",
      "                                                                    \"arguments\": {\n",
      "                                                                      \"BLUE\": {\n",
      "                                                                        \"functionInvocationValue\": {\n",
      "                                                                          \"functionName\": \"Image.select\",\n",
      "                                                                          \"arguments\": {\n",
      "                                                                            \"bandSelectors\": {\n",
      "                                                                              \"constantValue\": [\n",
      "                                                                                \"B2\"\n",
      "                                                                              ]\n",
      "                                                                            },\n",
      "                                                                            \"input\": {\n",
      "                                                                              \"argumentReference\": \"_MAPPING_VAR_0_0\"\n",
      "                                                                            }\n",
      "                                                                          }\n",
      "                                                                        }\n",
      "                                                                      },\n",
      "                                                                      \"DEFAULT_EXPRESSION_IMAGE\": {\n",
      "                                                                        \"argumentReference\": \"_MAPPING_VAR_0_0\"\n",
      "                                                                      },\n",
      "                                                                      \"NIR\": {\n",
      "                                                                        \"functionInvocationValue\": {\n",
      "                                                                          \"functionName\": \"Image.select\",\n",
      "                                                                          \"arguments\": {\n",
      "                                                                            \"bandSelectors\": {\n",
      "                                                                              \"constantValue\": [\n",
      "                                                                                \"B8\"\n",
      "                                                                              ]\n",
      "                                                                            },\n",
      "                                                                            \"input\": {\n",
      "                                                                              \"argumentReference\": \"_MAPPING_VAR_0_0\"\n",
      "                                                                            }\n",
      "                                                                          }\n",
      "                                                                        }\n",
      "                                                                      },\n",
      "                                                                      \"RED\": {\n",
      "                                                                        \"functionInvocationValue\": {\n",
      "                                                                          \"functionName\": \"Image.select\",\n",
      "                                                                          \"arguments\": {\n",
      "                                                                            \"bandSelectors\": {\n",
      "                                                                              \"constantValue\": [\n",
      "                                                                                \"B4\"\n",
      "                                                                              ]\n",
      "                                                                            },\n",
      "                                                                            \"input\": {\n",
      "                                                                              \"argumentReference\": \"_MAPPING_VAR_0_0\"\n",
      "                                                                            }\n",
      "                                                                          }\n",
      "                                                                        }\n",
      "                                                                      },\n",
      "                                                                      \"SWIR\": {\n",
      "                                                                        \"functionInvocationValue\": {\n",
      "                                                                          \"functionName\": \"Image.select\",\n",
      "                                                                          \"arguments\": {\n",
      "                                                                            \"bandSelectors\": {\n",
      "                                                                              \"constantValue\": [\n",
      "                                                                                \"B11\"\n",
      "                                                                              ]\n",
      "                                                                            },\n",
      "                                                                            \"input\": {\n",
      "                                                                              \"argumentReference\": \"_MAPPING_VAR_0_0\"\n",
      "                                                                            }\n",
      "                                                                          }\n",
      "                                                                        }\n",
      "                                                                      }\n",
      "                                                                    }\n",
      "                                                                  }\n",
      "                                                                },\n",
      "                                                                \"names\": {\n",
      "                                                                  \"constantValue\": [\n",
      "                                                                    \"BSI\"\n",
      "                                                                  ]\n",
      "                                                                }\n",
      "                                                              }\n",
      "                                                            }\n",
      "                                                          },\n",
      "                                                          \"properties\": {\n",
      "                                                            \"constantValue\": [\n",
      "                                                              \"system:time_start\"\n",
      "                                                            ]\n",
      "                                                          },\n",
      "                                                          \"source\": {\n",
      "                                                            \"argumentReference\": \"_MAPPING_VAR_0_0\"\n",
      "                                                          }\n",
      "                                                        }\n",
      "                                                      }\n",
      "                                                    }\n",
      "                                                  }\n",
      "                                                }\n",
      "                                              }\n",
      "                                            }\n",
      "                                          },\n",
      "                                          \"collection\": {\n",
      "                                            \"functionInvocationValue\": {\n",
      "                                              \"functionName\": \"Collection.map\",\n",
      "                                              \"arguments\": {\n",
      "                                                \"baseAlgorithm\": {\n",
      "                                                  \"functionDefinitionValue\": {\n",
      "                                                    \"argumentNames\": [\n",
      "                                                      \"_MAPPING_VAR_0_0\"\n",
      "                                                    ],\n",
      "                                                    \"body\": {\n",
      "                                                      \"functionInvocationValue\": {\n",
      "                                                        \"functionName\": \"Image.addBands\",\n",
      "                                                        \"arguments\": {\n",
      "                                                          \"dstImg\": {\n",
      "                                                            \"argumentReference\": \"_MAPPING_VAR_0_0\"\n",
      "                                                          },\n",
      "                                                          \"srcImg\": {\n",
      "                                                            \"functionInvocationValue\": {\n",
      "                                                              \"functionName\": \"Image.copyProperties\",\n",
      "                                                              \"arguments\": {\n",
      "                                                                \"destination\": {\n",
      "                                                                  \"functionInvocationValue\": {\n",
      "                                                                    \"functionName\": \"Image.rename\",\n",
      "                                                                    \"arguments\": {\n",
      "                                                                      \"input\": {\n",
      "                                                                        \"functionInvocationValue\": {\n",
      "                                                                          \"functionName\": \"Image.normalizedDifference\",\n",
      "                                                                          \"arguments\": {\n",
      "                                                                            \"bandNames\": {\n",
      "                                                                              \"constantValue\": [\n",
      "                                                                                \"B8\",\n",
      "                                                                                \"B4\"\n",
      "                                                                              ]\n",
      "                                                                            },\n",
      "                                                                            \"input\": {\n",
      "                                                                              \"argumentReference\": \"_MAPPING_VAR_0_0\"\n",
      "                                                                            }\n",
      "                                                                          }\n",
      "                                                                        }\n",
      "                                                                      },\n",
      "                                                                      \"names\": {\n",
      "                                                                        \"constantValue\": [\n",
      "                                                                          \"NDVI\"\n",
      "                                                                        ]\n",
      "                                                                      }\n",
      "                                                                    }\n",
      "                                                                  }\n",
      "                                                                },\n",
      "                                                                \"properties\": {\n",
      "                                                                  \"constantValue\": [\n",
      "                                                                    \"system:time_start\"\n",
      "                                                                  ]\n",
      "                                                                },\n",
      "                                                                \"source\": {\n",
      "                                                                  \"argumentReference\": \"_MAPPING_VAR_0_0\"\n",
      "                                                                }\n",
      "                                                              }\n",
      "                                                            }\n",
      "                                                          }\n",
      "                                                        }\n",
      "                                                      }\n",
      "                                                    }\n",
      "                                                  }\n",
      "                                                },\n",
      "                                                \"collection\": {\n",
      "                                                  \"functionInvocationValue\": {\n",
      "                                                    \"functionName\": \"Collection.map\",\n",
      "                                                    \"arguments\": {\n",
      "                                                      \"baseAlgorithm\": {\n",
      "                                                        \"functionDefinitionValue\": {\n",
      "                                                          \"argumentNames\": [\n",
      "                                                            \"_MAPPING_VAR_0_0\"\n",
      "                                                          ],\n",
      "                                                          \"body\": {\n",
      "                                                            \"functionInvocationValue\": {\n",
      "                                                              \"functionName\": \"Image.select\",\n",
      "                                                              \"arguments\": {\n",
      "                                                                \"bandSelectors\": {\n",
      "                                                                  \"constantValue\": [\n",
      "                                                                    \"B2\",\n",
      "                                                                    \"B3\",\n",
      "                                                                    \"B4\",\n",
      "                                                                    \"B5\",\n",
      "                                                                    \"B6\",\n",
      "                                                                    \"B7\",\n",
      "                                                                    \"B8\",\n",
      "                                                                    \"B8A\",\n",
      "                                                                    \"B11\",\n",
      "                                                                    \"B12\",\n",
      "                                                                    [\n",
      "                                                                      \"NDVI\",\n",
      "                                                                      \"NDVI_STD\",\n",
      "                                                                      \"BSI\"\n",
      "                                                                    ]\n",
      "                                                                  ]\n",
      "                                                                },\n",
      "                                                                \"input\": {\n",
      "                                                                  \"argumentReference\": \"_MAPPING_VAR_0_0\"\n",
      "                                                                }\n",
      "                                                              }\n",
      "                                                            }\n",
      "                                                          }\n",
      "                                                        }\n",
      "                                                      },\n",
      "                                                      \"collection\": {\n",
      "                                                        \"functionInvocationValue\": {\n",
      "                                                          \"functionName\": \"Collection.map\",\n",
      "                                                          \"arguments\": {\n",
      "                                                            \"baseAlgorithm\": {\n",
      "                                                              \"functionDefinitionValue\": {\n",
      "                                                                \"argumentNames\": [\n",
      "                                                                  \"_MAPPING_VAR_0_0\"\n",
      "                                                                ],\n",
      "                                                                \"body\": {\n",
      "                                                                  \"functionInvocationValue\": {\n",
      "                                                                    \"functionName\": \"Image.copyProperties\",\n",
      "                                                                    \"arguments\": {\n",
      "                                                                      \"destination\": {\n",
      "                                                                        \"functionInvocationValue\": {\n",
      "                                                                          \"functionName\": \"Image.divide\",\n",
      "                                                                          \"arguments\": {\n",
      "                                                                            \"image1\": {\n",
      "                                                                              \"functionInvocationValue\": {\n",
      "                                                                                \"functionName\": \"Image.updateMask\",\n",
      "                                                                                \"arguments\": {\n",
      "                                                                                  \"image\": {\n",
      "                                                                                    \"argumentReference\": \"_MAPPING_VAR_0_0\"\n",
      "                                                                                  },\n",
      "                                                                                  \"mask\": {\n",
      "                                                                                    \"functionInvocationValue\": {\n",
      "                                                                                      \"functionName\": \"Image.and\",\n",
      "                                                                                      \"arguments\": {\n",
      "                                                                                        \"image1\": {\n",
      "                                                                                          \"functionInvocationValue\": {\n",
      "                                                                                            \"functionName\": \"Image.eq\",\n",
      "                                                                                            \"arguments\": {\n",
      "                                                                                              \"image1\": {\n",
      "                                                                                                \"functionInvocationValue\": {\n",
      "                                                                                                  \"functionName\": \"Image.bitwiseAnd\",\n",
      "                                                                                                  \"arguments\": {\n",
      "                                                                                                    \"image1\": {\n",
      "                                                                                                      \"functionInvocationValue\": {\n",
      "                                                                                                        \"functionName\": \"Image.select\",\n",
      "                                                                                                        \"arguments\": {\n",
      "                                                                                                          \"bandSelectors\": {\n",
      "                                                                                                            \"constantValue\": [\n",
      "                                                                                                              \"QA60\"\n",
      "                                                                                                            ]\n",
      "                                                                                                          },\n",
      "                                                                                                          \"input\": {\n",
      "                                                                                                            \"argumentReference\": \"_MAPPING_VAR_0_0\"\n",
      "                                                                                                          }\n",
      "                                                                                                        }\n",
      "                                                                                                      }\n",
      "                                                                                                    },\n",
      "                                                                                                    \"image2\": {\n",
      "                                                                                                      \"functionInvocationValue\": {\n",
      "                                                                                                        \"functionName\": \"Image.constant\",\n",
      "                                                                                                        \"arguments\": {\n",
      "                                                                                                          \"value\": {\n",
      "                                                                                                            \"constantValue\": 1024\n",
      "                                                                                                          }\n",
      "                                                                                                        }\n",
      "                                                                                                      }\n",
      "                                                                                                    }\n",
      "                                                                                                  }\n",
      "                                                                                                }\n",
      "                                                                                              },\n",
      "                                                                                              \"image2\": {\n",
      "                                                                                                \"functionInvocationValue\": {\n",
      "                                                                                                  \"functionName\": \"Image.constant\",\n",
      "                                                                                                  \"arguments\": {\n",
      "                                                                                                    \"value\": {\n",
      "                                                                                                      \"constantValue\": 0\n",
      "                                                                                                    }\n",
      "                                                                                                  }\n",
      "                                                                                                }\n",
      "                                                                                              }\n",
      "                                                                                            }\n",
      "                                                                                          }\n",
      "                                                                                        },\n",
      "                                                                                        \"image2\": {\n",
      "                                                                                          \"functionInvocationValue\": {\n",
      "                                                                                            \"functionName\": \"Image.eq\",\n",
      "                                                                                            \"arguments\": {\n",
      "                                                                                              \"image1\": {\n",
      "                                                                                                \"functionInvocationValue\": {\n",
      "                                                                                                  \"functionName\": \"Image.bitwiseAnd\",\n",
      "                                                                                                  \"arguments\": {\n",
      "                                                                                                    \"image1\": {\n",
      "                                                                                                      \"functionInvocationValue\": {\n",
      "                                                                                                        \"functionName\": \"Image.select\",\n",
      "                                                                                                        \"arguments\": {\n",
      "                                                                                                          \"bandSelectors\": {\n",
      "                                                                                                            \"constantValue\": [\n",
      "                                                                                                              \"QA60\"\n",
      "                                                                                                            ]\n",
      "                                                                                                          },\n",
      "                                                                                                          \"input\": {\n",
      "                                                                                                            \"argumentReference\": \"_MAPPING_VAR_0_0\"\n",
      "                                                                                                          }\n",
      "                                                                                                        }\n",
      "                                                                                                      }\n",
      "                                                                                                    },\n",
      "                                                                                                    \"image2\": {\n",
      "                                                                                                      \"functionInvocationValue\": {\n",
      "                                                                                                        \"functionName\": \"Image.constant\",\n",
      "                                                                                                        \"arguments\": {\n",
      "                                                                                                          \"value\": {\n",
      "                                                                                                            \"constantValue\": 2048\n",
      "                                                                                                          }\n",
      "                                                                                                        }\n",
      "                                                                                                      }\n",
      "                                                                                                    }\n",
      "                                                                                                  }\n",
      "                                                                                                }\n",
      "                                                                                              },\n",
      "                                                                                              \"image2\": {\n",
      "                                                                                                \"functionInvocationValue\": {\n",
      "                                                                                                  \"functionName\": \"Image.constant\",\n",
      "                                                                                                  \"arguments\": {\n",
      "                                                                                                    \"value\": {\n",
      "                                                                                                      \"constantValue\": 0\n",
      "                                                                                                    }\n",
      "                                                                                                  }\n",
      "                                                                                                }\n",
      "                                                                                              }\n",
      "                                                                                            }\n",
      "                                                                                          }\n",
      "                                                                                        }\n",
      "                                                                                      }\n",
      "                                                                                    }\n",
      "                                                                                  }\n",
      "                                                                                }\n",
      "                                                                              }\n",
      "                                                                            },\n",
      "                                                                            \"image2\": {\n",
      "                                                                              \"functionInvocationValue\": {\n",
      "                                                                                \"functionName\": \"Image.constant\",\n",
      "                                                                                \"arguments\": {\n",
      "                                                                                  \"value\": {\n",
      "                                                                                    \"constantValue\": 10000\n",
      "                                                                                  }\n",
      "                                                                                }\n",
      "                                                                              }\n",
      "                                                                            }\n",
      "                                                                          }\n",
      "                                                                        }\n",
      "                                                                      },\n",
      "                                                                      \"properties\": {\n",
      "                                                                        \"constantValue\": [\n",
      "                                                                          \"system:time_start\"\n",
      "                                                                        ]\n",
      "                                                                      },\n",
      "                                                                      \"source\": {\n",
      "                                                                        \"argumentReference\": \"_MAPPING_VAR_0_0\"\n",
      "                                                                      }\n",
      "                                                                    }\n",
      "                                                                  }\n",
      "                                                                }\n",
      "                                                              }\n",
      "                                                            },\n",
      "                                                            \"collection\": {\n",
      "                                                              \"functionInvocationValue\": {\n",
      "                                                                \"functionName\": \"Collection.filter\",\n",
      "                                                                \"arguments\": {\n",
      "                                                                  \"collection\": {\n",
      "                                                                    \"functionInvocationValue\": {\n",
      "                                                                      \"functionName\": \"Collection.filter\",\n",
      "                                                                      \"arguments\": {\n",
      "                                                                        \"collection\": {\n",
      "                                                                          \"functionInvocationValue\": {\n",
      "                                                                            \"functionName\": \"Collection.filter\",\n",
      "                                                                            \"arguments\": {\n",
      "                                                                              \"collection\": {\n",
      "                                                                                \"functionInvocationValue\": {\n",
      "                                                                                  \"functionName\": \"ImageCollection.load\",\n",
      "                                                                                  \"arguments\": {\n",
      "                                                                                    \"id\": {\n",
      "                                                                                      \"constantValue\": \"COPERNICUS/S2_SR\"\n",
      "                                                                                    }\n",
      "                                                                                  }\n",
      "                                                                                }\n",
      "                                                                              },\n",
      "                                                                              \"filter\": {\n",
      "                                                                                \"functionInvocationValue\": {\n",
      "                                                                                  \"functionName\": \"Filter.dateRangeContains\",\n",
      "                                                                                  \"arguments\": {\n",
      "                                                                                    \"leftValue\": {\n",
      "                                                                                      \"functionInvocationValue\": {\n",
      "                                                                                        \"functionName\": \"DateRange\",\n",
      "                                                                                        \"arguments\": {\n",
      "                                                                                          \"end\": {\n",
      "                                                                                            \"constantValue\": \"2019-12-31\"\n",
      "                                                                                          },\n",
      "                                                                                          \"start\": {\n",
      "                                                                                            \"constantValue\": \"2017-01-01\"\n",
      "                                                                                          }\n",
      "                                                                                        }\n",
      "                                                                                      }\n",
      "                                                                                    },\n",
      "                                                                                    \"rightField\": {\n",
      "                                                                                      \"constantValue\": \"system:time_start\"\n",
      "                                                                                    }\n",
      "                                                                                  }\n",
      "                                                                                }\n",
      "                                                                              }\n",
      "                                                                            }\n",
      "                                                                          }\n",
      "                                                                        },\n",
      "                                                                        \"filter\": {\n",
      "                                                                          \"functionInvocationValue\": {\n",
      "                                                                            \"functionName\": \"Filter.intersects\",\n",
      "                                                                            \"arguments\": {\n",
      "                                                                              \"leftField\": {\n",
      "                                                                                \"constantValue\": \".all\"\n",
      "                                                                              },\n",
      "                                                                              \"rightValue\": {\n",
      "                                                                                \"functionInvocationValue\": {\n",
      "                                                                                  \"functionName\": \"Feature\",\n",
      "                                                                                  \"arguments\": {\n",
      "                                                                                    \"geometry\": {\n",
      "                                                                                      \"functionInvocationValue\": {\n",
      "                                                                                        \"functionName\": \"GeometryConstructors.Polygon\",\n",
      "                                                                                        \"arguments\": {\n",
      "                                                                                          \"coordinates\": {\n",
      "                                                                                            \"constantValue\": [\n",
      "                                                                                              [\n",
      "                                                                                                [\n",
      "                                                                                                  6.560201,\n",
      "                                                                                                  43.526958\n",
      "                                                                                                ],\n",
      "                                                                                                [\n",
      "                                                                                                  6.560201,\n",
      "                                                                                                  44.371294\n",
      "                                                                                                ],\n",
      "                                                                                                [\n",
      "                                                                                                  7.51888,\n",
      "                                                                                                  44.371294\n",
      "                                                                                                ],\n",
      "                                                                                                [\n",
      "                                                                                                  7.51888,\n",
      "                                                                                                  43.526958\n",
      "                                                                                                ],\n",
      "                                                                                                [\n",
      "                                                                                                  6.560201,\n",
      "                                                                                                  43.526958\n",
      "                                                                                                ]\n",
      "                                                                                              ]\n",
      "                                                                                            ]\n",
      "                                                                                          },\n",
      "                                                                                          \"evenOdd\": {\n",
      "                                                                                            \"constantValue\": true\n",
      "                                                                                          }\n",
      "                                                                                        }\n",
      "                                                                                      }\n",
      "                                                                                    }\n",
      "                                                                                  }\n",
      "                                                                                }\n",
      "                                                                              }\n",
      "                                                                            }\n",
      "                                                                          }\n",
      "                                                                        }\n",
      "                                                                      }\n",
      "                                                                    }\n",
      "                                                                  },\n",
      "                                                                  \"filter\": {\n",
      "                                                                    \"functionInvocationValue\": {\n",
      "                                                                      \"functionName\": \"Filter.lessThan\",\n",
      "                                                                      \"arguments\": {\n",
      "                                                                        \"leftField\": {\n",
      "                                                                          \"constantValue\": \"CLOUDY_PIXEL_PERCENTAGE\"\n",
      "                                                                        },\n",
      "                                                                        \"rightValue\": {\n",
      "                                                                          \"constantValue\": 10\n",
      "                                                                        }\n",
      "                                                                      }\n",
      "                                                                    }\n",
      "                                                                  }\n",
      "                                                                }\n",
      "                                                              }\n",
      "                                                            }\n",
      "                                                          }\n",
      "                                                        }\n",
      "                                                      }\n",
      "                                                    }\n",
      "                                                  }\n",
      "                                                }\n",
      "                                              }\n",
      "                                            }\n",
      "                                          }\n",
      "                                        }\n",
      "                                      }\n",
      "                                    }\n",
      "                                  }\n",
      "                                }\n",
      "                              }\n",
      "                            }\n",
      "                          }\n",
      "                        }\n",
      "                      }\n",
      "                    }\n",
      "                  }\n",
      "                }\n",
      "              }\n",
      "            }\n",
      "          }\n",
      "        }\n",
      "      }\n",
      "    }\n",
      "  }\n",
      "})\n"
     ]
    }
   ],
   "source": [
    "#Collection with all images also containing the NDVI and BSI indices\n",
    "collection = dataset.select(inBands).map(addNDVI).map(addBSI).map(addEVI).map(addGRVI).map(addMNDWI).map(addSMMI).map(addNMDI).map(addNDBI)\n",
    "\n",
    "print('Collection with inBands and Statistic indices: \\n', collection)"
   ]
  },
  {
   "cell_type": "code",
   "execution_count": 33,
   "id": "de8f3622",
   "metadata": {},
   "outputs": [],
   "source": [
    "# Define and calculate the median bands and the other index statistics\n",
    "band_median = collection.select(inBands).median()\n",
    "\n",
    "ndvimax = collection.select('NDVI').reduce(ee.Reducer.max()).rename(\"NDVI_MAX\")\n",
    "ndvimean = collection.select('NDVI').reduce(ee.Reducer.mean()).rename(\"NDVI\")\n",
    "ndvistd = collection.select('NDVI').reduce(ee.Reducer.stdDev()).float().rename(\"NDVI_STD\")\n",
    "\n",
    "nmdimax = collection.select('NMDI').reduce(ee.Reducer.max()).rename(\"NMDI_MAX\")\n",
    "nmdimean = collection.select('NMDI').reduce(ee.Reducer.mean()).rename(\"NMDI\")\n",
    "nmdistd = collection.select('NMDI').reduce(ee.Reducer.stdDev()).float().rename(\"NMDI_STD\")\n",
    "\n",
    "ndbimax = collection.select('NDBI').reduce(ee.Reducer.max()).rename(\"NDBI_MAX\")\n",
    "ndbimean = collection.select('NDBI').reduce(ee.Reducer.mean()).rename(\"NDBI\")\n",
    "ndbistd = collection.select('NDBI').reduce(ee.Reducer.stdDev()).float().rename(\"NDBI_STD\")\n",
    "\n",
    "bsimax = collection.select('BSI').reduce(ee.Reducer.max()).rename(\"BSI_MAX\")\n",
    "bsimean = collection.select('BSI').reduce(ee.Reducer.mean()).rename(\"BSI\")\n",
    "bsistd = collection.select('BSI').reduce(ee.Reducer.stdDev()).float().rename(\"BSI_STD\")\n",
    "\n",
    "evimax = collection.select('EVI').reduce(ee.Reducer.max()).rename(\"EVI_MAX\")\n",
    "evimean = collection.select('EVI').reduce(ee.Reducer.mean()).rename(\"EVI\")\n",
    "evistd = collection.select('EVI').reduce(ee.Reducer.stdDev()).float().rename(\"EVI_STD\")\n",
    "\n",
    "grvimax = collection.select('GRVI').reduce(ee.Reducer.max()).rename(\"GRVI_MAX\")\n",
    "grvimean = collection.select('GRVI').reduce(ee.Reducer.mean()).rename(\"GRVI\")\n",
    "grvistd = collection.select('GRVI').reduce(ee.Reducer.stdDev()).float().rename(\"GRVI_STD\")\n",
    "\n",
    "mndwimax = collection.select('MNDWI').reduce(ee.Reducer.max()).rename(\"MNDWI_MAX\")\n",
    "mndwimean = collection.select('MNDWI').reduce(ee.Reducer.mean()).rename(\"MNDWI\")\n",
    "mndwistd = collection.select('MNDWI').reduce(ee.Reducer.stdDev()).float().rename(\"MNDWI_STD\")\n",
    "\n",
    "smmimax = collection.select('SMMI').reduce(ee.Reducer.max()).rename(\"SMMI_MAX\")\n",
    "smmimean = collection.select('SMMI').reduce(ee.Reducer.mean()).rename(\"SMMI\")\n",
    "smmistd = collection.select('SMMI').reduce(ee.Reducer.stdDev()).float().rename(\"SMMI_STD\")"
   ]
  },
  {
   "cell_type": "code",
   "execution_count": 37,
   "id": "67b51b22",
   "metadata": {},
   "outputs": [],
   "source": [
    "#Add the index statistics to the median bands and clip the dataset with the ROI\n",
    "compclip = band_median.addBands(ndvimax).addBands(ndvimean).addBands(ndvistd) \\\n",
    ".addBands(nmdimax).addBands(nmdimean).addBands(nmdistd) \\\n",
    ".addBands(ndbimax).addBands(ndbimean).addBands(ndbistd) \\\n",
    ".addBands(bsimax).addBands(bsimean).addBands(bsistd) \\\n",
    ".addBands(evimax).addBands(evimean).addBands(evistd) \\\n",
    ".addBands(grvimax).addBands(grvimean).addBands(grvistd) \\\n",
    ".addBands(mndwimax).addBands(mndwimean).addBands(mndwistd) \\\n",
    ".addBands(smmimax).addBands(smmimean).addBands(smmistd) \\\n",
    ".clip(Area_Nice)\n",
    "\n",
    "# print(\"Composition\", compclip) # too large\n",
    "\n",
    "OutBands  = [\"B2\",\"B3\",\"B4\",\"B5\",\"B6\",\"B7\",\"B8\",\"B8A\",\"B11\",\"B12\",\n",
    "             \"NDVI_MAX\",\"NDVI\",\"NDVI_STD\",\"NMDI\",\"NMDI_MAX\",\"NMDI_STD\",\"NDBI\",\"NDBI_MAX\",\"NDBI_STD\",\n",
    "             \"BSI\",\"BSI_MAX\",\"BSI_STD\",\"EVI\",\"EVI_MAX\",\"EVI_STD\",\"GRVI\",\"GRVI_MAX\",\"GRVI_STD\",\n",
    "             \"MNDWI\",\"MNDWI_MAX\",\"MNDWI_STD\",\"SMMI\",\"SMMI_MAX\",\"SMMI_STD\"\n",
    "            ]\n",
    "timeField = 'system:time_start'"
   ]
  },
  {
   "cell_type": "code",
   "execution_count": 38,
   "id": "d2ea219b",
   "metadata": {},
   "outputs": [],
   "source": [
    "# Use this function to add variables for NDVI, time and a constant\n",
    "# to Sentinel 2 imagery.\n",
    "def addVariables(image):\n",
    "    # Compute time in fractional years since the epoch.\n",
    "    date = ee.Date(image.get(timeField))\n",
    "    years = date.difference(ee.Date('2017-01-01'), 'year')\n",
    "    # Return the image with the added bands.\n",
    "    return image.addBands(ee.Image(years).rename('t')) \\\n",
    "                .float() \\\n",
    "                .addBands(ee.Image.constant(1))"
   ]
  },
  {
   "cell_type": "code",
   "execution_count": 39,
   "id": "37a3aa48",
   "metadata": {},
   "outputs": [],
   "source": [
    "# add variables\n",
    "collection = collection.map(addVariables)"
   ]
  },
  {
   "cell_type": "markdown",
   "id": "b3184b51",
   "metadata": {},
   "source": [
    "## Temporal analysis"
   ]
  },
  {
   "cell_type": "markdown",
   "id": "510a8aa2",
   "metadata": {},
   "source": [
    "### NDVI"
   ]
  },
  {
   "cell_type": "code",
   "execution_count": null,
   "id": "88c28a52",
   "metadata": {},
   "outputs": [],
   "source": [
    "# List of the independent variable names\n",
    "independents = ee.List(['constant', 't'])\n",
    "\n",
    "# Name of the dependent variable.\n",
    "dependent = ee.String('NDVI')\n",
    "\n",
    "# Compute a linear trend.  This will have two bands: 'residuals' and\n",
    "# a 2x1 band called coefficients (columns are for dependent variables).\n",
    "trend = collection.select(independents.add(dependent)) \\\n",
    "  .reduce(ee.Reducer.linearRegression(independents.length(), 1))"
   ]
  },
  {
   "cell_type": "code",
   "execution_count": 138,
   "id": "3ec65972",
   "metadata": {},
   "outputs": [
    {
     "ename": "EEException",
     "evalue": "ImageCollection.reduce: Error in map(ID=null):\nImage.select: Unrecognized type for band selector. Only strings and numbers are allowed.",
     "output_type": "error",
     "traceback": [
      "\u001b[0;31m---------------------------------------------------------------------------\u001b[0m",
      "\u001b[0;31mHttpError\u001b[0m                                 Traceback (most recent call last)",
      "File \u001b[0;32m~/.conda/envs/gee/lib/python3.9/site-packages/ee/data.py:328\u001b[0m, in \u001b[0;36m_execute_cloud_call\u001b[0;34m(call, num_retries)\u001b[0m\n\u001b[1;32m    327\u001b[0m \u001b[38;5;28;01mtry\u001b[39;00m:\n\u001b[0;32m--> 328\u001b[0m   \u001b[38;5;28;01mreturn\u001b[39;00m \u001b[43mcall\u001b[49m\u001b[38;5;241;43m.\u001b[39;49m\u001b[43mexecute\u001b[49m\u001b[43m(\u001b[49m\u001b[43mnum_retries\u001b[49m\u001b[38;5;241;43m=\u001b[39;49m\u001b[43mnum_retries\u001b[49m\u001b[43m)\u001b[49m\n\u001b[1;32m    329\u001b[0m \u001b[38;5;28;01mexcept\u001b[39;00m googleapiclient\u001b[38;5;241m.\u001b[39merrors\u001b[38;5;241m.\u001b[39mHttpError \u001b[38;5;28;01mas\u001b[39;00m e:\n",
      "File \u001b[0;32m~/.conda/envs/gee/lib/python3.9/site-packages/googleapiclient/_helpers.py:134\u001b[0m, in \u001b[0;36mpositional.<locals>.positional_decorator.<locals>.positional_wrapper\u001b[0;34m(*args, **kwargs)\u001b[0m\n\u001b[1;32m    133\u001b[0m         logger\u001b[38;5;241m.\u001b[39mwarning(message)\n\u001b[0;32m--> 134\u001b[0m \u001b[38;5;28;01mreturn\u001b[39;00m \u001b[43mwrapped\u001b[49m\u001b[43m(\u001b[49m\u001b[38;5;241;43m*\u001b[39;49m\u001b[43margs\u001b[49m\u001b[43m,\u001b[49m\u001b[43m \u001b[49m\u001b[38;5;241;43m*\u001b[39;49m\u001b[38;5;241;43m*\u001b[39;49m\u001b[43mkwargs\u001b[49m\u001b[43m)\u001b[49m\n",
      "File \u001b[0;32m~/.conda/envs/gee/lib/python3.9/site-packages/googleapiclient/http.py:915\u001b[0m, in \u001b[0;36mHttpRequest.execute\u001b[0;34m(self, http, num_retries)\u001b[0m\n\u001b[1;32m    914\u001b[0m \u001b[38;5;28;01mif\u001b[39;00m resp\u001b[38;5;241m.\u001b[39mstatus \u001b[38;5;241m>\u001b[39m\u001b[38;5;241m=\u001b[39m \u001b[38;5;241m300\u001b[39m:\n\u001b[0;32m--> 915\u001b[0m     \u001b[38;5;28;01mraise\u001b[39;00m HttpError(resp, content, uri\u001b[38;5;241m=\u001b[39m\u001b[38;5;28mself\u001b[39m\u001b[38;5;241m.\u001b[39muri)\n\u001b[1;32m    916\u001b[0m \u001b[38;5;28;01mreturn\u001b[39;00m \u001b[38;5;28mself\u001b[39m\u001b[38;5;241m.\u001b[39mpostproc(resp, content)\n",
      "\u001b[0;31mHttpError\u001b[0m: <HttpError 400 when requesting https://earthengine.googleapis.com/v1alpha/projects/earthengine-legacy/maps?fields=name&alt=json returned \"ImageCollection.reduce: Error in map(ID=null):\nImage.select: Unrecognized type for band selector. Only strings and numbers are allowed.\". Details: \"ImageCollection.reduce: Error in map(ID=null):\nImage.select: Unrecognized type for band selector. Only strings and numbers are allowed.\">",
      "\nDuring handling of the above exception, another exception occurred:\n",
      "\u001b[0;31mEEException\u001b[0m                               Traceback (most recent call last)",
      "Input \u001b[0;32mIn [138]\u001b[0m, in \u001b[0;36m<cell line: 1>\u001b[0;34m()\u001b[0m\n\u001b[0;32m----> 1\u001b[0m \u001b[43mMap\u001b[49m\u001b[38;5;241;43m.\u001b[39;49m\u001b[43maddLayer\u001b[49m\u001b[43m(\u001b[49m\u001b[43mtrend\u001b[49m\u001b[43m,\u001b[49m\u001b[43m \u001b[49m\u001b[43m{\u001b[49m\u001b[43m}\u001b[49m\u001b[43m,\u001b[49m\u001b[43m \u001b[49m\u001b[38;5;124;43m'\u001b[39;49m\u001b[38;5;124;43mtrend array image\u001b[39;49m\u001b[38;5;124;43m'\u001b[39;49m\u001b[43m)\u001b[49m\n\u001b[1;32m      2\u001b[0m Map\n",
      "File \u001b[0;32m~/.conda/envs/gee/lib/python3.9/site-packages/geemap/geemap.py:1442\u001b[0m, in \u001b[0;36mMap.add_ee_layer\u001b[0;34m(self, ee_object, vis_params, name, shown, opacity)\u001b[0m\n\u001b[1;32m   1437\u001b[0m     \u001b[38;5;28;01melif\u001b[39;00m \u001b[38;5;129;01mnot\u001b[39;00m \u001b[38;5;28misinstance\u001b[39m(vis_params[\u001b[38;5;124m\"\u001b[39m\u001b[38;5;124mpalette\u001b[39m\u001b[38;5;124m\"\u001b[39m], \u001b[38;5;28mlist\u001b[39m):\n\u001b[1;32m   1438\u001b[0m         \u001b[38;5;28;01mraise\u001b[39;00m \u001b[38;5;167;01mValueError\u001b[39;00m(\n\u001b[1;32m   1439\u001b[0m             \u001b[38;5;124m\"\u001b[39m\u001b[38;5;124mThe palette must be a list of colors or a string or a Box object.\u001b[39m\u001b[38;5;124m\"\u001b[39m\n\u001b[1;32m   1440\u001b[0m         )\n\u001b[0;32m-> 1442\u001b[0m map_id_dict \u001b[38;5;241m=\u001b[39m \u001b[43mee\u001b[49m\u001b[38;5;241;43m.\u001b[39;49m\u001b[43mImage\u001b[49m\u001b[43m(\u001b[49m\u001b[43mimage\u001b[49m\u001b[43m)\u001b[49m\u001b[38;5;241;43m.\u001b[39;49m\u001b[43mgetMapId\u001b[49m\u001b[43m(\u001b[49m\u001b[43mvis_params\u001b[49m\u001b[43m)\u001b[49m\n\u001b[1;32m   1443\u001b[0m tile_layer \u001b[38;5;241m=\u001b[39m ipyleaflet\u001b[38;5;241m.\u001b[39mTileLayer(\n\u001b[1;32m   1444\u001b[0m     url\u001b[38;5;241m=\u001b[39mmap_id_dict[\u001b[38;5;124m\"\u001b[39m\u001b[38;5;124mtile_fetcher\u001b[39m\u001b[38;5;124m\"\u001b[39m]\u001b[38;5;241m.\u001b[39murl_format,\n\u001b[1;32m   1445\u001b[0m     attribution\u001b[38;5;241m=\u001b[39m\u001b[38;5;124m\"\u001b[39m\u001b[38;5;124mGoogle Earth Engine\u001b[39m\u001b[38;5;124m\"\u001b[39m,\n\u001b[0;32m   (...)\u001b[0m\n\u001b[1;32m   1449\u001b[0m     max_zoom\u001b[38;5;241m=\u001b[39m\u001b[38;5;241m24\u001b[39m,\n\u001b[1;32m   1450\u001b[0m )\n\u001b[1;32m   1452\u001b[0m layer \u001b[38;5;241m=\u001b[39m \u001b[38;5;28mself\u001b[39m\u001b[38;5;241m.\u001b[39mfind_layer(name\u001b[38;5;241m=\u001b[39mname)\n",
      "File \u001b[0;32m~/.conda/envs/gee/lib/python3.9/site-packages/ee/image.py:130\u001b[0m, in \u001b[0;36mImage.getMapId\u001b[0;34m(self, vis_params)\u001b[0m\n\u001b[1;32m    128\u001b[0m vis_image, request \u001b[38;5;241m=\u001b[39m \u001b[38;5;28mself\u001b[39m\u001b[38;5;241m.\u001b[39m_apply_visualization(vis_params)\n\u001b[1;32m    129\u001b[0m request[\u001b[38;5;124m'\u001b[39m\u001b[38;5;124mimage\u001b[39m\u001b[38;5;124m'\u001b[39m] \u001b[38;5;241m=\u001b[39m vis_image\n\u001b[0;32m--> 130\u001b[0m response \u001b[38;5;241m=\u001b[39m \u001b[43mdata\u001b[49m\u001b[38;5;241;43m.\u001b[39;49m\u001b[43mgetMapId\u001b[49m\u001b[43m(\u001b[49m\u001b[43mrequest\u001b[49m\u001b[43m)\u001b[49m\n\u001b[1;32m    131\u001b[0m response[\u001b[38;5;124m'\u001b[39m\u001b[38;5;124mimage\u001b[39m\u001b[38;5;124m'\u001b[39m] \u001b[38;5;241m=\u001b[39m \u001b[38;5;28mself\u001b[39m\n\u001b[1;32m    132\u001b[0m \u001b[38;5;28;01mreturn\u001b[39;00m response\n",
      "File \u001b[0;32m~/.conda/envs/gee/lib/python3.9/site-packages/ee/data.py:567\u001b[0m, in \u001b[0;36mgetMapId\u001b[0;34m(params)\u001b[0m\n\u001b[1;32m    564\u001b[0m   request[\u001b[38;5;124m'\u001b[39m\u001b[38;5;124mvisualizationOptions\u001b[39m\u001b[38;5;124m'\u001b[39m] \u001b[38;5;241m=\u001b[39m visualizationOptions\n\u001b[1;32m    565\u001b[0m \u001b[38;5;66;03m# Make it return only the name field, as otherwise it echoes the entire\u001b[39;00m\n\u001b[1;32m    566\u001b[0m \u001b[38;5;66;03m# request, which might be large.\u001b[39;00m\n\u001b[0;32m--> 567\u001b[0m result \u001b[38;5;241m=\u001b[39m \u001b[43m_execute_cloud_call\u001b[49m\u001b[43m(\u001b[49m\n\u001b[1;32m    568\u001b[0m \u001b[43m    \u001b[49m\u001b[43m_get_cloud_api_resource\u001b[49m\u001b[43m(\u001b[49m\u001b[43m)\u001b[49m\u001b[38;5;241;43m.\u001b[39;49m\u001b[43mprojects\u001b[49m\u001b[43m(\u001b[49m\u001b[43m)\u001b[49m\u001b[38;5;241;43m.\u001b[39;49m\u001b[43mmaps\u001b[49m\u001b[43m(\u001b[49m\u001b[43m)\u001b[49m\u001b[38;5;241;43m.\u001b[39;49m\u001b[43mcreate\u001b[49m\u001b[43m(\u001b[49m\n\u001b[1;32m    569\u001b[0m \u001b[43m        \u001b[49m\u001b[43mparent\u001b[49m\u001b[38;5;241;43m=\u001b[39;49m\u001b[43m_get_projects_path\u001b[49m\u001b[43m(\u001b[49m\u001b[43m)\u001b[49m\u001b[43m,\u001b[49m\u001b[43m \u001b[49m\u001b[43mfields\u001b[49m\u001b[38;5;241;43m=\u001b[39;49m\u001b[38;5;124;43m'\u001b[39;49m\u001b[38;5;124;43mname\u001b[39;49m\u001b[38;5;124;43m'\u001b[39;49m\u001b[43m,\u001b[49m\u001b[43m \u001b[49m\u001b[43mbody\u001b[49m\u001b[38;5;241;43m=\u001b[39;49m\u001b[43mrequest\u001b[49m\u001b[43m)\u001b[49m\u001b[43m)\u001b[49m\n\u001b[1;32m    570\u001b[0m map_name \u001b[38;5;241m=\u001b[39m result[\u001b[38;5;124m'\u001b[39m\u001b[38;5;124mname\u001b[39m\u001b[38;5;124m'\u001b[39m]\n\u001b[1;32m    571\u001b[0m url_format \u001b[38;5;241m=\u001b[39m \u001b[38;5;124m'\u001b[39m\u001b[38;5;132;01m%s\u001b[39;00m\u001b[38;5;124m/\u001b[39m\u001b[38;5;132;01m%s\u001b[39;00m\u001b[38;5;124m/\u001b[39m\u001b[38;5;132;01m%s\u001b[39;00m\u001b[38;5;124m/tiles/\u001b[39m\u001b[38;5;132;01m{z}\u001b[39;00m\u001b[38;5;124m/\u001b[39m\u001b[38;5;132;01m{x}\u001b[39;00m\u001b[38;5;124m/\u001b[39m\u001b[38;5;132;01m{y}\u001b[39;00m\u001b[38;5;124m'\u001b[39m \u001b[38;5;241m%\u001b[39m (\n\u001b[1;32m    572\u001b[0m     _tile_base_url, _cloud_api_utils\u001b[38;5;241m.\u001b[39mVERSION, map_name)\n",
      "File \u001b[0;32m~/.conda/envs/gee/lib/python3.9/site-packages/ee/data.py:330\u001b[0m, in \u001b[0;36m_execute_cloud_call\u001b[0;34m(call, num_retries)\u001b[0m\n\u001b[1;32m    328\u001b[0m   \u001b[38;5;28;01mreturn\u001b[39;00m call\u001b[38;5;241m.\u001b[39mexecute(num_retries\u001b[38;5;241m=\u001b[39mnum_retries)\n\u001b[1;32m    329\u001b[0m \u001b[38;5;28;01mexcept\u001b[39;00m googleapiclient\u001b[38;5;241m.\u001b[39merrors\u001b[38;5;241m.\u001b[39mHttpError \u001b[38;5;28;01mas\u001b[39;00m e:\n\u001b[0;32m--> 330\u001b[0m   \u001b[38;5;28;01mraise\u001b[39;00m _translate_cloud_exception(e)\n",
      "\u001b[0;31mEEException\u001b[0m: ImageCollection.reduce: Error in map(ID=null):\nImage.select: Unrecognized type for band selector. Only strings and numbers are allowed."
     ]
    }
   ],
   "source": [
    "Map.addLayer(trend, {}, 'trend array image')\n",
    "Map"
   ]
  },
  {
   "cell_type": "code",
   "execution_count": 108,
   "id": "e62fd734",
   "metadata": {},
   "outputs": [],
   "source": [
    "# Flatten the coefficients into a 2-band image\n",
    "coefficients = trend.select('coefficients') \\\n",
    ".arrayProject([0]) \\\n",
    ".arrayFlatten([independents])\n",
    "# Compute a de-trended series.\n",
    "\n",
    "def func_qwf(image):\n",
    "    return image.select(dependent).subtract(\n",
    "                image.select(independents).multiply(coefficients).reduce('sum')) \\\n",
    "                .rename(dependent) \\\n",
    "                .copyProperties(image, ['system:time_start'])\n",
    "\n",
    "detrended = collection.map(func_qwf)\n",
    "\n",
    "# Plot the detrended results.\n",
    "# detrendedChart = ui.Chart.image.series(detrended, roi, None, 30) \\\n",
    "#   .setOptions({\n",
    "#     'title': 'Detrended Sentinel time series at ROI',\n",
    "#     'lineWidth': 1,\n",
    "#     'pointSize': 3,\n",
    "#   })\n",
    "#print(detrendedChart)\n",
    "\n",
    "# Use these independent variables in the harmonic regression.\n",
    "harmonicIndependents = ee.List(['constant', 't', 'cos', 'sin'])"
   ]
  },
  {
   "cell_type": "code",
   "execution_count": 109,
   "id": "d9dee23b",
   "metadata": {},
   "outputs": [],
   "source": [
    "# Add harmonic terms as new image bands.\n",
    "\n",
    "def func_cow(image):\n",
    "    timeRadians = image.select('t').multiply(2 * math.pi)\n",
    "    return image \\\n",
    "          .addBands(timeRadians.cos().rename('cos')) \\\n",
    "          .addBands(timeRadians.sin().rename('sin'))\n",
    "\n",
    "harmonicLandsat = collection.map(func_cow)\n",
    "\n",
    "harmonicTrend = harmonicLandsat.select(harmonicIndependents.add(dependent)) \\\n",
    "    .reduce(ee.Reducer.linearRegression(\n",
    "    **{\n",
    "    'numX': harmonicIndependents.length(),\n",
    "    'numY': 1\n",
    "    }))"
   ]
  },
  {
   "cell_type": "code",
   "execution_count": 110,
   "id": "9bc5e09b",
   "metadata": {},
   "outputs": [],
   "source": [
    "# Turn the array image into a multi-band image of coefficients.\n",
    "harmonicTrendCoefficients = harmonicTrend.select('coefficients') \\\n",
    "    .arrayProject([0]) \\\n",
    "    .arrayFlatten([harmonicIndependents])\n",
    "\n",
    "# Compute fitted values.\n",
    "\n",
    "def func_qam(image):\n",
    "    return image.addBands(\n",
    "          image.select(harmonicIndependents) \\\n",
    "            .multiply(harmonicTrendCoefficients) \\\n",
    "            .reduce('sum') \\\n",
    "            .rename('fitted'))\n",
    "\n",
    "fittedHarmonic = harmonicLandsat.map(func_qam)"
   ]
  },
  {
   "cell_type": "code",
   "execution_count": 111,
   "id": "8c04194a",
   "metadata": {},
   "outputs": [],
   "source": [
    "# Plot the fitted model and the original data at the ROI.\n",
    "#print(ui.Chart.image.series(\n",
    "# fittedHarmonic.select(['fitted','NDVI']), roi, ee.Reducer.mean(), 30) \\\n",
    "#   .setSeriesNames(['NDVI', 'fitted']) \\\n",
    "#   .setOptions({\n",
    "#     'title': 'Harmonic model: original and fitted values',\n",
    "#     'lineWidth': 1,\n",
    "#     'pointSize': 3,\n",
    "# }))\n",
    "#\n",
    "\n",
    "# Compute phase and amplitude.\n",
    "phase_ndvi = harmonicTrendCoefficients.select('sin') \\\n",
    "  .atan2(harmonicTrendCoefficients.select('cos')) \\\n",
    "  .unitScale(-math.pi, math.pi) \\\n",
    "  .rename(\"HUE_NDVI\")\n",
    "\n",
    "amplitude_ndvi = harmonicTrendCoefficients.select('sin') \\\n",
    "  .hypot(harmonicTrendCoefficients.select('cos')) \\\n",
    "  .multiply(5) \\\n",
    "  .rename(\"SAT_NDVI\")"
   ]
  },
  {
   "cell_type": "code",
   "execution_count": 112,
   "id": "23f2d94b",
   "metadata": {},
   "outputs": [],
   "source": [
    "# Compute the mean NDVI.\n",
    "meanNdvi= collection.select('NDVI').mean().rename(\"VAL_NDVI\")\n",
    "\n",
    "# Use the HSV to RGB transform to display phase and amplitude.\n",
    "rgb = ee.Image.cat([\n",
    "    phase_ndvi,      # hue\n",
    "    amplitude_ndvi,  # saturation (difference from white)\n",
    "    meanNdvi    # value (difference from black)\n",
    "    ]).hsvToRgb()"
   ]
  },
  {
   "cell_type": "markdown",
   "id": "cf7fcb41",
   "metadata": {},
   "source": [
    "Add to map"
   ]
  },
  {
   "cell_type": "code",
   "execution_count": 113,
   "id": "6f627d5f",
   "metadata": {},
   "outputs": [
    {
     "ename": "EEException",
     "evalue": "reduce.mean: Error in map(ID=null):\nImage.select: Unrecognized type for band selector. Only strings and numbers are allowed.",
     "output_type": "error",
     "traceback": [
      "\u001b[0;31m---------------------------------------------------------------------------\u001b[0m",
      "\u001b[0;31mHttpError\u001b[0m                                 Traceback (most recent call last)",
      "File \u001b[0;32m~/.conda/envs/gee/lib/python3.9/site-packages/ee/data.py:328\u001b[0m, in \u001b[0;36m_execute_cloud_call\u001b[0;34m(call, num_retries)\u001b[0m\n\u001b[1;32m    327\u001b[0m \u001b[38;5;28;01mtry\u001b[39;00m:\n\u001b[0;32m--> 328\u001b[0m   \u001b[38;5;28;01mreturn\u001b[39;00m \u001b[43mcall\u001b[49m\u001b[38;5;241;43m.\u001b[39;49m\u001b[43mexecute\u001b[49m\u001b[43m(\u001b[49m\u001b[43mnum_retries\u001b[49m\u001b[38;5;241;43m=\u001b[39;49m\u001b[43mnum_retries\u001b[49m\u001b[43m)\u001b[49m\n\u001b[1;32m    329\u001b[0m \u001b[38;5;28;01mexcept\u001b[39;00m googleapiclient\u001b[38;5;241m.\u001b[39merrors\u001b[38;5;241m.\u001b[39mHttpError \u001b[38;5;28;01mas\u001b[39;00m e:\n",
      "File \u001b[0;32m~/.conda/envs/gee/lib/python3.9/site-packages/googleapiclient/_helpers.py:134\u001b[0m, in \u001b[0;36mpositional.<locals>.positional_decorator.<locals>.positional_wrapper\u001b[0;34m(*args, **kwargs)\u001b[0m\n\u001b[1;32m    133\u001b[0m         logger\u001b[38;5;241m.\u001b[39mwarning(message)\n\u001b[0;32m--> 134\u001b[0m \u001b[38;5;28;01mreturn\u001b[39;00m \u001b[43mwrapped\u001b[49m\u001b[43m(\u001b[49m\u001b[38;5;241;43m*\u001b[39;49m\u001b[43margs\u001b[49m\u001b[43m,\u001b[49m\u001b[43m \u001b[49m\u001b[38;5;241;43m*\u001b[39;49m\u001b[38;5;241;43m*\u001b[39;49m\u001b[43mkwargs\u001b[49m\u001b[43m)\u001b[49m\n",
      "File \u001b[0;32m~/.conda/envs/gee/lib/python3.9/site-packages/googleapiclient/http.py:915\u001b[0m, in \u001b[0;36mHttpRequest.execute\u001b[0;34m(self, http, num_retries)\u001b[0m\n\u001b[1;32m    914\u001b[0m \u001b[38;5;28;01mif\u001b[39;00m resp\u001b[38;5;241m.\u001b[39mstatus \u001b[38;5;241m>\u001b[39m\u001b[38;5;241m=\u001b[39m \u001b[38;5;241m300\u001b[39m:\n\u001b[0;32m--> 915\u001b[0m     \u001b[38;5;28;01mraise\u001b[39;00m HttpError(resp, content, uri\u001b[38;5;241m=\u001b[39m\u001b[38;5;28mself\u001b[39m\u001b[38;5;241m.\u001b[39muri)\n\u001b[1;32m    916\u001b[0m \u001b[38;5;28;01mreturn\u001b[39;00m \u001b[38;5;28mself\u001b[39m\u001b[38;5;241m.\u001b[39mpostproc(resp, content)\n",
      "\u001b[0;31mHttpError\u001b[0m: <HttpError 400 when requesting https://earthengine.googleapis.com/v1alpha/projects/earthengine-legacy/maps?fields=name&alt=json returned \"reduce.mean: Error in map(ID=null):\nImage.select: Unrecognized type for band selector. Only strings and numbers are allowed.\". Details: \"reduce.mean: Error in map(ID=null):\nImage.select: Unrecognized type for band selector. Only strings and numbers are allowed.\">",
      "\nDuring handling of the above exception, another exception occurred:\n",
      "\u001b[0;31mEEException\u001b[0m                               Traceback (most recent call last)",
      "Input \u001b[0;32mIn [113]\u001b[0m, in \u001b[0;36m<cell line: 1>\u001b[0;34m()\u001b[0m\n\u001b[0;32m----> 1\u001b[0m \u001b[43mMap\u001b[49m\u001b[38;5;241;43m.\u001b[39;49m\u001b[43maddLayer\u001b[49m\u001b[43m(\u001b[49m\u001b[43mrgb\u001b[49m\u001b[43m,\u001b[49m\u001b[43m \u001b[49m\u001b[43m{\u001b[49m\u001b[43m}\u001b[49m\u001b[43m,\u001b[49m\u001b[43m \u001b[49m\u001b[38;5;124;43m'\u001b[39;49m\u001b[38;5;124;43mphase_ndvi (hue), amplitude_ndvi (sat), ndvi (val\u001b[39;49m\u001b[38;5;124;43m'\u001b[39;49m\u001b[43m)\u001b[49m\n\u001b[1;32m      2\u001b[0m Map\n",
      "File \u001b[0;32m~/.conda/envs/gee/lib/python3.9/site-packages/geemap/geemap.py:1442\u001b[0m, in \u001b[0;36mMap.add_ee_layer\u001b[0;34m(self, ee_object, vis_params, name, shown, opacity)\u001b[0m\n\u001b[1;32m   1437\u001b[0m     \u001b[38;5;28;01melif\u001b[39;00m \u001b[38;5;129;01mnot\u001b[39;00m \u001b[38;5;28misinstance\u001b[39m(vis_params[\u001b[38;5;124m\"\u001b[39m\u001b[38;5;124mpalette\u001b[39m\u001b[38;5;124m\"\u001b[39m], \u001b[38;5;28mlist\u001b[39m):\n\u001b[1;32m   1438\u001b[0m         \u001b[38;5;28;01mraise\u001b[39;00m \u001b[38;5;167;01mValueError\u001b[39;00m(\n\u001b[1;32m   1439\u001b[0m             \u001b[38;5;124m\"\u001b[39m\u001b[38;5;124mThe palette must be a list of colors or a string or a Box object.\u001b[39m\u001b[38;5;124m\"\u001b[39m\n\u001b[1;32m   1440\u001b[0m         )\n\u001b[0;32m-> 1442\u001b[0m map_id_dict \u001b[38;5;241m=\u001b[39m \u001b[43mee\u001b[49m\u001b[38;5;241;43m.\u001b[39;49m\u001b[43mImage\u001b[49m\u001b[43m(\u001b[49m\u001b[43mimage\u001b[49m\u001b[43m)\u001b[49m\u001b[38;5;241;43m.\u001b[39;49m\u001b[43mgetMapId\u001b[49m\u001b[43m(\u001b[49m\u001b[43mvis_params\u001b[49m\u001b[43m)\u001b[49m\n\u001b[1;32m   1443\u001b[0m tile_layer \u001b[38;5;241m=\u001b[39m ipyleaflet\u001b[38;5;241m.\u001b[39mTileLayer(\n\u001b[1;32m   1444\u001b[0m     url\u001b[38;5;241m=\u001b[39mmap_id_dict[\u001b[38;5;124m\"\u001b[39m\u001b[38;5;124mtile_fetcher\u001b[39m\u001b[38;5;124m\"\u001b[39m]\u001b[38;5;241m.\u001b[39murl_format,\n\u001b[1;32m   1445\u001b[0m     attribution\u001b[38;5;241m=\u001b[39m\u001b[38;5;124m\"\u001b[39m\u001b[38;5;124mGoogle Earth Engine\u001b[39m\u001b[38;5;124m\"\u001b[39m,\n\u001b[0;32m   (...)\u001b[0m\n\u001b[1;32m   1449\u001b[0m     max_zoom\u001b[38;5;241m=\u001b[39m\u001b[38;5;241m24\u001b[39m,\n\u001b[1;32m   1450\u001b[0m )\n\u001b[1;32m   1452\u001b[0m layer \u001b[38;5;241m=\u001b[39m \u001b[38;5;28mself\u001b[39m\u001b[38;5;241m.\u001b[39mfind_layer(name\u001b[38;5;241m=\u001b[39mname)\n",
      "File \u001b[0;32m~/.conda/envs/gee/lib/python3.9/site-packages/ee/image.py:130\u001b[0m, in \u001b[0;36mImage.getMapId\u001b[0;34m(self, vis_params)\u001b[0m\n\u001b[1;32m    128\u001b[0m vis_image, request \u001b[38;5;241m=\u001b[39m \u001b[38;5;28mself\u001b[39m\u001b[38;5;241m.\u001b[39m_apply_visualization(vis_params)\n\u001b[1;32m    129\u001b[0m request[\u001b[38;5;124m'\u001b[39m\u001b[38;5;124mimage\u001b[39m\u001b[38;5;124m'\u001b[39m] \u001b[38;5;241m=\u001b[39m vis_image\n\u001b[0;32m--> 130\u001b[0m response \u001b[38;5;241m=\u001b[39m \u001b[43mdata\u001b[49m\u001b[38;5;241;43m.\u001b[39;49m\u001b[43mgetMapId\u001b[49m\u001b[43m(\u001b[49m\u001b[43mrequest\u001b[49m\u001b[43m)\u001b[49m\n\u001b[1;32m    131\u001b[0m response[\u001b[38;5;124m'\u001b[39m\u001b[38;5;124mimage\u001b[39m\u001b[38;5;124m'\u001b[39m] \u001b[38;5;241m=\u001b[39m \u001b[38;5;28mself\u001b[39m\n\u001b[1;32m    132\u001b[0m \u001b[38;5;28;01mreturn\u001b[39;00m response\n",
      "File \u001b[0;32m~/.conda/envs/gee/lib/python3.9/site-packages/ee/data.py:567\u001b[0m, in \u001b[0;36mgetMapId\u001b[0;34m(params)\u001b[0m\n\u001b[1;32m    564\u001b[0m   request[\u001b[38;5;124m'\u001b[39m\u001b[38;5;124mvisualizationOptions\u001b[39m\u001b[38;5;124m'\u001b[39m] \u001b[38;5;241m=\u001b[39m visualizationOptions\n\u001b[1;32m    565\u001b[0m \u001b[38;5;66;03m# Make it return only the name field, as otherwise it echoes the entire\u001b[39;00m\n\u001b[1;32m    566\u001b[0m \u001b[38;5;66;03m# request, which might be large.\u001b[39;00m\n\u001b[0;32m--> 567\u001b[0m result \u001b[38;5;241m=\u001b[39m \u001b[43m_execute_cloud_call\u001b[49m\u001b[43m(\u001b[49m\n\u001b[1;32m    568\u001b[0m \u001b[43m    \u001b[49m\u001b[43m_get_cloud_api_resource\u001b[49m\u001b[43m(\u001b[49m\u001b[43m)\u001b[49m\u001b[38;5;241;43m.\u001b[39;49m\u001b[43mprojects\u001b[49m\u001b[43m(\u001b[49m\u001b[43m)\u001b[49m\u001b[38;5;241;43m.\u001b[39;49m\u001b[43mmaps\u001b[49m\u001b[43m(\u001b[49m\u001b[43m)\u001b[49m\u001b[38;5;241;43m.\u001b[39;49m\u001b[43mcreate\u001b[49m\u001b[43m(\u001b[49m\n\u001b[1;32m    569\u001b[0m \u001b[43m        \u001b[49m\u001b[43mparent\u001b[49m\u001b[38;5;241;43m=\u001b[39;49m\u001b[43m_get_projects_path\u001b[49m\u001b[43m(\u001b[49m\u001b[43m)\u001b[49m\u001b[43m,\u001b[49m\u001b[43m \u001b[49m\u001b[43mfields\u001b[49m\u001b[38;5;241;43m=\u001b[39;49m\u001b[38;5;124;43m'\u001b[39;49m\u001b[38;5;124;43mname\u001b[39;49m\u001b[38;5;124;43m'\u001b[39;49m\u001b[43m,\u001b[49m\u001b[43m \u001b[49m\u001b[43mbody\u001b[49m\u001b[38;5;241;43m=\u001b[39;49m\u001b[43mrequest\u001b[49m\u001b[43m)\u001b[49m\u001b[43m)\u001b[49m\n\u001b[1;32m    570\u001b[0m map_name \u001b[38;5;241m=\u001b[39m result[\u001b[38;5;124m'\u001b[39m\u001b[38;5;124mname\u001b[39m\u001b[38;5;124m'\u001b[39m]\n\u001b[1;32m    571\u001b[0m url_format \u001b[38;5;241m=\u001b[39m \u001b[38;5;124m'\u001b[39m\u001b[38;5;132;01m%s\u001b[39;00m\u001b[38;5;124m/\u001b[39m\u001b[38;5;132;01m%s\u001b[39;00m\u001b[38;5;124m/\u001b[39m\u001b[38;5;132;01m%s\u001b[39;00m\u001b[38;5;124m/tiles/\u001b[39m\u001b[38;5;132;01m{z}\u001b[39;00m\u001b[38;5;124m/\u001b[39m\u001b[38;5;132;01m{x}\u001b[39;00m\u001b[38;5;124m/\u001b[39m\u001b[38;5;132;01m{y}\u001b[39;00m\u001b[38;5;124m'\u001b[39m \u001b[38;5;241m%\u001b[39m (\n\u001b[1;32m    572\u001b[0m     _tile_base_url, _cloud_api_utils\u001b[38;5;241m.\u001b[39mVERSION, map_name)\n",
      "File \u001b[0;32m~/.conda/envs/gee/lib/python3.9/site-packages/ee/data.py:330\u001b[0m, in \u001b[0;36m_execute_cloud_call\u001b[0;34m(call, num_retries)\u001b[0m\n\u001b[1;32m    328\u001b[0m   \u001b[38;5;28;01mreturn\u001b[39;00m call\u001b[38;5;241m.\u001b[39mexecute(num_retries\u001b[38;5;241m=\u001b[39mnum_retries)\n\u001b[1;32m    329\u001b[0m \u001b[38;5;28;01mexcept\u001b[39;00m googleapiclient\u001b[38;5;241m.\u001b[39merrors\u001b[38;5;241m.\u001b[39mHttpError \u001b[38;5;28;01mas\u001b[39;00m e:\n\u001b[0;32m--> 330\u001b[0m   \u001b[38;5;28;01mraise\u001b[39;00m _translate_cloud_exception(e)\n",
      "\u001b[0;31mEEException\u001b[0m: reduce.mean: Error in map(ID=null):\nImage.select: Unrecognized type for band selector. Only strings and numbers are allowed."
     ]
    }
   ],
   "source": [
    "Map.addLayer(rgb, {}, 'phase_ndvi (hue), amplitude_ndvi (sat), ndvi (val')\n",
    "Map"
   ]
  },
  {
   "cell_type": "markdown",
   "id": "fde012fa",
   "metadata": {},
   "source": [
    "### NMDI"
   ]
  },
  {
   "cell_type": "code",
   "execution_count": 114,
   "id": "be10fa2e",
   "metadata": {},
   "outputs": [],
   "source": [
    "# List of the independent variable names\n",
    "independents = ee.List(['constant', 't'])\n",
    "\n",
    "# Name of the dependent variable.\n",
    "dependent = ee.String('NMDI')\n",
    "\n",
    "# Compute a linear trend.  This will have two bands: 'residuals' and\n",
    "# a 2x1 band called coefficients (columns are for dependent variables).\n",
    "trend = collection.select(independents.add(dependent)) \\\n",
    "  .reduce(ee.Reducer.linearRegression(independents.length(), 1))\n",
    "# Map.addLayer(trend, {}, 'trend array image')\n",
    "\n",
    "# Flatten the coefficients into a 2-band image\n",
    "coefficients = trend.select('coefficients') \\\n",
    "    .arrayProject([0]) \\\n",
    "    .arrayFlatten([independents])"
   ]
  },
  {
   "cell_type": "code",
   "execution_count": 115,
   "id": "ad0f8b4d",
   "metadata": {},
   "outputs": [],
   "source": [
    "# Compute a de-trended series.\n",
    "def func_dcf(image):\n",
    "    return image.select(dependent).subtract(\n",
    "                image.select(independents).multiply(coefficients).reduce('sum')) \\\n",
    "                .rename(dependent) \\\n",
    "                .copyProperties(image, ['system:time_start'])\n",
    "\n",
    "detrended = collection.map(func_dcf)\n",
    "\n",
    "# Plot the detrended results.\n",
    "# detrendedChart = ui.Chart.image.series(detrended, roi, None, 30) \\\n",
    "#   .setOptions({\n",
    "#     'title': 'Detrended Sentinel time series at ROI',\n",
    "#     'lineWidth': 1,\n",
    "#     'pointSize': 3,\n",
    "#   })\n",
    "#print(detrendedChart)\n",
    "\n",
    "# Use these independent variables in the harmonic regression.\n",
    "harmonicIndependents = ee.List(['constant', 't', 'cos', 'sin'])"
   ]
  },
  {
   "cell_type": "code",
   "execution_count": 116,
   "id": "e1485356",
   "metadata": {},
   "outputs": [],
   "source": [
    "# Add harmonic terms as new image bands.\n",
    "\n",
    "def func_mwh(image):\n",
    "    timeRadians = image.select('t').multiply(2 * math.pi)\n",
    "    return image \\\n",
    "          .addBands(timeRadians.cos().rename('cos')) \\\n",
    "          .addBands(timeRadians.sin().rename('sin'))\n",
    "\n",
    "harmonicLandsat = collection.map(func_mwh)\n",
    "\n",
    "harmonicTrend = harmonicLandsat \\\n",
    ".select(harmonicIndependents.add(dependent)) \\\n",
    ".reduce(ee.Reducer.linearRegression(\n",
    "    **{\n",
    "        'numX': harmonicIndependents.length(),\n",
    "        'numY': 1\n",
    "    }))\n",
    "# Turn the array image into a multi-band image of coefficients.\n",
    "harmonicTrendCoefficients = harmonicTrend.select('coefficients') \\\n",
    ".arrayProject([0]) \\\n",
    ".arrayFlatten([harmonicIndependents])"
   ]
  },
  {
   "cell_type": "code",
   "execution_count": 117,
   "id": "5a33ec80",
   "metadata": {},
   "outputs": [],
   "source": [
    "# Compute fitted values.\n",
    "\n",
    "def func_hoj(image):\n",
    "    return image.addBands(\n",
    "          image.select(harmonicIndependents) \\\n",
    "            .multiply(harmonicTrendCoefficients) \\\n",
    "            .reduce('sum') \\\n",
    "            .rename('fitted'))\n",
    "\n",
    "fittedHarmonic = harmonicLandsat.map(func_hoj)\n",
    "\n",
    "# Plot the fitted model and the original data at the ROI.\n",
    "#print(ui.Chart.image.series(\n",
    "# fittedHarmonic.select(['fitted','NMDI']), roi, ee.Reducer.mean(), 30) \\\n",
    "#   .setSeriesNames(['NMDI', 'fitted']) \\\n",
    "#   .setOptions({\n",
    "#     'title': 'Harmonic model: original and fitted values',\n",
    "#     'lineWidth': 1,\n",
    "#     'pointSize': 3,\n",
    "# }))"
   ]
  },
  {
   "cell_type": "code",
   "execution_count": 118,
   "id": "637e2e12",
   "metadata": {},
   "outputs": [],
   "source": [
    "# Compute phase and amplitude.\n",
    "phase_nmdi = harmonicTrendCoefficients.select('sin') \\\n",
    "  .atan2(harmonicTrendCoefficients.select('cos')) \\\n",
    "  .unitScale(-math.pi, math.pi) \\\n",
    "  .rename(\"HUE_NMDI\")\n",
    "\n",
    "amplitude_nmdi = harmonicTrendCoefficients.select('sin') \\\n",
    "  .hypot(harmonicTrendCoefficients.select('cos')) \\\n",
    "  .multiply(5) \\\n",
    "  .rename(\"SAT_NMDI\")\n",
    "\n",
    "# Compute the mean NDVI.\n",
    "meanNmdi= collection.select('NMDI').mean().rename(\"VAL_NMDI\")\n",
    "\n",
    "# Use the HSV to RGB transform to display phase and amplitude.\n",
    "rgb = ee.Image.cat([\n",
    "    phase_nmdi,      # hue\n",
    "    amplitude_nmdi,  # saturation (difference from white)\n",
    "    meanNmdi    # value (difference from black)\n",
    "]).hsvToRgb()"
   ]
  },
  {
   "cell_type": "markdown",
   "id": "faf0c9ad",
   "metadata": {},
   "source": [
    "Add to map"
   ]
  },
  {
   "cell_type": "code",
   "execution_count": 119,
   "id": "a3532fcc",
   "metadata": {},
   "outputs": [],
   "source": [
    "# Map.addLayer(rgb, {}, 'phase_nmdi (hue), amplitude_nmdi (sat), nmdi (val')"
   ]
  },
  {
   "cell_type": "markdown",
   "id": "8a850fee",
   "metadata": {},
   "source": [
    "### NDBI"
   ]
  },
  {
   "cell_type": "code",
   "execution_count": 120,
   "id": "103a3a37",
   "metadata": {},
   "outputs": [],
   "source": [
    "# List of the independent variable names\n",
    "independents = ee.List(['constant', 't'])\n",
    "\n",
    "# Name of the dependent variable.\n",
    "dependent = ee.String('NDBI')\n",
    "\n",
    "# Compute a linear trend.  This will have two bands: 'residuals' and\n",
    "# a 2x1 band called coefficients (columns are for dependent variables).\n",
    "trend = collection.select(independents.add(dependent)) \\\n",
    "  .reduce(ee.Reducer.linearRegression(independents.length(), 1))\n",
    "# Map.addLayer(trend, {}, 'trend array image')\n",
    "\n",
    "# Flatten the coefficients into a 2-band image\n",
    "coefficients = trend.select('coefficients') \\\n",
    ".arrayProject([0]) \\\n",
    ".arrayFlatten([independents])"
   ]
  },
  {
   "cell_type": "code",
   "execution_count": 121,
   "id": "3c39034f",
   "metadata": {},
   "outputs": [],
   "source": [
    "# Compute a de-trended series.\n",
    "\n",
    "def func_szc(image):\n",
    "    return image.select(dependent).subtract(\n",
    "                image.select(independents).multiply(coefficients).reduce('sum')) \\\n",
    "                .rename(dependent) \\\n",
    "                .copyProperties(image, ['system:time_start'])\n",
    "\n",
    "detrended = collection.map(func_szc)\n",
    "\n",
    "# Plot the detrended results.\n",
    "# detrendedChart = ui.Chart.image.series(detrended, roi, None, 30) \\\n",
    "#   .setOptions({\n",
    "#     'title': 'Detrended Sentinel time series at ROI',\n",
    "#     'lineWidth': 1,\n",
    "#     'pointSize': 3,\n",
    "#   })\n",
    "#print(detrendedChart)\n",
    "\n",
    "# Use these independent variables in the harmonic regression.\n",
    "harmonicIndependents = ee.List(['constant', 't', 'cos', 'sin'])"
   ]
  },
  {
   "cell_type": "code",
   "execution_count": 122,
   "id": "2b786ae7",
   "metadata": {},
   "outputs": [],
   "source": [
    "# Add harmonic terms as new image bands.\n",
    "\n",
    "def func_ynp(image):\n",
    "    timeRadians = image.select('t').multiply(2 * math.pi)\n",
    "    return image \\\n",
    "          .addBands(timeRadians.cos().rename('cos')) \\\n",
    "          .addBands(timeRadians.sin().rename('sin'))\n",
    "\n",
    "harmonicLandsat = collection.map(func_ynp)\n",
    "\n",
    "harmonicTrend = harmonicLandsat \\\n",
    ".select(harmonicIndependents.add(dependent)) \\\n",
    ".reduce(ee.Reducer.linearRegression(\n",
    "    **{\n",
    "        'numX': harmonicIndependents.length(),\n",
    "        'numY': 1\n",
    "    }))\n",
    "# Turn the array image into a multi-band image of coefficients.\n",
    "harmonicTrendCoefficients = harmonicTrend.select('coefficients') \\\n",
    ".arrayProject([0]) \\\n",
    ".arrayFlatten([harmonicIndependents])"
   ]
  },
  {
   "cell_type": "code",
   "execution_count": 123,
   "id": "862278e4",
   "metadata": {},
   "outputs": [],
   "source": [
    "# Compute fitted values.\n",
    "\n",
    "def func_coj(image):\n",
    "    return image.addBands(\n",
    "          image.select(harmonicIndependents) \\\n",
    "            .multiply(harmonicTrendCoefficients) \\\n",
    "            .reduce('sum') \\\n",
    "            .rename('fitted'))\n",
    "\n",
    "fittedHarmonic = harmonicLandsat.map(func_coj)\n",
    "\n",
    "# Plot the fitted model and the original data at the ROI.\n",
    "#print(ui.Chart.image.series(\n",
    "# fittedHarmonic.select(['fitted','NDBI']), roi, ee.Reducer.mean(), 30) \\\n",
    "#   .setSeriesNames(['NDBI', 'fitted']) \\\n",
    "#   .setOptions({\n",
    "#     'title': 'Harmonic model: original and fitted values',\n",
    "#     'lineWidth': 1,\n",
    "#     'pointSize': 3,\n",
    "# }))"
   ]
  },
  {
   "cell_type": "code",
   "execution_count": 124,
   "id": "31461247",
   "metadata": {},
   "outputs": [],
   "source": [
    "# Compute phase and amplitude.\n",
    "phase_ndbi = harmonicTrendCoefficients.select('sin') \\\n",
    "  .atan2(harmonicTrendCoefficients.select('cos')) \\\n",
    "  .unitScale(-math.pi, math.pi) \\\n",
    "  .rename(\"HUE_NDBI\")\n",
    "\n",
    "amplitude_ndbi = harmonicTrendCoefficients.select('sin') \\\n",
    "  .hypot(harmonicTrendCoefficients.select('cos')) \\\n",
    "  .multiply(5) \\\n",
    "  .rename(\"SAT_NDBI\")\n",
    "\n",
    "# Compute the mean NDVI.\n",
    "meanNdbi= collection.select('NDBI').mean().rename(\"VAL_NDBI\")\n",
    "\n",
    "# Use the HSV to RGB transform to display phase and amplitude.\n",
    "rgb = ee.Image.cat([\n",
    "    phase_ndbi,      # hue\n",
    "    amplitude_ndbi,  # saturation (difference from white)\n",
    "    meanNdbi    # value (difference from black)\n",
    "]).hsvToRgb()"
   ]
  },
  {
   "cell_type": "markdown",
   "id": "65186cac",
   "metadata": {},
   "source": [
    "Add to map"
   ]
  },
  {
   "cell_type": "code",
   "execution_count": 90,
   "id": "edf95c3d",
   "metadata": {},
   "outputs": [
    {
     "ename": "EEException",
     "evalue": "reduce.mean: Error in map(ID=null):\nImage.select: Unrecognized type for band selector. Only strings and numbers are allowed.",
     "output_type": "error",
     "traceback": [
      "\u001b[0;31m---------------------------------------------------------------------------\u001b[0m",
      "\u001b[0;31mHttpError\u001b[0m                                 Traceback (most recent call last)",
      "File \u001b[0;32m~/.conda/envs/gee/lib/python3.9/site-packages/ee/data.py:328\u001b[0m, in \u001b[0;36m_execute_cloud_call\u001b[0;34m(call, num_retries)\u001b[0m\n\u001b[1;32m    327\u001b[0m \u001b[38;5;28;01mtry\u001b[39;00m:\n\u001b[0;32m--> 328\u001b[0m   \u001b[38;5;28;01mreturn\u001b[39;00m \u001b[43mcall\u001b[49m\u001b[38;5;241;43m.\u001b[39;49m\u001b[43mexecute\u001b[49m\u001b[43m(\u001b[49m\u001b[43mnum_retries\u001b[49m\u001b[38;5;241;43m=\u001b[39;49m\u001b[43mnum_retries\u001b[49m\u001b[43m)\u001b[49m\n\u001b[1;32m    329\u001b[0m \u001b[38;5;28;01mexcept\u001b[39;00m googleapiclient\u001b[38;5;241m.\u001b[39merrors\u001b[38;5;241m.\u001b[39mHttpError \u001b[38;5;28;01mas\u001b[39;00m e:\n",
      "File \u001b[0;32m~/.conda/envs/gee/lib/python3.9/site-packages/googleapiclient/_helpers.py:134\u001b[0m, in \u001b[0;36mpositional.<locals>.positional_decorator.<locals>.positional_wrapper\u001b[0;34m(*args, **kwargs)\u001b[0m\n\u001b[1;32m    133\u001b[0m         logger\u001b[38;5;241m.\u001b[39mwarning(message)\n\u001b[0;32m--> 134\u001b[0m \u001b[38;5;28;01mreturn\u001b[39;00m \u001b[43mwrapped\u001b[49m\u001b[43m(\u001b[49m\u001b[38;5;241;43m*\u001b[39;49m\u001b[43margs\u001b[49m\u001b[43m,\u001b[49m\u001b[43m \u001b[49m\u001b[38;5;241;43m*\u001b[39;49m\u001b[38;5;241;43m*\u001b[39;49m\u001b[43mkwargs\u001b[49m\u001b[43m)\u001b[49m\n",
      "File \u001b[0;32m~/.conda/envs/gee/lib/python3.9/site-packages/googleapiclient/http.py:915\u001b[0m, in \u001b[0;36mHttpRequest.execute\u001b[0;34m(self, http, num_retries)\u001b[0m\n\u001b[1;32m    914\u001b[0m \u001b[38;5;28;01mif\u001b[39;00m resp\u001b[38;5;241m.\u001b[39mstatus \u001b[38;5;241m>\u001b[39m\u001b[38;5;241m=\u001b[39m \u001b[38;5;241m300\u001b[39m:\n\u001b[0;32m--> 915\u001b[0m     \u001b[38;5;28;01mraise\u001b[39;00m HttpError(resp, content, uri\u001b[38;5;241m=\u001b[39m\u001b[38;5;28mself\u001b[39m\u001b[38;5;241m.\u001b[39muri)\n\u001b[1;32m    916\u001b[0m \u001b[38;5;28;01mreturn\u001b[39;00m \u001b[38;5;28mself\u001b[39m\u001b[38;5;241m.\u001b[39mpostproc(resp, content)\n",
      "\u001b[0;31mHttpError\u001b[0m: <HttpError 400 when requesting https://earthengine.googleapis.com/v1alpha/projects/earthengine-legacy/maps?fields=name&alt=json returned \"reduce.mean: Error in map(ID=null):\nImage.select: Unrecognized type for band selector. Only strings and numbers are allowed.\". Details: \"reduce.mean: Error in map(ID=null):\nImage.select: Unrecognized type for band selector. Only strings and numbers are allowed.\">",
      "\nDuring handling of the above exception, another exception occurred:\n",
      "\u001b[0;31mEEException\u001b[0m                               Traceback (most recent call last)",
      "Input \u001b[0;32mIn [90]\u001b[0m, in \u001b[0;36m<cell line: 1>\u001b[0;34m()\u001b[0m\n\u001b[0;32m----> 1\u001b[0m \u001b[43mMap\u001b[49m\u001b[38;5;241;43m.\u001b[39;49m\u001b[43maddLayer\u001b[49m\u001b[43m(\u001b[49m\u001b[43mrgb\u001b[49m\u001b[43m,\u001b[49m\u001b[43m \u001b[49m\u001b[43m{\u001b[49m\u001b[43m}\u001b[49m\u001b[43m,\u001b[49m\u001b[43m \u001b[49m\u001b[38;5;124;43m'\u001b[39;49m\u001b[38;5;124;43mphase_ndbi (hue), amplitude_ndbi (sat), ndbi (val)\u001b[39;49m\u001b[38;5;124;43m'\u001b[39;49m\u001b[43m)\u001b[49m\n",
      "File \u001b[0;32m~/.conda/envs/gee/lib/python3.9/site-packages/geemap/geemap.py:1442\u001b[0m, in \u001b[0;36mMap.add_ee_layer\u001b[0;34m(self, ee_object, vis_params, name, shown, opacity)\u001b[0m\n\u001b[1;32m   1437\u001b[0m     \u001b[38;5;28;01melif\u001b[39;00m \u001b[38;5;129;01mnot\u001b[39;00m \u001b[38;5;28misinstance\u001b[39m(vis_params[\u001b[38;5;124m\"\u001b[39m\u001b[38;5;124mpalette\u001b[39m\u001b[38;5;124m\"\u001b[39m], \u001b[38;5;28mlist\u001b[39m):\n\u001b[1;32m   1438\u001b[0m         \u001b[38;5;28;01mraise\u001b[39;00m \u001b[38;5;167;01mValueError\u001b[39;00m(\n\u001b[1;32m   1439\u001b[0m             \u001b[38;5;124m\"\u001b[39m\u001b[38;5;124mThe palette must be a list of colors or a string or a Box object.\u001b[39m\u001b[38;5;124m\"\u001b[39m\n\u001b[1;32m   1440\u001b[0m         )\n\u001b[0;32m-> 1442\u001b[0m map_id_dict \u001b[38;5;241m=\u001b[39m \u001b[43mee\u001b[49m\u001b[38;5;241;43m.\u001b[39;49m\u001b[43mImage\u001b[49m\u001b[43m(\u001b[49m\u001b[43mimage\u001b[49m\u001b[43m)\u001b[49m\u001b[38;5;241;43m.\u001b[39;49m\u001b[43mgetMapId\u001b[49m\u001b[43m(\u001b[49m\u001b[43mvis_params\u001b[49m\u001b[43m)\u001b[49m\n\u001b[1;32m   1443\u001b[0m tile_layer \u001b[38;5;241m=\u001b[39m ipyleaflet\u001b[38;5;241m.\u001b[39mTileLayer(\n\u001b[1;32m   1444\u001b[0m     url\u001b[38;5;241m=\u001b[39mmap_id_dict[\u001b[38;5;124m\"\u001b[39m\u001b[38;5;124mtile_fetcher\u001b[39m\u001b[38;5;124m\"\u001b[39m]\u001b[38;5;241m.\u001b[39murl_format,\n\u001b[1;32m   1445\u001b[0m     attribution\u001b[38;5;241m=\u001b[39m\u001b[38;5;124m\"\u001b[39m\u001b[38;5;124mGoogle Earth Engine\u001b[39m\u001b[38;5;124m\"\u001b[39m,\n\u001b[0;32m   (...)\u001b[0m\n\u001b[1;32m   1449\u001b[0m     max_zoom\u001b[38;5;241m=\u001b[39m\u001b[38;5;241m24\u001b[39m,\n\u001b[1;32m   1450\u001b[0m )\n\u001b[1;32m   1452\u001b[0m layer \u001b[38;5;241m=\u001b[39m \u001b[38;5;28mself\u001b[39m\u001b[38;5;241m.\u001b[39mfind_layer(name\u001b[38;5;241m=\u001b[39mname)\n",
      "File \u001b[0;32m~/.conda/envs/gee/lib/python3.9/site-packages/ee/image.py:130\u001b[0m, in \u001b[0;36mImage.getMapId\u001b[0;34m(self, vis_params)\u001b[0m\n\u001b[1;32m    128\u001b[0m vis_image, request \u001b[38;5;241m=\u001b[39m \u001b[38;5;28mself\u001b[39m\u001b[38;5;241m.\u001b[39m_apply_visualization(vis_params)\n\u001b[1;32m    129\u001b[0m request[\u001b[38;5;124m'\u001b[39m\u001b[38;5;124mimage\u001b[39m\u001b[38;5;124m'\u001b[39m] \u001b[38;5;241m=\u001b[39m vis_image\n\u001b[0;32m--> 130\u001b[0m response \u001b[38;5;241m=\u001b[39m \u001b[43mdata\u001b[49m\u001b[38;5;241;43m.\u001b[39;49m\u001b[43mgetMapId\u001b[49m\u001b[43m(\u001b[49m\u001b[43mrequest\u001b[49m\u001b[43m)\u001b[49m\n\u001b[1;32m    131\u001b[0m response[\u001b[38;5;124m'\u001b[39m\u001b[38;5;124mimage\u001b[39m\u001b[38;5;124m'\u001b[39m] \u001b[38;5;241m=\u001b[39m \u001b[38;5;28mself\u001b[39m\n\u001b[1;32m    132\u001b[0m \u001b[38;5;28;01mreturn\u001b[39;00m response\n",
      "File \u001b[0;32m~/.conda/envs/gee/lib/python3.9/site-packages/ee/data.py:567\u001b[0m, in \u001b[0;36mgetMapId\u001b[0;34m(params)\u001b[0m\n\u001b[1;32m    564\u001b[0m   request[\u001b[38;5;124m'\u001b[39m\u001b[38;5;124mvisualizationOptions\u001b[39m\u001b[38;5;124m'\u001b[39m] \u001b[38;5;241m=\u001b[39m visualizationOptions\n\u001b[1;32m    565\u001b[0m \u001b[38;5;66;03m# Make it return only the name field, as otherwise it echoes the entire\u001b[39;00m\n\u001b[1;32m    566\u001b[0m \u001b[38;5;66;03m# request, which might be large.\u001b[39;00m\n\u001b[0;32m--> 567\u001b[0m result \u001b[38;5;241m=\u001b[39m \u001b[43m_execute_cloud_call\u001b[49m\u001b[43m(\u001b[49m\n\u001b[1;32m    568\u001b[0m \u001b[43m    \u001b[49m\u001b[43m_get_cloud_api_resource\u001b[49m\u001b[43m(\u001b[49m\u001b[43m)\u001b[49m\u001b[38;5;241;43m.\u001b[39;49m\u001b[43mprojects\u001b[49m\u001b[43m(\u001b[49m\u001b[43m)\u001b[49m\u001b[38;5;241;43m.\u001b[39;49m\u001b[43mmaps\u001b[49m\u001b[43m(\u001b[49m\u001b[43m)\u001b[49m\u001b[38;5;241;43m.\u001b[39;49m\u001b[43mcreate\u001b[49m\u001b[43m(\u001b[49m\n\u001b[1;32m    569\u001b[0m \u001b[43m        \u001b[49m\u001b[43mparent\u001b[49m\u001b[38;5;241;43m=\u001b[39;49m\u001b[43m_get_projects_path\u001b[49m\u001b[43m(\u001b[49m\u001b[43m)\u001b[49m\u001b[43m,\u001b[49m\u001b[43m \u001b[49m\u001b[43mfields\u001b[49m\u001b[38;5;241;43m=\u001b[39;49m\u001b[38;5;124;43m'\u001b[39;49m\u001b[38;5;124;43mname\u001b[39;49m\u001b[38;5;124;43m'\u001b[39;49m\u001b[43m,\u001b[49m\u001b[43m \u001b[49m\u001b[43mbody\u001b[49m\u001b[38;5;241;43m=\u001b[39;49m\u001b[43mrequest\u001b[49m\u001b[43m)\u001b[49m\u001b[43m)\u001b[49m\n\u001b[1;32m    570\u001b[0m map_name \u001b[38;5;241m=\u001b[39m result[\u001b[38;5;124m'\u001b[39m\u001b[38;5;124mname\u001b[39m\u001b[38;5;124m'\u001b[39m]\n\u001b[1;32m    571\u001b[0m url_format \u001b[38;5;241m=\u001b[39m \u001b[38;5;124m'\u001b[39m\u001b[38;5;132;01m%s\u001b[39;00m\u001b[38;5;124m/\u001b[39m\u001b[38;5;132;01m%s\u001b[39;00m\u001b[38;5;124m/\u001b[39m\u001b[38;5;132;01m%s\u001b[39;00m\u001b[38;5;124m/tiles/\u001b[39m\u001b[38;5;132;01m{z}\u001b[39;00m\u001b[38;5;124m/\u001b[39m\u001b[38;5;132;01m{x}\u001b[39;00m\u001b[38;5;124m/\u001b[39m\u001b[38;5;132;01m{y}\u001b[39;00m\u001b[38;5;124m'\u001b[39m \u001b[38;5;241m%\u001b[39m (\n\u001b[1;32m    572\u001b[0m     _tile_base_url, _cloud_api_utils\u001b[38;5;241m.\u001b[39mVERSION, map_name)\n",
      "File \u001b[0;32m~/.conda/envs/gee/lib/python3.9/site-packages/ee/data.py:330\u001b[0m, in \u001b[0;36m_execute_cloud_call\u001b[0;34m(call, num_retries)\u001b[0m\n\u001b[1;32m    328\u001b[0m   \u001b[38;5;28;01mreturn\u001b[39;00m call\u001b[38;5;241m.\u001b[39mexecute(num_retries\u001b[38;5;241m=\u001b[39mnum_retries)\n\u001b[1;32m    329\u001b[0m \u001b[38;5;28;01mexcept\u001b[39;00m googleapiclient\u001b[38;5;241m.\u001b[39merrors\u001b[38;5;241m.\u001b[39mHttpError \u001b[38;5;28;01mas\u001b[39;00m e:\n\u001b[0;32m--> 330\u001b[0m   \u001b[38;5;28;01mraise\u001b[39;00m _translate_cloud_exception(e)\n",
      "\u001b[0;31mEEException\u001b[0m: reduce.mean: Error in map(ID=null):\nImage.select: Unrecognized type for band selector. Only strings and numbers are allowed."
     ]
    }
   ],
   "source": [
    "Map.addLayer(rgb, {}, 'phase_ndbi (hue), amplitude_ndbi (sat), ndbi (val)')"
   ]
  },
  {
   "cell_type": "markdown",
   "id": "9724c876",
   "metadata": {},
   "source": [
    "### BSI"
   ]
  },
  {
   "cell_type": "code",
   "execution_count": 125,
   "id": "ee27e0fd",
   "metadata": {},
   "outputs": [],
   "source": [
    "# List of the independent variable names\n",
    "independents = ee.List(['constant', 't'])\n",
    "\n",
    "# Name of the dependent variable.\n",
    "dependent = ee.String('BSI')\n",
    "\n",
    "# Compute a linear trend.  This will have two bands: 'residuals' and\n",
    "# a 2x1 band called coefficients (columns are for dependent variables).\n",
    "trend = collection.select(independents.add(dependent)) \\\n",
    "  .reduce(ee.Reducer.linearRegression(independents.length(), 1))\n",
    "# Map.addLayer(trend, {}, 'trend array image')\n",
    "\n",
    "# Flatten the coefficients into a 2-band image\n",
    "coefficients = trend.select('coefficients') \\\n",
    ".arrayProject([0]) \\\n",
    ".arrayFlatten([independents])"
   ]
  },
  {
   "cell_type": "code",
   "execution_count": 126,
   "id": "2fc098e5",
   "metadata": {},
   "outputs": [],
   "source": [
    "# Compute a de-trended series.\n",
    "\n",
    "def func_hzu(image):\n",
    "    return image.select(dependent).subtract(\n",
    "                image.select(independents).multiply(coefficients).reduce('sum')) \\\n",
    "                .rename(dependent) \\\n",
    "                .copyProperties(image, ['system:time_start'])\n",
    "\n",
    "detrended = collection.map(func_hzu)\n",
    "\n",
    "# Plot the detrended results.\n",
    "# detrendedChart = ui.Chart.image.series(detrended, roi, None, 30) \\\n",
    "#   .setOptions({\n",
    "#     'title': 'Detrended Sentinel time series at ROI',\n",
    "#     'lineWidth': 1,\n",
    "#     'pointSize': 3,\n",
    "#   })\n",
    "#print(detrendedChart)\n",
    "\n",
    "# Use these independent variables in the harmonic regression.\n",
    "harmonicIndependents = ee.List(['constant', 't', 'cos', 'sin'])"
   ]
  },
  {
   "cell_type": "code",
   "execution_count": 127,
   "id": "5ee3e52c",
   "metadata": {},
   "outputs": [],
   "source": [
    "# Add harmonic terms as new image bands.\n",
    "\n",
    "def func_knr(image):\n",
    "    timeRadians = image.select('t').multiply(2 * math.pi)\n",
    "    return image \\\n",
    "          .addBands(timeRadians.cos().rename('cos')) \\\n",
    "          .addBands(timeRadians.sin().rename('sin'))\n",
    "\n",
    "harmonicLandsat = collection.map(func_knr)\n",
    "\n",
    "harmonicTrend = harmonicLandsat \\\n",
    ".select(harmonicIndependents.add(dependent)) \\\n",
    ".reduce(ee.Reducer.linearRegression(\n",
    "    **{\n",
    "        'numX': harmonicIndependents.length(),\n",
    "        'numY': 1\n",
    "    }))\n",
    "# Turn the array image into a multi-band image of coefficients.\n",
    "harmonicTrendCoefficients = harmonicTrend.select('coefficients') \\\n",
    ".arrayProject([0]) \\\n",
    ".arrayFlatten([harmonicIndependents])"
   ]
  },
  {
   "cell_type": "code",
   "execution_count": 128,
   "id": "a39d0c5e",
   "metadata": {},
   "outputs": [],
   "source": [
    "# Compute fitted values.\n",
    "\n",
    "def func_fyi(image):\n",
    "        return image.addBands(\n",
    "          image.select(harmonicIndependents) \\\n",
    "            .multiply(harmonicTrendCoefficients) \\\n",
    "            .reduce('sum') \\\n",
    "            .rename('fitted'))\n",
    "\n",
    "fittedHarmonic = harmonicLandsat.map(func_fyi)\n",
    "\n",
    "# Plot the fitted model and the original data at the ROI.\n",
    "#print(ui.Chart.image.series(\n",
    "# fittedHarmonic.select(['fitted','BSI']), roi, ee.Reducer.mean(), 30) \\\n",
    "#   .setSeriesNames(['BSI', 'fitted']) \\\n",
    "#   .setOptions({\n",
    "#     'title': 'Harmonic model: original and fitted values',\n",
    "#     'lineWidth': 1,\n",
    "#     'pointSize': 3,\n",
    "# }))\n",
    "#"
   ]
  },
  {
   "cell_type": "code",
   "execution_count": 129,
   "id": "5444e1f7",
   "metadata": {},
   "outputs": [],
   "source": [
    "# Compute phase and amplitude.\n",
    "phase_bsi = harmonicTrendCoefficients.select('sin') \\\n",
    "  .atan2(harmonicTrendCoefficients.select('cos')) \\\n",
    "  .unitScale(-math.pi, math.pi) \\\n",
    "  .rename(\"HUE_BSI\")\n",
    "\n",
    "amplitude_bsi = harmonicTrendCoefficients.select('sin') \\\n",
    "  .hypot(harmonicTrendCoefficients.select('cos')) \\\n",
    "  .multiply(5) \\\n",
    "  .rename(\"SAT_BSI\")\n",
    "\n",
    "# Compute the mean BSI.\n",
    "meanBsi= collection.select('BSI').mean().rename(\"VAL_BSI\")\n",
    "\n",
    "# Use the HSV to RGB transform to display phase and amplitude.\n",
    "rgb = ee.Image.cat([\n",
    "phase_bsi,      # hue\n",
    "amplitude_bsi,  # saturation (difference from white)\n",
    "meanBsi    # value (difference from black)\n",
    "]).hsvToRgb()"
   ]
  },
  {
   "cell_type": "markdown",
   "id": "4ca66db4",
   "metadata": {},
   "source": [
    "Add to the map"
   ]
  },
  {
   "cell_type": "code",
   "execution_count": null,
   "id": "facc0c7d",
   "metadata": {},
   "outputs": [],
   "source": [
    "Map.addLayer(rgb, {}, 'phase_bsi (hue), amplitude_bsi (sat), bsi (val)')"
   ]
  },
  {
   "cell_type": "markdown",
   "id": "60b6d827",
   "metadata": {},
   "source": [
    "### GRVI"
   ]
  },
  {
   "cell_type": "code",
   "execution_count": 130,
   "id": "2052c200",
   "metadata": {},
   "outputs": [],
   "source": [
    "# List of the independent variable names\n",
    "independents = ee.List(['constant', 't'])\n",
    "\n",
    "# Name of the dependent variable.\n",
    "dependent = ee.String('GRVI')\n",
    "\n",
    "# Compute a linear trend.  This will have two bands: 'residuals' and\n",
    "# a 2x1 band called coefficients (columns are for dependent variables).\n",
    "trend = collection.select(independents.add(dependent)) \\\n",
    "  .reduce(ee.Reducer.linearRegression(independents.length(), 1))\n",
    "# Map.addLayer(trend, {}, 'trend array image')\n",
    "\n",
    "# Flatten the coefficients into a 2-band image\n",
    "coefficients = trend.select('coefficients') \\\n",
    ".arrayProject([0]) \\\n",
    ".arrayFlatten([independents])"
   ]
  },
  {
   "cell_type": "code",
   "execution_count": 131,
   "id": "583176b2",
   "metadata": {},
   "outputs": [],
   "source": [
    "# Compute a de-trended series.\n",
    "\n",
    "def func_rwe(image):\n",
    "    return image.select(dependent).subtract(\n",
    "                image.select(independents).multiply(coefficients).reduce('sum')) \\\n",
    "                .rename(dependent) \\\n",
    "                .copyProperties(image, ['system:time_start'])\n",
    "\n",
    "detrended = collection.map(func_rwe)\n",
    "\n",
    "# Plot the detrended results.\n",
    "# detrendedChart = ui.Chart.image.series(detrended, roi, None, 30) \\\n",
    "#   .setOptions({\n",
    "#     'title': 'Detrended Sentinel time series at ROI',\n",
    "#     'lineWidth': 1,\n",
    "#     'pointSize': 3,\n",
    "#   })\n",
    "#print(detrendedChart)\n",
    "\n",
    "# Use these independent variables in the harmonic regression.\n",
    "harmonicIndependents = ee.List(['constant', 't', 'cos', 'sin'])"
   ]
  },
  {
   "cell_type": "code",
   "execution_count": 134,
   "id": "eb705948",
   "metadata": {},
   "outputs": [],
   "source": [
    "# Add harmonic terms as new image bands.\n",
    "\n",
    "def func_sze(image):\n",
    "    timeRadians = image.select('t').multiply(2 * math.pi)\n",
    "    return image \\\n",
    "          .addBands(timeRadians.cos().rename('cos')) \\\n",
    "          .addBands(timeRadians.sin().rename('sin'))\n",
    "\n",
    "harmonicLandsat = collection.map(func_sze)\n",
    "\n",
    "harmonicTrend = harmonicLandsat \\\n",
    ".select(harmonicIndependents.add(dependent)) \\\n",
    ".reduce(ee.Reducer.linearRegression(\n",
    "    **{\n",
    "        'numX': harmonicIndependents.length(),\n",
    "        'numY': 1\n",
    "    }))\n",
    "# Turn the array image into a multi-band image of coefficients.\n",
    "harmonicTrendCoefficients = harmonicTrend.select('coefficients') \\\n",
    ".arrayProject([0]) \\\n",
    ".arrayFlatten([harmonicIndependents])"
   ]
  },
  {
   "cell_type": "code",
   "execution_count": 135,
   "id": "16b534e5",
   "metadata": {},
   "outputs": [],
   "source": [
    "# Compute fitted values.\n",
    "\n",
    "def func_kuj(image):\n",
    "    return image.addBands(\n",
    "          image.select(harmonicIndependents) \\\n",
    "            .multiply(harmonicTrendCoefficients) \\\n",
    "            .reduce('sum') \\\n",
    "            .rename('fitted'))\n",
    "\n",
    "fittedHarmonic = harmonicLandsat.map(func_kuj)\n",
    "\n",
    "# Plot the fitted model and the original data at the ROI.\n",
    "#print(ui.Chart.image.series(\n",
    "# fittedHarmonic.select(['fitted','GRVI']), roi, ee.Reducer.mean(), 30) \\\n",
    "#   .setSeriesNames(['GRVI', 'fitted']) \\\n",
    "#   .setOptions({\n",
    "#     'title': 'Harmonic model: original and fitted values',\n",
    "#     'lineWidth': 1,\n",
    "#     'pointSize': 3,\n",
    "# }))\n",
    "#\n",
    "\n",
    "# Compute phase and amplitude.\n",
    "phase_grvi = harmonicTrendCoefficients.select('sin') \\\n",
    "  .atan2(harmonicTrendCoefficients.select('cos')) \\\n",
    "  .unitScale(-math.pi, math.pi) \\\n",
    "  .rename(\"HUE_GRVI\")\n",
    "\n",
    "amplitude_grvi = harmonicTrendCoefficients.select('sin') \\\n",
    "  .hypot(harmonicTrendCoefficients.select('cos')) \\\n",
    "  .multiply(5) \\\n",
    "  .rename(\"SAT_GRVI\")\n",
    "\n",
    "# Compute the mean GRVI.\n",
    "meanGrvi= collection.select('GRVI').mean().rename(\"VAL_GRVI\")\n",
    "\n",
    "# Use the HSV to RGB transform to display phase and amplitude.\n",
    "rgb = ee.Image.cat([\n",
    "    phase_grvi,      # hue\n",
    "    amplitude_grvi,  # saturation (difference from white)\n",
    "    meanGrvi    # value (difference from black)\n",
    "]).hsvToRgb()"
   ]
  },
  {
   "cell_type": "markdown",
   "id": "ec9d0aae",
   "metadata": {},
   "source": [
    "Add layer to map"
   ]
  },
  {
   "cell_type": "code",
   "execution_count": null,
   "id": "e5606fbd",
   "metadata": {},
   "outputs": [],
   "source": [
    "Map.addLayer(rgb, {}, 'phase_grvi (hue), amplitude_grvi (sat), grvi (val)')"
   ]
  },
  {
   "cell_type": "markdown",
   "id": "59b50c21",
   "metadata": {},
   "source": [
    "## Lag function"
   ]
  },
  {
   "cell_type": "code",
   "execution_count": 136,
   "id": "8cf75be0",
   "metadata": {},
   "outputs": [],
   "source": [
    "def lag(leftCollection, rightCollection, lagDays):\n",
    "    filter = ee.Filter.And(\n",
    "        ee.Filter.maxDifference({\n",
    "            'difference': 1000 * 60 * 60 * 24 * lagDays,\n",
    "            'leftField': 'system:time_start',\n",
    "            'rightField': 'system:time_start'\n",
    "        }),\n",
    "        ee.Filter.greaterThan({\n",
    "            'leftField': 'system:time_start',\n",
    "            'rightField': 'system:time_start'\n",
    "        }))\n",
    "    return ee.Join.saveAll({\n",
    "        'matchesKey': 'images',\n",
    "        'measureKey': 'delta_t',\n",
    "        'ordering': 'system:time_start',\n",
    "        'ascending': False, # Sort reverse chronologically\n",
    "    }).apply({\n",
    "        'primary': leftCollection,\n",
    "        'secondary': rightCollection,\n",
    "        'condition': filter\n",
    "    })"
   ]
  },
  {
   "cell_type": "markdown",
   "id": "2f679642",
   "metadata": {},
   "source": [
    "## Select and extract bands"
   ]
  },
  {
   "cell_type": "code",
   "execution_count": 137,
   "id": "8d290a44",
   "metadata": {},
   "outputs": [
    {
     "name": "stdout",
     "output_type": "stream",
     "text": [
      "['B5', 'B7', 'B8', 'B12', 'NDBI_MAX', 'NDBI_STD', 'NDBI', 'B2']\n"
     ]
    }
   ],
   "source": [
    "print(OutBands)\n",
    "final_bands= compclip.select(OutBands)\n",
    "# print(\"Bands of the final image\", final_bands) # too large"
   ]
  },
  {
   "cell_type": "code",
   "execution_count": 103,
   "id": "eafa529b",
   "metadata": {},
   "outputs": [
    {
     "ename": "EEException",
     "evalue": "ImageCollection.reduce: Error in map(ID=null):\nImage.select: Unrecognized type for band selector. Only strings and numbers are allowed.",
     "output_type": "error",
     "traceback": [
      "\u001b[0;31m---------------------------------------------------------------------------\u001b[0m",
      "\u001b[0;31mHttpError\u001b[0m                                 Traceback (most recent call last)",
      "File \u001b[0;32m~/.conda/envs/gee/lib/python3.9/site-packages/ee/data.py:328\u001b[0m, in \u001b[0;36m_execute_cloud_call\u001b[0;34m(call, num_retries)\u001b[0m\n\u001b[1;32m    327\u001b[0m \u001b[38;5;28;01mtry\u001b[39;00m:\n\u001b[0;32m--> 328\u001b[0m   \u001b[38;5;28;01mreturn\u001b[39;00m \u001b[43mcall\u001b[49m\u001b[38;5;241;43m.\u001b[39;49m\u001b[43mexecute\u001b[49m\u001b[43m(\u001b[49m\u001b[43mnum_retries\u001b[49m\u001b[38;5;241;43m=\u001b[39;49m\u001b[43mnum_retries\u001b[49m\u001b[43m)\u001b[49m\n\u001b[1;32m    329\u001b[0m \u001b[38;5;28;01mexcept\u001b[39;00m googleapiclient\u001b[38;5;241m.\u001b[39merrors\u001b[38;5;241m.\u001b[39mHttpError \u001b[38;5;28;01mas\u001b[39;00m e:\n",
      "File \u001b[0;32m~/.conda/envs/gee/lib/python3.9/site-packages/googleapiclient/_helpers.py:134\u001b[0m, in \u001b[0;36mpositional.<locals>.positional_decorator.<locals>.positional_wrapper\u001b[0;34m(*args, **kwargs)\u001b[0m\n\u001b[1;32m    133\u001b[0m         logger\u001b[38;5;241m.\u001b[39mwarning(message)\n\u001b[0;32m--> 134\u001b[0m \u001b[38;5;28;01mreturn\u001b[39;00m \u001b[43mwrapped\u001b[49m\u001b[43m(\u001b[49m\u001b[38;5;241;43m*\u001b[39;49m\u001b[43margs\u001b[49m\u001b[43m,\u001b[49m\u001b[43m \u001b[49m\u001b[38;5;241;43m*\u001b[39;49m\u001b[38;5;241;43m*\u001b[39;49m\u001b[43mkwargs\u001b[49m\u001b[43m)\u001b[49m\n",
      "File \u001b[0;32m~/.conda/envs/gee/lib/python3.9/site-packages/googleapiclient/http.py:915\u001b[0m, in \u001b[0;36mHttpRequest.execute\u001b[0;34m(self, http, num_retries)\u001b[0m\n\u001b[1;32m    914\u001b[0m \u001b[38;5;28;01mif\u001b[39;00m resp\u001b[38;5;241m.\u001b[39mstatus \u001b[38;5;241m>\u001b[39m\u001b[38;5;241m=\u001b[39m \u001b[38;5;241m300\u001b[39m:\n\u001b[0;32m--> 915\u001b[0m     \u001b[38;5;28;01mraise\u001b[39;00m HttpError(resp, content, uri\u001b[38;5;241m=\u001b[39m\u001b[38;5;28mself\u001b[39m\u001b[38;5;241m.\u001b[39muri)\n\u001b[1;32m    916\u001b[0m \u001b[38;5;28;01mreturn\u001b[39;00m \u001b[38;5;28mself\u001b[39m\u001b[38;5;241m.\u001b[39mpostproc(resp, content)\n",
      "\u001b[0;31mHttpError\u001b[0m: <HttpError 400 when requesting https://earthengine.googleapis.com/v1alpha/projects/earthengine-legacy/maps?fields=name&alt=json returned \"ImageCollection.reduce: Error in map(ID=null):\nImage.select: Unrecognized type for band selector. Only strings and numbers are allowed.\". Details: \"ImageCollection.reduce: Error in map(ID=null):\nImage.select: Unrecognized type for band selector. Only strings and numbers are allowed.\">",
      "\nDuring handling of the above exception, another exception occurred:\n",
      "\u001b[0;31mEEException\u001b[0m                               Traceback (most recent call last)",
      "Input \u001b[0;32mIn [103]\u001b[0m, in \u001b[0;36m<cell line: 2>\u001b[0;34m()\u001b[0m\n\u001b[1;32m      1\u001b[0m \u001b[38;5;66;03m#Visualization of the final dataset using RGB and CIR\u001b[39;00m\n\u001b[0;32m----> 2\u001b[0m \u001b[43mMap\u001b[49m\u001b[38;5;241;43m.\u001b[39;49m\u001b[43maddLayer\u001b[49m\u001b[43m(\u001b[49m\u001b[43mfinal_bands\u001b[49m\u001b[43m,\u001b[49m\u001b[43m \u001b[49m\u001b[43m{\u001b[49m\u001b[43m  \u001b[49m\u001b[38;5;124;43m'\u001b[39;49m\u001b[38;5;124;43mmin\u001b[39;49m\u001b[38;5;124;43m'\u001b[39;49m\u001b[43m:\u001b[49m\u001b[43m \u001b[49m\u001b[38;5;241;43m0.0\u001b[39;49m\u001b[43m,\u001b[49m\u001b[43m \u001b[49m\u001b[38;5;124;43m'\u001b[39;49m\u001b[38;5;124;43mmax\u001b[39;49m\u001b[38;5;124;43m'\u001b[39;49m\u001b[43m:\u001b[49m\u001b[43m \u001b[49m\u001b[38;5;241;43m0.3\u001b[39;49m\u001b[43m,\u001b[49m\u001b[43m \u001b[49m\u001b[38;5;124;43m'\u001b[39;49m\u001b[38;5;124;43mbands\u001b[39;49m\u001b[38;5;124;43m'\u001b[39;49m\u001b[43m:\u001b[49m\u001b[43m \u001b[49m\u001b[43m[\u001b[49m\u001b[38;5;124;43m'\u001b[39;49m\u001b[38;5;124;43mB4\u001b[39;49m\u001b[38;5;124;43m'\u001b[39;49m\u001b[43m,\u001b[49m\u001b[43m \u001b[49m\u001b[38;5;124;43m'\u001b[39;49m\u001b[38;5;124;43mB3\u001b[39;49m\u001b[38;5;124;43m'\u001b[39;49m\u001b[43m,\u001b[49m\u001b[43m \u001b[49m\u001b[38;5;124;43m'\u001b[39;49m\u001b[38;5;124;43mB2\u001b[39;49m\u001b[38;5;124;43m'\u001b[39;49m\u001b[43m]\u001b[49m\u001b[43m,\u001b[49m\u001b[43m}\u001b[49m\u001b[43m,\u001b[49m\u001b[43m \u001b[49m\u001b[38;5;124;43m'\u001b[39;49m\u001b[38;5;124;43mRGB\u001b[39;49m\u001b[38;5;124;43m'\u001b[39;49m\u001b[43m)\u001b[49m\n\u001b[1;32m      3\u001b[0m Map\u001b[38;5;241m.\u001b[39maddLayer(final_bands, {  \u001b[38;5;124m'\u001b[39m\u001b[38;5;124mmin\u001b[39m\u001b[38;5;124m'\u001b[39m: \u001b[38;5;241m0.0\u001b[39m, \u001b[38;5;124m'\u001b[39m\u001b[38;5;124mmax\u001b[39m\u001b[38;5;124m'\u001b[39m: \u001b[38;5;241m0.3\u001b[39m, \u001b[38;5;124m'\u001b[39m\u001b[38;5;124mbands\u001b[39m\u001b[38;5;124m'\u001b[39m: [\u001b[38;5;124m'\u001b[39m\u001b[38;5;124mB8\u001b[39m\u001b[38;5;124m'\u001b[39m, \u001b[38;5;124m'\u001b[39m\u001b[38;5;124mB4\u001b[39m\u001b[38;5;124m'\u001b[39m, \u001b[38;5;124m'\u001b[39m\u001b[38;5;124mB3\u001b[39m\u001b[38;5;124m'\u001b[39m],}, \u001b[38;5;124m'\u001b[39m\u001b[38;5;124mCIR\u001b[39m\u001b[38;5;124m'\u001b[39m)\n\u001b[1;32m      4\u001b[0m Map\n",
      "File \u001b[0;32m~/.conda/envs/gee/lib/python3.9/site-packages/geemap/geemap.py:1442\u001b[0m, in \u001b[0;36mMap.add_ee_layer\u001b[0;34m(self, ee_object, vis_params, name, shown, opacity)\u001b[0m\n\u001b[1;32m   1437\u001b[0m     \u001b[38;5;28;01melif\u001b[39;00m \u001b[38;5;129;01mnot\u001b[39;00m \u001b[38;5;28misinstance\u001b[39m(vis_params[\u001b[38;5;124m\"\u001b[39m\u001b[38;5;124mpalette\u001b[39m\u001b[38;5;124m\"\u001b[39m], \u001b[38;5;28mlist\u001b[39m):\n\u001b[1;32m   1438\u001b[0m         \u001b[38;5;28;01mraise\u001b[39;00m \u001b[38;5;167;01mValueError\u001b[39;00m(\n\u001b[1;32m   1439\u001b[0m             \u001b[38;5;124m\"\u001b[39m\u001b[38;5;124mThe palette must be a list of colors or a string or a Box object.\u001b[39m\u001b[38;5;124m\"\u001b[39m\n\u001b[1;32m   1440\u001b[0m         )\n\u001b[0;32m-> 1442\u001b[0m map_id_dict \u001b[38;5;241m=\u001b[39m \u001b[43mee\u001b[49m\u001b[38;5;241;43m.\u001b[39;49m\u001b[43mImage\u001b[49m\u001b[43m(\u001b[49m\u001b[43mimage\u001b[49m\u001b[43m)\u001b[49m\u001b[38;5;241;43m.\u001b[39;49m\u001b[43mgetMapId\u001b[49m\u001b[43m(\u001b[49m\u001b[43mvis_params\u001b[49m\u001b[43m)\u001b[49m\n\u001b[1;32m   1443\u001b[0m tile_layer \u001b[38;5;241m=\u001b[39m ipyleaflet\u001b[38;5;241m.\u001b[39mTileLayer(\n\u001b[1;32m   1444\u001b[0m     url\u001b[38;5;241m=\u001b[39mmap_id_dict[\u001b[38;5;124m\"\u001b[39m\u001b[38;5;124mtile_fetcher\u001b[39m\u001b[38;5;124m\"\u001b[39m]\u001b[38;5;241m.\u001b[39murl_format,\n\u001b[1;32m   1445\u001b[0m     attribution\u001b[38;5;241m=\u001b[39m\u001b[38;5;124m\"\u001b[39m\u001b[38;5;124mGoogle Earth Engine\u001b[39m\u001b[38;5;124m\"\u001b[39m,\n\u001b[0;32m   (...)\u001b[0m\n\u001b[1;32m   1449\u001b[0m     max_zoom\u001b[38;5;241m=\u001b[39m\u001b[38;5;241m24\u001b[39m,\n\u001b[1;32m   1450\u001b[0m )\n\u001b[1;32m   1452\u001b[0m layer \u001b[38;5;241m=\u001b[39m \u001b[38;5;28mself\u001b[39m\u001b[38;5;241m.\u001b[39mfind_layer(name\u001b[38;5;241m=\u001b[39mname)\n",
      "File \u001b[0;32m~/.conda/envs/gee/lib/python3.9/site-packages/ee/image.py:130\u001b[0m, in \u001b[0;36mImage.getMapId\u001b[0;34m(self, vis_params)\u001b[0m\n\u001b[1;32m    128\u001b[0m vis_image, request \u001b[38;5;241m=\u001b[39m \u001b[38;5;28mself\u001b[39m\u001b[38;5;241m.\u001b[39m_apply_visualization(vis_params)\n\u001b[1;32m    129\u001b[0m request[\u001b[38;5;124m'\u001b[39m\u001b[38;5;124mimage\u001b[39m\u001b[38;5;124m'\u001b[39m] \u001b[38;5;241m=\u001b[39m vis_image\n\u001b[0;32m--> 130\u001b[0m response \u001b[38;5;241m=\u001b[39m \u001b[43mdata\u001b[49m\u001b[38;5;241;43m.\u001b[39;49m\u001b[43mgetMapId\u001b[49m\u001b[43m(\u001b[49m\u001b[43mrequest\u001b[49m\u001b[43m)\u001b[49m\n\u001b[1;32m    131\u001b[0m response[\u001b[38;5;124m'\u001b[39m\u001b[38;5;124mimage\u001b[39m\u001b[38;5;124m'\u001b[39m] \u001b[38;5;241m=\u001b[39m \u001b[38;5;28mself\u001b[39m\n\u001b[1;32m    132\u001b[0m \u001b[38;5;28;01mreturn\u001b[39;00m response\n",
      "File \u001b[0;32m~/.conda/envs/gee/lib/python3.9/site-packages/ee/data.py:567\u001b[0m, in \u001b[0;36mgetMapId\u001b[0;34m(params)\u001b[0m\n\u001b[1;32m    564\u001b[0m   request[\u001b[38;5;124m'\u001b[39m\u001b[38;5;124mvisualizationOptions\u001b[39m\u001b[38;5;124m'\u001b[39m] \u001b[38;5;241m=\u001b[39m visualizationOptions\n\u001b[1;32m    565\u001b[0m \u001b[38;5;66;03m# Make it return only the name field, as otherwise it echoes the entire\u001b[39;00m\n\u001b[1;32m    566\u001b[0m \u001b[38;5;66;03m# request, which might be large.\u001b[39;00m\n\u001b[0;32m--> 567\u001b[0m result \u001b[38;5;241m=\u001b[39m \u001b[43m_execute_cloud_call\u001b[49m\u001b[43m(\u001b[49m\n\u001b[1;32m    568\u001b[0m \u001b[43m    \u001b[49m\u001b[43m_get_cloud_api_resource\u001b[49m\u001b[43m(\u001b[49m\u001b[43m)\u001b[49m\u001b[38;5;241;43m.\u001b[39;49m\u001b[43mprojects\u001b[49m\u001b[43m(\u001b[49m\u001b[43m)\u001b[49m\u001b[38;5;241;43m.\u001b[39;49m\u001b[43mmaps\u001b[49m\u001b[43m(\u001b[49m\u001b[43m)\u001b[49m\u001b[38;5;241;43m.\u001b[39;49m\u001b[43mcreate\u001b[49m\u001b[43m(\u001b[49m\n\u001b[1;32m    569\u001b[0m \u001b[43m        \u001b[49m\u001b[43mparent\u001b[49m\u001b[38;5;241;43m=\u001b[39;49m\u001b[43m_get_projects_path\u001b[49m\u001b[43m(\u001b[49m\u001b[43m)\u001b[49m\u001b[43m,\u001b[49m\u001b[43m \u001b[49m\u001b[43mfields\u001b[49m\u001b[38;5;241;43m=\u001b[39;49m\u001b[38;5;124;43m'\u001b[39;49m\u001b[38;5;124;43mname\u001b[39;49m\u001b[38;5;124;43m'\u001b[39;49m\u001b[43m,\u001b[49m\u001b[43m \u001b[49m\u001b[43mbody\u001b[49m\u001b[38;5;241;43m=\u001b[39;49m\u001b[43mrequest\u001b[49m\u001b[43m)\u001b[49m\u001b[43m)\u001b[49m\n\u001b[1;32m    570\u001b[0m map_name \u001b[38;5;241m=\u001b[39m result[\u001b[38;5;124m'\u001b[39m\u001b[38;5;124mname\u001b[39m\u001b[38;5;124m'\u001b[39m]\n\u001b[1;32m    571\u001b[0m url_format \u001b[38;5;241m=\u001b[39m \u001b[38;5;124m'\u001b[39m\u001b[38;5;132;01m%s\u001b[39;00m\u001b[38;5;124m/\u001b[39m\u001b[38;5;132;01m%s\u001b[39;00m\u001b[38;5;124m/\u001b[39m\u001b[38;5;132;01m%s\u001b[39;00m\u001b[38;5;124m/tiles/\u001b[39m\u001b[38;5;132;01m{z}\u001b[39;00m\u001b[38;5;124m/\u001b[39m\u001b[38;5;132;01m{x}\u001b[39;00m\u001b[38;5;124m/\u001b[39m\u001b[38;5;132;01m{y}\u001b[39;00m\u001b[38;5;124m'\u001b[39m \u001b[38;5;241m%\u001b[39m (\n\u001b[1;32m    572\u001b[0m     _tile_base_url, _cloud_api_utils\u001b[38;5;241m.\u001b[39mVERSION, map_name)\n",
      "File \u001b[0;32m~/.conda/envs/gee/lib/python3.9/site-packages/ee/data.py:330\u001b[0m, in \u001b[0;36m_execute_cloud_call\u001b[0;34m(call, num_retries)\u001b[0m\n\u001b[1;32m    328\u001b[0m   \u001b[38;5;28;01mreturn\u001b[39;00m call\u001b[38;5;241m.\u001b[39mexecute(num_retries\u001b[38;5;241m=\u001b[39mnum_retries)\n\u001b[1;32m    329\u001b[0m \u001b[38;5;28;01mexcept\u001b[39;00m googleapiclient\u001b[38;5;241m.\u001b[39merrors\u001b[38;5;241m.\u001b[39mHttpError \u001b[38;5;28;01mas\u001b[39;00m e:\n\u001b[0;32m--> 330\u001b[0m   \u001b[38;5;28;01mraise\u001b[39;00m _translate_cloud_exception(e)\n",
      "\u001b[0;31mEEException\u001b[0m: ImageCollection.reduce: Error in map(ID=null):\nImage.select: Unrecognized type for band selector. Only strings and numbers are allowed."
     ]
    }
   ],
   "source": [
    "#Visualization of the final dataset using RGB and CIR\n",
    "Map.addLayer(final_bands, {  'min': 0.0, 'max': 0.3, 'bands': ['B4', 'B3', 'B2'],}, 'RGB')\n",
    "Map.addLayer(final_bands, {  'min': 0.0, 'max': 0.3, 'bands': ['B8', 'B4', 'B3'],}, 'CIR')\n",
    "Map"
   ]
  },
  {
   "cell_type": "code",
   "execution_count": 139,
   "id": "c28f4293",
   "metadata": {},
   "outputs": [],
   "source": [
    "#Add the index statistics to the median bands and clip the dataset with the ROI\n",
    "compclip = band_median.addBands(ndvimax).addBands(ndvimean).addBands(ndvistd) \\\n",
    ".addBands(nmdimax).addBands(nmdimean).addBands(nmdistd) \\\n",
    ".addBands(ndbimax).addBands(ndbimean).addBands(ndbistd) \\\n",
    ".addBands(phase_ndvi).addBands(amplitude_ndvi).addBands(meanNdvi) \\\n",
    ".addBands(phase_nmdi).addBands(amplitude_nmdi).addBands(meanNmdi) \\\n",
    ".addBands(phase_ndbi).addBands(amplitude_ndbi).addBands(meanNdbi) \\\n",
    ".addBands(bsimax).addBands(bsimean).addBands(bsistd) \\\n",
    ".addBands(evimax).addBands(evimean).addBands(evistd) \\\n",
    ".addBands(grvimax).addBands(grvimean).addBands(grvistd) \\\n",
    ".addBands(mndwimax).addBands(mndwimean).addBands(mndwistd) \\\n",
    ".addBands(smmimax).addBands(smmimean).addBands(smmistd) \\\n",
    ".addBands(phase_bsi).addBands(amplitude_bsi).addBands(meanBsi) \\\n",
    ".addBands(phase_grvi).addBands(amplitude_grvi).addBands(meanGrvi) \\\n",
    ".clip(Area_Nice)\n",
    "\n",
    "#print(\"Composition\", compclip)"
   ]
  },
  {
   "cell_type": "code",
   "execution_count": 140,
   "id": "158167ae",
   "metadata": {},
   "outputs": [],
   "source": [
    "OutBands  = [\"B5\",\"B7\"#,\"B6\",\"B8A\",\"B4\",\"B11\"\n",
    "    ,\"B8\",\"B12\"\n",
    "    #,\"NDVI_MAX\",\"NDVI_STD\"\n",
    "    ,\"NDBI_MAX\",\"NDBI_STD\"#,\"HUE_NDVI\",\"SAT_NDVI\",\"NDVI\"#,\"VAL_NDVI\",\n",
    "    ,\"NDBI\",\"B2\"#,\"B3\"#,\"VAL_NDBI\",\"HUE_NDBI\",\"SAT_NDBI\"\n",
    "    #,\"NMDI\",\"NMDI_MAX\",\"NMDI_STD\",\"HUE_NMDI\",\"SAT_NMDI\",\"VAL_NMDI\"\n",
    "    #,\"BSI\",\"VAL_BSI\"\n",
    "    #,\"BSI_STD\",\"BSI_MAX\",\"HUE_BSI\",\"SAT_BSI\"\n",
    "    #,\"EVI\",\"EVI_MAX\",\"EVI_STD\"\n",
    "    #,\"GRVI\",\"GRVI_STD\",\"HUE_GRVI\",\"GRVI_MAX\",\"SAT_GRVI\"//,\"VAL_GRVI\"\n",
    "    #,\"MNDWI\",\"MNDWI_MAX\",\"MNDWI_STD\",\"SMMI\",\"SMMI_MAX\",\"SMMI_STD\"\n",
    "    ];"
   ]
  },
  {
   "cell_type": "markdown",
   "id": "ae2e5354",
   "metadata": {},
   "source": [
    "Export regions"
   ]
  },
  {
   "cell_type": "code",
   "execution_count": null,
   "id": "5f9a77a1",
   "metadata": {},
   "outputs": [],
   "source": [
    "#Export the image to an Earth Engine asset\n",
    "Export.image.toAsset({\n",
    "  'image': final_bands,\n",
    "  'region': roi1,\n",
    "  'description': '05-23_DATASET_COMPOSITION_Nice_OO_9_T1',\n",
    "  'scale': 10\n",
    "})\n",
    "#Export the image to an Earth Engine asset\n",
    "Export.image.toAsset({\n",
    "  'image': final_bands,\n",
    "  'region': roi2,\n",
    "  'description': '05-23_DATASET_COMPOSITION_Nice_OO_9_T2',\n",
    "  'scale': 10\n",
    "})\n",
    "#Export the image to an Earth Engine asset\n",
    "Export.image.toAsset({\n",
    "  'image': final_bands,\n",
    "  'region': roi3,\n",
    "  'description': '05-23_DATASET_COMPOSITION_Nice_OO_9_T3',\n",
    "  'scale': 10\n",
    "})\n",
    "#Export the image to an Earth Engine asset\n",
    "Export.image.toAsset({\n",
    "  'image': final_bands,\n",
    "  'region': roi4,\n",
    "  'description': '05-23_DATASET_COMPOSITION_Nice_OO_9_T4',\n",
    "  'scale': 10\n",
    "})\n",
    "#print(OutBands)"
   ]
  },
  {
   "cell_type": "code",
   "execution_count": 143,
   "id": "616aaa91",
   "metadata": {},
   "outputs": [],
   "source": [
    "# split area in 4 zones\n",
    "roi1 = ee.Geometry.Polygon(\n",
    "        [\n",
    "            [\n",
    "                [6.642465422021031,43.53595758052378],\n",
    "                [7.076425382958531,43.53595758052378],\n",
    "                [7.076425382958531,43.87844627034738],\n",
    "                [6.642465422021031,43.87844627034738],\n",
    "                [6.642465422021031,43.53595758052378],\n",
    "            ]\n",
    "        ]\n",
    "    )\n",
    "roi2  = ee.Geometry.Polygon(\n",
    "        [\n",
    "            [\n",
    "                [6.719025509208998,43.87688879625747],\n",
    "                [7.076081173271498,43.87688879625747],\n",
    "                [7.076081173271498,44.36389752233614],\n",
    "                [6.719025509208998,44.36389752233614],\n",
    "                [6.719025509208998,43.87688879625747],\n",
    "            ]\n",
    "        ]\n",
    "    )\n",
    "roi3  = ee.Geometry.Polygon(\n",
    "        [\n",
    "            [\n",
    "                [7.073694731019966,43.53711239202778],\n",
    "                [7.447229887269966,43.53711239202778],\n",
    "                [7.447229887269966,43.879099567521784],\n",
    "                [7.073694731019966,43.879099567521784],\n",
    "                [7.073694731019966,43.53711239202778],\n",
    "            ]\n",
    "        ]\n",
    "    )\n",
    "roi4 = ee.Geometry.Polygon(\n",
    "        [\n",
    "            [\n",
    "                [7.070427585392207,43.87615487031022],\n",
    "                [7.457695651798457,43.87615487031022],\n",
    "                [7.457695651798457,44.193072642068195],\n",
    "                [7.070427585392207,44.193072642068195],\n",
    "                [7.070427585392207,43.87615487031022],\n",
    "            ]\n",
    "        ]\n",
    "    )"
   ]
  },
  {
   "cell_type": "code",
   "execution_count": 145,
   "id": "9f8a56c1",
   "metadata": {},
   "outputs": [
    {
     "name": "stdout",
     "output_type": "stream",
     "text": [
      "Generating URL ...\n",
      "An error occurred while downloading.\n",
      "ImageCollection.reduce: Error in map(ID=null):\n",
      "Image.select: Unrecognized type for band selector. Only strings and numbers are allowed.\n"
     ]
    }
   ],
   "source": [
    "filename = '/home/scuypers/GEE/outputs/05-23_DATASET_COMPOSITION_Nice_OO_9_T1.tif'\n",
    "geemap.ee_export_image(\n",
    "    final_bands, filename=filename, scale=10, region=roi1, file_per_band=False\n",
    ")"
   ]
  },
  {
   "cell_type": "markdown",
   "id": "9419d880",
   "metadata": {},
   "source": [
    "# Classification"
   ]
  },
  {
   "cell_type": "markdown",
   "id": "174f4dce",
   "metadata": {},
   "source": [
    "## Preparing data"
   ]
  },
  {
   "cell_type": "code",
   "execution_count": null,
   "id": "92f22b2b",
   "metadata": {},
   "outputs": [],
   "source": [
    "# loading data\n",
    "newfc = training\n",
    "valpnts = validation\n",
    "\n",
    "# remap labels\n",
    "newfc = newfc.remap([1,2,3,4,5,6,7,10,11,12,13,14], [0,0,0,1,2,3,4,5,6,7,8,9], 'b1');\n",
    "valpnts = valpnts.remap([1,2,3,4,5,6,7,10,11,12,13,14], [0,0,0,1,2,3,4,5,6,7,8,9], 'b1');\n",
    "\n",
    "scale = 20"
   ]
  },
  {
   "cell_type": "markdown",
   "id": "15e264d9",
   "metadata": {},
   "source": [
    "Loading HR data"
   ]
  },
  {
   "cell_type": "code",
   "execution_count": 153,
   "id": "c9d935f0",
   "metadata": {},
   "outputs": [],
   "source": [
    "HR_data = ee.ImageCollection(\"users/andreanascetti/IEEE/Nice_Ortho\").mosaic()\n",
    "\n",
    "#nomalizing the HR data\n",
    "RGB_MIN = 0\n",
    "RGB_MAX = 255\n",
    "normalized = HR_data.select(['b1', 'b2', 'b3']).unitScale(RGB_MIN, RGB_MAX)"
   ]
  },
  {
   "cell_type": "markdown",
   "id": "6764c3c2",
   "metadata": {},
   "source": [
    "Loading Composite images"
   ]
  },
  {
   "cell_type": "code",
   "execution_count": 156,
   "id": "746f6e40",
   "metadata": {},
   "outputs": [],
   "source": [
    "image1 = ee.Image('users/suzannacuypers/EARSeL/05-23_DATASET_COMPOSITION_Nice_OO_9_T1')\n",
    "image2 = ee.Image('users/suzannacuypers/EARSeL/05-23_DATASET_COMPOSITION_Nice_OO_9_T2')\n",
    "image3 = ee.Image('users/suzannacuypers/EARSeL/05-23_DATASET_COMPOSITION_Nice_OO_9_T3')\n",
    "image4 = ee.Image('users/suzannacuypers/EARSeL/05-23_DATASET_COMPOSITION_Nice_OO_9_T4')\n",
    "\n",
    "table2 = Area_Nice # ??? # Table from users/andreanascetti/IEEE/Nice_Tiles\n",
    "\n",
    "S2_data = ee.ImageCollection([image1,image2,image3,image4]).mosaic().clip(table2)\n",
    "dataset = normalized.addBands(S2_data)"
   ]
  },
  {
   "cell_type": "markdown",
   "id": "6216dcdd",
   "metadata": {},
   "source": [
    "Loading ground truth labels"
   ]
  },
  {
   "cell_type": "code",
   "execution_count": 157,
   "id": "cb796561",
   "metadata": {},
   "outputs": [],
   "source": [
    "groundTruth = ee.ImageCollection(\"users/andreanascetti/IEEE/Nice_Labels\");"
   ]
  },
  {
   "cell_type": "markdown",
   "id": "2ae4f17b",
   "metadata": {},
   "source": [
    "Adding data to the map"
   ]
  },
  {
   "cell_type": "code",
   "execution_count": 163,
   "id": "47ff64bb",
   "metadata": {},
   "outputs": [
    {
     "data": {
      "application/vnd.jupyter.widget-view+json": {
       "model_id": "a916d948767d49c69e4c23fe833ca9be",
       "version_major": 2,
       "version_minor": 0
      },
      "text/plain": [
       "Map(center=[20, 0], controls=(WidgetControl(options=['position', 'transparent_bg'], widget=HBox(children=(Togg…"
      ]
     },
     "metadata": {},
     "output_type": "display_data"
    },
    {
     "data": {
      "application/javascript": [
       "\n",
       "        var code = IPython.notebook.insert_cell_below('code');\n",
       "        code.set_text(atob(\"aW1wb3J0IGdlZW1hcAoKTWFwID0gZ2VlbWFwLk1hcCgpCgojUGFsZXR0ZSBmb3IgdGhlIGNsYXNzaWZpY2F0aW9uCnBhbGV0dGUgPSBbCiMgICcwMDAwMDAnLAogICdGRjU3MzMnLCAjKDApICBVcmJhbiBmYWJyaWMKIyAgJ0Y5OEEwNCcsICMoMSkgIEluZHVzdHJpYWwsIGNvbW1lcmNpYWwsIHB1YmxpYywgbWlsaXRhcnksIHByaXZhdGUgYW5kIHRyYW5zcG9ydCB1bml0cwojICAnRkJEQjEwJywgIygyKSAgTWluZSwgZHVtcCBhbmQgY29uc3RydWN0aW9uIHNpdGVzCiAgJ0I3RTYwMycsICMoMykgIEFydGlmaWNpYWwgbm9uLWFncmljdWx0dXJhbCB2ZWdldGF0ZWQgYXJlYXMKICAnQjZGRjQ1JywgIyg0KSAgQXJhYmxlIGxhbmQgKGFubnVhbCBjcm9wcykKICAnNUZCMzMxJywgIyg1KSAgUGVybWFuZW50IGNyb3BzCiAgJzNGQUYxNycsICMoNikgIFBhc3R1cmVzCiMgICdGQ0U1Q0QnLCAjKCljb21wbGV4IGFuZCBtaXhlZC4uLgojICAnQzZFQ0I2JywgIygpb3JjaGFyZHMgYXQgdGhlIGZyaW5nZQogICcyMzc2MDUnLCAjKDcpICBGb3Jlc3RzCiAgJzQzQjY4MCcsICMoOCkgIEhlcmJhY2VvdXMgdmVnZXRhdGlvbiBhc3NvY2lhdGlvbnMKICAnOUI2MjFBJywgIyg5KSAgT3BlbiBzcGFjZXMgd2l0aCBsaXR0bGUgb3Igbm8gdmVnZXRhdGlvbgogICcwNjkxQzMnLCAjKDEwKSAgV2V0bGFuZHMKICAnMDg1Q0I4JywgIygxMSkgIFdhdGVyCiMgICcwMDAwMDAnLApdCk1hcA==\"));\n",
       "    "
      ],
      "text/plain": [
       "<IPython.core.display.Javascript object>"
      ]
     },
     "metadata": {},
     "output_type": "display_data"
    },
    {
     "data": {
      "application/javascript": [
       "\n",
       "        var code = IPython.notebook.insert_cell_below('code');\n",
       "        code.set_text(atob(\"aW1wb3J0IGdlZW1hcAoKTWFwID0gZ2VlbWFwLk1hcCgpCgojQ3JlYXRpb24gb2YgdGhlICJuZXdmYyIgZmVhdHVyZSBjb2xsZWN0aW9uIHVzaW5nIHRoZSBwaXhlbHMgaGF2aW5nIGEgZmVhdHVyZSBwcm9wZXJ0eSBjYWxsZWQgImIxIgojVG8gaW1wcm92ZSB0aGUgaW5mb3JtYXRpb24gdXNpbmcgYSBidWZmZXIgd2l0aCBhIGZpeGVkIHJhZGl1cyAgKHJhZGl1cyA9IDEwIG0pCmRlZiBidWZmZXIoZmVhdHVyZSk6CnJldHVybiBmZWF0dXJlLmJ1ZmZlcigzMCkKbmV3ZmMgPWZjLm1hcChidWZmZXIpCk1hcA==\"));\n",
       "    "
      ],
      "text/plain": [
       "<IPython.core.display.Javascript object>"
      ]
     },
     "metadata": {},
     "output_type": "display_data"
    },
    {
     "data": {
      "application/javascript": [
       "\n",
       "        var code = IPython.notebook.insert_cell_below('code');\n",
       "        code.set_text(atob(\"aW1wb3J0IGdlZW1hcAoKTWFwID0gZ2VlbWFwLk1hcCgpCgojaWYgeW91IHdhbnQgdXNlIFJhbmRvbUZvcmVzdCAoY2xhc3NpZmllcl9hbGc9ICJSRiIpIGVsc2UgdXNlIFNWTSAoY2xhc3NpZmllcl9hbGc9ICJTVk0iKQpjbGFzc2lmaWVyX2FsZz0iUkYiCgojSWYgeW91IGRlY2lkZWQgdG8gdXNlIHRoZSBTVk0gYWxnb3JpdGhtIGl0J3MgbWFuZGF0b3J5IHRoZSBub3JtYWxpemF0aW9uIG9mIHRoZSBpbnB1dCBiYW5kcwppZihjbGFzc2lmaWVyX2FsZyA9PSJTVk0iKXsKICBpbWFnZSA9IGVlLkltYWdlKGRhdGFzZXQpCiAgIyBjYWxjdWxhdGUgdGhlIG1pbiBhbmQgbWF4IHZhbHVlIG9mIGFuIGltYWdlCiAgbWluTWF4ID0gaW1hZ2UucmVkdWNlUmVnaW9uKHsKICAgICdyZWR1Y2VyJzogZWUuUmVkdWNlci5taW5NYXgoKSwKICAgICdnZW9tZXRyeSc6IHJvaSwKICAgICdzY2FsZSc6IHNjYWxlLAogICAgJ21heFBpeGVscyc6IDEwZTE2LAogIH0pCiMgdXNlIHVuaXQgc2NhbGUgdG8gbm9ybWFsaXplIHRoZSBwaXhlbCB2YWx1ZXMKZGF0YXNldCA9IGVlLkltYWdlQ29sbGVjdGlvbi5mcm9tSW1hZ2VzKAoKZGVmIGZ1bmNfeXZpKG5hbWUpOgogICAgbmFtZSA9IGVlLlN0cmluZyhuYW1lKQogICAgYmFuZCA9IGltYWdlLnNlbGVjdChuYW1lKQogICAgcmV0dXJuIGJhbmQudW5pdFNjYWxlKGVlLk51bWJlcihtaW5NYXguZ2V0KG5hbWUuY2F0KCdfbWluJykpKSwgZWUuTnVtYmVyKG1pbk1heC5nZXQobmFtZS5jYXQoJ19tYXgnKSkpKQoKICBpbWFnZS5iYW5kTmFtZXMoKS5tYXAoZnVuY195dmkKKSkudG9CYW5kcygpLnJlbmFtZShpbWFnZS5iYW5kTmFtZXMoKSkKCikpLnRvQmFuZHMoKS5yZW5hbWUoaW1hZ2UuYmFuZE5hbWVzKCkpCn0KTWFw\"));\n",
       "    "
      ],
      "text/plain": [
       "<IPython.core.display.Javascript object>"
      ]
     },
     "metadata": {},
     "output_type": "display_data"
    },
    {
     "data": {
      "application/javascript": [
       "\n",
       "        var code = IPython.notebook.insert_cell_below('code');\n",
       "        code.set_text(atob(\"aW1wb3J0IGdlZW1hcAoKTWFwID0gZ2VlbWFwLk1hcCgpCgojIFNlZ21lbnRhdGlvbiB1c2luZyBhIFNOSUMgYXBwcm9hY2ggYmFzZWQgb24gdGhlIGRhdGFzZXQgcHJldmlvc2x5IGdlbmVyYXRlZApzZWVkcyA9IGVlLkFsZ29yaXRobXMuSW1hZ2UuU2VnbWVudGF0aW9uLnNlZWRHcmlkKHNpemVfc2VnbWVudGF0aW9uKQoKc25pYyA9IGVlLkFsZ29yaXRobXMuSW1hZ2UuU2VnbWVudGF0aW9uLlNOSUMoewogICdpbWFnZSc6IGRhdGFzZXQsIy5zZWxlY3QoJ2IxJywnYjInLCdiMycpLAogICdjb21wYWN0bmVzcyc6IDAsCiAgJ2Nvbm5lY3Rpdml0eSc6IDgsCiAgJ25laWdoYm9yaG9vZFNpemUnOiAyNTYsCiAgJ3NlZWRzJzogc2VlZHMKfSkKCmNsdXN0ZXJzX3NuaWMgPSBzbmljLnNlbGVjdCgiY2x1c3RlcnMiKQpjbHVzdGVyc19zbmljID0gY2x1c3RlcnNfc25pYy5yZXByb2plY3QgKHsnY3JzJzogY2x1c3RlcnNfc25pYy5wcm9qZWN0aW9uICgpLCAnc2NhbGUnOiBzY2FsZX0pCk1hcC5hZGRMYXllcihjbHVzdGVyc19zbmljLnJhbmRvbVZpc3VhbGl6ZXIoKSwge30sICdjbHVzdGVycycpCk1hcA==\"));\n",
       "    "
      ],
      "text/plain": [
       "<IPython.core.display.Javascript object>"
      ]
     },
     "metadata": {},
     "output_type": "display_data"
    },
    {
     "data": {
      "application/javascript": [
       "\n",
       "        var code = IPython.notebook.insert_cell_below('code');\n",
       "        code.set_text(atob(\"aW1wb3J0IGdlZW1hcAoKTWFwID0gZ2VlbWFwLk1hcCgpCgojQ3JlYXRlIGFuZCByZXNjYWxlIGEgZ3JheXNjYWxlIGltYWdlIGZvciBHTENNCmdyYXkgPSBkYXRhc2V0LmV4cHJlc3Npb24oCiAgICAgICcoMC4xMSAqIEIpICsgKDAuMyAqIFIpICsgKDAuNTkgKiBHKScsIHsKICAgICAgJ0InOiBkYXRhc2V0LnNlbGVjdCgnYjMnKSwKICAgICAgJ1InOiBkYXRhc2V0LnNlbGVjdCgnYjEnKSwKICAgICAgJ0cnOiBkYXRhc2V0LnNlbGVjdCgnYjInKQp9KS5yZW5hbWUoJ2dyYXknKQoKIyB0aGUgZ2xjbVRleHR1cmUgc2l6ZSAoaW4gcGl4ZWwpIGNhbiBiZSBhZGp1c3RlZCBjb25zaWRlcmluZyB0aGUgc3BhdGlhbCByZXNvbHV0aW9uIGFuZCB0aGUgb2JqZWN0IHRleHR1cmFsIGNoYXJhY3RlcmlzdGljcwoKZ2xjbSA9IGdyYXkudW5pdFNjYWxlKDAsIDAuMzApLm11bHRpcGx5KDEwMCkudG9JbnQoKS5nbGNtVGV4dHVyZSh7J3NpemUnOiAyfSkKCiMtLS0gQmVmb3JlIHRoZSBQQ0EgdGhlIGdsY20gYmFuZHMgYXJlIHNjYWxlZAppbWFnZSA9IGdsY20uc2VsZWN0KGdsY21fYmFuZHMpCiMgY2FsY3VsYXRlIHRoZSBtaW4gYW5kIG1heCB2YWx1ZSBvZiBhbiBpbWFnZQptaW5NYXggPSBpbWFnZS5yZWR1Y2VSZWdpb24oewogICdyZWR1Y2VyJzogZWUuUmVkdWNlci5taW5NYXgoKSwKICAnZ2VvbWV0cnknOiByb2ksCiAgJ3NjYWxlJzogc2NhbGUsCiAgJ21heFBpeGVscyc6IDEwZTE2LAogICd0aWxlU2NhbGUnOjgKfSkKCmdsY20gPSBlZS5JbWFnZUNvbGxlY3Rpb24uZnJvbUltYWdlcygKCmRlZiBmdW5jX2VodihuYW1lKToKICAgIG5hbWUgPSBlZS5TdHJpbmcobmFtZSkKICAgIGJhbmQgPSBpbWFnZS5zZWxlY3QobmFtZSkKICAgIHJldHVybiBiYW5kLnVuaXRTY2FsZShlZS5OdW1iZXIobWluTWF4LmdldChuYW1lLmNhdCgnX21pbicpKSksIGVlLk51bWJlcihtaW5NYXguZ2V0KG5hbWUuY2F0KCdfbWF4JykpKSkKCiAgaW1hZ2UuYmFuZE5hbWVzKCkubWFwKGZ1bmNfZWh2CikpLnRvQmFuZHMoKS5yZW5hbWUoaW1hZ2UuYmFuZE5hbWVzKCkpCgopKS50b0JhbmRzKCkucmVuYW1lKGltYWdlLmJhbmROYW1lcygpKQpNYXA=\"));\n",
       "    "
      ],
      "text/plain": [
       "<IPython.core.display.Javascript object>"
      ]
     },
     "metadata": {},
     "output_type": "display_data"
    },
    {
     "data": {
      "application/javascript": [
       "\n",
       "        var code = IPython.notebook.insert_cell_below('code');\n",
       "        code.set_text(atob(\"aW1wb3J0IGdlZW1hcAoKTWFwID0gZ2VlbWFwLk1hcCgpCgojIFRoZSBjb2RlIHJlbGF0aW5nIHRvIHRoZSBQQ0Egd2FzIGFkYXB0ZWQgZnJvbSB0aGUgR0VFIGRvY3VtZW50YXRpb24gIGh0dHBzOiNkZXZlbG9wZXJzLmdvb2dsZS5jb20vZWFydGgtZW5naW5lL2d1aWRlcy9hcnJheXNfZWlnZW5fYW5hbHlzaXMKCiMgR2V0IHNvbWUgaW5mb3JtYXRpb24gYWJvdXQgdGhlIGlucHV0IHRvIGJlIHVzZWQgbGF0ZXIuCiNzY2FsZSA9IDIwICNnbGNtLnByb2plY3Rpb24oKS5ub21pbmFsU2NhbGUoKQpwcmludCgiTm9taW5hbCBTY2FsZSIsIHNjYWxlKQpiYW5kTmFtZXMgPSBnbGNtLmJhbmROYW1lcygpCgojIE1lYW4gY2VudGVyIHRoZSBkYXRhIHRvIGVuYWJsZSBhIGZhc3RlciBjb3ZhcmlhbmNlIHJlZHVjZXIgYW5kIGFuIFNEIHN0cmV0Y2ggb2YgdGhlIHByaW5jaXBhbCBjb21wb25lbnRzLgptZWFuRGljdCA9IGdsY20ucmVkdWNlUmVnaW9uKHsKICAgICdyZWR1Y2VyJzogZWUuUmVkdWNlci5tZWFuKCksCiAgICAnZ2VvbWV0cnknOiByb2ksCiAgICAnc2NhbGUnOiBzY2FsZSwKICAgICdtYXhQaXhlbHMnOiAxMGUxNiwKICAgICd0aWxlU2NhbGUnOjgKfSkKbWVhbnMgPSBlZS5JbWFnZS5jb25zdGFudChtZWFuRGljdC52YWx1ZXMoYmFuZE5hbWVzKSkKY2VudGVyZWQgPSBnbGNtLnN1YnRyYWN0KG1lYW5zKQpNYXA=\"));\n",
       "    "
      ],
      "text/plain": [
       "<IPython.core.display.Javascript object>"
      ]
     },
     "metadata": {},
     "output_type": "display_data"
    },
    {
     "data": {
      "application/javascript": [
       "\n",
       "        var code = IPython.notebook.insert_cell_below('code');\n",
       "        code.set_text(atob(\"aW1wb3J0IGdlZW1hcAoKTWFwID0gZ2VlbWFwLk1hcCgpCgojIFRoaXMgaGVscGVyIGZ1bmN0aW9uIHJldHVybnMgYSBsaXN0IG9mIG5ldyBiYW5kIG5hbWVzLgpkZWYgZ2V0TmV3QmFuZE5hbWVzKHByZWZpeCk6CiAgc2VxID0gZWUuTGlzdC5zZXF1ZW5jZSgxLCBiYW5kTmFtZXMubGVuZ3RoKCkpCgpkZWYgZnVuY19qZHgoYik6CiAgICByZXR1cm4gZWUuU3RyaW5nKHByZWZpeCkuY2F0KGVlLk51bWJlcihiKS5pbnQoKSkKCiAgcmV0dXJuIHNlcS5tYXAoZnVuY19qZHgpCgpNYXA=\"));\n",
       "    "
      ],
      "text/plain": [
       "<IPython.core.display.Javascript object>"
      ]
     },
     "metadata": {},
     "output_type": "display_data"
    },
    {
     "data": {
      "application/javascript": [
       "\n",
       "        var code = IPython.notebook.insert_cell_below('code');\n",
       "        code.set_text(atob(\"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\"));\n",
       "    "
      ],
      "text/plain": [
       "<IPython.core.display.Javascript object>"
      ]
     },
     "metadata": {},
     "output_type": "display_data"
    },
    {
     "data": {
      "application/javascript": [
       "\n",
       "        var code = IPython.notebook.insert_cell_below('code');\n",
       "        code.set_text(atob(\"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\"));\n",
       "    "
      ],
      "text/plain": [
       "<IPython.core.display.Javascript object>"
      ]
     },
     "metadata": {},
     "output_type": "display_data"
    },
    {
     "data": {
      "application/javascript": [
       "\n",
       "        var code = IPython.notebook.insert_cell_below('code');\n",
       "        code.set_text(atob(\"aW1wb3J0IGdlZW1hcAoKTWFwID0gZ2VlbWFwLk1hcCgpCgojIFNlZ21lbnRhdGlvbiB1c2luZyBhIFNOSUMgYXBwcm9hY2ggYmFzZWQgb24gdGhlIGRhdGFzZXQgcHJldmlvc2x5IGdlbmVyYXRlZApzZWVkcyA9IGVlLkFsZ29yaXRobXMuSW1hZ2UuU2VnbWVudGF0aW9uLnNlZWRHcmlkKHNpemVfc2VnbWVudGF0aW9uKQoKc25pYyA9IGVlLkFsZ29yaXRobXMuSW1hZ2UuU2VnbWVudGF0aW9uLlNOSUMoewogICdpbWFnZSc6IGRhdGFzZXQsIy5zZWxlY3QoJ2IxJywnYjInLCdiMycpLAogICdjb21wYWN0bmVzcyc6IDAsCiAgJ2Nvbm5lY3Rpdml0eSc6IDgsCiAgJ25laWdoYm9yaG9vZFNpemUnOiAyNTYsCiAgJ3NlZWRzJzogc2VlZHMKfSkKCmNsdXN0ZXJzX3NuaWMgPSBzbmljLnNlbGVjdCgiY2x1c3RlcnMiKQpjbHVzdGVyc19zbmljID0gY2x1c3RlcnNfc25pYy5yZXByb2plY3QgKHsnY3JzJzogY2x1c3RlcnNfc25pYy5wcm9qZWN0aW9uICgpLCAnc2NhbGUnOiBzY2FsZX0pCk1hcC5hZGRMYXllcihjbHVzdGVyc19zbmljLnJhbmRvbVZpc3VhbGl6ZXIoKSwge30sICdjbHVzdGVycycpCk1hcA==\"));\n",
       "    "
      ],
      "text/plain": [
       "<IPython.core.display.Javascript object>"
      ]
     },
     "metadata": {},
     "output_type": "display_data"
    },
    {
     "data": {
      "application/javascript": [
       "\n",
       "        var code = IPython.notebook.insert_cell_below('code');\n",
       "        code.set_text(atob(\"aW1wb3J0IGdlZW1hcAoKTWFwID0gZ2VlbWFwLk1hcCgpCgojQ2xhc3NpZmljYXRpb24gdXNpbmcgdGhlIGNsYXNzaWZpZXIgd2l0aCB0aGUgdHJhaW5pbmcgYmFuZHMgY2FsbGVkIHByZWRpY3Rpb25CYW5kcwp0cmFpbmluZ19nZW9iaWEgPSBmaW5hbF9iYW5kcy5zZWxlY3QocHJlZGljdGlvbkJhbmRzKS5zYW1wbGVSZWdpb25zKHsKICAnY29sbGVjdGlvbic6IG5ld2ZjLAogICdwcm9wZXJ0aWVzJzogWydiMSddLAogICdzY2FsZSc6IHNjYWxlLAogICd0aWxlU2NhbGUnOjgKfSkKCiNUcmFpbmluZyB0aGUgY2xhc3NpZmllcgppZihjbGFzc2lmaWVyX2FsZz09IlJGIil7CiAgY2xhc3NpZmllciA9IGVlLkNsYXNzaWZpZXIuc21pbGVSYW5kb21Gb3Jlc3QoNTApLnRyYWluKHsKICAnZmVhdHVyZXMnOnRyYWluaW5nX2dlb2JpYSwKICAnY2xhc3NQcm9wZXJ0eSc6J2IxJywKICAnaW5wdXRQcm9wZXJ0aWVzJzogcHJlZGljdGlvbkJhbmRzCn0pCn0KZWxzZSBpZiAoY2xhc3NpZmllcl9hbGc9PSJTVk0iKSB7CmNsYXNzaWZpZSA9IGVlLkNsYXNzaWZpZXIubGlic3ZtKHsKICAna2VybmVsVHlwZSc6ICdSQkYnLAogICdnYW1tYSc6IDE1LAogICdjb3N0JzogMTAKfSkKY2xhc3NpZmllciA9IGNsYXNzaWZpZS50cmFpbih0cmFpbmluZ19nZW9iaWEsICdiMScsIHByZWRpY3Rpb25CYW5kcykKfQplbHNlewogIHByaW50KCJZb3UgbmVlZCB0byBzZXQgeW91ciBjbGFzc2lmaWVyIGZvciB0aGUgT2JqZWN0IGJhc2VkIGFwcHJvYWNoIikKfQpwcmludCgidGltZSB0byBjbGFzc2lmeSIpCk1hcA==\"));\n",
       "    "
      ],
      "text/plain": [
       "<IPython.core.display.Javascript object>"
      ]
     },
     "metadata": {},
     "output_type": "display_data"
    },
    {
     "data": {
      "application/javascript": [
       "\n",
       "        var code = IPython.notebook.insert_cell_below('code');\n",
       "        code.set_text(atob(\"aW1wb3J0IGdlZW1hcAoKTWFwID0gZ2VlbWFwLk1hcCgpCgpjbGFzc3lfUkYgPSBmaW5hbF9iYW5kcy5zZWxlY3QocHJlZGljdGlvbkJhbmRzKS5jbGFzc2lmeShjbGFzc2lmaWVyKQpjbGFzc3lfUkYgPSBjbGFzc3lfUkYucmVwcm9qZWN0ICh7J2Nycyc6IGNsYXNzeV9SRi5wcm9qZWN0aW9uICgpLCAnc2NhbGUnOiBzY2FsZX0pCk1hcC5hZGRMYXllcihjbGFzc3lfUkYsIHsnbWluJzogMCwgJ21heCc6IDksICdwYWxldHRlJzogcGFsZXR0ZX0sICdMVUxDIEdFT0JJQSBBUFBST0FDSCcsIFRydWUpCk1hcA==\"));\n",
       "    "
      ],
      "text/plain": [
       "<IPython.core.display.Javascript object>"
      ]
     },
     "metadata": {},
     "output_type": "display_data"
    },
    {
     "data": {
      "application/javascript": [
       "\n",
       "        var code = IPython.notebook.insert_cell_below('code');\n",
       "        code.set_text(atob(\"aW1wb3J0IGdlZW1hcAoKTWFwID0gZ2VlbWFwLk1hcCgpCgojVmFsaWRhdGlvbiBvZiB0aGUgb2JqZWN0LW9yaWVudGVkIGFwcHJvYWNoCmNsYXNzaWZpZXJfZ2VvYmlhID0gZmluYWxfYmFuZHMuc2VsZWN0KHByZWRpY3Rpb25CYW5kcykuc2FtcGxlUmVnaW9ucyh7CiAgJ2NvbGxlY3Rpb24nOiB2YWxwbnRzLAogICdwcm9wZXJ0aWVzJzogWydiMSddLAogICdzY2FsZSc6IHNjYWxlLAogICd0aWxlU2NhbGUnOjgKfSkKCmNsYXNzaWZpY2F6aW9uZSA9IGNsYXNzaWZpZXJfZ2VvYmlhLmNsYXNzaWZ5KGNsYXNzaWZpZXIpCnRlc3RBY2N1cmFjeSA9IGNsYXNzaWZpY2F6aW9uZS5lcnJvck1hdHJpeCgnYjEnLCAnY2xhc3NpZmljYXRpb24nKQojcHJpbnQoJ0dFT0JJQSBhcHByb2FjaF9UZXN0IGNvbmZ1c2lvbiBtYXRyaXg6ICcsIHRlc3RBY2N1cmFjeSkKcHJpbnQoJ0dFT0JJQSBBUFBST0FDSDogT3ZlcmFsbCBhY2N1cmFjeSAnLCB0ZXN0QWNjdXJhY3kuYWNjdXJhY3koKSkKcHJpbnQodGVzdEFjY3VyYWN5KQoKI1ByaW50IHRoZSBudW1iZXIgb2YgcGl4ZWxzIGZvciBlYWNoIGNsYXNzCmFuYWx5c2lzX2ltYWdlX3NsID0gY2xhc3N5X1JGLnNlbGVjdCgiY2xhc3NpZmljYXRpb24iKQpNYXA=\"));\n",
       "    "
      ],
      "text/plain": [
       "<IPython.core.display.Javascript object>"
      ]
     },
     "metadata": {},
     "output_type": "display_data"
    },
    {
     "data": {
      "application/javascript": [
       "\n",
       "        var code = IPython.notebook.insert_cell_below('code');\n",
       "        code.set_text(atob(\"aW1wb3J0IGdlZW1hcAoKTWFwID0gZ2VlbWFwLk1hcCgpCgpwcmludChjb3VudF9waXhlbHMsICJHRU9CSUEgQVBQUk9BQ0g6IHBpeGVscyBmb3IgZWFjaCBjbGFzcyIpCiMKZXhwb3J0Q00gPSBlZS5GZWF0dXJlKE5vbmUsIHsnQ00nOiB0ZXN0QWNjdXJhY3kuYXJyYXkoKX0pCgojQ29tcHV0ZSBSRiB2YXJpYWJsZSBpbXBvcnRhbmNlCmRpY3QgPSBjbGFzc2lmaWVyLmV4cGxhaW4oKQpwcmludCgiY2xhc3NpZmllciBpbmZvcm1hdGlvbjoiLCBkaWN0KQp2YXJpYWJsZUltcG9ydGFuY2UgPSBlZS5GZWF0dXJlKE5vbmUsIGVlLkRpY3Rpb25hcnkoZGljdCkuZ2V0KCdpbXBvcnRhbmNlJykpCgpjaGFydCA9IHVpLkNoYXJ0LmZlYXR1cmUuYnlQcm9wZXJ0eSh2YXJpYWJsZUltcG9ydGFuY2UpLnNldENoYXJ0VHlwZSgnQ29sdW1uQ2hhcnQnKS5zZXRPcHRpb25zKHsKICAndGl0bGUnOiAnUmFuZG9tIEZvcmVzdCBWYXJpYWJsZSBJbXBvcnRhbmNlJywKICAnbGVnZW5kJzogJ3twb3NpdGlvbic6ICdub25lJ30sCiAgJ2hBeGlzJzogJ3t0aXRsZSc6ICdCYW5kcyd9LAogICd2QXhpcyc6ICd7dGl0bGUnOiAnSW1wb3J0YW5jZSd9Cn0pCnByaW50KGNoYXJ0KQojCiMgRXhwb3J0IHRoZSBGZWF0dXJlQ29sbGVjdGlvbi4KRXhwb3J0LnRhYmxlLnRvRHJpdmUoewogICdjb2xsZWN0aW9uJzogZWUuRmVhdHVyZUNvbGxlY3Rpb24oZXhwb3J0Q00pLAogICdkZXNjcmlwdGlvbic6ICcwNS0wOV9leHBvcnRDTV9OaWNlX09PXycsCiAgJ2ZpbGVGb3JtYXQnOiAnQ1NWJwp9KQojCk1hcA==\"));\n",
       "    "
      ],
      "text/plain": [
       "<IPython.core.display.Javascript object>"
      ]
     },
     "metadata": {},
     "output_type": "display_data"
    },
    {
     "data": {
      "application/javascript": [
       "\n",
       "        var code = IPython.notebook.insert_cell_below('code');\n",
       "        code.set_text(atob(\"aW1wb3J0IGdlZW1hcAoKTWFwID0gZ2VlbWFwLk1hcCgpCgpjbGFzczEgPSAgYW5hbHlzaXNfaW1hZ2Vfc2wudXBkYXRlTWFzayhhbmFseXNpc19pbWFnZV9zbC5lcSgxKSkKY2xhc3MyID0gIGFuYWx5c2lzX2ltYWdlX3NsLnVwZGF0ZU1hc2soYW5hbHlzaXNfaW1hZ2Vfc2wuZXEoMikpCmNsYXNzMyA9ICBhbmFseXNpc19pbWFnZV9zbC51cGRhdGVNYXNrKGFuYWx5c2lzX2ltYWdlX3NsLmVxKDMpKQpjbGFzczQgPSAgYW5hbHlzaXNfaW1hZ2Vfc2wudXBkYXRlTWFzayhhbmFseXNpc19pbWFnZV9zbC5lcSg0KSkKY2xhc3M1ID0gIGFuYWx5c2lzX2ltYWdlX3NsLnVwZGF0ZU1hc2soYW5hbHlzaXNfaW1hZ2Vfc2wuZXEoNSkpCmNsYXNzNiA9ICBhbmFseXNpc19pbWFnZV9zbC51cGRhdGVNYXNrKGFuYWx5c2lzX2ltYWdlX3NsLmVxKDYpKQpjbGFzczcgPSAgYW5hbHlzaXNfaW1hZ2Vfc2wudXBkYXRlTWFzayhhbmFseXNpc19pbWFnZV9zbC5lcSg3KSkKY2xhc3MxMCA9ICBhbmFseXNpc19pbWFnZV9zbC51cGRhdGVNYXNrKGFuYWx5c2lzX2ltYWdlX3NsLmVxKDEwKSkKY2xhc3MxMSA9ICBhbmFseXNpc19pbWFnZV9zbC51cGRhdGVNYXNrKGFuYWx5c2lzX2ltYWdlX3NsLmVxKDExKSkKY2xhc3MxMiA9ICBhbmFseXNpc19pbWFnZV9zbC51cGRhdGVNYXNrKGFuYWx5c2lzX2ltYWdlX3NsLmVxKDEyKSkKY2xhc3MxMyA9ICBhbmFseXNpc19pbWFnZV9zbC51cGRhdGVNYXNrKGFuYWx5c2lzX2ltYWdlX3NsLmVxKDEzKSkKY2xhc3MxNCA9ICBhbmFseXNpc19pbWFnZV9zbC51cGRhdGVNYXNrKGFuYWx5c2lzX2ltYWdlX3NsLmVxKDE0KSkKCmFsbCA9IGNsYXNzMS5hZGRCYW5kcyhjbGFzczIpLmFkZEJhbmRzKGNsYXNzMykuYWRkQmFuZHMoY2xhc3M0KSBcCiAgICAgICAgICAuYWRkQmFuZHMoY2xhc3M1KS5hZGRCYW5kcyhjbGFzczYpLmFkZEJhbmRzKGNsYXNzNykuYWRkQmFuZHMoY2xhc3MxMCkgXAogICAgICAgICAgLmFkZEJhbmRzKGNsYXNzMTEpLmFkZEJhbmRzKGNsYXNzMTIpLmFkZEJhbmRzKGNsYXNzMTMpLmFkZEJhbmRzKGNsYXNzMTQpCgpjb3VudF9waXhlbHMgPSBhbGwucmVkdWNlUmVnaW9uKHsKICAncmVkdWNlcic6IGVlLlJlZHVjZXIuY291bnQoKSwKICAnZ2VvbWV0cnknOiByb2ksCiAgJ3NjYWxlJzpzY2FsZSwKICAnbWF4UGl4ZWxzJzogMWUxNiwKICAndGlsZVNjYWxlJzo4CiAgfSkKTWFw\"));\n",
       "    "
      ],
      "text/plain": [
       "<IPython.core.display.Javascript object>"
      ]
     },
     "metadata": {},
     "output_type": "display_data"
    }
   ],
   "source": [
    "Map = geemap.Map()#center=(43.708, 7.228), zoom=10)\n",
    "\n",
    "Map.centerObject(Area_Nice)\n",
    "\n",
    "Map.addLayer(dataset, {'min': 0.0, 'max': 1.0, 'bands': ['b1', 'b2', 'b3'], }, 'RGB')\n",
    "Map.addLayer(groundTruth.mosaic(),{'min':0, 'max':15, 'palette':palette},\"Labels_Nice\")\n",
    "Map.addLayer(newfc,{},'Training points')\n",
    "\n",
    "Map"
   ]
  },
  {
   "cell_type": "markdown",
   "id": "92922968",
   "metadata": {},
   "source": [
    "Add legend if desired"
   ]
  },
  {
   "cell_type": "code",
   "execution_count": 161,
   "id": "f0faf5e7",
   "metadata": {},
   "outputs": [],
   "source": [
    "# Map.add_legend(legend_title=\"Land cover classes\", legend_dict=legend_dict)"
   ]
  },
  {
   "cell_type": "code",
   "execution_count": 166,
   "id": "2545c1a0",
   "metadata": {},
   "outputs": [],
   "source": [
    "#Palette for the classification\n",
    "palette_C = [\n",
    "#  '000000',\n",
    "  'FF5733', #(0)  Urban fabric\n",
    "#  'F98A04', #(1)  Industrial, commercial, public, military, private and transport units\n",
    "#  'FBDB10', #(2)  Mine, dump and construction sites\n",
    "  'B7E603', #(3)  Artificial non-agricultural vegetated areas\n",
    "  'B6FF45', #(4)  Arable land (annual crops)\n",
    "  '5FB331', #(5)  Permanent crops\n",
    "  '3FAF17', #(6)  Pastures\n",
    "#  'FCE5CD', #()complex and mixed...\n",
    "#  'C6ECB6', #()orchards at the fringe\n",
    "  '237605', #(7)  Forests\n",
    "  '43B680', #(8)  Herbaceous vegetation associations\n",
    "  '9B621A', #(9)  Open spaces with little or no vegetation\n",
    "  '0691C3', #(10)  Wetlands\n",
    "  '085CB8', #(11)  Water\n",
    "#  '000000',\n",
    "]"
   ]
  },
  {
   "cell_type": "markdown",
   "id": "75578582",
   "metadata": {},
   "source": [
    "## Training data"
   ]
  },
  {
   "cell_type": "code",
   "execution_count": 168,
   "id": "0878a3c4",
   "metadata": {},
   "outputs": [],
   "source": [
    "#Creation of the \"newfc\" feature collection using the pixels having a feature property called \"b1\"\n",
    "\n",
    "#To improve the information using a buffer with a fixed radius  (radius = 10 m)\n",
    "def buffer(feature):\n",
    "    return feature.buffer(30)\n",
    "\n",
    "newfc = newfc.map(buffer)"
   ]
  },
  {
   "cell_type": "markdown",
   "id": "695de553",
   "metadata": {},
   "source": [
    "## Define the classifier"
   ]
  },
  {
   "cell_type": "code",
   "execution_count": null,
   "id": "829996c8",
   "metadata": {},
   "outputs": [],
   "source": [
    "## original code \n",
    "\n",
    "'''\n",
    "//If you decided to use the SVM algorithm it's mandatory the normalization of the input bands\n",
    "if(classifier_alg ==\"SVM\"){\n",
    "  var image = ee.Image(dataset);\n",
    "  // calculate the min and max value of an image\n",
    "  var minMax = image.reduceRegion({\n",
    "    reducer: ee.Reducer.minMax(),\n",
    "    geometry: roi,\n",
    "    scale: scale,\n",
    "    maxPixels: 10e16,\n",
    "  }); \n",
    "// use unit scale to normalize the pixel values\n",
    "var dataset = ee.ImageCollection.fromImages(\n",
    "  image.bandNames().map(function(name){\n",
    "    name = ee.String(name);\n",
    "    var band = image.select(name);\n",
    "    return band.unitScale(ee.Number(minMax.get(name.cat('_min'))), ee.Number(minMax.get(name.cat('_max'))))\n",
    "})).toBands().rename(image.bandNames());\n",
    "}\n",
    "'''"
   ]
  },
  {
   "cell_type": "code",
   "execution_count": 171,
   "id": "4d0b7e6b",
   "metadata": {},
   "outputs": [],
   "source": [
    "#if you want use RandomForest (classifier_alg= \"RF\") else use SVM (classifier_alg= \"SVM\")\n",
    "classifier_alg = \"RF\"\n",
    "\n",
    "#If you decided to use the SVM algorithm it's mandatory to normalize the input bands\n",
    "\n",
    "def func_yvi(name):\n",
    "    name = ee.String(name)\n",
    "    band = image.select(name)\n",
    "    return band.unitScale(ee.Number(minMax.get(name.cat('_min'))), ee.Number(minMax.get(name.cat('_max'))))\n",
    "\n",
    "if classifier_alg == \"SVM\":\n",
    "    image = ee.Image(dataset)\n",
    "    # calculate the min and max value of an image\n",
    "    minMax = image.reduceRegion(\n",
    "        **{\n",
    "            'reducer': ee.Reducer.minMax(),\n",
    "            'geometry': roi,\n",
    "            'scale': scale,\n",
    "            'maxPixels': 10e16,\n",
    "        })\n",
    "    # use unit scale to normalize the pixel values\n",
    "    dataset = ee.ImageCollection.fromImages(\n",
    "        image.bandNames().map(func_yvi)).toBands().rename(image.bandNames())\n"
   ]
  },
  {
   "cell_type": "markdown",
   "id": "ff952f87",
   "metadata": {},
   "source": [
    "## Object Based Approach"
   ]
  },
  {
   "cell_type": "markdown",
   "id": "7747ae77",
   "metadata": {},
   "source": [
    "### GLCM"
   ]
  },
  {
   "cell_type": "code",
   "execution_count": null,
   "id": "50a289d8",
   "metadata": {},
   "outputs": [],
   "source": [
    "# Define the GLCM indices used in input for the PCA\n",
    "glcm_bands= [\"gray_asm\",\"gray_contrast\",\"gray_corr\",\"gray_ent\",\"gray_var\",\"gray_idm\",\"gray_savg\"]"
   ]
  },
  {
   "cell_type": "code",
   "execution_count": null,
   "id": "440ac150",
   "metadata": {},
   "outputs": [],
   "source": [
    "#Create and rescale a grayscale image for GLCM\n",
    "gray = dataset.expression(\n",
    "      '(0.11 * B) + (0.3 * R) + (0.59 * G)', {\n",
    "      'B': dataset.select('b3'),\n",
    "      'R': dataset.select('b1'),\n",
    "      'G': dataset.select('b2')\n",
    "}).rename('gray')\n",
    "\n",
    "# the glcmTexture size (in pixel) can be adjusted considering the spatial resolution and the object textural characteristics\n",
    "\n",
    "glcm = gray.unitScale(0, 0.30).multiply(100).toInt().glcmTexture(**{'size': 2})\n",
    "\n",
    "#--- Before the PCA the glcm bands are scaled\n",
    "image = glcm.select(glcm_bands)\n",
    "# calculate the min and max value of an image\n",
    "minMax = image.reduceRegion(\n",
    "    **{\n",
    "        'reducer': ee.Reducer.minMax(),\n",
    "        'geometry': Area_Nice,\n",
    "        'scale': scale,\n",
    "        'maxPixels': 10e16,\n",
    "        'tileScale':8\n",
    "    })\n",
    "\n",
    "def func_ehv(name):\n",
    "    name = ee.String(name)\n",
    "    band = image.select(name)\n",
    "    return band.unitScale(ee.Number(minMax.get(name.cat('_min'))), ee.Number(minMax.get(name.cat('_max'))))\n",
    "\n",
    "glcm = ee.ImageCollection.fromImages(image.bandNames().map(func_ehv)).toBands().rename(image.bandNames())"
   ]
  },
  {
   "cell_type": "markdown",
   "id": "272bd033",
   "metadata": {},
   "source": [
    "### PCA"
   ]
  },
  {
   "cell_type": "code",
   "execution_count": null,
   "id": "2189a770",
   "metadata": {},
   "outputs": [],
   "source": [
    "# The code relating to the PCA was adapted from the GEE documentation  https:#developers.google.com/earth-engine/guides/arrays_eigen_analysis\n",
    "\n",
    "# Get some information about the input to be used later.\n",
    "#scale = 20 #glcm.projection().nominalScale()\n",
    "print(\"Nominal Scale\", scale)\n",
    "bandNames = glcm.bandNames()\n",
    "\n",
    "# Mean center the data to enable a faster covariance reducer and an SD stretch of the principal components.\n",
    "meanDict = glcm.reduceRegion(\n",
    "    **{'reducer': ee.Reducer.mean(),\n",
    "       'geometry': roi,\n",
    "       'scale': scale,\n",
    "       'maxPixels': 10e16,\n",
    "       'tileScale':8\n",
    "      })\n",
    "means = ee.Image.constant(meanDict.values(bandNames))\n",
    "centered = glcm.subtract(means)"
   ]
  },
  {
   "cell_type": "markdown",
   "id": "2db6e82c",
   "metadata": {},
   "source": [
    "PCA helper functions"
   ]
  },
  {
   "cell_type": "code",
   "execution_count": 182,
   "id": "1ee97257",
   "metadata": {},
   "outputs": [],
   "source": [
    "# This helper function returns a list of new band names.\n",
    "def func_jdx(b):\n",
    "    return ee.String(prefix).cat(ee.Number(b).int())\n",
    "\n",
    "def getNewBandNames(prefix):\n",
    "    seq = ee.List.sequence(1, bandNames.length())\n",
    "    return seq.map(func_jdx)"
   ]
  },
  {
   "cell_type": "code",
   "execution_count": 183,
   "id": "a479ba01",
   "metadata": {},
   "outputs": [],
   "source": [
    "# This function accepts mean centered imagery, a scale and a region in which to perform the analysis.\n",
    "# It returns the Principal Components (PC) in the region as a new image.\n",
    "\n",
    "def getPrincipalComponents(centered, scale, region):\n",
    "    # Collapse the bands of the image into a 1D array per pixel.\n",
    "    arrays = centered.toArray()\n",
    "    # Compute the covariance of the bands within the region.\n",
    "    covar = arrays.reduceRegion(\n",
    "        **{'reducer': ee.Reducer.centeredCovariance(),\n",
    "           'geometry': region,\n",
    "           'scale': scale,\n",
    "           'maxPixels': 10e16,\n",
    "           'tileScale':8\n",
    "          })\n",
    "\n",
    "    # Get the 'array' covariance result and cast to an array.\n",
    "    # This represents the band-to-band covariance within the region.\n",
    "    covarArray = ee.Array(covar.get('array'))\n",
    "\n",
    "    # Perform an eigen analysis and slice apart the values and vectors.\n",
    "    eigens = covarArray.eigen()\n",
    "\n",
    "    # This is a P-length vector of Eigenvalues.\n",
    "    eigenValues = eigens.slice(1, 0, 1)\n",
    "    # This is a PxP matrix with eigenvectors in rows.\n",
    "    eigenVectors = eigens.slice(1, 1)\n",
    "\n",
    "    # Convert the array image to 2D arrays for matrix computations.\n",
    "    arrayImage = arrays.toArray(1)\n",
    "\n",
    "    # Left multiply the image array by the matrix of eigenvectors.\n",
    "    principalComponents = ee.Image(eigenVectors).matrixMultiply(arrayImage)\n",
    "\n",
    "    # Turn the square roots of the Eigenvalues into a P-band image.\n",
    "    sdImage = ee.Image(eigenValues.sqrt()) \\\n",
    "    .arrayProject([0]).arrayFlatten([getNewBandNames('sd')])\n",
    "\n",
    "    # Turn the PCs into a P-band image, normalized by SD.\n",
    "    return principalComponents \\\n",
    "    .arrayProject([0]) \\\n",
    "    .arrayFlatten([getNewBandNames('pc')]) \\\n",
    "    .divide(sdImage)"
   ]
  },
  {
   "cell_type": "code",
   "execution_count": null,
   "id": "4a1afe69",
   "metadata": {},
   "outputs": [],
   "source": [
    "pcImage = getPrincipalComponents(centered, scale, Area_Nice)"
   ]
  },
  {
   "cell_type": "markdown",
   "id": "be47b57d",
   "metadata": {},
   "source": [
    "### SNIC"
   ]
  },
  {
   "cell_type": "code",
   "execution_count": null,
   "id": "c90dd8be",
   "metadata": {},
   "outputs": [],
   "source": [
    "# Segmentation using a SNIC approach based on the dataset previosly generated\n",
    "seeds = ee.Algorithms.Image.Segmentation.seedGrid(size_segmentation)"
   ]
  },
  {
   "cell_type": "code",
   "execution_count": 184,
   "id": "0634a94f",
   "metadata": {},
   "outputs": [],
   "source": [
    "snic = ee.Algorithms.Image.Segmentation.SNIC(\n",
    "    **{\n",
    "        'image': dataset,#.select('b1','b2','b3'),\n",
    "        'compactness': 0,\n",
    "        'connectivity': 8,\n",
    "        'neighborhoodSize': 256,\n",
    "        'seeds': seeds\n",
    "    })\n",
    "\n",
    "clusters_snic = snic.select(\"clusters\")\n",
    "clusters_snic = clusters_snic.reproject ({'crs': clusters_snic.projection (), 'scale': scale})\n",
    "\n",
    "# Map.addLayer(clusters_snic.randomVisualizer(), {}, 'clusters')"
   ]
  },
  {
   "cell_type": "code",
   "execution_count": 187,
   "id": "32b92b96",
   "metadata": {},
   "outputs": [
    {
     "ename": "NameError",
     "evalue": "name 'pcImage' is not defined",
     "output_type": "error",
     "traceback": [
      "\u001b[0;31m---------------------------------------------------------------------------\u001b[0m",
      "\u001b[0;31mNameError\u001b[0m                                 Traceback (most recent call last)",
      "Input \u001b[0;32mIn [187]\u001b[0m, in \u001b[0;36m<cell line: 8>\u001b[0;34m()\u001b[0m\n\u001b[1;32m      5\u001b[0m clusters_snic \u001b[38;5;241m=\u001b[39m clusters_snic\u001b[38;5;241m.\u001b[39mreproject ({\u001b[38;5;124m'\u001b[39m\u001b[38;5;124mcrs\u001b[39m\u001b[38;5;124m'\u001b[39m: clusters_snic\u001b[38;5;241m.\u001b[39mprojection (), \u001b[38;5;124m'\u001b[39m\u001b[38;5;124mscale\u001b[39m\u001b[38;5;124m'\u001b[39m: scale})\n\u001b[1;32m      6\u001b[0m \u001b[38;5;66;03m#Map.addLayer(clusters_snic.randomVisualizer(), {}, 'clusters')\u001b[39;00m\n\u001b[0;32m----> 8\u001b[0m new_feature \u001b[38;5;241m=\u001b[39m clusters_snic\u001b[38;5;241m.\u001b[39maddBands(\u001b[43mpcImage\u001b[49m\u001b[38;5;241m.\u001b[39mselect(\u001b[38;5;124m\"\u001b[39m\u001b[38;5;124mpc1\u001b[39m\u001b[38;5;124m\"\u001b[39m))\u001b[38;5;66;03m#.addBands(dataset.select('B12','B5','B8','B2','B7','NDBI','NDBI_MAX','NDBI_STD'))#,'NDVI','NDVI_MAX','NDVI_STD','SAT_NDVI','HUE_NDVI'))\u001b[39;00m\n\u001b[1;32m     10\u001b[0m new_feature_mean \u001b[38;5;241m=\u001b[39m_feature\u001b[38;5;241m.\u001b[39mreduceConnectedComponents({\n\u001b[1;32m     11\u001b[0m   \u001b[38;5;124m'\u001b[39m\u001b[38;5;124mreducer\u001b[39m\u001b[38;5;124m'\u001b[39m: ee\u001b[38;5;241m.\u001b[39mReducer\u001b[38;5;241m.\u001b[39mmean(),\n\u001b[1;32m     12\u001b[0m   \u001b[38;5;124m'\u001b[39m\u001b[38;5;124mlabelBand\u001b[39m\u001b[38;5;124m'\u001b[39m: \u001b[38;5;124m'\u001b[39m\u001b[38;5;124mclusters\u001b[39m\u001b[38;5;124m'\u001b[39m\n\u001b[1;32m     13\u001b[0m })\n\u001b[1;32m     15\u001b[0m \u001b[38;5;66;03m#Create a dataset with the new band used so far together with the band \"clusters\" and their new mean parameters\u001b[39;00m\n",
      "\u001b[0;31mNameError\u001b[0m: name 'pcImage' is not defined"
     ]
    }
   ],
   "source": [
    "#Select the band \"clusters\" from the snic output fixed on its scale of 10 meters and add them the PC1 taken from the PCA data.\n",
    "# Calculate the mean for each segment with respect to the pixels in that cluster\n",
    "\n",
    "clusters_snic = snic.select(\"clusters\")\n",
    "clusters_snic = clusters_snic.reproject ({'crs': clusters_snic.projection (), 'scale': scale})\n",
    "#Map.addLayer(clusters_snic.randomVisualizer(), {}, 'clusters')\n",
    "\n",
    "new_feature = clusters_snic.addBands(pcImage.select(\"pc1\"))#.addBands(dataset.select('B12','B5','B8','B2','B7','NDBI','NDBI_MAX','NDBI_STD'))#,'NDVI','NDVI_MAX','NDVI_STD','SAT_NDVI','HUE_NDVI'))\n",
    "\n",
    "new_feature_mean =_feature.reduceConnectedComponents({\n",
    "  'reducer': ee.Reducer.mean(),\n",
    "  'labelBand': 'clusters'\n",
    "})\n",
    "\n",
    "#Create a dataset with the new band used so far together with the band \"clusters\" and their new mean parameters\n",
    "final_bands =_feature_mean.addBands(snic)\n",
    "\n",
    "#Define the training bands removing just the \"clusters\" bands\n",
    "predictionBands=final_bands.bandNames().remove(\"clusters\")"
   ]
  },
  {
   "cell_type": "markdown",
   "id": "2579e3fe",
   "metadata": {},
   "source": [
    "### Training the classifier"
   ]
  },
  {
   "cell_type": "code",
   "execution_count": 188,
   "id": "129b0bf1",
   "metadata": {},
   "outputs": [
    {
     "ename": "NameError",
     "evalue": "name 'predictionBands' is not defined",
     "output_type": "error",
     "traceback": [
      "\u001b[0;31m---------------------------------------------------------------------------\u001b[0m",
      "\u001b[0;31mNameError\u001b[0m                                 Traceback (most recent call last)",
      "Input \u001b[0;32mIn [188]\u001b[0m, in \u001b[0;36m<cell line: 2>\u001b[0;34m()\u001b[0m\n\u001b[1;32m      1\u001b[0m \u001b[38;5;66;03m#Classification using the classifier with the training bands called predictionBands\u001b[39;00m\n\u001b[0;32m----> 2\u001b[0m training_geobia \u001b[38;5;241m=\u001b[39m final_bands\u001b[38;5;241m.\u001b[39mselect(\u001b[43mpredictionBands\u001b[49m)\u001b[38;5;241m.\u001b[39msampleRegions({\n\u001b[1;32m      3\u001b[0m   \u001b[38;5;124m'\u001b[39m\u001b[38;5;124mcollection\u001b[39m\u001b[38;5;124m'\u001b[39m: newfc,\n\u001b[1;32m      4\u001b[0m   \u001b[38;5;124m'\u001b[39m\u001b[38;5;124mproperties\u001b[39m\u001b[38;5;124m'\u001b[39m: [\u001b[38;5;124m'\u001b[39m\u001b[38;5;124mb1\u001b[39m\u001b[38;5;124m'\u001b[39m],\n\u001b[1;32m      5\u001b[0m   \u001b[38;5;124m'\u001b[39m\u001b[38;5;124mscale\u001b[39m\u001b[38;5;124m'\u001b[39m: scale,\n\u001b[1;32m      6\u001b[0m   \u001b[38;5;124m'\u001b[39m\u001b[38;5;124mtileScale\u001b[39m\u001b[38;5;124m'\u001b[39m:\u001b[38;5;241m8\u001b[39m\n\u001b[1;32m      7\u001b[0m })\n\u001b[1;32m      9\u001b[0m \u001b[38;5;66;03m#Training the classifier\u001b[39;00m\n\u001b[1;32m     10\u001b[0m \u001b[38;5;28;01mif\u001b[39;00m classifier_alg \u001b[38;5;241m==\u001b[39m \u001b[38;5;124m\"\u001b[39m\u001b[38;5;124mRF\u001b[39m\u001b[38;5;124m\"\u001b[39m:\n",
      "\u001b[0;31mNameError\u001b[0m: name 'predictionBands' is not defined"
     ]
    }
   ],
   "source": [
    "#Classification using the classifier with the training bands called predictionBands\n",
    "training_geobia = final_bands.select(predictionBands).sampleRegions({\n",
    "  'collection': newfc,\n",
    "  'properties': ['b1'],\n",
    "  'scale': scale,\n",
    "  'tileScale':8\n",
    "})\n",
    "\n",
    "#Training the classifier\n",
    "if classifier_alg == \"RF\":\n",
    "    classifier = ee.Classifier.smileRandomForest(50).train({\n",
    "        'features':training_geobia,\n",
    "        'classProperty':'b1',\n",
    "        'inputProperties': predictionBands\n",
    "    })\n",
    "\n",
    "elif classifier_alg == \"SVM\":\n",
    "    classifie = ee.Classifier.libsvm({\n",
    "        'kernelType': 'RBF',\n",
    "        'gamma': 15,'cost': 10\n",
    "    })\n",
    "    classifier = classifie.train(training_geobia, 'b1', predictionBands)\n",
    "\n",
    "else:\n",
    "    print(\"You need to set your classifier for the Object based approach\")\n",
    "\n",
    "print(\"Training finished\")"
   ]
  },
  {
   "cell_type": "markdown",
   "id": "19fe1998",
   "metadata": {},
   "source": [
    "### Classifying"
   ]
  },
  {
   "cell_type": "code",
   "execution_count": null,
   "id": "0bbb7827",
   "metadata": {},
   "outputs": [],
   "source": [
    "classy_RF = final_bands.select(predictionBands).classify(classifier)"
   ]
  },
  {
   "cell_type": "markdown",
   "id": "479bbbb3",
   "metadata": {},
   "source": [
    "Add classification layer to the map"
   ]
  },
  {
   "cell_type": "code",
   "execution_count": null,
   "id": "440731ac",
   "metadata": {},
   "outputs": [],
   "source": [
    "classy_RF = classy_RF.reproject ({'crs': classy_RF.projection (), 'scale': scale})\n",
    "Map.addLayer(classy_RF, {'min': 0, 'max': 9, 'palette': palette}, 'LULC GEOBIA APPROACH', True)"
   ]
  },
  {
   "cell_type": "markdown",
   "id": "035d7462",
   "metadata": {},
   "source": [
    "## Validation"
   ]
  },
  {
   "cell_type": "code",
   "execution_count": null,
   "id": "0093c0de",
   "metadata": {},
   "outputs": [],
   "source": [
    "#Validation of the object-oriented approach\n",
    "classifier_geobia = final_bands.select(predictionBands).sampleRegions({\n",
    "    'collection': valpnts,\n",
    "    'properties': ['b1'],\n",
    "    'scale': scale,\n",
    "    'tileScale':8\n",
    "})\n",
    "\n",
    "classificazione = classifier_geobia.classify(classifier)\n",
    "\n",
    "testAccuracy = classificazione.errorMatrix('b1', 'classification')\n",
    "\n",
    "#print('GEOBIA approach_Test confusion matrix: ', testAccuracy)\n",
    "print('GEOBIA APPROACH: Overall accuracy ', testAccuracy.accuracy())\n",
    "print(testAccuracy)\n",
    "\n",
    "#Print the number of pixels for each class\n",
    "analysis_image_sl = classy_RF.select(\"classification\")"
   ]
  },
  {
   "cell_type": "code",
   "execution_count": null,
   "id": "e39a49eb",
   "metadata": {},
   "outputs": [],
   "source": [
    "class1 =  analysis_image_sl.updateMask(analysis_image_sl.eq(1))\n",
    "class2 =  analysis_image_sl.updateMask(analysis_image_sl.eq(2))\n",
    "class3 =  analysis_image_sl.updateMask(analysis_image_sl.eq(3))\n",
    "class4 =  analysis_image_sl.updateMask(analysis_image_sl.eq(4))\n",
    "class5 =  analysis_image_sl.updateMask(analysis_image_sl.eq(5))\n",
    "class6 =  analysis_image_sl.updateMask(analysis_image_sl.eq(6))\n",
    "class7 =  analysis_image_sl.updateMask(analysis_image_sl.eq(7))\n",
    "class10 =  analysis_image_sl.updateMask(analysis_image_sl.eq(10))\n",
    "class11 =  analysis_image_sl.updateMask(analysis_image_sl.eq(11))\n",
    "class12 =  analysis_image_sl.updateMask(analysis_image_sl.eq(12))\n",
    "class13 =  analysis_image_sl.updateMask(analysis_image_sl.eq(13))\n",
    "class14 =  analysis_image_sl.updateMask(analysis_image_sl.eq(14))\n",
    "\n",
    "all_classes = class1.addBands(class2).addBands(class3).addBands(class4) \\\n",
    "          .addBands(class5).addBands(class6).addBands(class7).addBands(class10) \\\n",
    "          .addBands(class11).addBands(class12).addBands(class13).addBands(class14)\n",
    "\n",
    "count_pixels = all_classes.reduceRegion(\n",
    "    **{\n",
    "        'reducer': ee.Reducer.count(),\n",
    "        'geometry': roi,\n",
    "        'scale':scale,\n",
    "        'maxPixels': 1e16,\n",
    "        'tileScale':8\n",
    "    })"
   ]
  },
  {
   "cell_type": "code",
   "execution_count": null,
   "id": "6005fe40",
   "metadata": {},
   "outputs": [],
   "source": [
    "print(count_pixels, \"GEOBIA APPROACH: pixels for each class\")\n",
    "#\n",
    "exportCM = ee.Feature(None, {'CM': testAccuracy.array()})"
   ]
  },
  {
   "cell_type": "markdown",
   "id": "81aee893",
   "metadata": {},
   "source": [
    "Relative importance histogram"
   ]
  },
  {
   "cell_type": "code",
   "execution_count": null,
   "id": "d0ad8321",
   "metadata": {},
   "outputs": [],
   "source": [
    "#Compute RF variable importance\n",
    "dict = classifier.explain()\n",
    "print(\"classifier information:\", dict)\n",
    "variableImportance = ee.Feature(None, ee.Dictionary(dict).get('importance'))\n",
    "\n",
    "chart = ui.Chart.feature.byProperty(variableImportance).setChartType('ColumnChart').setOptions({\n",
    "  'title': 'Random Forest Variable Importance',\n",
    "  'legend': '{position': 'none'},\n",
    "  'hAxis': '{title': 'Bands'},\n",
    "  'vAxis': '{title': 'Importance'}\n",
    "})\n",
    "print(chart)"
   ]
  },
  {
   "cell_type": "code",
   "execution_count": null,
   "id": "e14d63a9",
   "metadata": {},
   "outputs": [],
   "source": [
    "# Export the FeatureCollection.\n",
    "Export.table.toDrive({\n",
    "  'collection': ee.FeatureCollection(exportCM),\n",
    "  'description': '05-09_exportCM_Nice_OO_',\n",
    "  'fileFormat': 'CSV'\n",
    "})"
   ]
  }
 ],
 "metadata": {
  "hide_input": false,
  "kernelspec": {
   "display_name": "gee",
   "language": "python",
   "name": "gee"
  },
  "language_info": {
   "codemirror_mode": {
    "name": "ipython",
    "version": 3
   },
   "file_extension": ".py",
   "mimetype": "text/x-python",
   "name": "python",
   "nbconvert_exporter": "python",
   "pygments_lexer": "ipython3",
   "version": "3.9.13"
  },
  "toc": {
   "base_numbering": 1,
   "nav_menu": {},
   "number_sections": true,
   "sideBar": true,
   "skip_h1_title": false,
   "title_cell": "Table of Contents",
   "title_sidebar": "Contents",
   "toc_cell": false,
   "toc_position": {
    "height": "calc(100% - 180px)",
    "left": "10px",
    "top": "150px",
    "width": "383.991px"
   },
   "toc_section_display": true,
   "toc_window_display": true
  }
 },
 "nbformat": 4,
 "nbformat_minor": 5
}
